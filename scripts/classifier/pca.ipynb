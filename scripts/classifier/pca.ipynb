{
 "cells": [
  {
   "cell_type": "code",
   "execution_count": 1,
   "metadata": {},
   "outputs": [],
   "source": [
    "import numpy as np\n",
    "import pandas as pd\n",
    "import matplotlib.pyplot as plt\n",
    "import os"
   ]
  },
  {
   "cell_type": "code",
   "execution_count": 2,
   "metadata": {},
   "outputs": [],
   "source": [
    "DATA_DIR_PATH = os.path.join('..', '..', 'data')\n",
    "\n",
    "def laod_data(file_name):\n",
    "  file_path = os.path.join(DATA_DIR_PATH, file_name)\n",
    "  return pd.read_csv(file_path, header=0)"
   ]
  },
  {
   "cell_type": "code",
   "execution_count": 3,
   "metadata": {},
   "outputs": [
    {
     "name": "stdout",
     "output_type": "stream",
     "text": [
      "199\n"
     ]
    }
   ],
   "source": [
    "df_train = laod_data('bookmark_train_data.csv')\n",
    "print(len(df_train))\n",
    "#df_train.head(3)"
   ]
  },
  {
   "cell_type": "code",
   "execution_count": 4,
   "metadata": {},
   "outputs": [],
   "source": [
    "from sklearn.preprocessing import LabelEncoder\n",
    "\n",
    "cat_le = LabelEncoder()\n",
    "cat_le.fit(df_train['category'])\n",
    "\n",
    "WORD_CLASSE_LABELS = ['その他', 'フィラー', '副詞', '助動詞', '助詞',\n",
    "                     '動詞', '名詞', '形容詞', '感動詞', '接続詞',\n",
    "                     '接頭詞', '記号', '連体詞',]\n",
    "new_wc_columns = {}\n",
    "for (i, name) in enumerate(WORD_CLASSE_LABELS):\n",
    "  new_wc_columns['wc_sum_{}'.format(name)] = 'wc_sum_{}'.format(i)\n",
    "  new_wc_columns['wc_rate_{}'.format(name)] = 'wc_rate_{}'.format(i)\n",
    "\n",
    "\n",
    "def data_preprocess(df):\n",
    "  new_df = df.drop(['ncode', 'title', 'bookmark_cat'], axis=1)\n",
    "\n",
    "  new_df['category'] = cat_le.transform(new_df['category'])\n",
    "\n",
    "  new_df['rating'] = new_df['rating'] * 10\n",
    "  new_df = new_df.astype({'rating': 'int32'})\n",
    "\n",
    "  #wc_columns = [col for col in new_df.columns if col.find('wc_') != -1]\n",
    "  #new_df = new_df.drop(wc_columns, axis=1)\n",
    "  wc_columns = [col for col in new_df.columns if col.find('wc_sum_') != -1]\n",
    "  new_df = new_df.drop(wc_columns, axis=1)\n",
    "  new_df = new_df.rename(columns=new_wc_columns)\n",
    "\n",
    "  kw_columns = [col for col in new_df.columns if col.find('kw_') != -1]\n",
    "  new_df = new_df.drop(kw_columns, axis=1)\n",
    "\n",
    "  return new_df"
   ]
  },
  {
   "cell_type": "code",
   "execution_count": 5,
   "metadata": {},
   "outputs": [
    {
     "data": {
      "text/plain": [
       "Index(['ncode', 'title', 'category', 'bookmark_cat', 'created_at',\n",
       "       'updated_at', 'char_count_sum', 'new_line_count_sum',\n",
       "       'talk_char_count_sum', 'new_line_count_rate_sum',\n",
       "       'talk_char_count_rate_sum', 'char_count_avg', 'new_line_count_avg',\n",
       "       'talk_char_count_avg', 'new_line_count_rate_avg',\n",
       "       'talk_char_count_rate_avg', 'wc_sum_その他', 'wc_sum_フィラー', 'wc_sum_副詞',\n",
       "       'wc_sum_助動詞', 'wc_sum_助詞', 'wc_sum_動詞', 'wc_sum_名詞', 'wc_sum_形容詞',\n",
       "       'wc_sum_感動詞', 'wc_sum_接続詞', 'wc_sum_接頭詞', 'wc_sum_記号', 'wc_sum_連体詞',\n",
       "       'wc_rate_その他', 'wc_rate_フィラー', 'wc_rate_副詞', 'wc_rate_助動詞',\n",
       "       'wc_rate_助詞', 'wc_rate_動詞', 'wc_rate_名詞', 'wc_rate_形容詞', 'wc_rate_感動詞',\n",
       "       'wc_rate_接続詞', 'wc_rate_接頭詞', 'wc_rate_記号', 'wc_rate_連体詞', 'kw_冒険者',\n",
       "       'kw_魔王', 'kw_日常', 'kw_成り上がり', 'kw_内政', 'kw_恋愛', 'kw_無双', 'kw_青春',\n",
       "       'kw_ハーレム', 'kw_男主人公', 'kw_奴隷', 'kw_テンプレ', 'kw_勘違い', 'kw_ほのぼの', 'kw_貴族',\n",
       "       'kw_ギルド', 'kw_コメディ', 'kw_異世界', 'kw_エルフ', 'kw_ファンタジー', 'kw_オリジナル戦記',\n",
       "       'kw_チート', 'kw_R15', 'kw_ダンジョン', 'kw_ステータス', 'kw_料理', 'kw_ラブコメ', 'kw_中世',\n",
       "       'kw_異世界召喚', 'kw_剣と魔法', 'kw_学園', 'kw_異能力バトル', 'kw_勇者', 'kw_冒険',\n",
       "       'kw_主人公最強', 'kw_転生', 'kw_シリアス', 'kw_異世界転移', 'kw_追放', 'kw_ざまぁ', 'kw_西洋',\n",
       "       'kw_最強', 'kw_スキル', 'kw_魔法', 'kw_異世界転生', 'kw_ご都合主義', 'kw_ハッピーエンド',\n",
       "       'kw_書籍化', 'kw_おっさん', 'kw_残酷な描写あり', 'rating'],\n",
       "      dtype='object')"
      ]
     },
     "execution_count": 5,
     "metadata": {},
     "output_type": "execute_result"
    }
   ],
   "source": [
    "df_train.keys()"
   ]
  },
  {
   "cell_type": "code",
   "execution_count": 6,
   "metadata": {},
   "outputs": [
    {
     "data": {
      "text/html": [
       "<div>\n",
       "<style scoped>\n",
       "    .dataframe tbody tr th:only-of-type {\n",
       "        vertical-align: middle;\n",
       "    }\n",
       "\n",
       "    .dataframe tbody tr th {\n",
       "        vertical-align: top;\n",
       "    }\n",
       "\n",
       "    .dataframe thead th {\n",
       "        text-align: right;\n",
       "    }\n",
       "</style>\n",
       "<table border=\"1\" class=\"dataframe\">\n",
       "  <thead>\n",
       "    <tr style=\"text-align: right;\">\n",
       "      <th></th>\n",
       "      <th>category</th>\n",
       "      <th>created_at</th>\n",
       "      <th>updated_at</th>\n",
       "      <th>char_count_sum</th>\n",
       "      <th>new_line_count_sum</th>\n",
       "      <th>talk_char_count_sum</th>\n",
       "      <th>new_line_count_rate_sum</th>\n",
       "      <th>talk_char_count_rate_sum</th>\n",
       "      <th>char_count_avg</th>\n",
       "      <th>new_line_count_avg</th>\n",
       "      <th>...</th>\n",
       "      <th>wc_rate_4</th>\n",
       "      <th>wc_rate_5</th>\n",
       "      <th>wc_rate_6</th>\n",
       "      <th>wc_rate_7</th>\n",
       "      <th>wc_rate_8</th>\n",
       "      <th>wc_rate_9</th>\n",
       "      <th>wc_rate_10</th>\n",
       "      <th>wc_rate_11</th>\n",
       "      <th>wc_rate_12</th>\n",
       "      <th>rating</th>\n",
       "    </tr>\n",
       "  </thead>\n",
       "  <tbody>\n",
       "    <tr>\n",
       "      <th>0</th>\n",
       "      <td>6</td>\n",
       "      <td>1.586338e+09</td>\n",
       "      <td>1.593468e+09</td>\n",
       "      <td>92340</td>\n",
       "      <td>3840</td>\n",
       "      <td>28950</td>\n",
       "      <td>0.041585</td>\n",
       "      <td>0.313515</td>\n",
       "      <td>3078.0</td>\n",
       "      <td>128.0</td>\n",
       "      <td>...</td>\n",
       "      <td>0.237664</td>\n",
       "      <td>0.226083</td>\n",
       "      <td>0.225076</td>\n",
       "      <td>0.013595</td>\n",
       "      <td>0.006042</td>\n",
       "      <td>0.007049</td>\n",
       "      <td>0.006042</td>\n",
       "      <td>0.144008</td>\n",
       "      <td>0.011078</td>\n",
       "      <td>30</td>\n",
       "    </tr>\n",
       "    <tr>\n",
       "      <th>1</th>\n",
       "      <td>6</td>\n",
       "      <td>1.590714e+09</td>\n",
       "      <td>1.593338e+09</td>\n",
       "      <td>77880</td>\n",
       "      <td>4140</td>\n",
       "      <td>4950</td>\n",
       "      <td>0.053159</td>\n",
       "      <td>0.063559</td>\n",
       "      <td>2596.0</td>\n",
       "      <td>138.0</td>\n",
       "      <td>...</td>\n",
       "      <td>0.238590</td>\n",
       "      <td>0.238013</td>\n",
       "      <td>0.217215</td>\n",
       "      <td>0.017909</td>\n",
       "      <td>0.001155</td>\n",
       "      <td>0.010399</td>\n",
       "      <td>0.001155</td>\n",
       "      <td>0.138070</td>\n",
       "      <td>0.013287</td>\n",
       "      <td>40</td>\n",
       "    </tr>\n",
       "    <tr>\n",
       "      <th>2</th>\n",
       "      <td>6</td>\n",
       "      <td>1.575176e+09</td>\n",
       "      <td>1.593429e+09</td>\n",
       "      <td>59880</td>\n",
       "      <td>3090</td>\n",
       "      <td>10230</td>\n",
       "      <td>0.051603</td>\n",
       "      <td>0.170842</td>\n",
       "      <td>1996.0</td>\n",
       "      <td>103.0</td>\n",
       "      <td>...</td>\n",
       "      <td>0.240486</td>\n",
       "      <td>0.177328</td>\n",
       "      <td>0.285020</td>\n",
       "      <td>0.014575</td>\n",
       "      <td>0.000000</td>\n",
       "      <td>0.005668</td>\n",
       "      <td>0.008907</td>\n",
       "      <td>0.148178</td>\n",
       "      <td>0.005668</td>\n",
       "      <td>30</td>\n",
       "    </tr>\n",
       "  </tbody>\n",
       "</table>\n",
       "<p>3 rows × 27 columns</p>\n",
       "</div>"
      ],
      "text/plain": [
       "   category    created_at    updated_at  char_count_sum  new_line_count_sum  \\\n",
       "0         6  1.586338e+09  1.593468e+09           92340                3840   \n",
       "1         6  1.590714e+09  1.593338e+09           77880                4140   \n",
       "2         6  1.575176e+09  1.593429e+09           59880                3090   \n",
       "\n",
       "   talk_char_count_sum  new_line_count_rate_sum  talk_char_count_rate_sum  \\\n",
       "0                28950                 0.041585                  0.313515   \n",
       "1                 4950                 0.053159                  0.063559   \n",
       "2                10230                 0.051603                  0.170842   \n",
       "\n",
       "   char_count_avg  new_line_count_avg  ...  wc_rate_4  wc_rate_5  wc_rate_6  \\\n",
       "0          3078.0               128.0  ...   0.237664   0.226083   0.225076   \n",
       "1          2596.0               138.0  ...   0.238590   0.238013   0.217215   \n",
       "2          1996.0               103.0  ...   0.240486   0.177328   0.285020   \n",
       "\n",
       "   wc_rate_7  wc_rate_8  wc_rate_9  wc_rate_10  wc_rate_11  wc_rate_12  rating  \n",
       "0   0.013595   0.006042   0.007049    0.006042    0.144008    0.011078      30  \n",
       "1   0.017909   0.001155   0.010399    0.001155    0.138070    0.013287      40  \n",
       "2   0.014575   0.000000   0.005668    0.008907    0.148178    0.005668      30  \n",
       "\n",
       "[3 rows x 27 columns]"
      ]
     },
     "execution_count": 6,
     "metadata": {},
     "output_type": "execute_result"
    }
   ],
   "source": [
    "df_train2 = data_preprocess(df_train)\n",
    "df_train2.head(3)"
   ]
  },
  {
   "cell_type": "code",
   "execution_count": 7,
   "metadata": {},
   "outputs": [
    {
     "name": "stdout",
     "output_type": "stream",
     "text": [
      "(199, 26) (199,)\n"
     ]
    }
   ],
   "source": [
    "X = df_train2.drop(['rating'], axis=1).values\n",
    "y = df_train2['rating'].values\n",
    "print(X.shape, y.shape)"
   ]
  },
  {
   "cell_type": "code",
   "execution_count": 8,
   "metadata": {},
   "outputs": [
    {
     "name": "stdout",
     "output_type": "stream",
     "text": [
      "Index(['category', 'created_at', 'updated_at', 'char_count_sum',\n",
      "       'new_line_count_sum', 'talk_char_count_sum', 'new_line_count_rate_sum',\n",
      "       'talk_char_count_rate_sum', 'char_count_avg', 'new_line_count_avg',\n",
      "       'talk_char_count_avg', 'new_line_count_rate_avg',\n",
      "       'talk_char_count_rate_avg', 'wc_rate_0', 'wc_rate_1', 'wc_rate_2',\n",
      "       'wc_rate_3', 'wc_rate_4', 'wc_rate_5', 'wc_rate_6', 'wc_rate_7',\n",
      "       'wc_rate_8', 'wc_rate_9', 'wc_rate_10', 'wc_rate_11', 'wc_rate_12'],\n",
      "      dtype='object')\n",
      "26\n"
     ]
    }
   ],
   "source": [
    "feature_names = df_train2.keys()[:-1]\n",
    "\n",
    "print(feature_names)\n",
    "print(len(feature_names))"
   ]
  },
  {
   "cell_type": "code",
   "execution_count": 9,
   "metadata": {},
   "outputs": [],
   "source": [
    "from imblearn.over_sampling import RandomOverSampler"
   ]
  },
  {
   "cell_type": "code",
   "execution_count": 10,
   "metadata": {},
   "outputs": [
    {
     "name": "stdout",
     "output_type": "stream",
     "text": [
      "(915, 26) (915,)\n",
      "15\n",
      "[ 5 10 15 17 20 25 30 35 40 45 50 52 60 67 75]\n",
      "[61 61 61 61 61 61 61 61 61 61 61 61 61 61 61]\n"
     ]
    }
   ],
   "source": [
    "ros = RandomOverSampler(random_state=0)\n",
    "X_resampled, y_resampled = ros.fit_resample(X, y)\n",
    "print(X_resampled.shape, y_resampled.shape)\n",
    "\n",
    "u, counts = np.unique(y_resampled, return_counts=True)\n",
    "print(len(u))\n",
    "print(u)\n",
    "print(counts)"
   ]
  },
  {
   "cell_type": "code",
   "execution_count": 12,
   "metadata": {},
   "outputs": [
    {
     "name": "stdout",
     "output_type": "stream",
     "text": [
      "(640, 26) (640,)\n",
      "(275, 26) (275,)\n"
     ]
    }
   ],
   "source": [
    "from sklearn.model_selection import train_test_split\n",
    "\n",
    "#X_train, X_val, y_train, y_val = train_test_split(X, y, test_size=0.3, shuffle=True, random_state=1)\n",
    "X_train, X_val, y_train, y_val = train_test_split(X_resampled, y_resampled, test_size=0.3, shuffle=True, random_state=1)\n",
    "\n",
    "print(X_train.shape, y_train.shape)\n",
    "print(X_val.shape, y_val.shape)"
   ]
  },
  {
   "cell_type": "code",
   "execution_count": 13,
   "metadata": {},
   "outputs": [],
   "source": [
    "from sklearn.decomposition import PCA\n",
    "pca = PCA(n_components=2)"
   ]
  },
  {
   "cell_type": "code",
   "execution_count": 15,
   "metadata": {},
   "outputs": [
    {
     "data": {
      "text/plain": [
       "PCA(n_components=2)"
      ]
     },
     "execution_count": 15,
     "metadata": {},
     "output_type": "execute_result"
    }
   ],
   "source": [
    "pca.fit(X_train)"
   ]
  },
  {
   "cell_type": "code",
   "execution_count": 17,
   "metadata": {},
   "outputs": [],
   "source": [
    "x_transformed = pca.transform(X_train)"
   ]
  },
  {
   "cell_type": "code",
   "execution_count": 18,
   "metadata": {},
   "outputs": [
    {
     "data": {
      "text/html": [
       "<div>\n",
       "<style scoped>\n",
       "    .dataframe tbody tr th:only-of-type {\n",
       "        vertical-align: middle;\n",
       "    }\n",
       "\n",
       "    .dataframe tbody tr th {\n",
       "        vertical-align: top;\n",
       "    }\n",
       "\n",
       "    .dataframe thead th {\n",
       "        text-align: right;\n",
       "    }\n",
       "</style>\n",
       "<table border=\"1\" class=\"dataframe\">\n",
       "  <thead>\n",
       "    <tr style=\"text-align: right;\">\n",
       "      <th></th>\n",
       "      <th>0</th>\n",
       "      <th>1</th>\n",
       "    </tr>\n",
       "  </thead>\n",
       "  <tbody>\n",
       "    <tr>\n",
       "      <th>0</th>\n",
       "      <td>1.008435e+08</td>\n",
       "      <td>1.961598e+07</td>\n",
       "    </tr>\n",
       "    <tr>\n",
       "      <th>1</th>\n",
       "      <td>4.957984e+07</td>\n",
       "      <td>4.184390e+07</td>\n",
       "    </tr>\n",
       "    <tr>\n",
       "      <th>2</th>\n",
       "      <td>-2.231166e+07</td>\n",
       "      <td>-5.025951e+06</td>\n",
       "    </tr>\n",
       "    <tr>\n",
       "      <th>3</th>\n",
       "      <td>-1.003196e+08</td>\n",
       "      <td>-7.942118e+06</td>\n",
       "    </tr>\n",
       "    <tr>\n",
       "      <th>4</th>\n",
       "      <td>-1.022900e+08</td>\n",
       "      <td>-9.267481e+06</td>\n",
       "    </tr>\n",
       "    <tr>\n",
       "      <th>5</th>\n",
       "      <td>1.303865e+07</td>\n",
       "      <td>3.734935e+07</td>\n",
       "    </tr>\n",
       "    <tr>\n",
       "      <th>6</th>\n",
       "      <td>1.303865e+07</td>\n",
       "      <td>3.734935e+07</td>\n",
       "    </tr>\n",
       "    <tr>\n",
       "      <th>7</th>\n",
       "      <td>-6.365178e+07</td>\n",
       "      <td>-2.081818e+07</td>\n",
       "    </tr>\n",
       "    <tr>\n",
       "      <th>8</th>\n",
       "      <td>1.656350e+08</td>\n",
       "      <td>-7.984610e+07</td>\n",
       "    </tr>\n",
       "    <tr>\n",
       "      <th>9</th>\n",
       "      <td>-8.277644e+07</td>\n",
       "      <td>-1.490852e+07</td>\n",
       "    </tr>\n",
       "  </tbody>\n",
       "</table>\n",
       "</div>"
      ],
      "text/plain": [
       "              0             1\n",
       "0  1.008435e+08  1.961598e+07\n",
       "1  4.957984e+07  4.184390e+07\n",
       "2 -2.231166e+07 -5.025951e+06\n",
       "3 -1.003196e+08 -7.942118e+06\n",
       "4 -1.022900e+08 -9.267481e+06\n",
       "5  1.303865e+07  3.734935e+07\n",
       "6  1.303865e+07  3.734935e+07\n",
       "7 -6.365178e+07 -2.081818e+07\n",
       "8  1.656350e+08 -7.984610e+07\n",
       "9 -8.277644e+07 -1.490852e+07"
      ]
     },
     "execution_count": 18,
     "metadata": {},
     "output_type": "execute_result"
    }
   ],
   "source": [
    "pd.DataFrame(x_transformed).head(10)"
   ]
  },
  {
   "cell_type": "code",
   "execution_count": 19,
   "metadata": {},
   "outputs": [
    {
     "data": {
      "text/plain": [
       "array([ 5, 10, 15, 17, 20, 25, 30, 35, 40, 45, 50, 52, 60, 67, 75],\n",
       "      dtype=int32)"
      ]
     },
     "execution_count": 19,
     "metadata": {},
     "output_type": "execute_result"
    }
   ],
   "source": [
    "np.unique(y_train)"
   ]
  },
  {
   "cell_type": "code",
   "execution_count": 20,
   "metadata": {},
   "outputs": [
    {
     "data": {
      "text/plain": [
       "<matplotlib.collections.PathCollection at 0x12bb27da0>"
      ]
     },
     "execution_count": 20,
     "metadata": {},
     "output_type": "execute_result"
    },
    {
     "data": {
      "image/png": "[encoded data removed]",
      "text/plain": [
       "<Figure size 432x288 with 1 Axes>"
      ]
     },
     "metadata": {
      "needs_background": "light"
     },
     "output_type": "display_data"
    }
   ],
   "source": [
    "plt.scatter(x_transformed[:,0], x_transformed[:,1], c=y_train, cmap='plasma')"
   ]
  },
  {
   "cell_type": "code",
   "execution_count": 21,
   "metadata": {},
   "outputs": [
    {
     "data": {
      "text/html": [
       "<div>\n",
       "<style scoped>\n",
       "    .dataframe tbody tr th:only-of-type {\n",
       "        vertical-align: middle;\n",
       "    }\n",
       "\n",
       "    .dataframe tbody tr th {\n",
       "        vertical-align: top;\n",
       "    }\n",
       "\n",
       "    .dataframe thead th {\n",
       "        text-align: right;\n",
       "    }\n",
       "</style>\n",
       "<table border=\"1\" class=\"dataframe\">\n",
       "  <thead>\n",
       "    <tr style=\"text-align: right;\">\n",
       "      <th></th>\n",
       "      <th>0</th>\n",
       "      <th>1</th>\n",
       "    </tr>\n",
       "  </thead>\n",
       "  <tbody>\n",
       "    <tr>\n",
       "      <th>0</th>\n",
       "      <td>1.008435e+08</td>\n",
       "      <td>1.961598e+07</td>\n",
       "    </tr>\n",
       "    <tr>\n",
       "      <th>1</th>\n",
       "      <td>4.957984e+07</td>\n",
       "      <td>4.184390e+07</td>\n",
       "    </tr>\n",
       "    <tr>\n",
       "      <th>2</th>\n",
       "      <td>-2.231166e+07</td>\n",
       "      <td>-5.025951e+06</td>\n",
       "    </tr>\n",
       "    <tr>\n",
       "      <th>3</th>\n",
       "      <td>-1.003196e+08</td>\n",
       "      <td>-7.942118e+06</td>\n",
       "    </tr>\n",
       "    <tr>\n",
       "      <th>4</th>\n",
       "      <td>-1.022900e+08</td>\n",
       "      <td>-9.267481e+06</td>\n",
       "    </tr>\n",
       "  </tbody>\n",
       "</table>\n",
       "</div>"
      ],
      "text/plain": [
       "              0             1\n",
       "0  1.008435e+08  1.961598e+07\n",
       "1  4.957984e+07  4.184390e+07\n",
       "2 -2.231166e+07 -5.025951e+06\n",
       "3 -1.003196e+08 -7.942118e+06\n",
       "4 -1.022900e+08 -9.267481e+06"
      ]
     },
     "execution_count": 21,
     "metadata": {},
     "output_type": "execute_result"
    }
   ],
   "source": [
    "pd.DataFrame(x_transformed).head()"
   ]
  },
  {
   "cell_type": "code",
   "execution_count": 22,
   "metadata": {},
   "outputs": [
    {
     "name": "stdout",
     "output_type": "stream",
     "text": [
      "1st：0.8245862180985353\n",
      "2nd：0.17541270793750446\n"
     ]
    }
   ],
   "source": [
    "print('1st：{}'.format(pca.explained_variance_ratio_[0]))\n",
    "print('2nd：{}'.format(pca.explained_variance_ratio_[1]))"
   ]
  },
  {
   "cell_type": "code",
   "execution_count": null,
   "metadata": {},
   "outputs": [],
   "source": []
  }
 ],
 "metadata": {
  "kernelspec": {
   "display_name": "Python 3",
   "language": "python",
   "name": "python3"
  },
  "language_info": {
   "codemirror_mode": {
    "name": "ipython",
    "version": 3
   },
   "file_extension": ".py",
   "mimetype": "text/x-python",
   "name": "python",
   "nbconvert_exporter": "python",
   "pygments_lexer": "ipython3",
   "version": "3.7.3"
  }
 },
 "nbformat": 4,
 "nbformat_minor": 4
}
