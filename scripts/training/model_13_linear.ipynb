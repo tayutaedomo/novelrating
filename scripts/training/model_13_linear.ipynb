{
 "cells": [
  {
   "cell_type": "code",
   "execution_count": 1,
   "metadata": {
    "colab": {},
    "colab_type": "code",
    "executionInfo": {
     "elapsed": 1722,
     "status": "ok",
     "timestamp": 1594730288525,
     "user": {
      "displayName": "Noboru Koike",
      "photoUrl": "https://lh3.googleusercontent.com/a-/AOh14Ggp8njUb4jc54JrzfM5cQBkfiCdlz6nY17y8-1szg=s64",
      "userId": "05156582812995850159"
     },
     "user_tz": -540
    },
    "id": "oRgRzYov47aM"
   },
   "outputs": [],
   "source": [
    "import numpy as np\n",
    "import pandas as pd\n",
    "import matplotlib.pyplot as plt\n",
    "import os\n",
    "import math"
   ]
  },
  {
   "cell_type": "code",
   "execution_count": 2,
   "metadata": {
    "colab": {},
    "colab_type": "code",
    "executionInfo": {
     "elapsed": 568,
     "status": "ok",
     "timestamp": 1594730407388,
     "user": {
      "displayName": "Noboru Koike",
      "photoUrl": "https://lh3.googleusercontent.com/a-/AOh14Ggp8njUb4jc54JrzfM5cQBkfiCdlz6nY17y8-1szg=s64",
      "userId": "05156582812995850159"
     },
     "user_tz": -540
    },
    "id": "BGSuozoETk3q"
   },
   "outputs": [],
   "source": [
    "DATA_DIR_PATH = os.path.join('..', '..', 'data')\n",
    "\n",
    "def laod_data(file_name):\n",
    "  file_path = os.path.join(DATA_DIR_PATH, file_name)\n",
    "  return pd.read_csv(file_path, header=0)"
   ]
  },
  {
   "cell_type": "code",
   "execution_count": 3,
   "metadata": {
    "colab": {
     "base_uri": "https://localhost:8080/",
     "height": 903
    },
    "colab_type": "code",
    "executionInfo": {
     "elapsed": 1575,
     "status": "ok",
     "timestamp": 1594730410377,
     "user": {
      "displayName": "Noboru Koike",
      "photoUrl": "https://lh3.googleusercontent.com/a-/AOh14Ggp8njUb4jc54JrzfM5cQBkfiCdlz6nY17y8-1szg=s64",
      "userId": "05156582812995850159"
     },
     "user_tz": -540
    },
    "id": "gF4_j_jaUYLh",
    "outputId": "a687d088-94ea-4a93-991e-69dc4a9bf2cd"
   },
   "outputs": [
    {
     "name": "stdout",
     "output_type": "stream",
     "text": [
      "199\n"
     ]
    }
   ],
   "source": [
    "df_train = laod_data('bookmark_train_data.csv')\n",
    "print(len(df_train))\n",
    "#df_train.head(3)"
   ]
  },
  {
   "cell_type": "code",
   "execution_count": 4,
   "metadata": {
    "colab": {},
    "colab_type": "code",
    "executionInfo": {
     "elapsed": 618,
     "status": "ok",
     "timestamp": 1594730713002,
     "user": {
      "displayName": "Noboru Koike",
      "photoUrl": "https://lh3.googleusercontent.com/a-/AOh14Ggp8njUb4jc54JrzfM5cQBkfiCdlz6nY17y8-1szg=s64",
      "userId": "05156582812995850159"
     },
     "user_tz": -540
    },
    "id": "BjRn1voqVOp4"
   },
   "outputs": [],
   "source": [
    "from sklearn.preprocessing import LabelEncoder\n",
    "\n",
    "cat_le = LabelEncoder()\n",
    "cat_le.fit(df_train['category'])\n",
    "\n",
    "WORD_CLASSE_LABELS = ['その他', 'フィラー', '副詞', '助動詞', '助詞',\n",
    "                     '動詞', '名詞', '形容詞', '感動詞', '接続詞',\n",
    "                     '接頭詞', '記号', '連体詞',]\n",
    "new_wc_columns = {}\n",
    "for (i, name) in enumerate(WORD_CLASSE_LABELS):\n",
    "    new_wc_columns['wc_sum_{}'.format(name)] = 'wc_sum_{}'.format(i)\n",
    "    new_wc_columns['wc_rate_{}'.format(name)] = 'wc_rate_{}'.format(i)\n",
    "\n",
    "\n",
    "def data_preprocess(df):\n",
    "    new_df = df.drop(['ncode', 'title', 'bookmark_cat'], axis=1)\n",
    "\n",
    "    new_df['category'] = cat_le.transform(new_df['category'])\n",
    "\n",
    "    new_df['rating'] = new_df['rating'] * 10\n",
    "    new_df = new_df.astype({'rating': 'int32'})\n",
    "\n",
    "    #wc_columns = [col for col in new_df.columns if col.find('wc_') != -1]\n",
    "    #new_df = new_df.drop(wc_columns, axis=1)\n",
    "    new_df = new_df.rename(columns=new_wc_columns)\n",
    "\n",
    "    kw_columns = [col for col in new_df.columns if col.find('kw_') != -1]\n",
    "    new_df = new_df.drop(kw_columns, axis=1)\n",
    "\n",
    "    return new_df"
   ]
  },
  {
   "cell_type": "code",
   "execution_count": 5,
   "metadata": {},
   "outputs": [
    {
     "data": {
      "text/plain": [
       "Index(['ncode', 'title', 'category', 'bookmark_cat', 'created_at',\n",
       "       'updated_at', 'char_count_sum', 'new_line_count_sum',\n",
       "       'talk_char_count_sum', 'new_line_count_rate_sum',\n",
       "       'talk_char_count_rate_sum', 'char_count_avg', 'new_line_count_avg',\n",
       "       'talk_char_count_avg', 'new_line_count_rate_avg',\n",
       "       'talk_char_count_rate_avg', 'wc_sum_その他', 'wc_sum_フィラー', 'wc_sum_副詞',\n",
       "       'wc_sum_助動詞', 'wc_sum_助詞', 'wc_sum_動詞', 'wc_sum_名詞', 'wc_sum_形容詞',\n",
       "       'wc_sum_感動詞', 'wc_sum_接続詞', 'wc_sum_接頭詞', 'wc_sum_記号', 'wc_sum_連体詞',\n",
       "       'wc_rate_その他', 'wc_rate_フィラー', 'wc_rate_副詞', 'wc_rate_助動詞',\n",
       "       'wc_rate_助詞', 'wc_rate_動詞', 'wc_rate_名詞', 'wc_rate_形容詞', 'wc_rate_感動詞',\n",
       "       'wc_rate_接続詞', 'wc_rate_接頭詞', 'wc_rate_記号', 'wc_rate_連体詞', 'kw_冒険者',\n",
       "       'kw_魔王', 'kw_日常', 'kw_成り上がり', 'kw_内政', 'kw_恋愛', 'kw_無双', 'kw_青春',\n",
       "       'kw_ハーレム', 'kw_男主人公', 'kw_奴隷', 'kw_テンプレ', 'kw_勘違い', 'kw_ほのぼの', 'kw_貴族',\n",
       "       'kw_ギルド', 'kw_コメディ', 'kw_異世界', 'kw_エルフ', 'kw_ファンタジー', 'kw_オリジナル戦記',\n",
       "       'kw_チート', 'kw_R15', 'kw_ダンジョン', 'kw_ステータス', 'kw_料理', 'kw_ラブコメ', 'kw_中世',\n",
       "       'kw_異世界召喚', 'kw_剣と魔法', 'kw_学園', 'kw_異能力バトル', 'kw_勇者', 'kw_冒険',\n",
       "       'kw_主人公最強', 'kw_転生', 'kw_シリアス', 'kw_異世界転移', 'kw_追放', 'kw_ざまぁ', 'kw_西洋',\n",
       "       'kw_最強', 'kw_スキル', 'kw_魔法', 'kw_異世界転生', 'kw_ご都合主義', 'kw_ハッピーエンド',\n",
       "       'kw_書籍化', 'kw_おっさん', 'kw_残酷な描写あり', 'rating'],\n",
       "      dtype='object')"
      ]
     },
     "execution_count": 5,
     "metadata": {},
     "output_type": "execute_result"
    }
   ],
   "source": [
    "df_train.keys()"
   ]
  },
  {
   "cell_type": "code",
   "execution_count": 6,
   "metadata": {
    "colab": {
     "base_uri": "https://localhost:8080/",
     "height": 320
    },
    "colab_type": "code",
    "executionInfo": {
     "elapsed": 663,
     "status": "ok",
     "timestamp": 1594730714698,
     "user": {
      "displayName": "Noboru Koike",
      "photoUrl": "https://lh3.googleusercontent.com/a-/AOh14Ggp8njUb4jc54JrzfM5cQBkfiCdlz6nY17y8-1szg=s64",
      "userId": "05156582812995850159"
     },
     "user_tz": -540
    },
    "id": "JwrsiCQqYCJm",
    "outputId": "f67f097c-1686-4ce6-ff41-1c09b82d6d08"
   },
   "outputs": [],
   "source": [
    "df_train2 = data_preprocess(df_train)"
   ]
  },
  {
   "cell_type": "code",
   "execution_count": 7,
   "metadata": {},
   "outputs": [
    {
     "data": {
      "text/plain": [
       "Index(['category', 'created_at', 'updated_at', 'char_count_sum',\n",
       "       'new_line_count_sum', 'talk_char_count_sum', 'new_line_count_rate_sum',\n",
       "       'talk_char_count_rate_sum', 'char_count_avg', 'new_line_count_avg',\n",
       "       'talk_char_count_avg', 'new_line_count_rate_avg',\n",
       "       'talk_char_count_rate_avg', 'wc_sum_0', 'wc_sum_1', 'wc_sum_2',\n",
       "       'wc_sum_3', 'wc_sum_4', 'wc_sum_5', 'wc_sum_6', 'wc_sum_7', 'wc_sum_8',\n",
       "       'wc_sum_9', 'wc_sum_10', 'wc_sum_11', 'wc_sum_12', 'wc_rate_0',\n",
       "       'wc_rate_1', 'wc_rate_2', 'wc_rate_3', 'wc_rate_4', 'wc_rate_5',\n",
       "       'wc_rate_6', 'wc_rate_7', 'wc_rate_8', 'wc_rate_9', 'wc_rate_10',\n",
       "       'wc_rate_11', 'wc_rate_12', 'rating'],\n",
       "      dtype='object')"
      ]
     },
     "execution_count": 7,
     "metadata": {},
     "output_type": "execute_result"
    }
   ],
   "source": [
    "df_train2.keys()"
   ]
  },
  {
   "cell_type": "code",
   "execution_count": 8,
   "metadata": {},
   "outputs": [
    {
     "data": {
      "text/html": [
       "<div>\n",
       "<style scoped>\n",
       "    .dataframe tbody tr th:only-of-type {\n",
       "        vertical-align: middle;\n",
       "    }\n",
       "\n",
       "    .dataframe tbody tr th {\n",
       "        vertical-align: top;\n",
       "    }\n",
       "\n",
       "    .dataframe thead th {\n",
       "        text-align: right;\n",
       "    }\n",
       "</style>\n",
       "<table border=\"1\" class=\"dataframe\">\n",
       "  <thead>\n",
       "    <tr style=\"text-align: right;\">\n",
       "      <th></th>\n",
       "      <th>category</th>\n",
       "      <th>created_at</th>\n",
       "      <th>updated_at</th>\n",
       "      <th>char_count_sum</th>\n",
       "      <th>new_line_count_sum</th>\n",
       "      <th>talk_char_count_sum</th>\n",
       "      <th>new_line_count_rate_sum</th>\n",
       "      <th>talk_char_count_rate_sum</th>\n",
       "      <th>char_count_avg</th>\n",
       "      <th>new_line_count_avg</th>\n",
       "      <th>...</th>\n",
       "      <th>wc_rate_4</th>\n",
       "      <th>wc_rate_5</th>\n",
       "      <th>wc_rate_6</th>\n",
       "      <th>wc_rate_7</th>\n",
       "      <th>wc_rate_8</th>\n",
       "      <th>wc_rate_9</th>\n",
       "      <th>wc_rate_10</th>\n",
       "      <th>wc_rate_11</th>\n",
       "      <th>wc_rate_12</th>\n",
       "      <th>rating</th>\n",
       "    </tr>\n",
       "  </thead>\n",
       "  <tbody>\n",
       "    <tr>\n",
       "      <th>0</th>\n",
       "      <td>6</td>\n",
       "      <td>1.586338e+09</td>\n",
       "      <td>1.593468e+09</td>\n",
       "      <td>92340</td>\n",
       "      <td>3840</td>\n",
       "      <td>28950</td>\n",
       "      <td>0.041585</td>\n",
       "      <td>0.313515</td>\n",
       "      <td>3078.0</td>\n",
       "      <td>128.0</td>\n",
       "      <td>...</td>\n",
       "      <td>0.237664</td>\n",
       "      <td>0.226083</td>\n",
       "      <td>0.225076</td>\n",
       "      <td>0.013595</td>\n",
       "      <td>0.006042</td>\n",
       "      <td>0.007049</td>\n",
       "      <td>0.006042</td>\n",
       "      <td>0.144008</td>\n",
       "      <td>0.011078</td>\n",
       "      <td>30</td>\n",
       "    </tr>\n",
       "    <tr>\n",
       "      <th>1</th>\n",
       "      <td>6</td>\n",
       "      <td>1.590714e+09</td>\n",
       "      <td>1.593338e+09</td>\n",
       "      <td>77880</td>\n",
       "      <td>4140</td>\n",
       "      <td>4950</td>\n",
       "      <td>0.053159</td>\n",
       "      <td>0.063559</td>\n",
       "      <td>2596.0</td>\n",
       "      <td>138.0</td>\n",
       "      <td>...</td>\n",
       "      <td>0.238590</td>\n",
       "      <td>0.238013</td>\n",
       "      <td>0.217215</td>\n",
       "      <td>0.017909</td>\n",
       "      <td>0.001155</td>\n",
       "      <td>0.010399</td>\n",
       "      <td>0.001155</td>\n",
       "      <td>0.138070</td>\n",
       "      <td>0.013287</td>\n",
       "      <td>40</td>\n",
       "    </tr>\n",
       "    <tr>\n",
       "      <th>2</th>\n",
       "      <td>6</td>\n",
       "      <td>1.575176e+09</td>\n",
       "      <td>1.593429e+09</td>\n",
       "      <td>59880</td>\n",
       "      <td>3090</td>\n",
       "      <td>10230</td>\n",
       "      <td>0.051603</td>\n",
       "      <td>0.170842</td>\n",
       "      <td>1996.0</td>\n",
       "      <td>103.0</td>\n",
       "      <td>...</td>\n",
       "      <td>0.240486</td>\n",
       "      <td>0.177328</td>\n",
       "      <td>0.285020</td>\n",
       "      <td>0.014575</td>\n",
       "      <td>0.000000</td>\n",
       "      <td>0.005668</td>\n",
       "      <td>0.008907</td>\n",
       "      <td>0.148178</td>\n",
       "      <td>0.005668</td>\n",
       "      <td>30</td>\n",
       "    </tr>\n",
       "  </tbody>\n",
       "</table>\n",
       "<p>3 rows × 40 columns</p>\n",
       "</div>"
      ],
      "text/plain": [
       "   category    created_at    updated_at  char_count_sum  new_line_count_sum  \\\n",
       "0         6  1.586338e+09  1.593468e+09           92340                3840   \n",
       "1         6  1.590714e+09  1.593338e+09           77880                4140   \n",
       "2         6  1.575176e+09  1.593429e+09           59880                3090   \n",
       "\n",
       "   talk_char_count_sum  new_line_count_rate_sum  talk_char_count_rate_sum  \\\n",
       "0                28950                 0.041585                  0.313515   \n",
       "1                 4950                 0.053159                  0.063559   \n",
       "2                10230                 0.051603                  0.170842   \n",
       "\n",
       "   char_count_avg  new_line_count_avg  ...  wc_rate_4  wc_rate_5  wc_rate_6  \\\n",
       "0          3078.0               128.0  ...   0.237664   0.226083   0.225076   \n",
       "1          2596.0               138.0  ...   0.238590   0.238013   0.217215   \n",
       "2          1996.0               103.0  ...   0.240486   0.177328   0.285020   \n",
       "\n",
       "   wc_rate_7  wc_rate_8  wc_rate_9  wc_rate_10  wc_rate_11  wc_rate_12  rating  \n",
       "0   0.013595   0.006042   0.007049    0.006042    0.144008    0.011078      30  \n",
       "1   0.017909   0.001155   0.010399    0.001155    0.138070    0.013287      40  \n",
       "2   0.014575   0.000000   0.005668    0.008907    0.148178    0.005668      30  \n",
       "\n",
       "[3 rows x 40 columns]"
      ]
     },
     "execution_count": 8,
     "metadata": {},
     "output_type": "execute_result"
    }
   ],
   "source": [
    "df_train2.head(3)"
   ]
  },
  {
   "cell_type": "code",
   "execution_count": 20,
   "metadata": {
    "colab": {
     "base_uri": "https://localhost:8080/",
     "height": 33
    },
    "colab_type": "code",
    "executionInfo": {
     "elapsed": 596,
     "status": "ok",
     "timestamp": 1594731114530,
     "user": {
      "displayName": "Noboru Koike",
      "photoUrl": "https://lh3.googleusercontent.com/a-/AOh14Ggp8njUb4jc54JrzfM5cQBkfiCdlz6nY17y8-1szg=s64",
      "userId": "05156582812995850159"
     },
     "user_tz": -540
    },
    "id": "kuN9fampYLzA",
    "outputId": "8d02c502-b3c6-4339-a8cc-8603b04e1330"
   },
   "outputs": [
    {
     "name": "stdout",
     "output_type": "stream",
     "text": [
      "(199, 39) (199,)\n"
     ]
    }
   ],
   "source": [
    "X = df_train2.drop(['rating'], axis=1).values\n",
    "t = df_train2['rating'].values\n",
    "print(X.shape, t.shape)"
   ]
  },
  {
   "cell_type": "code",
   "execution_count": 21,
   "metadata": {},
   "outputs": [],
   "source": [
    "feature_names = df_train2.keys()[:-1]"
   ]
  },
  {
   "cell_type": "code",
   "execution_count": 22,
   "metadata": {},
   "outputs": [],
   "source": [
    "from imblearn.over_sampling import RandomOverSampler"
   ]
  },
  {
   "cell_type": "code",
   "execution_count": 23,
   "metadata": {},
   "outputs": [
    {
     "name": "stdout",
     "output_type": "stream",
     "text": [
      "(915, 39) (915,)\n",
      "15\n",
      "[ 5 10 15 17 20 25 30 35 40 45 50 52 60 67 75]\n",
      "[61 61 61 61 61 61 61 61 61 61 61 61 61 61 61]\n"
     ]
    }
   ],
   "source": [
    "ros = RandomOverSampler(random_state=0)\n",
    "X_resampled, t_resampled = ros.fit_resample(X, t)\n",
    "\n",
    "print(X_resampled.shape, t_resampled.shape)\n",
    "\n",
    "u, counts = np.unique(t_resampled, return_counts=True)\n",
    "\n",
    "print(len(u))\n",
    "print(u)\n",
    "print(counts)"
   ]
  },
  {
   "cell_type": "code",
   "execution_count": 24,
   "metadata": {
    "colab": {},
    "colab_type": "code",
    "executionInfo": {
     "elapsed": 568,
     "status": "ok",
     "timestamp": 1594731288899,
     "user": {
      "displayName": "Noboru Koike",
      "photoUrl": "https://lh3.googleusercontent.com/a-/AOh14Ggp8njUb4jc54JrzfM5cQBkfiCdlz6nY17y8-1szg=s64",
      "userId": "05156582812995850159"
     },
     "user_tz": -540
    },
    "id": "R89OYNT0e_7A"
   },
   "outputs": [],
   "source": [
    "from sklearn.model_selection import train_test_split\n",
    "\n",
    "#X_train, X_val, t_train, t_val = train_test_split(X, t, test_size=0.3, shuffle=True, random_state=1)\n",
    "X_train, X_val, t_train, t_val = train_test_split(X_resampled, t_resampled, test_size=0.3, shuffle=True, random_state=1)"
   ]
  },
  {
   "cell_type": "code",
   "execution_count": 25,
   "metadata": {
    "colab": {
     "base_uri": "https://localhost:8080/",
     "height": 33
    },
    "colab_type": "code",
    "executionInfo": {
     "elapsed": 690,
     "status": "ok",
     "timestamp": 1594731319243,
     "user": {
      "displayName": "Noboru Koike",
      "photoUrl": "https://lh3.googleusercontent.com/a-/AOh14Ggp8njUb4jc54JrzfM5cQBkfiCdlz6nY17y8-1szg=s64",
      "userId": "05156582812995850159"
     },
     "user_tz": -540
    },
    "id": "ozky4y8lYKpL",
    "outputId": "63cf2a41-9158-43e3-fe4d-09224267e58b"
   },
   "outputs": [
    {
     "name": "stdout",
     "output_type": "stream",
     "text": [
      "(640, 39) (640,)\n",
      "(275, 39) (275,)\n"
     ]
    }
   ],
   "source": [
    "print(X_train.shape, t_train.shape)\n",
    "print(X_val.shape, t_val.shape)"
   ]
  },
  {
   "cell_type": "code",
   "execution_count": 26,
   "metadata": {},
   "outputs": [],
   "source": [
    "from sklearn.linear_model import LinearRegression"
   ]
  },
  {
   "cell_type": "code",
   "execution_count": 27,
   "metadata": {},
   "outputs": [
    {
     "data": {
      "text/plain": [
       "LinearRegression()"
      ]
     },
     "execution_count": 27,
     "metadata": {},
     "output_type": "execute_result"
    }
   ],
   "source": [
    "model = LinearRegression()\n",
    "\n",
    "model.fit(X_train, t_train)"
   ]
  },
  {
   "cell_type": "code",
   "execution_count": 28,
   "metadata": {},
   "outputs": [
    {
     "name": "stdout",
     "output_type": "stream",
     "text": [
      "train:  0.4747757949466632\n",
      "val  :  0.40834550314696316\n"
     ]
    }
   ],
   "source": [
    "print('train: ', model.score(X_train, t_train))\n",
    "print('val  : ', model.score(X_val, t_val))"
   ]
  },
  {
   "cell_type": "code",
   "execution_count": 30,
   "metadata": {},
   "outputs": [],
   "source": [
    "y = model.predict(X_val)"
   ]
  },
  {
   "cell_type": "code",
   "execution_count": 31,
   "metadata": {},
   "outputs": [
    {
     "name": "stdout",
     "output_type": "stream",
     "text": [
      "22.389473986290795 17\n"
     ]
    }
   ],
   "source": [
    "print(y[0], t_val[0])"
   ]
  },
  {
   "cell_type": "code",
   "execution_count": 34,
   "metadata": {},
   "outputs": [],
   "source": [
    "from sklearn.metrics import mean_squared_error"
   ]
  },
  {
   "cell_type": "code",
   "execution_count": 36,
   "metadata": {},
   "outputs": [
    {
     "name": "stdout",
     "output_type": "stream",
     "text": [
      "RMSE: 16.226043596799272\n"
     ]
    }
   ],
   "source": [
    "mse = mean_squared_error(t_val, y)\n",
    "print('RMSE:', math.sqrt(mse))"
   ]
  },
  {
   "cell_type": "code",
   "execution_count": 37,
   "metadata": {},
   "outputs": [
    {
     "data": {
      "text/plain": [
       "array([-4.57238626e-02, -6.11315504e-08, -1.19618649e-07, -3.90568357e-04,\n",
       "        3.48165144e-03,  1.83775230e-05, -2.24300186e+02, -6.89174368e+00,\n",
       "        1.36858613e-03, -1.74521063e-04,  5.51171831e-04, -2.24298173e+02,\n",
       "       -6.89162949e+00, -4.53158457e-02,  1.97442740e-02,  6.06796470e-03,\n",
       "        1.96561669e-03,  7.32788197e-04, -8.85299483e-04,  9.78308722e-04,\n",
       "       -1.99121272e-03,  2.47056980e-02, -2.42131027e-03,  1.56895580e-02,\n",
       "       -2.96475480e-03, -4.45347816e-03, -3.92522712e+04,  7.56040681e+03,\n",
       "        2.59999673e+03,  3.14561067e+03,  3.50163243e+03,  3.46780154e+03,\n",
       "        3.25565778e+03,  4.06802199e+03,  8.60755434e+02,  2.23532643e+03,\n",
       "        2.13877943e+03,  3.73136770e+03,  2.68691430e+03])"
      ]
     },
     "execution_count": 37,
     "metadata": {},
     "output_type": "execute_result"
    }
   ],
   "source": [
    "model.coef_"
   ]
  },
  {
   "cell_type": "code",
   "execution_count": 44,
   "metadata": {},
   "outputs": [
    {
     "data": {
      "image/png": "[encoded data removed]",
      "text/plain": [
       "<Figure size 864x576 with 1 Axes>"
      ]
     },
     "metadata": {
      "needs_background": "light"
     },
     "output_type": "display_data"
    }
   ],
   "source": [
    "_, ax = plt.subplots(figsize=(12, 8))\n",
    "ax.barh(feature_names, model.coef_)\n",
    "plt.show()"
   ]
  },
  {
   "cell_type": "code",
   "execution_count": null,
   "metadata": {},
   "outputs": [],
   "source": []
  }
 ],
 "metadata": {
  "colab": {
   "authorship_tag": "ABX9TyNJKqUP19CQOBX92xv+zUYA",
   "collapsed_sections": [],
   "mount_file_id": "1hGfVCEXdPg3Bx7w2FsWb6sMP-uDmj2zF",
   "name": "model_2_xgboost.ipynb",
   "provenance": []
  },
  "kernelspec": {
   "display_name": "Python 3",
   "language": "python",
   "name": "python3"
  },
  "language_info": {
   "codemirror_mode": {
    "name": "ipython",
    "version": 3
   },
   "file_extension": ".py",
   "mimetype": "text/x-python",
   "name": "python",
   "nbconvert_exporter": "python",
   "pygments_lexer": "ipython3",
   "version": "3.7.3"
  }
 },
 "nbformat": 4,
 "nbformat_minor": 1
}
