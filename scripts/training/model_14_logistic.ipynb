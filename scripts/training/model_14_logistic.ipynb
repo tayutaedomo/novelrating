{
 "cells": [
  {
   "cell_type": "code",
   "execution_count": 1,
   "metadata": {
    "colab": {},
    "colab_type": "code",
    "executionInfo": {
     "elapsed": 1722,
     "status": "ok",
     "timestamp": 1594730288525,
     "user": {
      "displayName": "Noboru Koike",
      "photoUrl": "https://lh3.googleusercontent.com/a-/AOh14Ggp8njUb4jc54JrzfM5cQBkfiCdlz6nY17y8-1szg=s64",
      "userId": "05156582812995850159"
     },
     "user_tz": -540
    },
    "id": "oRgRzYov47aM"
   },
   "outputs": [],
   "source": [
    "import numpy as np\n",
    "import pandas as pd\n",
    "import matplotlib.pyplot as plt\n",
    "import os\n",
    "import math"
   ]
  },
  {
   "cell_type": "code",
   "execution_count": 2,
   "metadata": {
    "colab": {},
    "colab_type": "code",
    "executionInfo": {
     "elapsed": 568,
     "status": "ok",
     "timestamp": 1594730407388,
     "user": {
      "displayName": "Noboru Koike",
      "photoUrl": "https://lh3.googleusercontent.com/a-/AOh14Ggp8njUb4jc54JrzfM5cQBkfiCdlz6nY17y8-1szg=s64",
      "userId": "05156582812995850159"
     },
     "user_tz": -540
    },
    "id": "BGSuozoETk3q"
   },
   "outputs": [],
   "source": [
    "DATA_DIR_PATH = os.path.join('..', '..', 'data')\n",
    "\n",
    "def laod_data(file_name):\n",
    "  file_path = os.path.join(DATA_DIR_PATH, file_name)\n",
    "  return pd.read_csv(file_path, header=0)"
   ]
  },
  {
   "cell_type": "code",
   "execution_count": 3,
   "metadata": {
    "colab": {
     "base_uri": "https://localhost:8080/",
     "height": 903
    },
    "colab_type": "code",
    "executionInfo": {
     "elapsed": 1575,
     "status": "ok",
     "timestamp": 1594730410377,
     "user": {
      "displayName": "Noboru Koike",
      "photoUrl": "https://lh3.googleusercontent.com/a-/AOh14Ggp8njUb4jc54JrzfM5cQBkfiCdlz6nY17y8-1szg=s64",
      "userId": "05156582812995850159"
     },
     "user_tz": -540
    },
    "id": "gF4_j_jaUYLh",
    "outputId": "a687d088-94ea-4a93-991e-69dc4a9bf2cd"
   },
   "outputs": [
    {
     "name": "stdout",
     "output_type": "stream",
     "text": [
      "199\n"
     ]
    }
   ],
   "source": [
    "df_train = laod_data('bookmark_train_data.csv')\n",
    "print(len(df_train))\n",
    "#df_train.head(3)"
   ]
  },
  {
   "cell_type": "code",
   "execution_count": 4,
   "metadata": {
    "colab": {},
    "colab_type": "code",
    "executionInfo": {
     "elapsed": 618,
     "status": "ok",
     "timestamp": 1594730713002,
     "user": {
      "displayName": "Noboru Koike",
      "photoUrl": "https://lh3.googleusercontent.com/a-/AOh14Ggp8njUb4jc54JrzfM5cQBkfiCdlz6nY17y8-1szg=s64",
      "userId": "05156582812995850159"
     },
     "user_tz": -540
    },
    "id": "BjRn1voqVOp4"
   },
   "outputs": [],
   "source": [
    "from sklearn.preprocessing import LabelEncoder\n",
    "\n",
    "cat_le = LabelEncoder()\n",
    "cat_le.fit(df_train['category'])\n",
    "\n",
    "WORD_CLASSE_LABELS = ['その他', 'フィラー', '副詞', '助動詞', '助詞',\n",
    "                     '動詞', '名詞', '形容詞', '感動詞', '接続詞',\n",
    "                     '接頭詞', '記号', '連体詞',]\n",
    "new_wc_columns = {}\n",
    "for (i, name) in enumerate(WORD_CLASSE_LABELS):\n",
    "    new_wc_columns['wc_sum_{}'.format(name)] = 'wc_sum_{}'.format(i)\n",
    "    new_wc_columns['wc_rate_{}'.format(name)] = 'wc_rate_{}'.format(i)\n",
    "\n",
    "\n",
    "def data_preprocess(df):\n",
    "    new_df = df.drop(['ncode', 'title', 'bookmark_cat'], axis=1)\n",
    "\n",
    "    new_df['category'] = cat_le.transform(new_df['category'])\n",
    "\n",
    "    new_df['rating'] = new_df['rating'] * 10\n",
    "    new_df = new_df.astype({'rating': 'int32'})\n",
    "\n",
    "    #wc_columns = [col for col in new_df.columns if col.find('wc_') != -1]\n",
    "    #new_df = new_df.drop(wc_columns, axis=1)\n",
    "    new_df = new_df.rename(columns=new_wc_columns)\n",
    "\n",
    "    kw_columns = [col for col in new_df.columns if col.find('kw_') != -1]\n",
    "    new_df = new_df.drop(kw_columns, axis=1)\n",
    "\n",
    "    return new_df"
   ]
  },
  {
   "cell_type": "code",
   "execution_count": 5,
   "metadata": {},
   "outputs": [
    {
     "data": {
      "text/plain": [
       "Index(['ncode', 'title', 'category', 'bookmark_cat', 'created_at',\n",
       "       'updated_at', 'char_count_sum', 'new_line_count_sum',\n",
       "       'talk_char_count_sum', 'new_line_count_rate_sum',\n",
       "       'talk_char_count_rate_sum', 'char_count_avg', 'new_line_count_avg',\n",
       "       'talk_char_count_avg', 'new_line_count_rate_avg',\n",
       "       'talk_char_count_rate_avg', 'wc_sum_その他', 'wc_sum_フィラー', 'wc_sum_副詞',\n",
       "       'wc_sum_助動詞', 'wc_sum_助詞', 'wc_sum_動詞', 'wc_sum_名詞', 'wc_sum_形容詞',\n",
       "       'wc_sum_感動詞', 'wc_sum_接続詞', 'wc_sum_接頭詞', 'wc_sum_記号', 'wc_sum_連体詞',\n",
       "       'wc_rate_その他', 'wc_rate_フィラー', 'wc_rate_副詞', 'wc_rate_助動詞',\n",
       "       'wc_rate_助詞', 'wc_rate_動詞', 'wc_rate_名詞', 'wc_rate_形容詞', 'wc_rate_感動詞',\n",
       "       'wc_rate_接続詞', 'wc_rate_接頭詞', 'wc_rate_記号', 'wc_rate_連体詞', 'kw_冒険者',\n",
       "       'kw_魔王', 'kw_日常', 'kw_成り上がり', 'kw_内政', 'kw_恋愛', 'kw_無双', 'kw_青春',\n",
       "       'kw_ハーレム', 'kw_男主人公', 'kw_奴隷', 'kw_テンプレ', 'kw_勘違い', 'kw_ほのぼの', 'kw_貴族',\n",
       "       'kw_ギルド', 'kw_コメディ', 'kw_異世界', 'kw_エルフ', 'kw_ファンタジー', 'kw_オリジナル戦記',\n",
       "       'kw_チート', 'kw_R15', 'kw_ダンジョン', 'kw_ステータス', 'kw_料理', 'kw_ラブコメ', 'kw_中世',\n",
       "       'kw_異世界召喚', 'kw_剣と魔法', 'kw_学園', 'kw_異能力バトル', 'kw_勇者', 'kw_冒険',\n",
       "       'kw_主人公最強', 'kw_転生', 'kw_シリアス', 'kw_異世界転移', 'kw_追放', 'kw_ざまぁ', 'kw_西洋',\n",
       "       'kw_最強', 'kw_スキル', 'kw_魔法', 'kw_異世界転生', 'kw_ご都合主義', 'kw_ハッピーエンド',\n",
       "       'kw_書籍化', 'kw_おっさん', 'kw_残酷な描写あり', 'rating'],\n",
       "      dtype='object')"
      ]
     },
     "execution_count": 5,
     "metadata": {},
     "output_type": "execute_result"
    }
   ],
   "source": [
    "df_train.keys()"
   ]
  },
  {
   "cell_type": "code",
   "execution_count": 6,
   "metadata": {
    "colab": {
     "base_uri": "https://localhost:8080/",
     "height": 320
    },
    "colab_type": "code",
    "executionInfo": {
     "elapsed": 663,
     "status": "ok",
     "timestamp": 1594730714698,
     "user": {
      "displayName": "Noboru Koike",
      "photoUrl": "https://lh3.googleusercontent.com/a-/AOh14Ggp8njUb4jc54JrzfM5cQBkfiCdlz6nY17y8-1szg=s64",
      "userId": "05156582812995850159"
     },
     "user_tz": -540
    },
    "id": "JwrsiCQqYCJm",
    "outputId": "f67f097c-1686-4ce6-ff41-1c09b82d6d08"
   },
   "outputs": [],
   "source": [
    "df_train2 = data_preprocess(df_train)"
   ]
  },
  {
   "cell_type": "code",
   "execution_count": 7,
   "metadata": {},
   "outputs": [
    {
     "data": {
      "text/plain": [
       "Index(['category', 'created_at', 'updated_at', 'char_count_sum',\n",
       "       'new_line_count_sum', 'talk_char_count_sum', 'new_line_count_rate_sum',\n",
       "       'talk_char_count_rate_sum', 'char_count_avg', 'new_line_count_avg',\n",
       "       'talk_char_count_avg', 'new_line_count_rate_avg',\n",
       "       'talk_char_count_rate_avg', 'wc_sum_0', 'wc_sum_1', 'wc_sum_2',\n",
       "       'wc_sum_3', 'wc_sum_4', 'wc_sum_5', 'wc_sum_6', 'wc_sum_7', 'wc_sum_8',\n",
       "       'wc_sum_9', 'wc_sum_10', 'wc_sum_11', 'wc_sum_12', 'wc_rate_0',\n",
       "       'wc_rate_1', 'wc_rate_2', 'wc_rate_3', 'wc_rate_4', 'wc_rate_5',\n",
       "       'wc_rate_6', 'wc_rate_7', 'wc_rate_8', 'wc_rate_9', 'wc_rate_10',\n",
       "       'wc_rate_11', 'wc_rate_12', 'rating'],\n",
       "      dtype='object')"
      ]
     },
     "execution_count": 7,
     "metadata": {},
     "output_type": "execute_result"
    }
   ],
   "source": [
    "df_train2.keys()"
   ]
  },
  {
   "cell_type": "code",
   "execution_count": 8,
   "metadata": {},
   "outputs": [
    {
     "data": {
      "text/html": [
       "<div>\n",
       "<style scoped>\n",
       "    .dataframe tbody tr th:only-of-type {\n",
       "        vertical-align: middle;\n",
       "    }\n",
       "\n",
       "    .dataframe tbody tr th {\n",
       "        vertical-align: top;\n",
       "    }\n",
       "\n",
       "    .dataframe thead th {\n",
       "        text-align: right;\n",
       "    }\n",
       "</style>\n",
       "<table border=\"1\" class=\"dataframe\">\n",
       "  <thead>\n",
       "    <tr style=\"text-align: right;\">\n",
       "      <th></th>\n",
       "      <th>category</th>\n",
       "      <th>created_at</th>\n",
       "      <th>updated_at</th>\n",
       "      <th>char_count_sum</th>\n",
       "      <th>new_line_count_sum</th>\n",
       "      <th>talk_char_count_sum</th>\n",
       "      <th>new_line_count_rate_sum</th>\n",
       "      <th>talk_char_count_rate_sum</th>\n",
       "      <th>char_count_avg</th>\n",
       "      <th>new_line_count_avg</th>\n",
       "      <th>...</th>\n",
       "      <th>wc_rate_4</th>\n",
       "      <th>wc_rate_5</th>\n",
       "      <th>wc_rate_6</th>\n",
       "      <th>wc_rate_7</th>\n",
       "      <th>wc_rate_8</th>\n",
       "      <th>wc_rate_9</th>\n",
       "      <th>wc_rate_10</th>\n",
       "      <th>wc_rate_11</th>\n",
       "      <th>wc_rate_12</th>\n",
       "      <th>rating</th>\n",
       "    </tr>\n",
       "  </thead>\n",
       "  <tbody>\n",
       "    <tr>\n",
       "      <th>0</th>\n",
       "      <td>6</td>\n",
       "      <td>1.586338e+09</td>\n",
       "      <td>1.593468e+09</td>\n",
       "      <td>92340</td>\n",
       "      <td>3840</td>\n",
       "      <td>28950</td>\n",
       "      <td>0.041585</td>\n",
       "      <td>0.313515</td>\n",
       "      <td>3078.0</td>\n",
       "      <td>128.0</td>\n",
       "      <td>...</td>\n",
       "      <td>0.237664</td>\n",
       "      <td>0.226083</td>\n",
       "      <td>0.225076</td>\n",
       "      <td>0.013595</td>\n",
       "      <td>0.006042</td>\n",
       "      <td>0.007049</td>\n",
       "      <td>0.006042</td>\n",
       "      <td>0.144008</td>\n",
       "      <td>0.011078</td>\n",
       "      <td>30</td>\n",
       "    </tr>\n",
       "    <tr>\n",
       "      <th>1</th>\n",
       "      <td>6</td>\n",
       "      <td>1.590714e+09</td>\n",
       "      <td>1.593338e+09</td>\n",
       "      <td>77880</td>\n",
       "      <td>4140</td>\n",
       "      <td>4950</td>\n",
       "      <td>0.053159</td>\n",
       "      <td>0.063559</td>\n",
       "      <td>2596.0</td>\n",
       "      <td>138.0</td>\n",
       "      <td>...</td>\n",
       "      <td>0.238590</td>\n",
       "      <td>0.238013</td>\n",
       "      <td>0.217215</td>\n",
       "      <td>0.017909</td>\n",
       "      <td>0.001155</td>\n",
       "      <td>0.010399</td>\n",
       "      <td>0.001155</td>\n",
       "      <td>0.138070</td>\n",
       "      <td>0.013287</td>\n",
       "      <td>40</td>\n",
       "    </tr>\n",
       "    <tr>\n",
       "      <th>2</th>\n",
       "      <td>6</td>\n",
       "      <td>1.575176e+09</td>\n",
       "      <td>1.593429e+09</td>\n",
       "      <td>59880</td>\n",
       "      <td>3090</td>\n",
       "      <td>10230</td>\n",
       "      <td>0.051603</td>\n",
       "      <td>0.170842</td>\n",
       "      <td>1996.0</td>\n",
       "      <td>103.0</td>\n",
       "      <td>...</td>\n",
       "      <td>0.240486</td>\n",
       "      <td>0.177328</td>\n",
       "      <td>0.285020</td>\n",
       "      <td>0.014575</td>\n",
       "      <td>0.000000</td>\n",
       "      <td>0.005668</td>\n",
       "      <td>0.008907</td>\n",
       "      <td>0.148178</td>\n",
       "      <td>0.005668</td>\n",
       "      <td>30</td>\n",
       "    </tr>\n",
       "  </tbody>\n",
       "</table>\n",
       "<p>3 rows × 40 columns</p>\n",
       "</div>"
      ],
      "text/plain": [
       "   category    created_at    updated_at  char_count_sum  new_line_count_sum  \\\n",
       "0         6  1.586338e+09  1.593468e+09           92340                3840   \n",
       "1         6  1.590714e+09  1.593338e+09           77880                4140   \n",
       "2         6  1.575176e+09  1.593429e+09           59880                3090   \n",
       "\n",
       "   talk_char_count_sum  new_line_count_rate_sum  talk_char_count_rate_sum  \\\n",
       "0                28950                 0.041585                  0.313515   \n",
       "1                 4950                 0.053159                  0.063559   \n",
       "2                10230                 0.051603                  0.170842   \n",
       "\n",
       "   char_count_avg  new_line_count_avg  ...  wc_rate_4  wc_rate_5  wc_rate_6  \\\n",
       "0          3078.0               128.0  ...   0.237664   0.226083   0.225076   \n",
       "1          2596.0               138.0  ...   0.238590   0.238013   0.217215   \n",
       "2          1996.0               103.0  ...   0.240486   0.177328   0.285020   \n",
       "\n",
       "   wc_rate_7  wc_rate_8  wc_rate_9  wc_rate_10  wc_rate_11  wc_rate_12  rating  \n",
       "0   0.013595   0.006042   0.007049    0.006042    0.144008    0.011078      30  \n",
       "1   0.017909   0.001155   0.010399    0.001155    0.138070    0.013287      40  \n",
       "2   0.014575   0.000000   0.005668    0.008907    0.148178    0.005668      30  \n",
       "\n",
       "[3 rows x 40 columns]"
      ]
     },
     "execution_count": 8,
     "metadata": {},
     "output_type": "execute_result"
    }
   ],
   "source": [
    "df_train2.head(3)"
   ]
  },
  {
   "cell_type": "code",
   "execution_count": 9,
   "metadata": {
    "colab": {
     "base_uri": "https://localhost:8080/",
     "height": 33
    },
    "colab_type": "code",
    "executionInfo": {
     "elapsed": 596,
     "status": "ok",
     "timestamp": 1594731114530,
     "user": {
      "displayName": "Noboru Koike",
      "photoUrl": "https://lh3.googleusercontent.com/a-/AOh14Ggp8njUb4jc54JrzfM5cQBkfiCdlz6nY17y8-1szg=s64",
      "userId": "05156582812995850159"
     },
     "user_tz": -540
    },
    "id": "kuN9fampYLzA",
    "outputId": "8d02c502-b3c6-4339-a8cc-8603b04e1330"
   },
   "outputs": [
    {
     "name": "stdout",
     "output_type": "stream",
     "text": [
      "(199, 39) (199,)\n"
     ]
    }
   ],
   "source": [
    "X = df_train2.drop(['rating'], axis=1).values\n",
    "t = df_train2['rating'].values\n",
    "print(X.shape, t.shape)"
   ]
  },
  {
   "cell_type": "code",
   "execution_count": 10,
   "metadata": {},
   "outputs": [],
   "source": [
    "feature_names = df_train2.keys()[:-1]"
   ]
  },
  {
   "cell_type": "code",
   "execution_count": 11,
   "metadata": {},
   "outputs": [],
   "source": [
    "from imblearn.over_sampling import RandomOverSampler"
   ]
  },
  {
   "cell_type": "code",
   "execution_count": 12,
   "metadata": {},
   "outputs": [
    {
     "name": "stdout",
     "output_type": "stream",
     "text": [
      "(915, 39) (915,)\n",
      "15\n",
      "[ 5 10 15 17 20 25 30 35 40 45 50 52 60 67 75]\n",
      "[61 61 61 61 61 61 61 61 61 61 61 61 61 61 61]\n"
     ]
    }
   ],
   "source": [
    "ros = RandomOverSampler(random_state=0)\n",
    "X_resampled, t_resampled = ros.fit_resample(X, t)\n",
    "\n",
    "print(X_resampled.shape, t_resampled.shape)\n",
    "\n",
    "u, counts = np.unique(t_resampled, return_counts=True)\n",
    "\n",
    "print(len(u))\n",
    "print(u)\n",
    "print(counts)"
   ]
  },
  {
   "cell_type": "code",
   "execution_count": 13,
   "metadata": {
    "colab": {},
    "colab_type": "code",
    "executionInfo": {
     "elapsed": 568,
     "status": "ok",
     "timestamp": 1594731288899,
     "user": {
      "displayName": "Noboru Koike",
      "photoUrl": "https://lh3.googleusercontent.com/a-/AOh14Ggp8njUb4jc54JrzfM5cQBkfiCdlz6nY17y8-1szg=s64",
      "userId": "05156582812995850159"
     },
     "user_tz": -540
    },
    "id": "R89OYNT0e_7A"
   },
   "outputs": [],
   "source": [
    "from sklearn.model_selection import train_test_split\n",
    "\n",
    "#X_train, X_val, t_train, t_val = train_test_split(X, t, test_size=0.3, shuffle=True, random_state=1)\n",
    "X_train, X_val, t_train, t_val = train_test_split(X_resampled, t_resampled, test_size=0.3, shuffle=True, random_state=1)"
   ]
  },
  {
   "cell_type": "code",
   "execution_count": 14,
   "metadata": {
    "colab": {
     "base_uri": "https://localhost:8080/",
     "height": 33
    },
    "colab_type": "code",
    "executionInfo": {
     "elapsed": 690,
     "status": "ok",
     "timestamp": 1594731319243,
     "user": {
      "displayName": "Noboru Koike",
      "photoUrl": "https://lh3.googleusercontent.com/a-/AOh14Ggp8njUb4jc54JrzfM5cQBkfiCdlz6nY17y8-1szg=s64",
      "userId": "05156582812995850159"
     },
     "user_tz": -540
    },
    "id": "ozky4y8lYKpL",
    "outputId": "63cf2a41-9158-43e3-fe4d-09224267e58b"
   },
   "outputs": [
    {
     "name": "stdout",
     "output_type": "stream",
     "text": [
      "(640, 39) (640,)\n",
      "(275, 39) (275,)\n"
     ]
    }
   ],
   "source": [
    "print(X_train.shape, t_train.shape)\n",
    "print(X_val.shape, t_val.shape)"
   ]
  },
  {
   "cell_type": "code",
   "execution_count": 15,
   "metadata": {},
   "outputs": [],
   "source": [
    "from sklearn.linear_model import LogisticRegression"
   ]
  },
  {
   "cell_type": "code",
   "execution_count": 16,
   "metadata": {},
   "outputs": [
    {
     "data": {
      "text/plain": [
       "LogisticRegression()"
      ]
     },
     "execution_count": 16,
     "metadata": {},
     "output_type": "execute_result"
    }
   ],
   "source": [
    "model = LogisticRegression(C=1.0)\n",
    "\n",
    "model.fit(X_train, t_train)"
   ]
  },
  {
   "cell_type": "code",
   "execution_count": 17,
   "metadata": {},
   "outputs": [
    {
     "name": "stdout",
     "output_type": "stream",
     "text": [
      "train:  0.1875\n",
      "val  :  0.16363636363636364\n"
     ]
    }
   ],
   "source": [
    "print('train: ', model.score(X_train, t_train))\n",
    "print('val  : ', model.score(X_val, t_val))"
   ]
  },
  {
   "cell_type": "code",
   "execution_count": 18,
   "metadata": {},
   "outputs": [],
   "source": [
    "y = model.predict(X_val)"
   ]
  },
  {
   "cell_type": "code",
   "execution_count": 19,
   "metadata": {},
   "outputs": [
    {
     "name": "stdout",
     "output_type": "stream",
     "text": [
      "17 17\n"
     ]
    }
   ],
   "source": [
    "print(y[0], t_val[0])"
   ]
  },
  {
   "cell_type": "code",
   "execution_count": 20,
   "metadata": {},
   "outputs": [],
   "source": [
    "from sklearn.metrics import mean_squared_error"
   ]
  },
  {
   "cell_type": "code",
   "execution_count": 21,
   "metadata": {},
   "outputs": [
    {
     "name": "stdout",
     "output_type": "stream",
     "text": [
      "RMSE: 27.344269800254146\n"
     ]
    }
   ],
   "source": [
    "mse = mean_squared_error(t_val, y)\n",
    "print('RMSE:', math.sqrt(mse))"
   ]
  },
  {
   "cell_type": "code",
   "execution_count": 22,
   "metadata": {},
   "outputs": [
    {
     "data": {
      "text/plain": [
       "array([[-1.04811120e-15,  2.21121320e-08, -2.11801475e-08,\n",
       "         3.32928562e-11,  8.18091733e-13,  1.42260145e-11,\n",
       "        -1.18005269e-19,  2.58103975e-16,  1.10976187e-12,\n",
       "         2.72697244e-14,  4.74200484e-13, -1.18005269e-19,\n",
       "         2.58103975e-16,  6.96404724e-15, -5.72825964e-15,\n",
       "         2.03376359e-12,  2.19390973e-12,  6.67908596e-12,\n",
       "         6.54658129e-12,  3.77012311e-12,  6.31514259e-14,\n",
       "         4.50155805e-13,  1.55537754e-13,  6.51819600e-14,\n",
       "         2.45715472e-12,  1.83825780e-14,  1.39140684e-19,\n",
       "        -2.96805768e-19,  1.23885021e-17,  4.72069617e-18,\n",
       "        -5.17358568e-18,  1.11632495e-17, -6.80787527e-17,\n",
       "        -6.61401828e-18,  5.21397475e-18, -1.70237851e-18,\n",
       "         4.40097340e-19, -1.51164291e-17, -2.45821304e-18],\n",
       "       [-1.22977134e-15, -6.68719547e-09,  6.46204651e-09,\n",
       "         1.13156869e-10,  8.06213358e-12,  5.27258297e-12,\n",
       "         1.33018537e-17,  3.24620294e-17,  3.77189563e-12,\n",
       "         2.68737786e-13,  1.75752766e-13,  1.33018537e-17,\n",
       "         3.24620294e-17,  7.95762750e-15, -2.18894710e-14,\n",
       "         9.46537362e-13,  3.94287757e-12,  1.18888751e-11,\n",
       "         9.08375391e-12,  2.43320424e-11,  6.55131187e-13,\n",
       "        -2.26147303e-14,  1.55129398e-13,  1.92437361e-13,\n",
       "         1.10118245e-11, -6.37842638e-14,  3.49558061e-20,\n",
       "        -2.32276391e-20, -5.95677909e-18, -1.01268957e-18,\n",
       "        -3.48384408e-17, -3.02846649e-17,  4.26825921e-17,\n",
       "         5.54300175e-19, -2.06835757e-20, -1.90923485e-18,\n",
       "        -8.48850221e-19,  6.66988971e-18, -3.53083733e-18],\n",
       "       [-5.96577559e-16, -4.38715841e-09,  4.24238919e-09,\n",
       "         1.07701375e-10,  6.76424828e-12,  1.77876528e-11,\n",
       "         1.70215420e-17,  3.31800928e-17,  3.59004584e-12,\n",
       "         2.25474943e-13,  5.92921759e-13,  1.70215420e-17,\n",
       "         3.31800928e-17,  8.39036780e-15, -4.73810301e-14,\n",
       "         2.33513901e-12,  3.66410634e-12,  1.29635780e-11,\n",
       "         1.07004361e-11,  1.82200575e-11,  9.75687163e-13,\n",
       "         6.26365120e-14,  3.09747642e-13,  2.69753639e-13,\n",
       "         1.48039552e-11,  6.98838914e-13,  4.75470084e-20,\n",
       "        -9.58811375e-19, -2.40140554e-19, -1.38370814e-17,\n",
       "        -2.83406144e-17, -4.15662967e-17, -5.98109313e-18,\n",
       "        -4.34756885e-19, -2.35805116e-18, -8.51646921e-19,\n",
       "         2.39933946e-18,  6.07092709e-17,  1.80584613e-18],\n",
       "       [ 3.36340953e-15, -5.81353518e-09,  5.69317051e-09,\n",
       "        -1.39535677e-10, -4.50588732e-12,  1.07228765e-11,\n",
       "         2.51048117e-17,  2.00461838e-17, -4.65118924e-12,\n",
       "        -1.50196244e-13,  3.57429215e-13,  2.51048117e-17,\n",
       "         2.00461838e-17, -2.45059895e-15, -2.96095573e-14,\n",
       "        -3.40815287e-12, -6.45805114e-12, -2.44449956e-11,\n",
       "        -1.96978555e-11, -2.63956097e-11, -1.77349504e-12,\n",
       "         2.44776778e-13, -3.84365643e-13, -2.22244021e-13,\n",
       "        -8.39792506e-12, -2.59165880e-13, -2.38328220e-20,\n",
       "        -4.54180673e-20,  6.12131460e-18,  3.49887554e-17,\n",
       "        -5.49684572e-17,  4.00359672e-17, -8.01049461e-17,\n",
       "        -1.30273802e-17,  1.57516447e-17, -4.32903470e-18,\n",
       "        -1.96681050e-18,  5.85462436e-17,  4.52180016e-18],\n",
       "       [-8.95092309e-16,  2.06887630e-08, -1.97894385e-08,\n",
       "        -6.51730957e-11, -5.12495196e-12, -2.60567142e-11,\n",
       "        -1.47859138e-17, -6.19017726e-17, -2.17243652e-12,\n",
       "        -1.70831732e-13, -8.68557140e-13, -1.47859138e-17,\n",
       "        -6.19017726e-17, -7.91649344e-16, -7.29985046e-14,\n",
       "        -1.20106840e-12, -1.87892610e-12, -7.65163803e-12,\n",
       "        -5.80991596e-12, -8.36189122e-12, -2.61655990e-13,\n",
       "        -3.52709735e-13, -2.17530637e-13, -2.63507226e-13,\n",
       "        -1.11391007e-11,  2.73163768e-13, -7.76016183e-21,\n",
       "        -7.98897716e-19,  3.42800486e-18,  6.16159510e-18,\n",
       "         1.50575355e-17, -8.46074346e-18,  5.75353811e-18,\n",
       "        -6.40322211e-19, -5.15564068e-18,  1.45097424e-18,\n",
       "        -2.72518372e-18, -9.08631725e-17,  4.80984609e-18],\n",
       "       [-1.19729381e-15, -1.61028009e-08,  1.51995614e-08,\n",
       "        -1.85458290e-10, -1.10854817e-11, -5.14733639e-11,\n",
       "        -5.70015156e-17, -2.64215772e-16, -6.18194299e-12,\n",
       "        -3.69516057e-13, -1.71577880e-12, -5.70015156e-17,\n",
       "        -2.64215772e-16, -3.49004859e-15,  3.29605847e-15,\n",
       "        -5.19027052e-12, -6.18640048e-12, -2.39281281e-11,\n",
       "        -2.09871750e-11, -2.74717506e-11, -1.99827268e-12,\n",
       "        -6.23009521e-13,  1.48959225e-13, -3.21911360e-13,\n",
       "        -2.13468547e-11, -4.49814940e-13, -3.11114584e-20,\n",
       "         1.14740279e-18, -2.28508289e-17,  3.72629262e-17,\n",
       "         4.88215516e-17,  1.04556674e-17,  2.78839240e-17,\n",
       "        -1.09362429e-17, -7.53182862e-18,  1.52433058e-17,\n",
       "        -1.05661239e-18, -1.61436719e-16,  8.73803695e-18],\n",
       "       [ 2.64447814e-16,  1.92206075e-08, -1.84214062e-08,\n",
       "         8.64786410e-11,  2.82616704e-12,  3.46032716e-11,\n",
       "        -3.78046729e-18,  1.06031160e-16,  2.88262137e-12,\n",
       "         9.42055682e-14,  1.15344239e-12, -3.78046729e-18,\n",
       "         1.06031160e-16, -7.65288530e-16, -3.09134358e-14,\n",
       "         1.74544662e-12,  4.92506803e-12,  1.25567911e-11,\n",
       "         9.93959627e-12,  1.58097004e-11,  7.42802499e-13,\n",
       "         3.24245880e-13,  4.10618852e-13,  2.57432819e-13,\n",
       "         6.97469404e-12,  9.01387763e-13, -7.53439762e-21,\n",
       "        -6.69642280e-19, -1.03164327e-17, -1.29364380e-17,\n",
       "        -2.77850548e-17, -5.19412966e-17,  5.39537377e-17,\n",
       "        -4.10532611e-18, -1.67496875e-18, -1.16472254e-18,\n",
       "         4.16723132e-18, -4.81516132e-18,  5.36884198e-18],\n",
       "       [-9.65234883e-16, -1.37298320e-08,  1.29380135e-08,\n",
       "         9.66701593e-11,  4.52976821e-12,  5.03518828e-11,\n",
       "         3.18810410e-18,  2.48592332e-16,  3.22233864e-12,\n",
       "         1.50992274e-13,  1.67839609e-12,  3.18810410e-18,\n",
       "         2.48592332e-16, -2.81210552e-15,  2.52463832e-13,\n",
       "         3.18029240e-12,  3.10057361e-12,  1.09722925e-11,\n",
       "         9.68856252e-12,  1.44933319e-11,  9.89160038e-13,\n",
       "         1.01532057e-12,  5.58657848e-13,  5.49059674e-13,\n",
       "         1.07944408e-11,  5.66493500e-13, -2.57464749e-20,\n",
       "         2.21966902e-18,  6.88517443e-18, -1.69702641e-17,\n",
       "        -4.11397108e-17, -4.82328287e-17, -2.08271859e-18,\n",
       "         2.91615543e-18,  7.55834303e-18,  7.86194877e-18,\n",
       "         4.57134144e-18,  3.54018440e-17,  1.22588158e-18],\n",
       "       [-1.64777313e-15,  3.32503821e-09, -2.94829723e-09,\n",
       "        -7.24735741e-11, -1.72861228e-12, -1.69714874e-12,\n",
       "         8.05579655e-18, -1.62717379e-17, -2.41578580e-12,\n",
       "        -5.76204093e-14, -5.65716246e-14,  8.05579655e-18,\n",
       "        -1.62717379e-17, -1.62618970e-15, -1.12835368e-14,\n",
       "        -1.65629584e-12, -4.59816792e-12, -8.80316865e-12,\n",
       "        -8.74632218e-12, -1.55325277e-11, -5.77048493e-13,\n",
       "        -1.60411135e-13,  1.78224816e-13, -9.56717580e-14,\n",
       "        -4.30612648e-12, -2.72529422e-13, -1.62852460e-20,\n",
       "         3.46387528e-21, -5.05578948e-18, -4.53292768e-17,\n",
       "        -3.67096529e-17, -2.46214081e-17, -6.72832766e-17,\n",
       "         4.44820614e-19,  5.16344179e-18,  7.17960576e-18,\n",
       "        -2.63054794e-18,  8.55689871e-17, -1.02587357e-18],\n",
       "       [-1.63702525e-16,  6.55865364e-09, -6.20611972e-09,\n",
       "         1.26060826e-10,  2.64422688e-12,  3.91170008e-11,\n",
       "        -1.57542725e-17,  6.22853615e-17,  4.20202752e-12,\n",
       "         8.81408962e-14,  1.30390003e-12, -1.57542725e-17,\n",
       "         6.22853615e-17, -1.10917834e-15, -2.79055569e-14,\n",
       "         3.44794339e-12,  5.79962016e-12,  2.50686450e-11,\n",
       "         1.69670278e-11,  2.23205973e-11,  1.00367459e-12,\n",
       "         7.28146655e-14,  5.55421988e-13, -1.35647548e-14,\n",
       "         9.18309082e-12,  7.99925735e-13, -1.11136355e-20,\n",
       "        -8.28357976e-19,  7.98756723e-18, -1.83748769e-18,\n",
       "         7.95678359e-17, -4.78389746e-18,  1.82563621e-17,\n",
       "         1.52232804e-18, -4.65589886e-18,  5.67523404e-18,\n",
       "        -2.58273755e-18, -2.85040596e-17,  6.59513722e-18],\n",
       "       [-4.68775998e-15,  8.50669208e-09, -8.02769024e-09,\n",
       "        -9.39764783e-11, -6.30235544e-12, -2.42446468e-11,\n",
       "        -2.44484558e-17, -1.80907195e-16, -3.13254928e-12,\n",
       "        -2.10078515e-13, -8.08154893e-13, -2.44484558e-17,\n",
       "        -1.80907195e-16, -1.10176813e-15, -3.41862201e-14,\n",
       "        -3.29570579e-12, -4.99790816e-12, -1.45721067e-11,\n",
       "        -1.29028469e-11, -1.14754408e-11, -6.54288338e-13,\n",
       "        -1.73974221e-13, -7.35651868e-13, -1.91320523e-13,\n",
       "        -1.25180312e-11, -1.12123680e-12, -1.10239793e-20,\n",
       "        -6.85938424e-19, -8.36722401e-18,  1.53331355e-18,\n",
       "         7.12276104e-18,  2.11075145e-17,  6.72443780e-17,\n",
       "         1.13077559e-17, -8.49225279e-19, -9.04018156e-18,\n",
       "        -1.72159719e-18, -1.06592110e-16, -6.03421536e-18],\n",
       "       [ 1.09219203e-15, -3.66650089e-09,  3.62485591e-09,\n",
       "         1.93329642e-12,  1.93274443e-12, -3.01707971e-11,\n",
       "         2.35193361e-17, -1.24574967e-16,  6.44432140e-14,\n",
       "         6.44248144e-14, -1.00569324e-12,  2.35193361e-17,\n",
       "        -1.24574967e-16, -2.04780378e-15, -4.58882246e-14,\n",
       "         1.60891787e-14, -2.86431646e-13, -1.96259094e-12,\n",
       "        -8.43486285e-13, -7.36616704e-13,  1.00085907e-13,\n",
       "        -1.91214471e-13, -4.28778575e-13, -1.77243391e-13,\n",
       "        -1.09541392e-12, -1.65746064e-13, -2.01404890e-20,\n",
       "        -6.98382489e-19,  3.03783289e-18,  4.56138376e-18,\n",
       "         1.14224178e-17,  3.13850796e-19,  2.81103426e-17,\n",
       "        -6.26420358e-19, -2.27815943e-18, -7.09580842e-18,\n",
       "        -2.41169512e-18,  1.73346265e-17,  2.21923630e-19],\n",
       "       [ 1.20785766e-15, -1.26058932e-08,  1.19208672e-08,\n",
       "         9.92014544e-11,  2.85015922e-12,  2.02521023e-11,\n",
       "         1.23843193e-18,  9.27986026e-17,  3.30671515e-12,\n",
       "         9.50053072e-14,  6.75070076e-13,  1.23843193e-18,\n",
       "         9.27986026e-17, -2.78462405e-15,  9.09865123e-14,\n",
       "         2.67395374e-12,  2.81162196e-12,  1.35061140e-11,\n",
       "         9.69131144e-12,  1.55185828e-11,  1.16478860e-12,\n",
       "        -2.52295575e-14,  1.45912636e-13,  8.95462311e-14,\n",
       "         1.07063047e-11,  6.85611918e-14, -2.57558518e-20,\n",
       "         5.28873390e-19, -3.34057531e-18, -1.83964929e-17,\n",
       "        -7.25801656e-18, -2.69277085e-17,  2.94995667e-17,\n",
       "         4.15244914e-18, -1.87756453e-18, -2.69479879e-18,\n",
       "         6.64877407e-19,  6.94097368e-17, -5.63625995e-18],\n",
       "       [ 6.70002521e-16, -6.84085516e-09,  6.49684957e-09,\n",
       "        -2.30143114e-11,  7.51587505e-13, -4.84445727e-11,\n",
       "         8.52431374e-18, -3.60810369e-16, -7.67143715e-13,\n",
       "         2.50529168e-14, -1.61481909e-12,  8.52431374e-18,\n",
       "        -3.60810369e-16, -1.96824120e-15,  1.73164073e-14,\n",
       "         4.01231947e-13,  2.26798324e-13, -1.24147756e-12,\n",
       "         3.93073801e-12, -9.02363644e-12,  1.87610745e-13,\n",
       "        -4.30053655e-13, -2.27474119e-14, -6.71340067e-14,\n",
       "        -4.08666567e-12, -3.18778097e-13, -1.90519337e-20,\n",
       "         1.16077849e-18,  2.16355584e-17,  5.19265406e-18,\n",
       "         7.56945427e-17,  1.34629022e-16, -2.10037568e-17,\n",
       "         1.66705780e-17, -5.70656407e-18,  2.42685666e-18,\n",
       "         1.51179899e-18, -1.39734952e-18, -6.28133282e-18],\n",
       "       [ 5.83340718e-15, -1.05781152e-08,  9.99534560e-09,\n",
       "        -8.48640507e-11, -2.43183818e-12, -1.02461406e-11,\n",
       "         1.59344405e-17,  1.55182077e-16, -2.82880169e-12,\n",
       "        -8.10612727e-14, -3.41538020e-13,  1.59344405e-17,\n",
       "         1.55182077e-16, -2.36454640e-15, -3.62790129e-14,\n",
       "        -2.02890381e-12, -2.25869027e-12, -1.10312761e-11,\n",
       "        -7.56040550e-12, -1.54669622e-11, -6.17331619e-13,\n",
       "        -1.90733185e-13, -8.29136022e-13, -7.08146435e-14,\n",
       "        -3.04134708e-12, -6.75697987e-13, -2.22870481e-20,\n",
       "        -5.47058301e-20, -5.35618438e-18,  1.58984061e-17,\n",
       "        -1.47311134e-18,  1.91135726e-17, -2.88498973e-17,\n",
       "        -1.18392043e-18, -1.57881932e-18, -1.10501190e-17,\n",
       "         2.18934867e-18,  7.50844017e-17, -8.32058168e-18]])"
      ]
     },
     "execution_count": 22,
     "metadata": {},
     "output_type": "execute_result"
    }
   ],
   "source": [
    "model.coef_"
   ]
  },
  {
   "cell_type": "code",
   "execution_count": 24,
   "metadata": {},
   "outputs": [
    {
     "data": {
      "image/png": "[encoded data removed]",
      "text/plain": [
       "<Figure size 864x576 with 1 Axes>"
      ]
     },
     "metadata": {
      "needs_background": "light"
     },
     "output_type": "display_data"
    }
   ],
   "source": [
    "_, ax = plt.subplots(figsize=(12, 8))\n",
    "ax.barh(feature_names, model.coef_[0])\n",
    "plt.show()"
   ]
  },
  {
   "cell_type": "code",
   "execution_count": 25,
   "metadata": {},
   "outputs": [
    {
     "data": {
      "text/plain": [
       "(15, 39)"
      ]
     },
     "execution_count": 25,
     "metadata": {},
     "output_type": "execute_result"
    }
   ],
   "source": [
    "model.coef_.shape"
   ]
  },
  {
   "cell_type": "code",
   "execution_count": 26,
   "metadata": {},
   "outputs": [],
   "source": [
    "from sklearn.preprocessing import StandardScaler"
   ]
  },
  {
   "cell_type": "code",
   "execution_count": 27,
   "metadata": {},
   "outputs": [
    {
     "data": {
      "text/plain": [
       "StandardScaler()"
      ]
     },
     "execution_count": 27,
     "metadata": {},
     "output_type": "execute_result"
    }
   ],
   "source": [
    "scaler = StandardScaler()\n",
    "\n",
    "scaler.fit(X_train)"
   ]
  },
  {
   "cell_type": "code",
   "execution_count": 28,
   "metadata": {},
   "outputs": [],
   "source": [
    "X_train2 = scaler.transform(X_train)\n",
    "X_val2 = scaler.transform(X_val)"
   ]
  },
  {
   "cell_type": "code",
   "execution_count": 29,
   "metadata": {},
   "outputs": [
    {
     "data": {
      "text/plain": [
       "array([[ 1.16036853, -1.36758805, -0.43205256, ...,  2.33119722,\n",
       "        -0.84319749,  0.5629959 ],\n",
       "       [-0.1765097 , -0.83391871,  0.46349278, ..., -0.05676729,\n",
       "        -1.05958621, -1.44568584],\n",
       "       [-0.1765097 ,  0.30602028,  0.0811936 , ...,  0.54551949,\n",
       "         1.65748661,  0.2101247 ],\n",
       "       ...,\n",
       "       [ 2.49724677, -0.80353418,  0.61251735, ..., -0.45341441,\n",
       "         0.11229568,  0.29302069],\n",
       "       [-0.1765097 ,  0.49472678,  0.48358788, ..., -0.33258827,\n",
       "         0.3554548 , -0.74243098],\n",
       "       [-0.1765097 ,  1.26786626,  0.6728786 , ..., -0.52097576,\n",
       "        -1.06386259,  0.69561889]])"
      ]
     },
     "execution_count": 29,
     "metadata": {},
     "output_type": "execute_result"
    }
   ],
   "source": [
    "X_train2"
   ]
  },
  {
   "cell_type": "code",
   "execution_count": 31,
   "metadata": {},
   "outputs": [],
   "source": [
    "df_train3 = pd.DataFrame(X_train2, columns=feature_names)"
   ]
  },
  {
   "cell_type": "code",
   "execution_count": 32,
   "metadata": {},
   "outputs": [
    {
     "data": {
      "text/html": [
       "<div>\n",
       "<style scoped>\n",
       "    .dataframe tbody tr th:only-of-type {\n",
       "        vertical-align: middle;\n",
       "    }\n",
       "\n",
       "    .dataframe tbody tr th {\n",
       "        vertical-align: top;\n",
       "    }\n",
       "\n",
       "    .dataframe thead th {\n",
       "        text-align: right;\n",
       "    }\n",
       "</style>\n",
       "<table border=\"1\" class=\"dataframe\">\n",
       "  <thead>\n",
       "    <tr style=\"text-align: right;\">\n",
       "      <th></th>\n",
       "      <th>category</th>\n",
       "      <th>created_at</th>\n",
       "      <th>updated_at</th>\n",
       "      <th>char_count_sum</th>\n",
       "      <th>new_line_count_sum</th>\n",
       "      <th>talk_char_count_sum</th>\n",
       "      <th>new_line_count_rate_sum</th>\n",
       "      <th>talk_char_count_rate_sum</th>\n",
       "      <th>char_count_avg</th>\n",
       "      <th>new_line_count_avg</th>\n",
       "      <th>...</th>\n",
       "      <th>wc_rate_3</th>\n",
       "      <th>wc_rate_4</th>\n",
       "      <th>wc_rate_5</th>\n",
       "      <th>wc_rate_6</th>\n",
       "      <th>wc_rate_7</th>\n",
       "      <th>wc_rate_8</th>\n",
       "      <th>wc_rate_9</th>\n",
       "      <th>wc_rate_10</th>\n",
       "      <th>wc_rate_11</th>\n",
       "      <th>wc_rate_12</th>\n",
       "    </tr>\n",
       "  </thead>\n",
       "  <tbody>\n",
       "    <tr>\n",
       "      <th>0</th>\n",
       "      <td>1.160369</td>\n",
       "      <td>-1.367588</td>\n",
       "      <td>-0.432053</td>\n",
       "      <td>-0.422828</td>\n",
       "      <td>-0.489004</td>\n",
       "      <td>-0.529102</td>\n",
       "      <td>-0.502003</td>\n",
       "      <td>-0.580050</td>\n",
       "      <td>-0.422828</td>\n",
       "      <td>-0.489004</td>\n",
       "      <td>...</td>\n",
       "      <td>-0.712245</td>\n",
       "      <td>1.507450</td>\n",
       "      <td>-0.758197</td>\n",
       "      <td>0.617993</td>\n",
       "      <td>-0.101028</td>\n",
       "      <td>-0.819915</td>\n",
       "      <td>-0.192466</td>\n",
       "      <td>2.331197</td>\n",
       "      <td>-0.843197</td>\n",
       "      <td>0.562996</td>\n",
       "    </tr>\n",
       "    <tr>\n",
       "      <th>1</th>\n",
       "      <td>-0.176510</td>\n",
       "      <td>-0.833919</td>\n",
       "      <td>0.463493</td>\n",
       "      <td>0.209341</td>\n",
       "      <td>-0.246186</td>\n",
       "      <td>0.850963</td>\n",
       "      <td>-1.162828</td>\n",
       "      <td>1.329486</td>\n",
       "      <td>0.209341</td>\n",
       "      <td>-0.246186</td>\n",
       "      <td>...</td>\n",
       "      <td>1.410629</td>\n",
       "      <td>0.751336</td>\n",
       "      <td>0.915122</td>\n",
       "      <td>-0.043664</td>\n",
       "      <td>-0.739917</td>\n",
       "      <td>-0.895645</td>\n",
       "      <td>-1.287587</td>\n",
       "      <td>-0.056767</td>\n",
       "      <td>-1.059586</td>\n",
       "      <td>-1.445686</td>\n",
       "    </tr>\n",
       "    <tr>\n",
       "      <th>2</th>\n",
       "      <td>-0.176510</td>\n",
       "      <td>0.306020</td>\n",
       "      <td>0.081194</td>\n",
       "      <td>-0.182052</td>\n",
       "      <td>0.077571</td>\n",
       "      <td>0.224446</td>\n",
       "      <td>0.831539</td>\n",
       "      <td>0.880237</td>\n",
       "      <td>-0.182052</td>\n",
       "      <td>0.077571</td>\n",
       "      <td>...</td>\n",
       "      <td>-0.910284</td>\n",
       "      <td>-0.282924</td>\n",
       "      <td>-1.059787</td>\n",
       "      <td>-0.446256</td>\n",
       "      <td>-0.486502</td>\n",
       "      <td>1.568637</td>\n",
       "      <td>0.278734</td>\n",
       "      <td>0.545519</td>\n",
       "      <td>1.657487</td>\n",
       "      <td>0.210125</td>\n",
       "    </tr>\n",
       "    <tr>\n",
       "      <th>3</th>\n",
       "      <td>-0.176510</td>\n",
       "      <td>1.302427</td>\n",
       "      <td>0.672717</td>\n",
       "      <td>0.152729</td>\n",
       "      <td>-0.084308</td>\n",
       "      <td>0.188680</td>\n",
       "      <td>-0.631795</td>\n",
       "      <td>0.379319</td>\n",
       "      <td>0.152729</td>\n",
       "      <td>-0.084308</td>\n",
       "      <td>...</td>\n",
       "      <td>-0.240982</td>\n",
       "      <td>0.134179</td>\n",
       "      <td>-0.464221</td>\n",
       "      <td>1.066033</td>\n",
       "      <td>-0.209682</td>\n",
       "      <td>0.095773</td>\n",
       "      <td>-0.583167</td>\n",
       "      <td>0.087584</td>\n",
       "      <td>-0.248258</td>\n",
       "      <td>-1.550982</td>\n",
       "    </tr>\n",
       "    <tr>\n",
       "      <th>4</th>\n",
       "      <td>-0.176510</td>\n",
       "      <td>1.333875</td>\n",
       "      <td>0.661384</td>\n",
       "      <td>0.140498</td>\n",
       "      <td>0.901678</td>\n",
       "      <td>-0.123346</td>\n",
       "      <td>2.079174</td>\n",
       "      <td>-0.104468</td>\n",
       "      <td>0.140498</td>\n",
       "      <td>0.901678</td>\n",
       "      <td>...</td>\n",
       "      <td>-1.891346</td>\n",
       "      <td>-0.169395</td>\n",
       "      <td>-1.084815</td>\n",
       "      <td>0.513448</td>\n",
       "      <td>-0.855906</td>\n",
       "      <td>0.050179</td>\n",
       "      <td>0.027643</td>\n",
       "      <td>-0.257433</td>\n",
       "      <td>1.281694</td>\n",
       "      <td>0.108447</td>\n",
       "    </tr>\n",
       "  </tbody>\n",
       "</table>\n",
       "<p>5 rows × 39 columns</p>\n",
       "</div>"
      ],
      "text/plain": [
       "   category  created_at  updated_at  char_count_sum  new_line_count_sum  \\\n",
       "0  1.160369   -1.367588   -0.432053       -0.422828           -0.489004   \n",
       "1 -0.176510   -0.833919    0.463493        0.209341           -0.246186   \n",
       "2 -0.176510    0.306020    0.081194       -0.182052            0.077571   \n",
       "3 -0.176510    1.302427    0.672717        0.152729           -0.084308   \n",
       "4 -0.176510    1.333875    0.661384        0.140498            0.901678   \n",
       "\n",
       "   talk_char_count_sum  new_line_count_rate_sum  talk_char_count_rate_sum  \\\n",
       "0            -0.529102                -0.502003                 -0.580050   \n",
       "1             0.850963                -1.162828                  1.329486   \n",
       "2             0.224446                 0.831539                  0.880237   \n",
       "3             0.188680                -0.631795                  0.379319   \n",
       "4            -0.123346                 2.079174                 -0.104468   \n",
       "\n",
       "   char_count_avg  new_line_count_avg  ...  wc_rate_3  wc_rate_4  wc_rate_5  \\\n",
       "0       -0.422828           -0.489004  ...  -0.712245   1.507450  -0.758197   \n",
       "1        0.209341           -0.246186  ...   1.410629   0.751336   0.915122   \n",
       "2       -0.182052            0.077571  ...  -0.910284  -0.282924  -1.059787   \n",
       "3        0.152729           -0.084308  ...  -0.240982   0.134179  -0.464221   \n",
       "4        0.140498            0.901678  ...  -1.891346  -0.169395  -1.084815   \n",
       "\n",
       "   wc_rate_6  wc_rate_7  wc_rate_8  wc_rate_9  wc_rate_10  wc_rate_11  \\\n",
       "0   0.617993  -0.101028  -0.819915  -0.192466    2.331197   -0.843197   \n",
       "1  -0.043664  -0.739917  -0.895645  -1.287587   -0.056767   -1.059586   \n",
       "2  -0.446256  -0.486502   1.568637   0.278734    0.545519    1.657487   \n",
       "3   1.066033  -0.209682   0.095773  -0.583167    0.087584   -0.248258   \n",
       "4   0.513448  -0.855906   0.050179   0.027643   -0.257433    1.281694   \n",
       "\n",
       "   wc_rate_12  \n",
       "0    0.562996  \n",
       "1   -1.445686  \n",
       "2    0.210125  \n",
       "3   -1.550982  \n",
       "4    0.108447  \n",
       "\n",
       "[5 rows x 39 columns]"
      ]
     },
     "execution_count": 32,
     "metadata": {},
     "output_type": "execute_result"
    }
   ],
   "source": [
    "df_train3.head()"
   ]
  },
  {
   "cell_type": "code",
   "execution_count": 36,
   "metadata": {},
   "outputs": [],
   "source": [
    "import warnings\n",
    "warnings.simplefilter('ignore')"
   ]
  },
  {
   "cell_type": "code",
   "execution_count": 37,
   "metadata": {},
   "outputs": [
    {
     "data": {
      "text/plain": [
       "LogisticRegression()"
      ]
     },
     "execution_count": 37,
     "metadata": {},
     "output_type": "execute_result"
    }
   ],
   "source": [
    "model = LogisticRegression(C=1.0)\n",
    "\n",
    "model.fit(X_train2, t_train)"
   ]
  },
  {
   "cell_type": "code",
   "execution_count": 38,
   "metadata": {},
   "outputs": [
    {
     "name": "stdout",
     "output_type": "stream",
     "text": [
      "train:  0.84375\n",
      "val  :  0.7745454545454545\n"
     ]
    }
   ],
   "source": [
    "print('train: ', model.score(X_train2, t_train))\n",
    "print('val  : ', model.score(X_val2, t_val))"
   ]
  },
  {
   "cell_type": "code",
   "execution_count": 40,
   "metadata": {},
   "outputs": [
    {
     "name": "stdout",
     "output_type": "stream",
     "text": [
      "17 17\n"
     ]
    }
   ],
   "source": [
    "y = model.predict(X_val2)\n",
    "\n",
    "print(y[0], t_val[0])"
   ]
  },
  {
   "cell_type": "code",
   "execution_count": 41,
   "metadata": {},
   "outputs": [
    {
     "name": "stdout",
     "output_type": "stream",
     "text": [
      "RMSE: 12.025578799149148\n"
     ]
    }
   ],
   "source": [
    "mse = mean_squared_error(t_val, y)\n",
    "print('RMSE:', math.sqrt(mse))"
   ]
  },
  {
   "cell_type": "code",
   "execution_count": 43,
   "metadata": {},
   "outputs": [
    {
     "data": {
      "text/plain": [
       "array([[ 3.24279815e-01,  2.25328774e+00,  8.89499302e-01,\n",
       "         3.45942919e-01, -2.83435775e-01, -1.37744132e+00,\n",
       "         3.10949813e-01,  9.44744856e-01,  3.45942919e-01,\n",
       "        -2.83435775e-01, -1.37744132e+00,  3.10949813e-01,\n",
       "         9.44744856e-01,  1.20816463e-02,  5.80879636e-01,\n",
       "         1.03375652e+00, -1.21161941e-01,  3.88523151e-01,\n",
       "         3.74393196e-01,  4.97420697e-01,  2.40971974e-01,\n",
       "         3.21620799e-01,  2.90419966e-01, -1.68386481e-01,\n",
       "         4.67341961e-01, -3.85584369e-01,  4.93181186e-01,\n",
       "        -9.19472804e-01,  7.50837609e-01, -2.67001211e-01,\n",
       "         2.88715371e-01,  7.54348661e-01,  1.29405626e-01,\n",
       "        -9.26477210e-01,  4.62405490e-01, -5.27210671e-01,\n",
       "         1.92600901e-01, -7.00825800e-01, -2.10079869e-01],\n",
       "       [-2.03903061e-01, -1.82073962e-02,  3.78200536e-01,\n",
       "        -3.05171047e-01,  7.16221200e-01,  3.60844540e-01,\n",
       "         5.77681277e-02, -3.38594822e-01, -3.05171047e-01,\n",
       "         7.16221200e-01,  3.60844540e-01,  5.77681277e-02,\n",
       "        -3.38594822e-01,  3.60854986e-01, -1.02558241e+00,\n",
       "        -9.37782848e-01,  1.11684316e+00,  5.85263542e-02,\n",
       "         9.73688260e-02, -5.81520466e-01, -2.83167717e-02,\n",
       "        -1.06856648e+00,  2.84317132e-01,  1.20673099e-01,\n",
       "         9.11353894e-01, -4.46240059e-01, -1.02066436e-01,\n",
       "         5.23709134e-01,  3.20520815e-01,  7.24835756e-01,\n",
       "        -1.96050549e-01, -8.97305100e-01,  4.39276524e-01,\n",
       "         3.19036754e-01,  5.96072183e-01,  2.87381880e-02,\n",
       "        -1.45039004e-01, -1.69710641e-01, -2.05387605e-01],\n",
       "       [-1.68106711e-01,  9.34985639e-02,  2.74493209e-01,\n",
       "         5.63231940e-02,  1.45605195e-01,  3.42133811e-02,\n",
       "         2.05540416e-01, -3.53383494e-01,  5.63231940e-02,\n",
       "         1.45605195e-01,  3.42133811e-02,  2.05540416e-01,\n",
       "        -3.53383494e-01,  3.59727250e-01, -2.89859622e-01,\n",
       "         3.84503763e-01, -9.96899968e-01, -8.47592763e-03,\n",
       "        -1.08671122e-01,  1.12480528e-01,  3.62152065e-01,\n",
       "        -6.15365370e-01,  1.73004837e-02, -1.85423248e-01,\n",
       "         1.07201029e+00,  7.46100667e-01,  1.82612656e-01,\n",
       "        -1.06135470e+00,  2.33764932e-01,  3.03608933e-01,\n",
       "        -4.78090086e-01, -3.20482780e-01, -7.30820415e-01,\n",
       "         3.14732040e-01, -2.98657178e-01,  5.25876245e-01,\n",
       "         8.71935880e-01,  9.55462215e-01,  6.53920373e-02],\n",
       "       [ 1.36061664e+00, -1.30230436e+00, -6.31721346e-01,\n",
       "        -4.79693056e-01, -1.57208327e-01,  1.56473413e+00,\n",
       "         4.57956061e-01, -2.13135672e-02, -4.79693056e-01,\n",
       "        -1.57208327e-01,  1.56473413e+00,  4.57956061e-01,\n",
       "        -2.13135672e-02, -3.11155497e-02, -4.48606354e-01,\n",
       "        -5.97289965e-01, -8.68379480e-01, -7.26503606e-01,\n",
       "        -9.88084239e-01, -2.91157075e-01, -1.17943057e+00,\n",
       "         3.32571560e-02,  1.40439511e+00,  2.41231356e-01,\n",
       "         1.98301632e-01,  5.97405379e-01, -3.42739558e-02,\n",
       "         2.91153276e-01, -3.21290161e-01,  6.71612587e-01,\n",
       "        -6.94740183e-01,  6.11808498e-01,  1.80073411e-01,\n",
       "        -1.01677693e+00,  9.78370939e-01, -4.23570647e-01,\n",
       "        -2.43389811e-01, -4.14379745e-01,  1.10559749e+00],\n",
       "       [ 5.18025581e-01,  2.00022677e+00,  1.42337200e+00,\n",
       "         1.64097616e-01, -6.52036415e-01, -8.02924446e-01,\n",
       "         2.55198653e-01,  3.51435008e-01,  1.64097616e-01,\n",
       "        -6.52036415e-01, -8.02924446e-01,  2.55198653e-01,\n",
       "         3.51435008e-01,  2.20849072e-03, -1.87391352e+00,\n",
       "        -1.72984377e-01,  3.65188004e-01, -4.58992450e-01,\n",
       "         3.63529259e-01,  2.15242393e-01,  7.15256547e-01,\n",
       "         1.15122364e-01, -1.12750433e+00, -1.34649899e-01,\n",
       "        -8.20662487e-01,  2.08452614e+00,  1.21902107e-03,\n",
       "         1.56485435e-01,  7.84514743e-01,  6.36518975e-01,\n",
       "         8.87758228e-03, -5.78788451e-01,  8.52931307e-01,\n",
       "         8.45801085e-02,  4.62690061e-01,  5.99917812e-01,\n",
       "        -2.47904412e-01, -9.36881211e-01, -5.52216981e-01],\n",
       "       [-3.03678499e-01, -1.23091398e+00,  9.38677731e-01,\n",
       "        -1.29797547e-01, -2.21736155e-01, -2.17235782e-01,\n",
       "        -7.84254321e-01, -3.60538927e-01, -1.29797547e-01,\n",
       "        -2.21736155e-01, -2.17235782e-01, -7.84254321e-01,\n",
       "        -3.60538927e-01,  7.35302336e-04,  5.70399363e-01,\n",
       "        -2.44515789e-01,  5.45654636e-02, -1.66385821e-03,\n",
       "        -3.63632073e-02, -3.83736812e-02, -2.10199900e-01,\n",
       "         1.17036354e-01,  3.25475151e-01, -1.98569285e-01,\n",
       "        -2.57499506e-01,  4.20657923e-02, -1.54603865e-03,\n",
       "         8.17687207e-01, -9.41612407e-01,  7.96523908e-01,\n",
       "         9.73192418e-01,  4.44205440e-01,  1.58938797e-01,\n",
       "        -9.06778340e-01,  7.89264051e-02,  2.59992182e-01,\n",
       "        -3.87456850e-01, -1.06551621e+00,  2.53644584e-01],\n",
       "       [ 1.76869781e-01,  2.04263916e+00, -5.15344405e-01,\n",
       "         2.14040540e-01, -6.76520075e-02,  3.69059409e-01,\n",
       "         2.00832760e-01, -1.08661610e-01,  2.14040540e-01,\n",
       "        -6.76520075e-02,  3.69059409e-01,  2.00832760e-01,\n",
       "        -1.08661610e-01, -9.62206508e-02, -2.54148512e-01,\n",
       "         1.12591107e-01,  1.13390630e+00,  8.17024969e-02,\n",
       "        -1.10226664e-02,  3.05472590e-01,  2.76172010e-02,\n",
       "         5.05196498e-01,  3.06715113e-01, -2.23049552e-01,\n",
       "        -5.52403950e-01, -6.76041605e-01, -8.14856219e-02,\n",
       "        -6.43486446e-01, -1.21382471e-01,  4.31520691e-02,\n",
       "        -5.40044215e-01, -3.45675039e-01,  9.67589485e-01,\n",
       "         3.18000309e-01, -4.16373407e-01,  3.23721096e-01,\n",
       "         4.86703391e-01, -5.98053169e-01,  1.31210017e+00],\n",
       "       [ 5.89548883e-03, -2.09577186e+00,  1.58168923e+00,\n",
       "        -9.69326247e-02,  8.88830726e-01, -1.92014856e-01,\n",
       "         4.38287118e-02,  5.45640461e-01, -9.69326247e-02,\n",
       "         8.88830726e-01, -1.92014856e-01,  4.38287118e-02,\n",
       "         5.45640461e-01, -1.49032491e-01,  8.67483296e-01,\n",
       "         2.19453257e-02, -6.97206131e-01, -2.51808725e-01,\n",
       "        -3.04724931e-01,  3.53971777e-03,  3.22107890e-01,\n",
       "         5.24755839e-01,  1.88784832e-01,  7.56069858e-01,\n",
       "        -6.88126392e-01,  4.72479024e-02, -9.91481974e-02,\n",
       "         2.63499516e-01,  2.75984569e-01,  3.15895428e-01,\n",
       "        -5.73839780e-01,  7.38185900e-02,  2.08495750e-01,\n",
       "         7.99432501e-01,  5.24489004e-01,  1.85898197e+00,\n",
       "         8.50935328e-01, -5.20848664e-01,  3.17874191e-01],\n",
       "       [-1.77953088e-01,  4.97231768e-01,  2.50581859e+00,\n",
       "        -6.86995427e-01, -1.89582968e-01,  1.04698804e+00,\n",
       "         2.54913407e-01, -1.14266981e+00, -6.86995427e-01,\n",
       "        -1.89582968e-01,  1.04698804e+00,  2.54913407e-01,\n",
       "        -1.14266981e+00, -2.68629052e-01, -4.90188245e-01,\n",
       "        -2.03574347e-01, -3.91473915e-01,  5.09350302e-01,\n",
       "         5.01609043e-02, -8.97807539e-01,  6.38558940e-02,\n",
       "        -6.77533595e-01,  2.27713305e+00,  1.98719629e+00,\n",
       "        -6.74494011e-01, -1.75359574e-01, -1.61582126e-01,\n",
       "         3.37580629e-02,  4.30913819e-02, -1.80541462e+00,\n",
       "        -4.67853439e-01,  1.24975036e+00, -6.76247295e-01,\n",
       "        -6.39863550e-02, -4.05663101e-01, -3.02914636e-01,\n",
       "        -5.33750336e-01,  9.99858665e-01, -7.02363675e-01],\n",
       "       [-4.10350650e-01,  1.25781306e+00, -2.34446091e+00,\n",
       "         2.54958166e-01,  3.78022990e-01,  3.94025151e-01,\n",
       "        -3.79082384e-01, -1.46068942e-01,  2.54958166e-01,\n",
       "         3.78022990e-01,  3.94025151e-01, -3.79082384e-01,\n",
       "        -1.46068942e-01, -6.82196584e-03,  3.91760256e-01,\n",
       "         3.03049576e-01,  2.77126587e-01,  7.03813832e-01,\n",
       "         2.98888176e-01,  4.91924279e-01, -8.14328112e-01,\n",
       "         1.07439600e-01, -1.31508359e+00, -6.16454938e-01,\n",
       "         8.88853585e-02,  2.14712325e-01, -4.01105381e-03,\n",
       "        -7.19944547e-01, -5.73906836e-01, -4.78725352e-01,\n",
       "         1.21708782e+00, -6.43756526e-01, -4.51630415e-01,\n",
       "         8.56120699e-02, -3.92844042e-01,  1.45846608e+00,\n",
       "        -3.79312460e-02,  3.15791620e-01,  7.68377869e-01],\n",
       "       [-1.23687225e+00,  1.45249088e+00, -1.06521080e-01,\n",
       "         1.35414392e-01, -2.21989488e-01,  6.80170010e-01,\n",
       "        -8.32841565e-01, -1.73028682e-01,  1.35414392e-01,\n",
       "        -2.21989488e-01,  6.80170010e-01, -8.32841565e-01,\n",
       "        -1.73028682e-01, -7.32364903e-03,  5.45441290e-01,\n",
       "        -8.95083566e-01,  8.37128069e-03, -1.59748674e-01,\n",
       "        -1.28224028e-01,  3.71335212e-01, -5.74780828e-01,\n",
       "         8.39725947e-01, -4.99535604e-01,  1.30478134e-01,\n",
       "         1.25538282e-01, -1.67089039e+00, -6.93785593e-03,\n",
       "        -8.25599722e-03,  2.21745285e-01, -8.64688707e-01,\n",
       "         8.25821715e-02,  1.52245537e-02,  9.86887725e-01,\n",
       "         1.00189917e+00,  1.00980502e-01, -1.35750114e+00,\n",
       "        -4.60602081e-01, -6.98768764e-01, -4.37255944e-01],\n",
       "       [-2.24846171e-01, -2.53571376e-01, -8.12678754e-01,\n",
       "         4.27102271e-01, -5.68435981e-02, -1.16244943e+00,\n",
       "         2.56682546e-01,  5.11571794e-02,  4.27102271e-01,\n",
       "        -5.68435981e-02, -1.16244943e+00,  2.56682546e-01,\n",
       "         5.11571794e-02, -3.16916189e-02,  1.07839419e-01,\n",
       "         7.01471675e-01,  1.83844896e-02, -4.99391835e-01,\n",
       "         3.99399807e-02, -7.69923041e-02,  1.58545472e+00,\n",
       "         2.59954863e-01, -3.24428710e-01, -8.68838045e-02,\n",
       "        -2.65762357e-01, -6.11584414e-01, -5.89076025e-02,\n",
       "        -2.95463571e-01,  5.07670209e-02,  4.47602478e-01,\n",
       "         8.11528110e-02, -5.75393930e-01, -1.33760408e-01,\n",
       "        -8.41287265e-01,  2.10382786e-02, -9.40251296e-01,\n",
       "        -8.65214838e-01,  5.27875033e-01,  1.11069388e-02],\n",
       "       [-6.66945790e-02, -9.24027168e-01, -7.70779603e-01,\n",
       "         4.67230011e-01, -2.76011715e-01, -5.68729150e-02,\n",
       "        -1.46578562e-01,  2.59041576e-01,  4.67230011e-01,\n",
       "        -2.76011715e-01, -5.68729150e-02, -1.46578562e-01,\n",
       "         2.59041576e-01, -1.33036584e-01,  8.14367841e-01,\n",
       "         1.66395502e-01,  3.41811393e-03,  3.01243970e-01,\n",
       "         1.06747720e-01,  2.71989369e-01, -2.66284992e-01,\n",
       "        -4.94321006e-01, -1.97087239e-01, -7.21193272e-01,\n",
       "         2.73397874e-01, -4.70452512e-02, -1.15233050e-01,\n",
       "        -1.92432717e-01, -6.47932683e-01, -1.21482639e-01,\n",
       "        -1.43548629e-02, -6.94471335e-01, -1.68218431e-01,\n",
       "         9.10534013e-01, -6.17067038e-01,  1.49670814e-01,\n",
       "         1.20408127e-01,  7.98056712e-01, -5.38327156e-01],\n",
       "       [-9.28901825e-01, -1.53084180e+00, -1.89829988e+00,\n",
       "         7.59333912e-02,  2.41368625e-01, -3.76938676e-01,\n",
       "        -1.70401518e-01, -5.96193509e-01,  7.59333912e-02,\n",
       "         2.41368625e-01, -3.76938676e-01, -1.70401518e-01,\n",
       "        -5.96193509e-01, -2.15537063e-03,  4.23200683e-01,\n",
       "         3.13606847e-01,  1.43509102e-01,  1.16862557e-01,\n",
       "         3.22734714e-01, -6.95450249e-02, -1.94116327e-02,\n",
       "        -3.79795177e-01, -1.63497321e-01, -2.22928340e-01,\n",
       "        -2.30079655e-02,  3.11843333e-01, -2.61912439e-03,\n",
       "         1.07316489e+00,  1.86548359e-01, -5.40798257e-01,\n",
       "         7.15038729e-02,  1.41945300e+00, -8.86329474e-01,\n",
       "         1.52661619e-01, -5.18284078e-01,  1.68683050e-01,\n",
       "         6.80920392e-02,  1.55222608e-01, -7.31831767e-01],\n",
       "       [ 1.33561953e+00, -2.24155000e+00, -9.11944612e-01,\n",
       "        -4.42452797e-01, -2.43552288e-01, -2.64157245e-01,\n",
       "         2.69487856e-01,  1.08843429e+00, -4.42452797e-01,\n",
       "        -2.43552288e-01, -2.64157245e-01,  2.69487856e-01,\n",
       "         1.08843429e+00, -9.58074376e-03,  8.09268814e-02,\n",
       "         1.39105753e-02, -4.61910738e-02, -5.34375867e-02,\n",
       "        -7.66725827e-02, -3.14008695e-01, -2.24663487e-01,\n",
       "         4.11472204e-01, -1.46740404e+00, -6.78109918e-01,\n",
       "         1.45127383e-01, -3.11558751e-02, -9.20180047e-03,\n",
       "         6.80953267e-01, -2.61650157e-01,  1.38360654e-01,\n",
       "         2.41861066e-01, -5.12735939e-01, -8.76592187e-01,\n",
       "        -2.31182479e-01, -5.76084020e-01, -1.82259905e+00,\n",
       "         3.30612913e-01,  1.35271736e+00, -4.56630286e-01]])"
      ]
     },
     "execution_count": 43,
     "metadata": {},
     "output_type": "execute_result"
    }
   ],
   "source": [
    "model.coef_"
   ]
  },
  {
   "cell_type": "code",
   "execution_count": 44,
   "metadata": {},
   "outputs": [
    {
     "data": {
      "image/png": "[encoded data removed]",
      "text/plain": [
       "<Figure size 864x576 with 1 Axes>"
      ]
     },
     "metadata": {
      "needs_background": "light"
     },
     "output_type": "display_data"
    }
   ],
   "source": [
    "_, ax = plt.subplots(figsize=(12, 8))\n",
    "ax.barh(feature_names, model.coef_[0])\n",
    "plt.show()"
   ]
  },
  {
   "cell_type": "code",
   "execution_count": null,
   "metadata": {},
   "outputs": [],
   "source": []
  }
 ],
 "metadata": {
  "colab": {
   "authorship_tag": "ABX9TyNJKqUP19CQOBX92xv+zUYA",
   "collapsed_sections": [],
   "mount_file_id": "1hGfVCEXdPg3Bx7w2FsWb6sMP-uDmj2zF",
   "name": "model_2_xgboost.ipynb",
   "provenance": []
  },
  "kernelspec": {
   "display_name": "Python 3",
   "language": "python",
   "name": "python3"
  },
  "language_info": {
   "codemirror_mode": {
    "name": "ipython",
    "version": 3
   },
   "file_extension": ".py",
   "mimetype": "text/x-python",
   "name": "python",
   "nbconvert_exporter": "python",
   "pygments_lexer": "ipython3",
   "version": "3.7.3"
  }
 },
 "nbformat": 4,
 "nbformat_minor": 1
}
