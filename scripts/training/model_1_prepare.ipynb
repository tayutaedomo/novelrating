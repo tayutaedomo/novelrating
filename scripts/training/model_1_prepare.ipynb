{
 "cells": [
  {
   "cell_type": "code",
   "execution_count": 1,
   "metadata": {
    "colab": {},
    "colab_type": "code",
    "executionInfo": {
     "elapsed": 496,
     "status": "ok",
     "timestamp": 1593958452029,
     "user": {
      "displayName": "Noboru Koike",
      "photoUrl": "https://lh3.googleusercontent.com/a-/AOh14Ggp8njUb4jc54JrzfM5cQBkfiCdlz6nY17y8-1szg=s64",
      "userId": "05156582812995850159"
     },
     "user_tz": -540
    },
    "id": "oRgRzYov47aM"
   },
   "outputs": [],
   "source": [
    "import numpy as np\n",
    "import pandas as pd\n",
    "import matplotlib.pyplot as plt\n",
    "import os"
   ]
  },
  {
   "cell_type": "code",
   "execution_count": 3,
   "metadata": {
    "colab": {},
    "colab_type": "code",
    "executionInfo": {
     "elapsed": 524,
     "status": "ok",
     "timestamp": 1593958489872,
     "user": {
      "displayName": "Noboru Koike",
      "photoUrl": "https://lh3.googleusercontent.com/a-/AOh14Ggp8njUb4jc54JrzfM5cQBkfiCdlz6nY17y8-1szg=s64",
      "userId": "05156582812995850159"
     },
     "user_tz": -540
    },
    "id": "BGSuozoETk3q"
   },
   "outputs": [],
   "source": [
    "DATA_DIR_PATH = os.path.join('..', '..', 'data')\n",
    "\n",
    "def laod_data(file_name):\n",
    "  file_path = os.path.join(DATA_DIR_PATH, file_name)\n",
    "  return pd.read_csv(file_path, header=0)"
   ]
  },
  {
   "cell_type": "code",
   "execution_count": 4,
   "metadata": {
    "colab": {
     "base_uri": "https://localhost:8080/",
     "height": 920
    },
    "colab_type": "code",
    "executionInfo": {
     "elapsed": 554,
     "status": "ok",
     "timestamp": 1593958643511,
     "user": {
      "displayName": "Noboru Koike",
      "photoUrl": "https://lh3.googleusercontent.com/a-/AOh14Ggp8njUb4jc54JrzfM5cQBkfiCdlz6nY17y8-1szg=s64",
      "userId": "05156582812995850159"
     },
     "user_tz": -540
    },
    "id": "gF4_j_jaUYLh",
    "outputId": "c20012b0-886a-4372-9a7c-d573b311fc63"
   },
   "outputs": [
    {
     "name": "stdout",
     "output_type": "stream",
     "text": [
      "199\n"
     ]
    },
    {
     "data": {
      "text/html": [
       "<div>\n",
       "<style scoped>\n",
       "    .dataframe tbody tr th:only-of-type {\n",
       "        vertical-align: middle;\n",
       "    }\n",
       "\n",
       "    .dataframe tbody tr th {\n",
       "        vertical-align: top;\n",
       "    }\n",
       "\n",
       "    .dataframe thead th {\n",
       "        text-align: right;\n",
       "    }\n",
       "</style>\n",
       "<table border=\"1\" class=\"dataframe\">\n",
       "  <thead>\n",
       "    <tr style=\"text-align: right;\">\n",
       "      <th></th>\n",
       "      <th>ncode</th>\n",
       "      <th>title</th>\n",
       "      <th>category</th>\n",
       "      <th>bookmark_cat</th>\n",
       "      <th>created_at</th>\n",
       "      <th>updated_at</th>\n",
       "      <th>sum_char_count</th>\n",
       "      <th>sum_new_line_count</th>\n",
       "      <th>sum_talk_char_count</th>\n",
       "      <th>sum_word_count</th>\n",
       "      <th>...</th>\n",
       "      <th>wc_名詞-引用文字列</th>\n",
       "      <th>wc_名詞-非自立-副詞可能</th>\n",
       "      <th>wc_助詞-終助詞</th>\n",
       "      <th>wc_記号-読点</th>\n",
       "      <th>wc_助詞-格助詞-一般</th>\n",
       "      <th>wc_名詞-副詞可能</th>\n",
       "      <th>wc_記号-一般</th>\n",
       "      <th>wc_名詞-固有名詞-人名-姓</th>\n",
       "      <th>wc_副詞-助詞類接続</th>\n",
       "      <th>rating</th>\n",
       "    </tr>\n",
       "  </thead>\n",
       "  <tbody>\n",
       "    <tr>\n",
       "      <th>0</th>\n",
       "      <td>n4366gd</td>\n",
       "      <td>雷帝の軌跡　～俺だけ使える【雷魔術】で最強の魔術師を目指します～</td>\n",
       "      <td>ハイファンタジー〔ファンタジー〕</td>\n",
       "      <td>1</td>\n",
       "      <td>1.586338e+09</td>\n",
       "      <td>1.593468e+09</td>\n",
       "      <td>92340</td>\n",
       "      <td>3840</td>\n",
       "      <td>28950</td>\n",
       "      <td>992220</td>\n",
       "      <td>...</td>\n",
       "      <td>0</td>\n",
       "      <td>0</td>\n",
       "      <td>0</td>\n",
       "      <td>0</td>\n",
       "      <td>0</td>\n",
       "      <td>0</td>\n",
       "      <td>0</td>\n",
       "      <td>0</td>\n",
       "      <td>0</td>\n",
       "      <td>3.0</td>\n",
       "    </tr>\n",
       "    <tr>\n",
       "      <th>1</th>\n",
       "      <td>n7336gg</td>\n",
       "      <td>星斬りの剣士</td>\n",
       "      <td>ハイファンタジー〔ファンタジー〕</td>\n",
       "      <td>1</td>\n",
       "      <td>1.590714e+09</td>\n",
       "      <td>1.593338e+09</td>\n",
       "      <td>77880</td>\n",
       "      <td>4140</td>\n",
       "      <td>4950</td>\n",
       "      <td>863400</td>\n",
       "      <td>...</td>\n",
       "      <td>0</td>\n",
       "      <td>0</td>\n",
       "      <td>0</td>\n",
       "      <td>0</td>\n",
       "      <td>0</td>\n",
       "      <td>0</td>\n",
       "      <td>0</td>\n",
       "      <td>0</td>\n",
       "      <td>0</td>\n",
       "      <td>4.0</td>\n",
       "    </tr>\n",
       "    <tr>\n",
       "      <th>2</th>\n",
       "      <td>n9677fw</td>\n",
       "      <td>落ちこぼれ国を出る〜実は世界で４人目の付与術師だった件について〜</td>\n",
       "      <td>ハイファンタジー〔ファンタジー〕</td>\n",
       "      <td>1</td>\n",
       "      <td>1.575176e+09</td>\n",
       "      <td>1.593429e+09</td>\n",
       "      <td>59880</td>\n",
       "      <td>3090</td>\n",
       "      <td>10230</td>\n",
       "      <td>628470</td>\n",
       "      <td>...</td>\n",
       "      <td>0</td>\n",
       "      <td>0</td>\n",
       "      <td>0</td>\n",
       "      <td>0</td>\n",
       "      <td>0</td>\n",
       "      <td>0</td>\n",
       "      <td>0</td>\n",
       "      <td>0</td>\n",
       "      <td>0</td>\n",
       "      <td>3.0</td>\n",
       "    </tr>\n",
       "  </tbody>\n",
       "</table>\n",
       "<p>3 rows × 133 columns</p>\n",
       "</div>"
      ],
      "text/plain": [
       "     ncode                             title          category  bookmark_cat  \\\n",
       "0  n4366gd  雷帝の軌跡　～俺だけ使える【雷魔術】で最強の魔術師を目指します～  ハイファンタジー〔ファンタジー〕             1   \n",
       "1  n7336gg                            星斬りの剣士  ハイファンタジー〔ファンタジー〕             1   \n",
       "2  n9677fw  落ちこぼれ国を出る〜実は世界で４人目の付与術師だった件について〜  ハイファンタジー〔ファンタジー〕             1   \n",
       "\n",
       "     created_at    updated_at  sum_char_count  sum_new_line_count  \\\n",
       "0  1.586338e+09  1.593468e+09           92340                3840   \n",
       "1  1.590714e+09  1.593338e+09           77880                4140   \n",
       "2  1.575176e+09  1.593429e+09           59880                3090   \n",
       "\n",
       "   sum_talk_char_count  sum_word_count  ...  wc_名詞-引用文字列  wc_名詞-非自立-副詞可能  \\\n",
       "0                28950          992220  ...            0               0   \n",
       "1                 4950          863400  ...            0               0   \n",
       "2                10230          628470  ...            0               0   \n",
       "\n",
       "   wc_助詞-終助詞  wc_記号-読点  wc_助詞-格助詞-一般  wc_名詞-副詞可能  wc_記号-一般  wc_名詞-固有名詞-人名-姓  \\\n",
       "0          0         0             0           0         0                0   \n",
       "1          0         0             0           0         0                0   \n",
       "2          0         0             0           0         0                0   \n",
       "\n",
       "   wc_副詞-助詞類接続  rating  \n",
       "0            0     3.0  \n",
       "1            0     4.0  \n",
       "2            0     3.0  \n",
       "\n",
       "[3 rows x 133 columns]"
      ]
     },
     "execution_count": 4,
     "metadata": {},
     "output_type": "execute_result"
    }
   ],
   "source": [
    "df_train = laod_data('bookmark_train_data.csv')\n",
    "print(len(df_train))\n",
    "df_train.head(3)"
   ]
  },
  {
   "cell_type": "code",
   "execution_count": 5,
   "metadata": {
    "colab": {
     "base_uri": "https://localhost:8080/",
     "height": 886
    },
    "colab_type": "code",
    "executionInfo": {
     "elapsed": 569,
     "status": "ok",
     "timestamp": 1593958659630,
     "user": {
      "displayName": "Noboru Koike",
      "photoUrl": "https://lh3.googleusercontent.com/a-/AOh14Ggp8njUb4jc54JrzfM5cQBkfiCdlz6nY17y8-1szg=s64",
      "userId": "05156582812995850159"
     },
     "user_tz": -540
    },
    "id": "0anP9otzVHWQ",
    "outputId": "b0a6f02a-d4f8-40ea-ab7e-ab6392fd56ef"
   },
   "outputs": [
    {
     "name": "stdout",
     "output_type": "stream",
     "text": [
      "65\n"
     ]
    },
    {
     "data": {
      "text/html": [
       "<div>\n",
       "<style scoped>\n",
       "    .dataframe tbody tr th:only-of-type {\n",
       "        vertical-align: middle;\n",
       "    }\n",
       "\n",
       "    .dataframe tbody tr th {\n",
       "        vertical-align: top;\n",
       "    }\n",
       "\n",
       "    .dataframe thead th {\n",
       "        text-align: right;\n",
       "    }\n",
       "</style>\n",
       "<table border=\"1\" class=\"dataframe\">\n",
       "  <thead>\n",
       "    <tr style=\"text-align: right;\">\n",
       "      <th></th>\n",
       "      <th>ncode</th>\n",
       "      <th>title</th>\n",
       "      <th>category</th>\n",
       "      <th>bookmark_cat</th>\n",
       "      <th>created_at</th>\n",
       "      <th>updated_at</th>\n",
       "      <th>sum_char_count</th>\n",
       "      <th>sum_new_line_count</th>\n",
       "      <th>sum_talk_char_count</th>\n",
       "      <th>sum_word_count</th>\n",
       "      <th>...</th>\n",
       "      <th>wc_連体詞</th>\n",
       "      <th>wc_助詞-連体化</th>\n",
       "      <th>wc_助詞-格助詞-連語</th>\n",
       "      <th>wc_接頭詞-名詞接続</th>\n",
       "      <th>wc_名詞-固有名詞-人名-姓</th>\n",
       "      <th>wc_名詞-代名詞-一般</th>\n",
       "      <th>wc_名詞-非自立-助動詞語幹</th>\n",
       "      <th>wc_動詞-自立</th>\n",
       "      <th>wc_形容詞-非自立</th>\n",
       "      <th>rating</th>\n",
       "    </tr>\n",
       "  </thead>\n",
       "  <tbody>\n",
       "    <tr>\n",
       "      <th>0</th>\n",
       "      <td>n8642gc</td>\n",
       "      <td>聖貨を集めて、ぶん回せ！</td>\n",
       "      <td>ハイファンタジー〔ファンタジー〕</td>\n",
       "      <td>-1</td>\n",
       "      <td>1.585469e+09</td>\n",
       "      <td>1.593763e+09</td>\n",
       "      <td>37740</td>\n",
       "      <td>2310</td>\n",
       "      <td>0</td>\n",
       "      <td>383130</td>\n",
       "      <td>...</td>\n",
       "      <td>0</td>\n",
       "      <td>0</td>\n",
       "      <td>0</td>\n",
       "      <td>0</td>\n",
       "      <td>0</td>\n",
       "      <td>0</td>\n",
       "      <td>0</td>\n",
       "      <td>0</td>\n",
       "      <td>0</td>\n",
       "      <td>-1</td>\n",
       "    </tr>\n",
       "    <tr>\n",
       "      <th>1</th>\n",
       "      <td>n8693gg</td>\n",
       "      <td>十年目、帰還を諦めた転移者はいまさら主人公になる</td>\n",
       "      <td>ハイファンタジー〔ファンタジー〕</td>\n",
       "      <td>-1</td>\n",
       "      <td>1.591009e+09</td>\n",
       "      <td>1.593774e+09</td>\n",
       "      <td>144330</td>\n",
       "      <td>5760</td>\n",
       "      <td>44100</td>\n",
       "      <td>1561170</td>\n",
       "      <td>...</td>\n",
       "      <td>0</td>\n",
       "      <td>0</td>\n",
       "      <td>0</td>\n",
       "      <td>0</td>\n",
       "      <td>0</td>\n",
       "      <td>0</td>\n",
       "      <td>0</td>\n",
       "      <td>0</td>\n",
       "      <td>0</td>\n",
       "      <td>-1</td>\n",
       "    </tr>\n",
       "    <tr>\n",
       "      <th>2</th>\n",
       "      <td>n4452ge</td>\n",
       "      <td>俺だけレベルが上がる世界で悪徳領主になっていた</td>\n",
       "      <td>ハイファンタジー〔ファンタジー〕</td>\n",
       "      <td>-1</td>\n",
       "      <td>1.587737e+09</td>\n",
       "      <td>1.593006e+09</td>\n",
       "      <td>156720</td>\n",
       "      <td>6210</td>\n",
       "      <td>13290</td>\n",
       "      <td>1636680</td>\n",
       "      <td>...</td>\n",
       "      <td>0</td>\n",
       "      <td>0</td>\n",
       "      <td>0</td>\n",
       "      <td>0</td>\n",
       "      <td>0</td>\n",
       "      <td>0</td>\n",
       "      <td>0</td>\n",
       "      <td>0</td>\n",
       "      <td>0</td>\n",
       "      <td>-1</td>\n",
       "    </tr>\n",
       "  </tbody>\n",
       "</table>\n",
       "<p>3 rows × 132 columns</p>\n",
       "</div>"
      ],
      "text/plain": [
       "     ncode                     title          category  bookmark_cat  \\\n",
       "0  n8642gc              聖貨を集めて、ぶん回せ！  ハイファンタジー〔ファンタジー〕            -1   \n",
       "1  n8693gg  十年目、帰還を諦めた転移者はいまさら主人公になる  ハイファンタジー〔ファンタジー〕            -1   \n",
       "2  n4452ge   俺だけレベルが上がる世界で悪徳領主になっていた  ハイファンタジー〔ファンタジー〕            -1   \n",
       "\n",
       "     created_at    updated_at  sum_char_count  sum_new_line_count  \\\n",
       "0  1.585469e+09  1.593763e+09           37740                2310   \n",
       "1  1.591009e+09  1.593774e+09          144330                5760   \n",
       "2  1.587737e+09  1.593006e+09          156720                6210   \n",
       "\n",
       "   sum_talk_char_count  sum_word_count  ...  wc_連体詞  wc_助詞-連体化  wc_助詞-格助詞-連語  \\\n",
       "0                    0          383130  ...       0          0             0   \n",
       "1                44100         1561170  ...       0          0             0   \n",
       "2                13290         1636680  ...       0          0             0   \n",
       "\n",
       "   wc_接頭詞-名詞接続  wc_名詞-固有名詞-人名-姓  wc_名詞-代名詞-一般  wc_名詞-非自立-助動詞語幹  wc_動詞-自立  \\\n",
       "0            0                0             0                0         0   \n",
       "1            0                0             0                0         0   \n",
       "2            0                0             0                0         0   \n",
       "\n",
       "   wc_形容詞-非自立  rating  \n",
       "0           0      -1  \n",
       "1           0      -1  \n",
       "2           0      -1  \n",
       "\n",
       "[3 rows x 132 columns]"
      ]
     },
     "execution_count": 5,
     "metadata": {},
     "output_type": "execute_result"
    }
   ],
   "source": [
    "df_test = laod_data('ranking_test_data.csv')\n",
    "print(len(df_test))\n",
    "df_test.head(3)"
   ]
  },
  {
   "cell_type": "code",
   "execution_count": 6,
   "metadata": {
    "colab": {},
    "colab_type": "code",
    "executionInfo": {
     "elapsed": 513,
     "status": "ok",
     "timestamp": 1593959332844,
     "user": {
      "displayName": "Noboru Koike",
      "photoUrl": "https://lh3.googleusercontent.com/a-/AOh14Ggp8njUb4jc54JrzfM5cQBkfiCdlz6nY17y8-1szg=s64",
      "userId": "05156582812995850159"
     },
     "user_tz": -540
    },
    "id": "BjRn1voqVOp4"
   },
   "outputs": [],
   "source": [
    "from sklearn.preprocessing import LabelEncoder\n",
    "\n",
    "cat_le = LabelEncoder()\n",
    "cat_le.fit(df_train['category'])\n",
    "\n",
    "\n",
    "def data_preprocess(df):\n",
    "  new_df = df.drop(['ncode', 'title', 'bookmark_cat'], axis=1)\n",
    "\n",
    "  new_df['category'] = cat_le.transform(new_df['category'])\n",
    "\n",
    "  return new_df"
   ]
  },
  {
   "cell_type": "code",
   "execution_count": 7,
   "metadata": {
    "colab": {
     "base_uri": "https://localhost:8080/",
     "height": 336
    },
    "colab_type": "code",
    "executionInfo": {
     "elapsed": 709,
     "status": "ok",
     "timestamp": 1593960991616,
     "user": {
      "displayName": "Noboru Koike",
      "photoUrl": "https://lh3.googleusercontent.com/a-/AOh14Ggp8njUb4jc54JrzfM5cQBkfiCdlz6nY17y8-1szg=s64",
      "userId": "05156582812995850159"
     },
     "user_tz": -540
    },
    "id": "JwrsiCQqYCJm",
    "outputId": "477bad66-9039-4274-ba2e-1119cbe2afc0"
   },
   "outputs": [
    {
     "data": {
      "text/html": [
       "<div>\n",
       "<style scoped>\n",
       "    .dataframe tbody tr th:only-of-type {\n",
       "        vertical-align: middle;\n",
       "    }\n",
       "\n",
       "    .dataframe tbody tr th {\n",
       "        vertical-align: top;\n",
       "    }\n",
       "\n",
       "    .dataframe thead th {\n",
       "        text-align: right;\n",
       "    }\n",
       "</style>\n",
       "<table border=\"1\" class=\"dataframe\">\n",
       "  <thead>\n",
       "    <tr style=\"text-align: right;\">\n",
       "      <th></th>\n",
       "      <th>category</th>\n",
       "      <th>created_at</th>\n",
       "      <th>updated_at</th>\n",
       "      <th>sum_char_count</th>\n",
       "      <th>sum_new_line_count</th>\n",
       "      <th>sum_talk_char_count</th>\n",
       "      <th>sum_word_count</th>\n",
       "      <th>avg_char_count</th>\n",
       "      <th>avg_new_line_count</th>\n",
       "      <th>avg_talk_char_count</th>\n",
       "      <th>...</th>\n",
       "      <th>wc_名詞-引用文字列</th>\n",
       "      <th>wc_名詞-非自立-副詞可能</th>\n",
       "      <th>wc_助詞-終助詞</th>\n",
       "      <th>wc_記号-読点</th>\n",
       "      <th>wc_助詞-格助詞-一般</th>\n",
       "      <th>wc_名詞-副詞可能</th>\n",
       "      <th>wc_記号-一般</th>\n",
       "      <th>wc_名詞-固有名詞-人名-姓</th>\n",
       "      <th>wc_副詞-助詞類接続</th>\n",
       "      <th>rating</th>\n",
       "    </tr>\n",
       "  </thead>\n",
       "  <tbody>\n",
       "    <tr>\n",
       "      <th>0</th>\n",
       "      <td>6</td>\n",
       "      <td>1.586338e+09</td>\n",
       "      <td>1.593468e+09</td>\n",
       "      <td>92340</td>\n",
       "      <td>3840</td>\n",
       "      <td>28950</td>\n",
       "      <td>992220</td>\n",
       "      <td>3078.0</td>\n",
       "      <td>128.0</td>\n",
       "      <td>965.0</td>\n",
       "      <td>...</td>\n",
       "      <td>0</td>\n",
       "      <td>0</td>\n",
       "      <td>0</td>\n",
       "      <td>0</td>\n",
       "      <td>0</td>\n",
       "      <td>0</td>\n",
       "      <td>0</td>\n",
       "      <td>0</td>\n",
       "      <td>0</td>\n",
       "      <td>3.0</td>\n",
       "    </tr>\n",
       "    <tr>\n",
       "      <th>1</th>\n",
       "      <td>6</td>\n",
       "      <td>1.590714e+09</td>\n",
       "      <td>1.593338e+09</td>\n",
       "      <td>77880</td>\n",
       "      <td>4140</td>\n",
       "      <td>4950</td>\n",
       "      <td>863400</td>\n",
       "      <td>2596.0</td>\n",
       "      <td>138.0</td>\n",
       "      <td>165.0</td>\n",
       "      <td>...</td>\n",
       "      <td>0</td>\n",
       "      <td>0</td>\n",
       "      <td>0</td>\n",
       "      <td>0</td>\n",
       "      <td>0</td>\n",
       "      <td>0</td>\n",
       "      <td>0</td>\n",
       "      <td>0</td>\n",
       "      <td>0</td>\n",
       "      <td>4.0</td>\n",
       "    </tr>\n",
       "    <tr>\n",
       "      <th>2</th>\n",
       "      <td>6</td>\n",
       "      <td>1.575176e+09</td>\n",
       "      <td>1.593429e+09</td>\n",
       "      <td>59880</td>\n",
       "      <td>3090</td>\n",
       "      <td>10230</td>\n",
       "      <td>628470</td>\n",
       "      <td>1996.0</td>\n",
       "      <td>103.0</td>\n",
       "      <td>341.0</td>\n",
       "      <td>...</td>\n",
       "      <td>0</td>\n",
       "      <td>0</td>\n",
       "      <td>0</td>\n",
       "      <td>0</td>\n",
       "      <td>0</td>\n",
       "      <td>0</td>\n",
       "      <td>0</td>\n",
       "      <td>0</td>\n",
       "      <td>0</td>\n",
       "      <td>3.0</td>\n",
       "    </tr>\n",
       "  </tbody>\n",
       "</table>\n",
       "<p>3 rows × 130 columns</p>\n",
       "</div>"
      ],
      "text/plain": [
       "   category    created_at    updated_at  sum_char_count  sum_new_line_count  \\\n",
       "0         6  1.586338e+09  1.593468e+09           92340                3840   \n",
       "1         6  1.590714e+09  1.593338e+09           77880                4140   \n",
       "2         6  1.575176e+09  1.593429e+09           59880                3090   \n",
       "\n",
       "   sum_talk_char_count  sum_word_count  avg_char_count  avg_new_line_count  \\\n",
       "0                28950          992220          3078.0               128.0   \n",
       "1                 4950          863400          2596.0               138.0   \n",
       "2                10230          628470          1996.0               103.0   \n",
       "\n",
       "   avg_talk_char_count  ...  wc_名詞-引用文字列  wc_名詞-非自立-副詞可能  wc_助詞-終助詞  wc_記号-読点  \\\n",
       "0                965.0  ...            0               0          0         0   \n",
       "1                165.0  ...            0               0          0         0   \n",
       "2                341.0  ...            0               0          0         0   \n",
       "\n",
       "   wc_助詞-格助詞-一般  wc_名詞-副詞可能  wc_記号-一般  wc_名詞-固有名詞-人名-姓  wc_副詞-助詞類接続  rating  \n",
       "0             0           0         0                0            0     3.0  \n",
       "1             0           0         0                0            0     4.0  \n",
       "2             0           0         0                0            0     3.0  \n",
       "\n",
       "[3 rows x 130 columns]"
      ]
     },
     "execution_count": 7,
     "metadata": {},
     "output_type": "execute_result"
    }
   ],
   "source": [
    "df_train2 = data_preprocess(df_train)\n",
    "df_train2.head(3)"
   ]
  },
  {
   "cell_type": "code",
   "execution_count": 8,
   "metadata": {
    "colab": {
     "base_uri": "https://localhost:8080/",
     "height": 1000
    },
    "colab_type": "code",
    "executionInfo": {
     "elapsed": 563,
     "status": "ok",
     "timestamp": 1593960996284,
     "user": {
      "displayName": "Noboru Koike",
      "photoUrl": "https://lh3.googleusercontent.com/a-/AOh14Ggp8njUb4jc54JrzfM5cQBkfiCdlz6nY17y8-1szg=s64",
      "userId": "05156582812995850159"
     },
     "user_tz": -540
    },
    "id": "kuN9fampYLzA",
    "outputId": "efa85447-76b3-42fe-d12a-4e4379ed25ee"
   },
   "outputs": [
    {
     "name": "stdout",
     "output_type": "stream",
     "text": [
      "(199, 129) (199,)\n",
      "[[6.00000000e+00 1.58633814e+09 1.59346800e+09 9.23400000e+04\n",
      "  3.84000000e+03 2.89500000e+04 9.92220000e+05 3.07800000e+03\n",
      "  1.28000000e+02 9.65000000e+02 3.30740000e+04 0.00000000e+00\n",
      "  0.00000000e+00 0.00000000e+00 0.00000000e+00 0.00000000e+00\n",
      "  0.00000000e+00 0.00000000e+00 0.00000000e+00 0.00000000e+00\n",
      "  0.00000000e+00 0.00000000e+00 0.00000000e+00 0.00000000e+00\n",
      "  0.00000000e+00 0.00000000e+00 0.00000000e+00 0.00000000e+00\n",
      "  0.00000000e+00 0.00000000e+00 0.00000000e+00 0.00000000e+00\n",
      "  0.00000000e+00 0.00000000e+00 0.00000000e+00 0.00000000e+00\n",
      "  0.00000000e+00 0.00000000e+00 0.00000000e+00 0.00000000e+00\n",
      "  0.00000000e+00 0.00000000e+00 0.00000000e+00 0.00000000e+00\n",
      "  0.00000000e+00 0.00000000e+00 0.00000000e+00 0.00000000e+00\n",
      "  0.00000000e+00 0.00000000e+00 0.00000000e+00 0.00000000e+00\n",
      "  0.00000000e+00 0.00000000e+00 0.00000000e+00 0.00000000e+00\n",
      "  0.00000000e+00 0.00000000e+00 0.00000000e+00 0.00000000e+00\n",
      "  0.00000000e+00 0.00000000e+00 0.00000000e+00 0.00000000e+00\n",
      "  0.00000000e+00 0.00000000e+00 0.00000000e+00 0.00000000e+00\n",
      "  0.00000000e+00 0.00000000e+00 0.00000000e+00 0.00000000e+00\n",
      "  0.00000000e+00 0.00000000e+00 0.00000000e+00 0.00000000e+00\n",
      "  0.00000000e+00 0.00000000e+00 0.00000000e+00 0.00000000e+00\n",
      "  0.00000000e+00 0.00000000e+00 0.00000000e+00 0.00000000e+00\n",
      "  0.00000000e+00 0.00000000e+00 0.00000000e+00 0.00000000e+00\n",
      "  0.00000000e+00 0.00000000e+00 0.00000000e+00 0.00000000e+00\n",
      "  0.00000000e+00 0.00000000e+00 0.00000000e+00 0.00000000e+00\n",
      "  0.00000000e+00 0.00000000e+00 0.00000000e+00 0.00000000e+00\n",
      "  0.00000000e+00 0.00000000e+00 0.00000000e+00 0.00000000e+00\n",
      "  0.00000000e+00 0.00000000e+00 0.00000000e+00 0.00000000e+00\n",
      "  0.00000000e+00 0.00000000e+00 0.00000000e+00 0.00000000e+00\n",
      "  0.00000000e+00 0.00000000e+00 0.00000000e+00 0.00000000e+00\n",
      "  0.00000000e+00 0.00000000e+00 0.00000000e+00 0.00000000e+00\n",
      "  0.00000000e+00 0.00000000e+00 0.00000000e+00 0.00000000e+00\n",
      "  0.00000000e+00 0.00000000e+00 0.00000000e+00 0.00000000e+00\n",
      "  0.00000000e+00]\n",
      " [6.00000000e+00 1.59071376e+09 1.59333750e+09 7.78800000e+04\n",
      "  4.14000000e+03 4.95000000e+03 8.63400000e+05 2.59600000e+03\n",
      "  1.38000000e+02 1.65000000e+02 2.87800000e+04 0.00000000e+00\n",
      "  0.00000000e+00 0.00000000e+00 0.00000000e+00 0.00000000e+00\n",
      "  0.00000000e+00 0.00000000e+00 0.00000000e+00 0.00000000e+00\n",
      "  0.00000000e+00 0.00000000e+00 0.00000000e+00 0.00000000e+00\n",
      "  0.00000000e+00 0.00000000e+00 0.00000000e+00 0.00000000e+00\n",
      "  0.00000000e+00 0.00000000e+00 0.00000000e+00 0.00000000e+00\n",
      "  0.00000000e+00 0.00000000e+00 0.00000000e+00 0.00000000e+00\n",
      "  0.00000000e+00 0.00000000e+00 0.00000000e+00 0.00000000e+00\n",
      "  0.00000000e+00 0.00000000e+00 0.00000000e+00 0.00000000e+00\n",
      "  0.00000000e+00 0.00000000e+00 0.00000000e+00 0.00000000e+00\n",
      "  0.00000000e+00 0.00000000e+00 0.00000000e+00 0.00000000e+00\n",
      "  0.00000000e+00 0.00000000e+00 0.00000000e+00 0.00000000e+00\n",
      "  0.00000000e+00 0.00000000e+00 0.00000000e+00 0.00000000e+00\n",
      "  0.00000000e+00 0.00000000e+00 0.00000000e+00 0.00000000e+00\n",
      "  0.00000000e+00 0.00000000e+00 0.00000000e+00 0.00000000e+00\n",
      "  0.00000000e+00 0.00000000e+00 0.00000000e+00 0.00000000e+00\n",
      "  0.00000000e+00 0.00000000e+00 0.00000000e+00 0.00000000e+00\n",
      "  0.00000000e+00 0.00000000e+00 0.00000000e+00 0.00000000e+00\n",
      "  0.00000000e+00 0.00000000e+00 0.00000000e+00 0.00000000e+00\n",
      "  0.00000000e+00 0.00000000e+00 0.00000000e+00 0.00000000e+00\n",
      "  0.00000000e+00 0.00000000e+00 0.00000000e+00 0.00000000e+00\n",
      "  0.00000000e+00 0.00000000e+00 0.00000000e+00 0.00000000e+00\n",
      "  0.00000000e+00 0.00000000e+00 0.00000000e+00 0.00000000e+00\n",
      "  0.00000000e+00 0.00000000e+00 0.00000000e+00 0.00000000e+00\n",
      "  0.00000000e+00 0.00000000e+00 0.00000000e+00 0.00000000e+00\n",
      "  0.00000000e+00 0.00000000e+00 0.00000000e+00 0.00000000e+00\n",
      "  0.00000000e+00 0.00000000e+00 0.00000000e+00 0.00000000e+00\n",
      "  0.00000000e+00 0.00000000e+00 0.00000000e+00 0.00000000e+00\n",
      "  0.00000000e+00 0.00000000e+00 0.00000000e+00 0.00000000e+00\n",
      "  0.00000000e+00 0.00000000e+00 0.00000000e+00 0.00000000e+00\n",
      "  0.00000000e+00]]\n",
      "[3. 4.]\n"
     ]
    }
   ],
   "source": [
    "x = df_train2.drop(['rating'], axis=1).values\n",
    "t = df_train2['rating'].values\n",
    "print(x.shape, t.shape)\n",
    "print(x[:2])\n",
    "print(t[:2])"
   ]
  },
  {
   "cell_type": "code",
   "execution_count": 9,
   "metadata": {
    "colab": {},
    "colab_type": "code",
    "executionInfo": {
     "elapsed": 531,
     "status": "ok",
     "timestamp": 1593960999535,
     "user": {
      "displayName": "Noboru Koike",
      "photoUrl": "https://lh3.googleusercontent.com/a-/AOh14Ggp8njUb4jc54JrzfM5cQBkfiCdlz6nY17y8-1szg=s64",
      "userId": "05156582812995850159"
     },
     "user_tz": -540
    },
    "id": "fFn81gA8Yr6s"
   },
   "outputs": [],
   "source": [
    "from sklearn.model_selection import train_test_split\n",
    "x_train, x_val, t_train, t_val = train_test_split(x, t, test_size=0.3, random_state=1)"
   ]
  },
  {
   "cell_type": "code",
   "execution_count": 10,
   "metadata": {
    "colab": {
     "base_uri": "https://localhost:8080/",
     "height": 33
    },
    "colab_type": "code",
    "executionInfo": {
     "elapsed": 546,
     "status": "ok",
     "timestamp": 1593961001665,
     "user": {
      "displayName": "Noboru Koike",
      "photoUrl": "https://lh3.googleusercontent.com/a-/AOh14Ggp8njUb4jc54JrzfM5cQBkfiCdlz6nY17y8-1szg=s64",
      "userId": "05156582812995850159"
     },
     "user_tz": -540
    },
    "id": "iuyh-lvVY4CR",
    "outputId": "3fd16bb0-0f8b-440a-fc13-d1209853540e"
   },
   "outputs": [
    {
     "data": {
      "text/plain": [
       "LinearRegression()"
      ]
     },
     "execution_count": 10,
     "metadata": {},
     "output_type": "execute_result"
    }
   ],
   "source": [
    "from sklearn.linear_model import LinearRegression\n",
    "model = LinearRegression()\n",
    "model.fit(x_train, t_train)"
   ]
  },
  {
   "cell_type": "code",
   "execution_count": 11,
   "metadata": {
    "colab": {
     "base_uri": "https://localhost:8080/",
     "height": 50
    },
    "colab_type": "code",
    "executionInfo": {
     "elapsed": 538,
     "status": "ok",
     "timestamp": 1593961002708,
     "user": {
      "displayName": "Noboru Koike",
      "photoUrl": "https://lh3.googleusercontent.com/a-/AOh14Ggp8njUb4jc54JrzfM5cQBkfiCdlz6nY17y8-1szg=s64",
      "userId": "05156582812995850159"
     },
     "user_tz": -540
    },
    "id": "Pdb10ISmY7O0",
    "outputId": "85d9d103-edfb-4b14-ba13-ccfa6fcd1f90"
   },
   "outputs": [
    {
     "name": "stdout",
     "output_type": "stream",
     "text": [
      "train :  0.15456401293738875\n",
      "val :  0.12428135806778384\n"
     ]
    }
   ],
   "source": [
    "print('train : ', model.score(x_train, t_train))\n",
    "print('val : ', model.score(x_val, t_val))"
   ]
  },
  {
   "cell_type": "code",
   "execution_count": 12,
   "metadata": {
    "colab": {
     "base_uri": "https://localhost:8080/",
     "height": 50
    },
    "colab_type": "code",
    "executionInfo": {
     "elapsed": 548,
     "status": "ok",
     "timestamp": 1593961004108,
     "user": {
      "displayName": "Noboru Koike",
      "photoUrl": "https://lh3.googleusercontent.com/a-/AOh14Ggp8njUb4jc54JrzfM5cQBkfiCdlz6nY17y8-1szg=s64",
      "userId": "05156582812995850159"
     },
     "user_tz": -540
    },
    "id": "9D4MYOAMY9aa",
    "outputId": "87751577-da48-4d9a-b9b0-01361dea8910"
   },
   "outputs": [
    {
     "name": "stdout",
     "output_type": "stream",
     "text": [
      "2.3358236618452217 1.5\n"
     ]
    },
    {
     "data": {
      "text/plain": [
       "1.2067674734263862"
      ]
     },
     "execution_count": 12,
     "metadata": {},
     "output_type": "execute_result"
    }
   ],
   "source": [
    "y = model.predict(x_val)\n",
    "print(y[0], t_val[0])\n",
    "\n",
    "from sklearn.metrics import mean_absolute_error\n",
    "mean_absolute_error(t_val, y)"
   ]
  },
  {
   "cell_type": "code",
   "execution_count": 13,
   "metadata": {
    "colab": {
     "base_uri": "https://localhost:8080/",
     "height": 200
    },
    "colab_type": "code",
    "executionInfo": {
     "elapsed": 552,
     "status": "ok",
     "timestamp": 1593961005916,
     "user": {
      "displayName": "Noboru Koike",
      "photoUrl": "https://lh3.googleusercontent.com/a-/AOh14Ggp8njUb4jc54JrzfM5cQBkfiCdlz6nY17y8-1szg=s64",
      "userId": "05156582812995850159"
     },
     "user_tz": -540
    },
    "id": "8xPanxOOZNmv",
    "outputId": "676dec8f-b92f-4309-dbbe-8468af54b4d9"
   },
   "outputs": [
    {
     "name": "stdout",
     "output_type": "stream",
     "text": [
      "[1.   1.5  3.5  4.   3.   1.   4.5  1.5  6.   4.5  1.5  1.   1.5  1.5\n",
      " 1.   3.   1.5  0.5  0.5  1.5  5.25 4.5  1.   1.5  3.   4.5  1.5  1.5\n",
      " 4.5  1.   3.5  1.5  1.5  1.5  0.5  1.5  1.5  1.   1.   4.5  3.   1.5\n",
      " 1.   3.   5.25 4.5  1.5  3.   1.   3.   1.5  6.   4.5  3.   0.5  6.\n",
      " 1.5  7.5  4.5  4.5  0.5  1.5  1.5  1.5  6.75 1.   1.5  1.5  4.   4.\n",
      " 6.   1.   1.5  0.5  4.   0.5  2.   1.5  1.5  1.   1.   1.5  1.5  5.25\n",
      " 4.   3.5  1.75 1.   6.   6.   3.5  5.25 1.   4.   4.   1.5  6.   1.5\n",
      " 1.   1.5  4.   0.5  1.   0.5  5.   1.5  0.5  4.   4.5  2.   1.5  4.5\n",
      " 4.   1.5  1.5  5.25 1.5  4.5  6.   1.5  0.5  0.5  1.   1.5  1.   2.\n",
      " 1.75 4.   1.   4.5  1.   0.5  1.5  6.75 1.5  1.5  4.5  1.5  2.  ]\n",
      "7.5 0.5\n"
     ]
    }
   ],
   "source": [
    "print(t_train)\n",
    "print(t_train.max(), t_train.min())"
   ]
  },
  {
   "cell_type": "code",
   "execution_count": 14,
   "metadata": {
    "colab": {
     "base_uri": "https://localhost:8080/",
     "height": 116
    },
    "colab_type": "code",
    "executionInfo": {
     "elapsed": 351,
     "status": "ok",
     "timestamp": 1593961007153,
     "user": {
      "displayName": "Noboru Koike",
      "photoUrl": "https://lh3.googleusercontent.com/a-/AOh14Ggp8njUb4jc54JrzfM5cQBkfiCdlz6nY17y8-1szg=s64",
      "userId": "05156582812995850159"
     },
     "user_tz": -540
    },
    "id": "DXmai3W6Zwc3",
    "outputId": "23ee07c4-f60e-44f7-bc91-f11ce75b4f5c"
   },
   "outputs": [
    {
     "name": "stdout",
     "output_type": "stream",
     "text": [
      "[1.5  3.5  3.   1.   0.5  1.5  1.   3.   2.   1.5  4.5  3.   4.   1.5\n",
      " 1.75 0.5  1.5  2.   1.5  4.5  3.   4.   3.   1.75 3.   1.   2.   2.\n",
      " 1.5  3.   6.   1.   5.25 1.   1.5  0.5  0.5  1.75 5.25 0.5  1.   1.5\n",
      " 4.5  5.   1.5  2.5  7.5  3.   1.5  0.5  1.5  1.   1.5  2.   1.5  1.5\n",
      " 5.25 1.5  1.5  1.5 ]\n",
      "7.5 0.5\n"
     ]
    }
   ],
   "source": [
    "print(t_val)\n",
    "print(t_val.max(), t_val.min())"
   ]
  },
  {
   "cell_type": "code",
   "execution_count": 15,
   "metadata": {
    "colab": {},
    "colab_type": "code",
    "executionInfo": {
     "elapsed": 724,
     "status": "ok",
     "timestamp": 1593961015115,
     "user": {
      "displayName": "Noboru Koike",
      "photoUrl": "https://lh3.googleusercontent.com/a-/AOh14Ggp8njUb4jc54JrzfM5cQBkfiCdlz6nY17y8-1szg=s64",
      "userId": "05156582812995850159"
     },
     "user_tz": -540
    },
    "id": "1AM0bFVqZ68K"
   },
   "outputs": [],
   "source": [
    "from sklearn.preprocessing import StandardScaler\n",
    "\n",
    "scaler = StandardScaler()\n",
    "\n",
    "scaler.fit(x_train)\n",
    "\n",
    "x_train2 = scaler.transform(x_train)\n",
    "x_val2 = scaler.transform(x_val)"
   ]
  },
  {
   "cell_type": "code",
   "execution_count": 16,
   "metadata": {
    "colab": {
     "base_uri": "https://localhost:8080/",
     "height": 1000
    },
    "colab_type": "code",
    "executionInfo": {
     "elapsed": 573,
     "status": "ok",
     "timestamp": 1593961024763,
     "user": {
      "displayName": "Noboru Koike",
      "photoUrl": "https://lh3.googleusercontent.com/a-/AOh14Ggp8njUb4jc54JrzfM5cQBkfiCdlz6nY17y8-1szg=s64",
      "userId": "05156582812995850159"
     },
     "user_tz": -540
    },
    "id": "WUP8KY57eTwW",
    "outputId": "c63870a2-fe49-4a5f-8269-6604b2677625"
   },
   "outputs": [
    {
     "name": "stdout",
     "output_type": "stream",
     "text": [
      "[[-0.08396316 -1.74295385  0.66636228 -0.68338346 -0.53955265 -0.66555785\n",
      "  -0.75084139 -0.68338346 -0.53955265 -0.66555785 -0.75084139  0.\n",
      "   0.          0.          0.          0.          0.          0.\n",
      "   0.          0.          0.          0.          0.          0.\n",
      "   0.          0.          0.          0.          0.          0.\n",
      "   0.          0.          0.          0.          0.          0.\n",
      "   0.          0.          0.          0.          0.          0.\n",
      "   0.          0.          0.          0.          0.          0.\n",
      "   0.          0.          0.          0.          0.          0.\n",
      "   0.          0.          0.          0.          0.          0.\n",
      "   0.          0.          0.          0.          0.          0.\n",
      "   0.          0.          0.          0.          0.          0.\n",
      "   0.          0.          0.          0.          0.          0.\n",
      "   0.          0.          0.          0.          0.          0.\n",
      "   0.          0.          0.          0.          0.          0.\n",
      "   0.          0.          0.          0.          0.          0.\n",
      "   0.          0.          0.          0.          0.          0.\n",
      "   0.          0.          0.          0.          0.          0.\n",
      "   0.          0.          0.          0.          0.          0.\n",
      "   0.          0.          0.          0.          0.          0.\n",
      "   0.          0.          0.          0.          0.          0.\n",
      "   0.          0.          0.        ]\n",
      " [-0.08396316 -1.0916725   0.67495917 -0.20813426 -0.27093582 -0.33722068\n",
      "  -0.20273648 -0.20813426 -0.27093582 -0.33722068 -0.20273648  0.\n",
      "   0.          0.          0.          0.          0.          0.\n",
      "   0.          0.          0.          0.          0.          0.\n",
      "   0.          0.          0.          0.          0.          0.\n",
      "   0.          0.          0.          0.          0.          0.\n",
      "   0.          0.          0.          0.          0.          0.\n",
      "   0.          0.          0.          0.          0.          0.\n",
      "   0.          0.          0.          0.          0.          0.\n",
      "   0.          0.          0.          0.          0.          0.\n",
      "   0.          0.          0.          0.          0.          0.\n",
      "   0.          0.          0.          0.          0.          0.\n",
      "   0.          0.          0.          0.          0.          0.\n",
      "   0.          0.          0.          0.          0.          0.\n",
      "   0.          0.          0.          0.          0.          0.\n",
      "   0.          0.          0.          0.          0.          0.\n",
      "   0.          0.          0.          0.          0.          0.\n",
      "   0.          0.          0.          0.          0.          0.\n",
      "   0.          0.          0.          0.          0.          0.\n",
      "   0.          0.          0.          0.          0.          0.\n",
      "   0.          0.          0.          0.          0.          0.\n",
      "   0.          0.          0.        ]]\n",
      "[[-0.08396316  0.56019732 -0.20454849 -0.2483558   0.01558879 -0.28377045\n",
      "  -0.25486259 -0.2483558   0.01558879 -0.28377045 -0.25486259  0.\n",
      "   0.          0.          0.          0.          0.          0.\n",
      "   0.          0.          0.          0.          0.          0.\n",
      "   0.          0.          0.          0.          0.          0.\n",
      "   0.          0.          0.          0.          0.          0.\n",
      "   0.          0.          0.          0.          0.          0.\n",
      "   0.          0.          0.          0.          0.          0.\n",
      "   0.          0.          0.          0.          0.          0.\n",
      "   0.          0.          0.          0.          0.          0.\n",
      "   0.          0.          0.          0.          0.          0.\n",
      "   0.          0.          0.          0.          0.          0.\n",
      "   0.          0.          0.          0.          0.          0.\n",
      "   0.          0.          0.          0.          0.          0.\n",
      "   0.          0.          0.          0.          0.          0.\n",
      "   0.          0.          0.          0.          0.          0.\n",
      "   0.          0.          0.          0.          0.          0.\n",
      "   0.          0.          0.          0.          0.          0.\n",
      "   0.          0.          0.          0.          0.          0.\n",
      "   0.          0.          0.          0.          0.          0.\n",
      "   0.          0.          0.          0.          0.          0.\n",
      "   0.          0.          0.        ]\n",
      " [-0.08396316  0.42377553  0.42181227 -0.47645424 -0.76041538 -0.66010374\n",
      "  -0.48364241 -0.47645424 -0.76041538 -0.66010374 -0.48364241  0.\n",
      "   0.          0.          0.          0.          0.          0.\n",
      "   0.          0.          0.          0.          0.          0.\n",
      "   0.          0.          0.          0.          0.          0.\n",
      "   0.          0.          0.          0.          0.          0.\n",
      "   0.          0.          0.          0.          0.          0.\n",
      "   0.          0.          0.          0.          0.          0.\n",
      "   0.          0.          0.          0.          0.          0.\n",
      "   0.          0.          0.          0.          0.          0.\n",
      "   0.          0.          0.          0.          0.          0.\n",
      "   0.          0.          0.          0.          0.          0.\n",
      "   0.          0.          0.          0.          0.          0.\n",
      "   0.          0.          0.          0.          0.          0.\n",
      "   0.          0.          0.          0.          0.          0.\n",
      "   0.          0.          0.          0.          0.          0.\n",
      "   0.          0.          0.          0.          0.          0.\n",
      "   0.          0.          0.          0.          0.          0.\n",
      "   0.          0.          0.          0.          0.          0.\n",
      "   0.          0.          0.          0.          0.          0.\n",
      "   0.          0.          0.          0.          0.          0.\n",
      "   0.          0.          0.        ]]\n"
     ]
    }
   ],
   "source": [
    "print(x_train2[:2])\n",
    "print(x_val2[:2])"
   ]
  },
  {
   "cell_type": "code",
   "execution_count": 17,
   "metadata": {
    "colab": {
     "base_uri": "https://localhost:8080/",
     "height": 50
    },
    "colab_type": "code",
    "executionInfo": {
     "elapsed": 567,
     "status": "ok",
     "timestamp": 1593961087307,
     "user": {
      "displayName": "Noboru Koike",
      "photoUrl": "https://lh3.googleusercontent.com/a-/AOh14Ggp8njUb4jc54JrzfM5cQBkfiCdlz6nY17y8-1szg=s64",
      "userId": "05156582812995850159"
     },
     "user_tz": -540
    },
    "id": "ijXGzV4qewpf",
    "outputId": "94149c60-5ddf-4490-8992-e6b4833b8ee2"
   },
   "outputs": [
    {
     "name": "stdout",
     "output_type": "stream",
     "text": [
      "26.125617231127027 1.5\n"
     ]
    },
    {
     "data": {
      "text/plain": [
       "23.839148388394673"
      ]
     },
     "execution_count": 17,
     "metadata": {},
     "output_type": "execute_result"
    }
   ],
   "source": [
    "model2 = LinearRegression()\n",
    "model2.fit(x_train2, t_train)\n",
    "\n",
    "y = model.predict(x_val2)\n",
    "print(y[0], t_val[0])\n",
    "\n",
    "mean_absolute_error(t_val, y)"
   ]
  },
  {
   "cell_type": "code",
   "execution_count": null,
   "metadata": {
    "colab": {},
    "colab_type": "code",
    "id": "R89OYNT0e_7A"
   },
   "outputs": [],
   "source": []
  }
 ],
 "metadata": {
  "colab": {
   "authorship_tag": "ABX9TyOSYrgta3zDagh2fIuHANNt",
   "collapsed_sections": [],
   "mount_file_id": "1cIhMtrnytzJjOpU4FviAbOxMQ4egFdDW",
   "name": "model_1_prepare.ipynb",
   "provenance": []
  },
  "kernelspec": {
   "display_name": "Python 3",
   "language": "python",
   "name": "python3"
  },
  "language_info": {
   "codemirror_mode": {
    "name": "ipython",
    "version": 3
   },
   "file_extension": ".py",
   "mimetype": "text/x-python",
   "name": "python",
   "nbconvert_exporter": "python",
   "pygments_lexer": "ipython3",
   "version": "3.7.3"
  }
 },
 "nbformat": 4,
 "nbformat_minor": 1
}
