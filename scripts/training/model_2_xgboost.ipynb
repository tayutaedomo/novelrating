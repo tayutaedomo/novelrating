{
 "cells": [
  {
   "cell_type": "code",
   "execution_count": 1,
   "metadata": {
    "colab": {},
    "colab_type": "code",
    "executionInfo": {
     "elapsed": 1722,
     "status": "ok",
     "timestamp": 1594730288525,
     "user": {
      "displayName": "Noboru Koike",
      "photoUrl": "https://lh3.googleusercontent.com/a-/AOh14Ggp8njUb4jc54JrzfM5cQBkfiCdlz6nY17y8-1szg=s64",
      "userId": "05156582812995850159"
     },
     "user_tz": -540
    },
    "id": "oRgRzYov47aM"
   },
   "outputs": [],
   "source": [
    "import numpy as np\n",
    "import pandas as pd\n",
    "import matplotlib.pyplot as plt\n",
    "import os"
   ]
  },
  {
   "cell_type": "code",
   "execution_count": 3,
   "metadata": {
    "colab": {},
    "colab_type": "code",
    "executionInfo": {
     "elapsed": 1715,
     "status": "ok",
     "timestamp": 1594730288527,
     "user": {
      "displayName": "Noboru Koike",
      "photoUrl": "https://lh3.googleusercontent.com/a-/AOh14Ggp8njUb4jc54JrzfM5cQBkfiCdlz6nY17y8-1szg=s64",
      "userId": "05156582812995850159"
     },
     "user_tz": -540
    },
    "id": "SIGukkQOVPP9"
   },
   "outputs": [],
   "source": [
    "import xgboost as xgb"
   ]
  },
  {
   "cell_type": "code",
   "execution_count": 4,
   "metadata": {
    "colab": {
     "base_uri": "https://localhost:8080/",
     "height": 34
    },
    "colab_type": "code",
    "executionInfo": {
     "elapsed": 1116,
     "status": "ok",
     "timestamp": 1594730306620,
     "user": {
      "displayName": "Noboru Koike",
      "photoUrl": "https://lh3.googleusercontent.com/a-/AOh14Ggp8njUb4jc54JrzfM5cQBkfiCdlz6nY17y8-1szg=s64",
      "userId": "05156582812995850159"
     },
     "user_tz": -540
    },
    "id": "1RYqNw20VSgQ",
    "outputId": "30f4c55f-50e6-4908-c5b6-186d9399431a"
   },
   "outputs": [
    {
     "data": {
      "text/plain": [
       "'1.1.1'"
      ]
     },
     "execution_count": 4,
     "metadata": {},
     "output_type": "execute_result"
    }
   ],
   "source": [
    "xgb.__version__"
   ]
  },
  {
   "cell_type": "code",
   "execution_count": 5,
   "metadata": {
    "colab": {},
    "colab_type": "code",
    "executionInfo": {
     "elapsed": 568,
     "status": "ok",
     "timestamp": 1594730407388,
     "user": {
      "displayName": "Noboru Koike",
      "photoUrl": "https://lh3.googleusercontent.com/a-/AOh14Ggp8njUb4jc54JrzfM5cQBkfiCdlz6nY17y8-1szg=s64",
      "userId": "05156582812995850159"
     },
     "user_tz": -540
    },
    "id": "BGSuozoETk3q"
   },
   "outputs": [],
   "source": [
    "DATA_DIR_PATH = os.path.join('..', '..', 'data')\n",
    "\n",
    "def laod_data(file_name):\n",
    "  file_path = os.path.join(DATA_DIR_PATH, file_name)\n",
    "  return pd.read_csv(file_path, header=0)"
   ]
  },
  {
   "cell_type": "code",
   "execution_count": 6,
   "metadata": {
    "colab": {
     "base_uri": "https://localhost:8080/",
     "height": 903
    },
    "colab_type": "code",
    "executionInfo": {
     "elapsed": 1575,
     "status": "ok",
     "timestamp": 1594730410377,
     "user": {
      "displayName": "Noboru Koike",
      "photoUrl": "https://lh3.googleusercontent.com/a-/AOh14Ggp8njUb4jc54JrzfM5cQBkfiCdlz6nY17y8-1szg=s64",
      "userId": "05156582812995850159"
     },
     "user_tz": -540
    },
    "id": "gF4_j_jaUYLh",
    "outputId": "a687d088-94ea-4a93-991e-69dc4a9bf2cd"
   },
   "outputs": [
    {
     "name": "stdout",
     "output_type": "stream",
     "text": [
      "199\n"
     ]
    },
    {
     "data": {
      "text/html": [
       "<div>\n",
       "<style scoped>\n",
       "    .dataframe tbody tr th:only-of-type {\n",
       "        vertical-align: middle;\n",
       "    }\n",
       "\n",
       "    .dataframe tbody tr th {\n",
       "        vertical-align: top;\n",
       "    }\n",
       "\n",
       "    .dataframe thead th {\n",
       "        text-align: right;\n",
       "    }\n",
       "</style>\n",
       "<table border=\"1\" class=\"dataframe\">\n",
       "  <thead>\n",
       "    <tr style=\"text-align: right;\">\n",
       "      <th></th>\n",
       "      <th>ncode</th>\n",
       "      <th>title</th>\n",
       "      <th>category</th>\n",
       "      <th>bookmark_cat</th>\n",
       "      <th>created_at</th>\n",
       "      <th>updated_at</th>\n",
       "      <th>sum_char_count</th>\n",
       "      <th>sum_new_line_count</th>\n",
       "      <th>sum_talk_char_count</th>\n",
       "      <th>sum_word_count</th>\n",
       "      <th>...</th>\n",
       "      <th>wc_その他-間投</th>\n",
       "      <th>wc_名詞-固有名詞-人名-名</th>\n",
       "      <th>wc_助動詞</th>\n",
       "      <th>wc_助詞-接続助詞</th>\n",
       "      <th>wc_名詞-代名詞-一般</th>\n",
       "      <th>wc_副詞-一般</th>\n",
       "      <th>wc_名詞-接続詞的</th>\n",
       "      <th>wc_名詞-固有名詞-組織</th>\n",
       "      <th>wc_記号-句点</th>\n",
       "      <th>rating</th>\n",
       "    </tr>\n",
       "  </thead>\n",
       "  <tbody>\n",
       "    <tr>\n",
       "      <th>0</th>\n",
       "      <td>n4366gd</td>\n",
       "      <td>雷帝の軌跡　～俺だけ使える【雷魔術】で最強の魔術師を目指します～</td>\n",
       "      <td>ハイファンタジー〔ファンタジー〕</td>\n",
       "      <td>1</td>\n",
       "      <td>1.586338e+09</td>\n",
       "      <td>1.593468e+09</td>\n",
       "      <td>92340</td>\n",
       "      <td>3840</td>\n",
       "      <td>28950</td>\n",
       "      <td>992220</td>\n",
       "      <td>...</td>\n",
       "      <td>0</td>\n",
       "      <td>30</td>\n",
       "      <td>4680</td>\n",
       "      <td>2250</td>\n",
       "      <td>900</td>\n",
       "      <td>570</td>\n",
       "      <td>0</td>\n",
       "      <td>0</td>\n",
       "      <td>1830</td>\n",
       "      <td>3.0</td>\n",
       "    </tr>\n",
       "    <tr>\n",
       "      <th>1</th>\n",
       "      <td>n7336gg</td>\n",
       "      <td>星斬りの剣士</td>\n",
       "      <td>ハイファンタジー〔ファンタジー〕</td>\n",
       "      <td>1</td>\n",
       "      <td>1.590714e+09</td>\n",
       "      <td>1.593338e+09</td>\n",
       "      <td>77880</td>\n",
       "      <td>4140</td>\n",
       "      <td>4950</td>\n",
       "      <td>863400</td>\n",
       "      <td>...</td>\n",
       "      <td>0</td>\n",
       "      <td>90</td>\n",
       "      <td>4320</td>\n",
       "      <td>1620</td>\n",
       "      <td>1590</td>\n",
       "      <td>390</td>\n",
       "      <td>0</td>\n",
       "      <td>60</td>\n",
       "      <td>2280</td>\n",
       "      <td>4.0</td>\n",
       "    </tr>\n",
       "    <tr>\n",
       "      <th>2</th>\n",
       "      <td>n9677fw</td>\n",
       "      <td>落ちこぼれ国を出る〜実は世界で４人目の付与術師だった件について〜</td>\n",
       "      <td>ハイファンタジー〔ファンタジー〕</td>\n",
       "      <td>1</td>\n",
       "      <td>1.575176e+09</td>\n",
       "      <td>1.593429e+09</td>\n",
       "      <td>59880</td>\n",
       "      <td>3090</td>\n",
       "      <td>10230</td>\n",
       "      <td>628470</td>\n",
       "      <td>...</td>\n",
       "      <td>0</td>\n",
       "      <td>240</td>\n",
       "      <td>2490</td>\n",
       "      <td>1260</td>\n",
       "      <td>450</td>\n",
       "      <td>360</td>\n",
       "      <td>30</td>\n",
       "      <td>0</td>\n",
       "      <td>930</td>\n",
       "      <td>3.0</td>\n",
       "    </tr>\n",
       "  </tbody>\n",
       "</table>\n",
       "<p>3 rows × 133 columns</p>\n",
       "</div>"
      ],
      "text/plain": [
       "     ncode                             title          category  bookmark_cat  \\\n",
       "0  n4366gd  雷帝の軌跡　～俺だけ使える【雷魔術】で最強の魔術師を目指します～  ハイファンタジー〔ファンタジー〕             1   \n",
       "1  n7336gg                            星斬りの剣士  ハイファンタジー〔ファンタジー〕             1   \n",
       "2  n9677fw  落ちこぼれ国を出る〜実は世界で４人目の付与術師だった件について〜  ハイファンタジー〔ファンタジー〕             1   \n",
       "\n",
       "     created_at    updated_at  sum_char_count  sum_new_line_count  \\\n",
       "0  1.586338e+09  1.593468e+09           92340                3840   \n",
       "1  1.590714e+09  1.593338e+09           77880                4140   \n",
       "2  1.575176e+09  1.593429e+09           59880                3090   \n",
       "\n",
       "   sum_talk_char_count  sum_word_count  ...  wc_その他-間投  wc_名詞-固有名詞-人名-名  \\\n",
       "0                28950          992220  ...          0               30   \n",
       "1                 4950          863400  ...          0               90   \n",
       "2                10230          628470  ...          0              240   \n",
       "\n",
       "   wc_助動詞  wc_助詞-接続助詞  wc_名詞-代名詞-一般  wc_副詞-一般  wc_名詞-接続詞的  wc_名詞-固有名詞-組織  \\\n",
       "0    4680        2250           900       570           0              0   \n",
       "1    4320        1620          1590       390           0             60   \n",
       "2    2490        1260           450       360          30              0   \n",
       "\n",
       "   wc_記号-句点  rating  \n",
       "0      1830     3.0  \n",
       "1      2280     4.0  \n",
       "2       930     3.0  \n",
       "\n",
       "[3 rows x 133 columns]"
      ]
     },
     "execution_count": 6,
     "metadata": {},
     "output_type": "execute_result"
    }
   ],
   "source": [
    "df_train = laod_data('bookmark_train_data.csv')\n",
    "print(len(df_train))\n",
    "df_train.head(3)"
   ]
  },
  {
   "cell_type": "code",
   "execution_count": 7,
   "metadata": {
    "colab": {
     "base_uri": "https://localhost:8080/",
     "height": 803
    },
    "colab_type": "code",
    "executionInfo": {
     "elapsed": 1004,
     "status": "ok",
     "timestamp": 1594730422367,
     "user": {
      "displayName": "Noboru Koike",
      "photoUrl": "https://lh3.googleusercontent.com/a-/AOh14Ggp8njUb4jc54JrzfM5cQBkfiCdlz6nY17y8-1szg=s64",
      "userId": "05156582812995850159"
     },
     "user_tz": -540
    },
    "id": "0anP9otzVHWQ",
    "outputId": "debc6268-c78b-4ba7-8af6-e1fb7801a2ad"
   },
   "outputs": [
    {
     "name": "stdout",
     "output_type": "stream",
     "text": [
      "65\n"
     ]
    },
    {
     "data": {
      "text/html": [
       "<div>\n",
       "<style scoped>\n",
       "    .dataframe tbody tr th:only-of-type {\n",
       "        vertical-align: middle;\n",
       "    }\n",
       "\n",
       "    .dataframe tbody tr th {\n",
       "        vertical-align: top;\n",
       "    }\n",
       "\n",
       "    .dataframe thead th {\n",
       "        text-align: right;\n",
       "    }\n",
       "</style>\n",
       "<table border=\"1\" class=\"dataframe\">\n",
       "  <thead>\n",
       "    <tr style=\"text-align: right;\">\n",
       "      <th></th>\n",
       "      <th>ncode</th>\n",
       "      <th>title</th>\n",
       "      <th>category</th>\n",
       "      <th>bookmark_cat</th>\n",
       "      <th>created_at</th>\n",
       "      <th>updated_at</th>\n",
       "      <th>sum_char_count</th>\n",
       "      <th>sum_new_line_count</th>\n",
       "      <th>sum_talk_char_count</th>\n",
       "      <th>sum_word_count</th>\n",
       "      <th>...</th>\n",
       "      <th>wc_動詞-非自立</th>\n",
       "      <th>wc_助詞-並立助詞</th>\n",
       "      <th>wc_接頭詞-数接続</th>\n",
       "      <th>wc_名詞-接続詞的</th>\n",
       "      <th>wc_形容詞-自立</th>\n",
       "      <th>wc_名詞-固有名詞-人名-一般</th>\n",
       "      <th>wc_記号-括弧開</th>\n",
       "      <th>wc_名詞-固有名詞-人名-名</th>\n",
       "      <th>wc_名詞-接尾-形容動詞語幹</th>\n",
       "      <th>rating</th>\n",
       "    </tr>\n",
       "  </thead>\n",
       "  <tbody>\n",
       "    <tr>\n",
       "      <th>0</th>\n",
       "      <td>n8642gc</td>\n",
       "      <td>聖貨を集めて、ぶん回せ！</td>\n",
       "      <td>ハイファンタジー〔ファンタジー〕</td>\n",
       "      <td>-1</td>\n",
       "      <td>1.585469e+09</td>\n",
       "      <td>1.593763e+09</td>\n",
       "      <td>37740</td>\n",
       "      <td>2310</td>\n",
       "      <td>0</td>\n",
       "      <td>383130</td>\n",
       "      <td>...</td>\n",
       "      <td>30</td>\n",
       "      <td>240</td>\n",
       "      <td>0</td>\n",
       "      <td>0</td>\n",
       "      <td>270</td>\n",
       "      <td>30</td>\n",
       "      <td>480</td>\n",
       "      <td>60</td>\n",
       "      <td>0</td>\n",
       "      <td>-1</td>\n",
       "    </tr>\n",
       "    <tr>\n",
       "      <th>1</th>\n",
       "      <td>n8693gg</td>\n",
       "      <td>十年目、帰還を諦めた転移者はいまさら主人公になる</td>\n",
       "      <td>ハイファンタジー〔ファンタジー〕</td>\n",
       "      <td>-1</td>\n",
       "      <td>1.591009e+09</td>\n",
       "      <td>1.593774e+09</td>\n",
       "      <td>144330</td>\n",
       "      <td>5760</td>\n",
       "      <td>44100</td>\n",
       "      <td>1561170</td>\n",
       "      <td>...</td>\n",
       "      <td>1680</td>\n",
       "      <td>60</td>\n",
       "      <td>0</td>\n",
       "      <td>0</td>\n",
       "      <td>1710</td>\n",
       "      <td>0</td>\n",
       "      <td>1800</td>\n",
       "      <td>270</td>\n",
       "      <td>60</td>\n",
       "      <td>-1</td>\n",
       "    </tr>\n",
       "    <tr>\n",
       "      <th>2</th>\n",
       "      <td>n4452ge</td>\n",
       "      <td>俺だけレベルが上がる世界で悪徳領主になっていた</td>\n",
       "      <td>ハイファンタジー〔ファンタジー〕</td>\n",
       "      <td>-1</td>\n",
       "      <td>1.587737e+09</td>\n",
       "      <td>1.593006e+09</td>\n",
       "      <td>156720</td>\n",
       "      <td>6210</td>\n",
       "      <td>13290</td>\n",
       "      <td>1636680</td>\n",
       "      <td>...</td>\n",
       "      <td>1890</td>\n",
       "      <td>180</td>\n",
       "      <td>0</td>\n",
       "      <td>0</td>\n",
       "      <td>930</td>\n",
       "      <td>60</td>\n",
       "      <td>810</td>\n",
       "      <td>0</td>\n",
       "      <td>60</td>\n",
       "      <td>-1</td>\n",
       "    </tr>\n",
       "  </tbody>\n",
       "</table>\n",
       "<p>3 rows × 132 columns</p>\n",
       "</div>"
      ],
      "text/plain": [
       "     ncode                     title          category  bookmark_cat  \\\n",
       "0  n8642gc              聖貨を集めて、ぶん回せ！  ハイファンタジー〔ファンタジー〕            -1   \n",
       "1  n8693gg  十年目、帰還を諦めた転移者はいまさら主人公になる  ハイファンタジー〔ファンタジー〕            -1   \n",
       "2  n4452ge   俺だけレベルが上がる世界で悪徳領主になっていた  ハイファンタジー〔ファンタジー〕            -1   \n",
       "\n",
       "     created_at    updated_at  sum_char_count  sum_new_line_count  \\\n",
       "0  1.585469e+09  1.593763e+09           37740                2310   \n",
       "1  1.591009e+09  1.593774e+09          144330                5760   \n",
       "2  1.587737e+09  1.593006e+09          156720                6210   \n",
       "\n",
       "   sum_talk_char_count  sum_word_count  ...  wc_動詞-非自立  wc_助詞-並立助詞  \\\n",
       "0                    0          383130  ...         30         240   \n",
       "1                44100         1561170  ...       1680          60   \n",
       "2                13290         1636680  ...       1890         180   \n",
       "\n",
       "   wc_接頭詞-数接続  wc_名詞-接続詞的  wc_形容詞-自立  wc_名詞-固有名詞-人名-一般  wc_記号-括弧開  \\\n",
       "0           0           0        270                30        480   \n",
       "1           0           0       1710                 0       1800   \n",
       "2           0           0        930                60        810   \n",
       "\n",
       "   wc_名詞-固有名詞-人名-名  wc_名詞-接尾-形容動詞語幹  rating  \n",
       "0               60                0      -1  \n",
       "1              270               60      -1  \n",
       "2                0               60      -1  \n",
       "\n",
       "[3 rows x 132 columns]"
      ]
     },
     "execution_count": 7,
     "metadata": {},
     "output_type": "execute_result"
    }
   ],
   "source": [
    "df_test = laod_data('ranking_test_data.csv')\n",
    "print(len(df_test))\n",
    "df_test.head(3)"
   ]
  },
  {
   "cell_type": "code",
   "execution_count": 8,
   "metadata": {
    "colab": {},
    "colab_type": "code",
    "executionInfo": {
     "elapsed": 618,
     "status": "ok",
     "timestamp": 1594730713002,
     "user": {
      "displayName": "Noboru Koike",
      "photoUrl": "https://lh3.googleusercontent.com/a-/AOh14Ggp8njUb4jc54JrzfM5cQBkfiCdlz6nY17y8-1szg=s64",
      "userId": "05156582812995850159"
     },
     "user_tz": -540
    },
    "id": "BjRn1voqVOp4"
   },
   "outputs": [],
   "source": [
    "from sklearn.preprocessing import LabelEncoder\n",
    "\n",
    "cat_le = LabelEncoder()\n",
    "cat_le.fit(df_train['category'])\n",
    "\n",
    "\n",
    "def data_preprocess(df):\n",
    "  new_df = df.drop(['ncode', 'title', 'bookmark_cat'], axis=1)\n",
    "\n",
    "  new_df['category'] = cat_le.transform(new_df['category'])\n",
    "\n",
    "  return new_df"
   ]
  },
  {
   "cell_type": "code",
   "execution_count": 9,
   "metadata": {
    "colab": {
     "base_uri": "https://localhost:8080/",
     "height": 320
    },
    "colab_type": "code",
    "executionInfo": {
     "elapsed": 663,
     "status": "ok",
     "timestamp": 1594730714698,
     "user": {
      "displayName": "Noboru Koike",
      "photoUrl": "https://lh3.googleusercontent.com/a-/AOh14Ggp8njUb4jc54JrzfM5cQBkfiCdlz6nY17y8-1szg=s64",
      "userId": "05156582812995850159"
     },
     "user_tz": -540
    },
    "id": "JwrsiCQqYCJm",
    "outputId": "f67f097c-1686-4ce6-ff41-1c09b82d6d08"
   },
   "outputs": [
    {
     "data": {
      "text/html": [
       "<div>\n",
       "<style scoped>\n",
       "    .dataframe tbody tr th:only-of-type {\n",
       "        vertical-align: middle;\n",
       "    }\n",
       "\n",
       "    .dataframe tbody tr th {\n",
       "        vertical-align: top;\n",
       "    }\n",
       "\n",
       "    .dataframe thead th {\n",
       "        text-align: right;\n",
       "    }\n",
       "</style>\n",
       "<table border=\"1\" class=\"dataframe\">\n",
       "  <thead>\n",
       "    <tr style=\"text-align: right;\">\n",
       "      <th></th>\n",
       "      <th>category</th>\n",
       "      <th>created_at</th>\n",
       "      <th>updated_at</th>\n",
       "      <th>sum_char_count</th>\n",
       "      <th>sum_new_line_count</th>\n",
       "      <th>sum_talk_char_count</th>\n",
       "      <th>sum_word_count</th>\n",
       "      <th>avg_char_count</th>\n",
       "      <th>avg_new_line_count</th>\n",
       "      <th>avg_talk_char_count</th>\n",
       "      <th>...</th>\n",
       "      <th>wc_その他-間投</th>\n",
       "      <th>wc_名詞-固有名詞-人名-名</th>\n",
       "      <th>wc_助動詞</th>\n",
       "      <th>wc_助詞-接続助詞</th>\n",
       "      <th>wc_名詞-代名詞-一般</th>\n",
       "      <th>wc_副詞-一般</th>\n",
       "      <th>wc_名詞-接続詞的</th>\n",
       "      <th>wc_名詞-固有名詞-組織</th>\n",
       "      <th>wc_記号-句点</th>\n",
       "      <th>rating</th>\n",
       "    </tr>\n",
       "  </thead>\n",
       "  <tbody>\n",
       "    <tr>\n",
       "      <th>0</th>\n",
       "      <td>6</td>\n",
       "      <td>1.586338e+09</td>\n",
       "      <td>1.593468e+09</td>\n",
       "      <td>92340</td>\n",
       "      <td>3840</td>\n",
       "      <td>28950</td>\n",
       "      <td>992220</td>\n",
       "      <td>3078.0</td>\n",
       "      <td>128.0</td>\n",
       "      <td>965.0</td>\n",
       "      <td>...</td>\n",
       "      <td>0</td>\n",
       "      <td>30</td>\n",
       "      <td>4680</td>\n",
       "      <td>2250</td>\n",
       "      <td>900</td>\n",
       "      <td>570</td>\n",
       "      <td>0</td>\n",
       "      <td>0</td>\n",
       "      <td>1830</td>\n",
       "      <td>3.0</td>\n",
       "    </tr>\n",
       "    <tr>\n",
       "      <th>1</th>\n",
       "      <td>6</td>\n",
       "      <td>1.590714e+09</td>\n",
       "      <td>1.593338e+09</td>\n",
       "      <td>77880</td>\n",
       "      <td>4140</td>\n",
       "      <td>4950</td>\n",
       "      <td>863400</td>\n",
       "      <td>2596.0</td>\n",
       "      <td>138.0</td>\n",
       "      <td>165.0</td>\n",
       "      <td>...</td>\n",
       "      <td>0</td>\n",
       "      <td>90</td>\n",
       "      <td>4320</td>\n",
       "      <td>1620</td>\n",
       "      <td>1590</td>\n",
       "      <td>390</td>\n",
       "      <td>0</td>\n",
       "      <td>60</td>\n",
       "      <td>2280</td>\n",
       "      <td>4.0</td>\n",
       "    </tr>\n",
       "    <tr>\n",
       "      <th>2</th>\n",
       "      <td>6</td>\n",
       "      <td>1.575176e+09</td>\n",
       "      <td>1.593429e+09</td>\n",
       "      <td>59880</td>\n",
       "      <td>3090</td>\n",
       "      <td>10230</td>\n",
       "      <td>628470</td>\n",
       "      <td>1996.0</td>\n",
       "      <td>103.0</td>\n",
       "      <td>341.0</td>\n",
       "      <td>...</td>\n",
       "      <td>0</td>\n",
       "      <td>240</td>\n",
       "      <td>2490</td>\n",
       "      <td>1260</td>\n",
       "      <td>450</td>\n",
       "      <td>360</td>\n",
       "      <td>30</td>\n",
       "      <td>0</td>\n",
       "      <td>930</td>\n",
       "      <td>3.0</td>\n",
       "    </tr>\n",
       "  </tbody>\n",
       "</table>\n",
       "<p>3 rows × 130 columns</p>\n",
       "</div>"
      ],
      "text/plain": [
       "   category    created_at    updated_at  sum_char_count  sum_new_line_count  \\\n",
       "0         6  1.586338e+09  1.593468e+09           92340                3840   \n",
       "1         6  1.590714e+09  1.593338e+09           77880                4140   \n",
       "2         6  1.575176e+09  1.593429e+09           59880                3090   \n",
       "\n",
       "   sum_talk_char_count  sum_word_count  avg_char_count  avg_new_line_count  \\\n",
       "0                28950          992220          3078.0               128.0   \n",
       "1                 4950          863400          2596.0               138.0   \n",
       "2                10230          628470          1996.0               103.0   \n",
       "\n",
       "   avg_talk_char_count  ...  wc_その他-間投  wc_名詞-固有名詞-人名-名  wc_助動詞  wc_助詞-接続助詞  \\\n",
       "0                965.0  ...          0               30    4680        2250   \n",
       "1                165.0  ...          0               90    4320        1620   \n",
       "2                341.0  ...          0              240    2490        1260   \n",
       "\n",
       "   wc_名詞-代名詞-一般  wc_副詞-一般  wc_名詞-接続詞的  wc_名詞-固有名詞-組織  wc_記号-句点  rating  \n",
       "0           900       570           0              0      1830     3.0  \n",
       "1          1590       390           0             60      2280     4.0  \n",
       "2           450       360          30              0       930     3.0  \n",
       "\n",
       "[3 rows x 130 columns]"
      ]
     },
     "execution_count": 9,
     "metadata": {},
     "output_type": "execute_result"
    }
   ],
   "source": [
    "df_train2 = data_preprocess(df_train)\n",
    "df_train2.head(3)"
   ]
  },
  {
   "cell_type": "code",
   "execution_count": 10,
   "metadata": {
    "colab": {
     "base_uri": "https://localhost:8080/",
     "height": 33
    },
    "colab_type": "code",
    "executionInfo": {
     "elapsed": 596,
     "status": "ok",
     "timestamp": 1594731114530,
     "user": {
      "displayName": "Noboru Koike",
      "photoUrl": "https://lh3.googleusercontent.com/a-/AOh14Ggp8njUb4jc54JrzfM5cQBkfiCdlz6nY17y8-1szg=s64",
      "userId": "05156582812995850159"
     },
     "user_tz": -540
    },
    "id": "kuN9fampYLzA",
    "outputId": "8d02c502-b3c6-4339-a8cc-8603b04e1330"
   },
   "outputs": [
    {
     "name": "stdout",
     "output_type": "stream",
     "text": [
      "(199, 129) (199,)\n"
     ]
    }
   ],
   "source": [
    "X = df_train2.drop(['rating'], axis=1).values\n",
    "y = df_train2['rating'].values\n",
    "print(X.shape, y.shape)"
   ]
  },
  {
   "cell_type": "code",
   "execution_count": 11,
   "metadata": {
    "colab": {
     "base_uri": "https://localhost:8080/",
     "height": 150
    },
    "colab_type": "code",
    "executionInfo": {
     "elapsed": 540,
     "status": "ok",
     "timestamp": 1594730878797,
     "user": {
      "displayName": "Noboru Koike",
      "photoUrl": "https://lh3.googleusercontent.com/a-/AOh14Ggp8njUb4jc54JrzfM5cQBkfiCdlz6nY17y8-1szg=s64",
      "userId": "05156582812995850159"
     },
     "user_tz": -540
    },
    "id": "RVFJGk05XPUu",
    "outputId": "53a88aee-6a2e-4bf4-d6e2-f5a18c27fbcc"
   },
   "outputs": [
    {
     "data": {
      "text/plain": [
       "Index(['category', 'created_at', 'updated_at', 'sum_char_count',\n",
       "       'sum_new_line_count', 'sum_talk_char_count', 'sum_word_count',\n",
       "       'avg_char_count', 'avg_new_line_count', 'avg_talk_char_count',\n",
       "       ...\n",
       "       'wc_その他-間投', 'wc_名詞-固有名詞-人名-名', 'wc_助動詞', 'wc_助詞-接続助詞', 'wc_名詞-代名詞-一般',\n",
       "       'wc_副詞-一般', 'wc_名詞-接続詞的', 'wc_名詞-固有名詞-組織', 'wc_記号-句点', 'rating'],\n",
       "      dtype='object', length=130)"
      ]
     },
     "execution_count": 11,
     "metadata": {},
     "output_type": "execute_result"
    }
   ],
   "source": [
    "df_train2.keys()"
   ]
  },
  {
   "cell_type": "code",
   "execution_count": 12,
   "metadata": {
    "colab": {
     "base_uri": "https://localhost:8080/",
     "height": 266
    },
    "colab_type": "code",
    "executionInfo": {
     "elapsed": 544,
     "status": "ok",
     "timestamp": 1594731260039,
     "user": {
      "displayName": "Noboru Koike",
      "photoUrl": "https://lh3.googleusercontent.com/a-/AOh14Ggp8njUb4jc54JrzfM5cQBkfiCdlz6nY17y8-1szg=s64",
      "userId": "05156582812995850159"
     },
     "user_tz": -540
    },
    "id": "LMm0wPh6Y8pK",
    "outputId": "4faef2d3-e401-436d-90c8-33fb5359e6f4"
   },
   "outputs": [
    {
     "name": "stdout",
     "output_type": "stream",
     "text": [
      "[3.   4.   3.   4.   3.   3.   3.   4.   5.   2.   4.   4.   3.   3.\n",
      " 5.   4.   4.   4.   3.   2.5  2.   3.   2.   4.   4.   4.   3.5  3.\n",
      " 2.   2.   4.   3.   4.   2.   3.   2.   3.5  2.   2.   3.   3.5  3.5\n",
      " 3.5  1.   3.   4.5  7.5  6.   1.5  6.   6.   3.   6.   4.5  4.5  3.\n",
      " 4.5  4.5  4.5  5.25 1.5  1.5  4.5  4.5  5.25 4.5  6.   1.5  4.5  4.5\n",
      " 5.25 4.5  4.5  7.5  4.5  4.5  5.25 6.   5.25 6.75 6.   4.5  4.5  6.\n",
      " 5.25 4.5  5.25 6.75 6.   5.25 1.   1.5  0.5  1.75 1.5  1.   1.5  1.5\n",
      " 1.   1.5  1.5  1.   0.5  1.   1.5  1.5  1.5  1.   1.   1.   1.5  1.5\n",
      " 1.   1.5  1.   1.   1.5  0.5  0.5  0.5  0.5  0.5  0.5  0.5  1.   0.5\n",
      " 0.5  0.5  0.5  1.   1.5  1.   1.5  1.5  1.   1.   0.5  1.5  1.   1.\n",
      " 1.5  1.5  1.5  1.   0.5  0.5  1.5  1.75 1.5  1.5  1.   1.   1.5  1.5\n",
      " 1.5  1.   0.5  0.5  1.5  1.5  1.5  1.5  1.75 1.   1.   1.5  1.5  1.5\n",
      " 1.5  1.5  1.5  1.5  1.   1.5  0.5  1.5  1.75 1.5  1.75 1.5  1.5  1.5\n",
      " 1.5  1.5  1.   1.5  1.5  1.5  1.5  1.5  1.5  1.5  1.5  1.5  1.   1.5\n",
      " 1.5  1.   1.5 ]\n"
     ]
    }
   ],
   "source": [
    "print(y)"
   ]
  },
  {
   "cell_type": "code",
   "execution_count": 13,
   "metadata": {
    "colab": {},
    "colab_type": "code",
    "executionInfo": {
     "elapsed": 568,
     "status": "ok",
     "timestamp": 1594731288899,
     "user": {
      "displayName": "Noboru Koike",
      "photoUrl": "https://lh3.googleusercontent.com/a-/AOh14Ggp8njUb4jc54JrzfM5cQBkfiCdlz6nY17y8-1szg=s64",
      "userId": "05156582812995850159"
     },
     "user_tz": -540
    },
    "id": "R89OYNT0e_7A"
   },
   "outputs": [],
   "source": [
    "from sklearn.model_selection import train_test_split\n",
    "\n",
    "X_train, X_test, y_train, y_test = train_test_split(\n",
    "    #X, y, test_size=0.3, shuffle=True, random_state=1, stratify=y)\n",
    "    X, y, test_size=0.3, shuffle=True, random_state=1)"
   ]
  },
  {
   "cell_type": "code",
   "execution_count": 14,
   "metadata": {
    "colab": {
     "base_uri": "https://localhost:8080/",
     "height": 33
    },
    "colab_type": "code",
    "executionInfo": {
     "elapsed": 690,
     "status": "ok",
     "timestamp": 1594731319243,
     "user": {
      "displayName": "Noboru Koike",
      "photoUrl": "https://lh3.googleusercontent.com/a-/AOh14Ggp8njUb4jc54JrzfM5cQBkfiCdlz6nY17y8-1szg=s64",
      "userId": "05156582812995850159"
     },
     "user_tz": -540
    },
    "id": "ozky4y8lYKpL",
    "outputId": "63cf2a41-9158-43e3-fe4d-09224267e58b"
   },
   "outputs": [
    {
     "name": "stdout",
     "output_type": "stream",
     "text": [
      "(139, 129) (139,)\n"
     ]
    }
   ],
   "source": [
    "print(X_train.shape, y_train.shape)"
   ]
  },
  {
   "cell_type": "code",
   "execution_count": 15,
   "metadata": {
    "colab": {},
    "colab_type": "code",
    "executionInfo": {
     "elapsed": 537,
     "status": "ok",
     "timestamp": 1594731369002,
     "user": {
      "displayName": "Noboru Koike",
      "photoUrl": "https://lh3.googleusercontent.com/a-/AOh14Ggp8njUb4jc54JrzfM5cQBkfiCdlz6nY17y8-1szg=s64",
      "userId": "05156582812995850159"
     },
     "user_tz": -540
    },
    "id": "sHtRYWyRZMzU"
   },
   "outputs": [],
   "source": [
    "dtrain = xgb.DMatrix(X_train, label=y_train)\n",
    "dtest = xgb.DMatrix(X_test, label=y_test)"
   ]
  },
  {
   "cell_type": "code",
   "execution_count": 16,
   "metadata": {
    "colab": {
     "base_uri": "https://localhost:8080/",
     "height": 53
    },
    "colab_type": "code",
    "executionInfo": {
     "elapsed": 544,
     "status": "ok",
     "timestamp": 1594731381550,
     "user": {
      "displayName": "Noboru Koike",
      "photoUrl": "https://lh3.googleusercontent.com/a-/AOh14Ggp8njUb4jc54JrzfM5cQBkfiCdlz6nY17y8-1szg=s64",
      "userId": "05156582812995850159"
     },
     "user_tz": -540
    },
    "id": "C48YngjmZY--",
    "outputId": "d47af764-3103-485c-da0e-cba310cd5824"
   },
   "outputs": [
    {
     "name": "stdout",
     "output_type": "stream",
     "text": [
      "['f0', 'f1', 'f2', 'f3', 'f4', 'f5', 'f6', 'f7', 'f8', 'f9', 'f10', 'f11', 'f12', 'f13', 'f14', 'f15', 'f16', 'f17', 'f18', 'f19', 'f20', 'f21', 'f22', 'f23', 'f24', 'f25', 'f26', 'f27', 'f28', 'f29', 'f30', 'f31', 'f32', 'f33', 'f34', 'f35', 'f36', 'f37', 'f38', 'f39', 'f40', 'f41', 'f42', 'f43', 'f44', 'f45', 'f46', 'f47', 'f48', 'f49', 'f50', 'f51', 'f52', 'f53', 'f54', 'f55', 'f56', 'f57', 'f58', 'f59', 'f60', 'f61', 'f62', 'f63', 'f64', 'f65', 'f66', 'f67', 'f68', 'f69', 'f70', 'f71', 'f72', 'f73', 'f74', 'f75', 'f76', 'f77', 'f78', 'f79', 'f80', 'f81', 'f82', 'f83', 'f84', 'f85', 'f86', 'f87', 'f88', 'f89', 'f90', 'f91', 'f92', 'f93', 'f94', 'f95', 'f96', 'f97', 'f98', 'f99', 'f100', 'f101', 'f102', 'f103', 'f104', 'f105', 'f106', 'f107', 'f108', 'f109', 'f110', 'f111', 'f112', 'f113', 'f114', 'f115', 'f116', 'f117', 'f118', 'f119', 'f120', 'f121', 'f122', 'f123', 'f124', 'f125', 'f126', 'f127', 'f128']\n"
     ]
    }
   ],
   "source": [
    "print(dtrain.feature_names)"
   ]
  },
  {
   "cell_type": "code",
   "execution_count": 17,
   "metadata": {
    "colab": {
     "base_uri": "https://localhost:8080/",
     "height": 1000
    },
    "colab_type": "code",
    "executionInfo": {
     "elapsed": 1170,
     "status": "ok",
     "timestamp": 1594731479877,
     "user": {
      "displayName": "Noboru Koike",
      "photoUrl": "https://lh3.googleusercontent.com/a-/AOh14Ggp8njUb4jc54JrzfM5cQBkfiCdlz6nY17y8-1szg=s64",
      "userId": "05156582812995850159"
     },
     "user_tz": -540
    },
    "id": "wTZCJpHVZcDI",
    "outputId": "acb0d448-e4cb-4d52-ac50-d208590bebd1"
   },
   "outputs": [
    {
     "name": "stdout",
     "output_type": "stream",
     "text": [
      "[22:48:50] WARNING: /Users/travis/build/dmlc/xgboost/src/objective/regression_obj.cu:170: reg:linear is now deprecated in favor of reg:squarederror.\n",
      "[0]\ttrain-rmse:2.08594\teval-rmse:2.00663\n",
      "[1]\ttrain-rmse:1.66271\teval-rmse:1.74026\n",
      "[2]\ttrain-rmse:1.26544\teval-rmse:1.72073\n",
      "[3]\ttrain-rmse:1.01768\teval-rmse:1.64864\n",
      "[4]\ttrain-rmse:0.79439\teval-rmse:1.65677\n",
      "[5]\ttrain-rmse:0.62065\teval-rmse:1.60793\n",
      "[6]\ttrain-rmse:0.49115\teval-rmse:1.58451\n",
      "[7]\ttrain-rmse:0.39496\teval-rmse:1.57133\n",
      "[8]\ttrain-rmse:0.33271\teval-rmse:1.56000\n",
      "[9]\ttrain-rmse:0.27344\teval-rmse:1.55686\n",
      "[10]\ttrain-rmse:0.22413\teval-rmse:1.56030\n",
      "[11]\ttrain-rmse:0.19326\teval-rmse:1.57013\n",
      "[12]\ttrain-rmse:0.16189\teval-rmse:1.56432\n",
      "[13]\ttrain-rmse:0.13386\teval-rmse:1.56540\n",
      "[14]\ttrain-rmse:0.11789\teval-rmse:1.56486\n",
      "[15]\ttrain-rmse:0.10465\teval-rmse:1.56622\n",
      "[16]\ttrain-rmse:0.08383\teval-rmse:1.56778\n",
      "[17]\ttrain-rmse:0.07434\teval-rmse:1.56953\n",
      "[18]\ttrain-rmse:0.06615\teval-rmse:1.57235\n",
      "[19]\ttrain-rmse:0.05995\teval-rmse:1.57040\n",
      "[20]\ttrain-rmse:0.04823\teval-rmse:1.57049\n",
      "[21]\ttrain-rmse:0.04075\teval-rmse:1.56966\n",
      "[22]\ttrain-rmse:0.03348\teval-rmse:1.57204\n",
      "[23]\ttrain-rmse:0.02679\teval-rmse:1.57279\n",
      "[24]\ttrain-rmse:0.02357\teval-rmse:1.57296\n",
      "[25]\ttrain-rmse:0.02141\teval-rmse:1.57241\n",
      "[26]\ttrain-rmse:0.01783\teval-rmse:1.57188\n",
      "[27]\ttrain-rmse:0.01465\teval-rmse:1.57124\n",
      "[28]\ttrain-rmse:0.01226\teval-rmse:1.57193\n",
      "[29]\ttrain-rmse:0.00983\teval-rmse:1.57146\n",
      "[30]\ttrain-rmse:0.00816\teval-rmse:1.57129\n",
      "[31]\ttrain-rmse:0.00741\teval-rmse:1.57160\n",
      "[32]\ttrain-rmse:0.00618\teval-rmse:1.57148\n",
      "[33]\ttrain-rmse:0.00510\teval-rmse:1.57181\n",
      "[34]\ttrain-rmse:0.00421\teval-rmse:1.57183\n",
      "[35]\ttrain-rmse:0.00386\teval-rmse:1.57170\n",
      "[36]\ttrain-rmse:0.00327\teval-rmse:1.57180\n",
      "[37]\ttrain-rmse:0.00271\teval-rmse:1.57187\n",
      "[38]\ttrain-rmse:0.00243\teval-rmse:1.57188\n",
      "[39]\ttrain-rmse:0.00209\teval-rmse:1.57183\n",
      "[40]\ttrain-rmse:0.00188\teval-rmse:1.57184\n",
      "[41]\ttrain-rmse:0.00169\teval-rmse:1.57179\n",
      "[42]\ttrain-rmse:0.00143\teval-rmse:1.57183\n",
      "[43]\ttrain-rmse:0.00122\teval-rmse:1.57181\n",
      "[44]\ttrain-rmse:0.00113\teval-rmse:1.57180\n",
      "[45]\ttrain-rmse:0.00097\teval-rmse:1.57182\n",
      "[46]\ttrain-rmse:0.00081\teval-rmse:1.57187\n",
      "[47]\ttrain-rmse:0.00074\teval-rmse:1.57186\n",
      "[48]\ttrain-rmse:0.00065\teval-rmse:1.57187\n",
      "[49]\ttrain-rmse:0.00059\teval-rmse:1.57185\n",
      "[50]\ttrain-rmse:0.00051\teval-rmse:1.57186\n",
      "[51]\ttrain-rmse:0.00051\teval-rmse:1.57186\n",
      "[52]\ttrain-rmse:0.00051\teval-rmse:1.57186\n",
      "[53]\ttrain-rmse:0.00051\teval-rmse:1.57186\n",
      "[54]\ttrain-rmse:0.00051\teval-rmse:1.57186\n",
      "[55]\ttrain-rmse:0.00051\teval-rmse:1.57186\n",
      "[56]\ttrain-rmse:0.00051\teval-rmse:1.57186\n",
      "[57]\ttrain-rmse:0.00051\teval-rmse:1.57186\n",
      "[58]\ttrain-rmse:0.00051\teval-rmse:1.57186\n",
      "[59]\ttrain-rmse:0.00051\teval-rmse:1.57186\n",
      "[60]\ttrain-rmse:0.00051\teval-rmse:1.57186\n",
      "[61]\ttrain-rmse:0.00051\teval-rmse:1.57186\n",
      "[62]\ttrain-rmse:0.00051\teval-rmse:1.57186\n",
      "[63]\ttrain-rmse:0.00051\teval-rmse:1.57186\n",
      "[64]\ttrain-rmse:0.00051\teval-rmse:1.57186\n",
      "[65]\ttrain-rmse:0.00051\teval-rmse:1.57186\n",
      "[66]\ttrain-rmse:0.00051\teval-rmse:1.57186\n",
      "[67]\ttrain-rmse:0.00051\teval-rmse:1.57186\n",
      "[68]\ttrain-rmse:0.00051\teval-rmse:1.57186\n",
      "[69]\ttrain-rmse:0.00051\teval-rmse:1.57186\n",
      "[70]\ttrain-rmse:0.00051\teval-rmse:1.57186\n",
      "[71]\ttrain-rmse:0.00051\teval-rmse:1.57186\n",
      "[72]\ttrain-rmse:0.00051\teval-rmse:1.57186\n",
      "[73]\ttrain-rmse:0.00051\teval-rmse:1.57186\n",
      "[74]\ttrain-rmse:0.00051\teval-rmse:1.57186\n",
      "[75]\ttrain-rmse:0.00051\teval-rmse:1.57186\n",
      "[76]\ttrain-rmse:0.00051\teval-rmse:1.57186\n",
      "[77]\ttrain-rmse:0.00051\teval-rmse:1.57186\n",
      "[78]\ttrain-rmse:0.00051\teval-rmse:1.57186\n",
      "[79]\ttrain-rmse:0.00051\teval-rmse:1.57186\n",
      "[80]\ttrain-rmse:0.00051\teval-rmse:1.57186\n",
      "[81]\ttrain-rmse:0.00051\teval-rmse:1.57186\n",
      "[82]\ttrain-rmse:0.00051\teval-rmse:1.57186\n",
      "[83]\ttrain-rmse:0.00051\teval-rmse:1.57186\n",
      "[84]\ttrain-rmse:0.00051\teval-rmse:1.57186\n",
      "[85]\ttrain-rmse:0.00051\teval-rmse:1.57186\n",
      "[86]\ttrain-rmse:0.00051\teval-rmse:1.57186\n",
      "[87]\ttrain-rmse:0.00051\teval-rmse:1.57186\n",
      "[88]\ttrain-rmse:0.00051\teval-rmse:1.57186\n",
      "[89]\ttrain-rmse:0.00051\teval-rmse:1.57186\n",
      "[90]\ttrain-rmse:0.00051\teval-rmse:1.57186\n",
      "[91]\ttrain-rmse:0.00051\teval-rmse:1.57186\n",
      "[92]\ttrain-rmse:0.00051\teval-rmse:1.57186\n",
      "[93]\ttrain-rmse:0.00051\teval-rmse:1.57186\n",
      "[94]\ttrain-rmse:0.00051\teval-rmse:1.57186\n",
      "[95]\ttrain-rmse:0.00051\teval-rmse:1.57186\n",
      "[96]\ttrain-rmse:0.00051\teval-rmse:1.57186\n",
      "[97]\ttrain-rmse:0.00051\teval-rmse:1.57186\n",
      "[98]\ttrain-rmse:0.00051\teval-rmse:1.57186\n",
      "[99]\ttrain-rmse:0.00051\teval-rmse:1.57186\n",
      "[22:48:50] WARNING: /Users/travis/build/dmlc/xgboost/src/objective/regression_obj.cu:170: reg:linear is now deprecated in favor of reg:squarederror.\n"
     ]
    }
   ],
   "source": [
    "xgb_params = {\n",
    "    'objective': 'reg:linear',\n",
    "    'eval_metric': 'rmse',\n",
    "}\n",
    "\n",
    "evals = [(dtrain, 'train'), (dtest, 'eval')]\n",
    "evals_result = {}\n",
    "\n",
    "bst = xgb.train(xgb_params,\n",
    "                dtrain,\n",
    "                num_boost_round=100,\n",
    "                #early_stopping_rounds=10,\n",
    "                evals=evals,\n",
    "                evals_result=evals_result)"
   ]
  },
  {
   "cell_type": "code",
   "execution_count": 18,
   "metadata": {
    "colab": {
     "base_uri": "https://localhost:8080/",
     "height": 33
    },
    "colab_type": "code",
    "executionInfo": {
     "elapsed": 628,
     "status": "ok",
     "timestamp": 1594731554766,
     "user": {
      "displayName": "Noboru Koike",
      "photoUrl": "https://lh3.googleusercontent.com/a-/AOh14Ggp8njUb4jc54JrzfM5cQBkfiCdlz6nY17y8-1szg=s64",
      "userId": "05156582812995850159"
     },
     "user_tz": -540
    },
    "id": "dSz1D-LCZrPv",
    "outputId": "bc783225-6b03-487b-8f2f-ace095b5fcc1"
   },
   "outputs": [
    {
     "name": "stdout",
     "output_type": "stream",
     "text": [
      "RMSE: 1.5718621793603744\n"
     ]
    }
   ],
   "source": [
    "import math\n",
    "from sklearn.metrics import mean_squared_error\n",
    "\n",
    "y_pred = bst.predict(dtest)\n",
    "mse = mean_squared_error(y_test, y_pred)\n",
    "print('RMSE:', math.sqrt(mse))"
   ]
  },
  {
   "cell_type": "code",
   "execution_count": 19,
   "metadata": {
    "colab": {
     "base_uri": "https://localhost:8080/",
     "height": 278
    },
    "colab_type": "code",
    "executionInfo": {
     "elapsed": 575,
     "status": "ok",
     "timestamp": 1594731583036,
     "user": {
      "displayName": "Noboru Koike",
      "photoUrl": "https://lh3.googleusercontent.com/a-/AOh14Ggp8njUb4jc54JrzfM5cQBkfiCdlz6nY17y8-1szg=s64",
      "userId": "05156582812995850159"
     },
     "user_tz": -540
    },
    "id": "8iERHp62Z9co",
    "outputId": "776f1f47-1def-4cbe-9467-0a359a6c0d06"
   },
   "outputs": [
    {
     "data": {
      "image/png": "[encoded data removed]",
      "text/plain": [
       "<Figure size 432x288 with 1 Axes>"
      ]
     },
     "metadata": {
      "needs_background": "light"
     },
     "output_type": "display_data"
    }
   ],
   "source": [
    "train_metric = evals_result['train']['rmse']\n",
    "plt.plot(train_metric, label='train rmse')\n",
    "\n",
    "eval_metric = evals_result['eval']['rmse']\n",
    "plt.plot(eval_metric, label='eval rmse')\n",
    "\n",
    "plt.grid()\n",
    "plt.legend()\n",
    "plt.xlabel('rounds')\n",
    "plt.ylabel('rmse')\n",
    "plt.show()"
   ]
  },
  {
   "cell_type": "code",
   "execution_count": 20,
   "metadata": {
    "colab": {
     "base_uri": "https://localhost:8080/",
     "height": 294
    },
    "colab_type": "code",
    "executionInfo": {
     "elapsed": 585,
     "status": "ok",
     "timestamp": 1594731753614,
     "user": {
      "displayName": "Noboru Koike",
      "photoUrl": "https://lh3.googleusercontent.com/a-/AOh14Ggp8njUb4jc54JrzfM5cQBkfiCdlz6nY17y8-1szg=s64",
      "userId": "05156582812995850159"
     },
     "user_tz": -540
    },
    "id": "mphD672PaNO2",
    "outputId": "0eb997c4-e6b1-4625-f918-0d41b4698f04"
   },
   "outputs": [
    {
     "data": {
      "image/png": "[encoded data removed]",
      "text/plain": [
       "<Figure size 864x288 with 1 Axes>"
      ]
     },
     "metadata": {
      "needs_background": "light"
     },
     "output_type": "display_data"
    }
   ],
   "source": [
    "_, ax = plt.subplots(figsize=(12, 4))\n",
    "\n",
    "xgb.plot_importance(bst,ax=ax,\n",
    "                    importance_type='gain',\n",
    "                    show_values=False)\n",
    "\n",
    "plt.show()"
   ]
  },
  {
   "cell_type": "code",
   "execution_count": 21,
   "metadata": {
    "colab": {},
    "colab_type": "code",
    "id": "qcfr4LioalN5"
   },
   "outputs": [],
   "source": [
    "#y_pred.shape"
   ]
  },
  {
   "cell_type": "code",
   "execution_count": 22,
   "metadata": {},
   "outputs": [
    {
     "data": {
      "text/html": [
       "<div>\n",
       "<style scoped>\n",
       "    .dataframe tbody tr th:only-of-type {\n",
       "        vertical-align: middle;\n",
       "    }\n",
       "\n",
       "    .dataframe tbody tr th {\n",
       "        vertical-align: top;\n",
       "    }\n",
       "\n",
       "    .dataframe thead th {\n",
       "        text-align: right;\n",
       "    }\n",
       "</style>\n",
       "<table border=\"1\" class=\"dataframe\">\n",
       "  <thead>\n",
       "    <tr style=\"text-align: right;\">\n",
       "      <th></th>\n",
       "      <th>category</th>\n",
       "      <th>created_at</th>\n",
       "      <th>updated_at</th>\n",
       "      <th>sum_char_count</th>\n",
       "      <th>sum_new_line_count</th>\n",
       "      <th>sum_talk_char_count</th>\n",
       "      <th>sum_word_count</th>\n",
       "      <th>avg_char_count</th>\n",
       "      <th>avg_new_line_count</th>\n",
       "      <th>avg_talk_char_count</th>\n",
       "      <th>...</th>\n",
       "      <th>wc_その他-間投</th>\n",
       "      <th>wc_名詞-固有名詞-人名-名</th>\n",
       "      <th>wc_助動詞</th>\n",
       "      <th>wc_助詞-接続助詞</th>\n",
       "      <th>wc_名詞-代名詞-一般</th>\n",
       "      <th>wc_副詞-一般</th>\n",
       "      <th>wc_名詞-接続詞的</th>\n",
       "      <th>wc_名詞-固有名詞-組織</th>\n",
       "      <th>wc_記号-句点</th>\n",
       "      <th>rating</th>\n",
       "    </tr>\n",
       "  </thead>\n",
       "  <tbody>\n",
       "    <tr>\n",
       "      <th>0</th>\n",
       "      <td>6</td>\n",
       "      <td>1.586338e+09</td>\n",
       "      <td>1.593468e+09</td>\n",
       "      <td>92340</td>\n",
       "      <td>3840</td>\n",
       "      <td>28950</td>\n",
       "      <td>992220</td>\n",
       "      <td>3078.0</td>\n",
       "      <td>128.0</td>\n",
       "      <td>965.0</td>\n",
       "      <td>...</td>\n",
       "      <td>0</td>\n",
       "      <td>30</td>\n",
       "      <td>4680</td>\n",
       "      <td>2250</td>\n",
       "      <td>900</td>\n",
       "      <td>570</td>\n",
       "      <td>0</td>\n",
       "      <td>0</td>\n",
       "      <td>1830</td>\n",
       "      <td>3.0</td>\n",
       "    </tr>\n",
       "    <tr>\n",
       "      <th>1</th>\n",
       "      <td>6</td>\n",
       "      <td>1.590714e+09</td>\n",
       "      <td>1.593338e+09</td>\n",
       "      <td>77880</td>\n",
       "      <td>4140</td>\n",
       "      <td>4950</td>\n",
       "      <td>863400</td>\n",
       "      <td>2596.0</td>\n",
       "      <td>138.0</td>\n",
       "      <td>165.0</td>\n",
       "      <td>...</td>\n",
       "      <td>0</td>\n",
       "      <td>90</td>\n",
       "      <td>4320</td>\n",
       "      <td>1620</td>\n",
       "      <td>1590</td>\n",
       "      <td>390</td>\n",
       "      <td>0</td>\n",
       "      <td>60</td>\n",
       "      <td>2280</td>\n",
       "      <td>4.0</td>\n",
       "    </tr>\n",
       "    <tr>\n",
       "      <th>2</th>\n",
       "      <td>6</td>\n",
       "      <td>1.575176e+09</td>\n",
       "      <td>1.593429e+09</td>\n",
       "      <td>59880</td>\n",
       "      <td>3090</td>\n",
       "      <td>10230</td>\n",
       "      <td>628470</td>\n",
       "      <td>1996.0</td>\n",
       "      <td>103.0</td>\n",
       "      <td>341.0</td>\n",
       "      <td>...</td>\n",
       "      <td>0</td>\n",
       "      <td>240</td>\n",
       "      <td>2490</td>\n",
       "      <td>1260</td>\n",
       "      <td>450</td>\n",
       "      <td>360</td>\n",
       "      <td>30</td>\n",
       "      <td>0</td>\n",
       "      <td>930</td>\n",
       "      <td>3.0</td>\n",
       "    </tr>\n",
       "  </tbody>\n",
       "</table>\n",
       "<p>3 rows × 130 columns</p>\n",
       "</div>"
      ],
      "text/plain": [
       "   category    created_at    updated_at  sum_char_count  sum_new_line_count  \\\n",
       "0         6  1.586338e+09  1.593468e+09           92340                3840   \n",
       "1         6  1.590714e+09  1.593338e+09           77880                4140   \n",
       "2         6  1.575176e+09  1.593429e+09           59880                3090   \n",
       "\n",
       "   sum_talk_char_count  sum_word_count  avg_char_count  avg_new_line_count  \\\n",
       "0                28950          992220          3078.0               128.0   \n",
       "1                 4950          863400          2596.0               138.0   \n",
       "2                10230          628470          1996.0               103.0   \n",
       "\n",
       "   avg_talk_char_count  ...  wc_その他-間投  wc_名詞-固有名詞-人名-名  wc_助動詞  wc_助詞-接続助詞  \\\n",
       "0                965.0  ...          0               30    4680        2250   \n",
       "1                165.0  ...          0               90    4320        1620   \n",
       "2                341.0  ...          0              240    2490        1260   \n",
       "\n",
       "   wc_名詞-代名詞-一般  wc_副詞-一般  wc_名詞-接続詞的  wc_名詞-固有名詞-組織  wc_記号-句点  rating  \n",
       "0           900       570           0              0      1830     3.0  \n",
       "1          1590       390           0             60      2280     4.0  \n",
       "2           450       360          30              0       930     3.0  \n",
       "\n",
       "[3 rows x 130 columns]"
      ]
     },
     "execution_count": 22,
     "metadata": {},
     "output_type": "execute_result"
    }
   ],
   "source": [
    "#df_test = laod_data('ranking_test_data.csv')\n",
    "#print(len(df_test))\n",
    "#df_test.head(3)\n",
    "\n",
    "#df_train2 = data_preprocess(df_train)\n",
    "#df_train2.head(3)\n",
    "\n",
    "df_test2 = data_preprocess(df_train)\n",
    "df_test2.head(3)"
   ]
  },
  {
   "cell_type": "code",
   "execution_count": 23,
   "metadata": {},
   "outputs": [],
   "source": [
    "# dtest2 = xgb.DMatrix(df_test2)\n",
    "# dtest2"
   ]
  },
  {
   "cell_type": "code",
   "execution_count": 24,
   "metadata": {
    "scrolled": true
   },
   "outputs": [],
   "source": [
    "#y_pred2 = bst.predict(dtest2)"
   ]
  },
  {
   "cell_type": "code",
   "execution_count": null,
   "metadata": {},
   "outputs": [],
   "source": []
  }
 ],
 "metadata": {
  "colab": {
   "authorship_tag": "ABX9TyNJKqUP19CQOBX92xv+zUYA",
   "collapsed_sections": [],
   "mount_file_id": "1hGfVCEXdPg3Bx7w2FsWb6sMP-uDmj2zF",
   "name": "model_2_xgboost.ipynb",
   "provenance": []
  },
  "kernelspec": {
   "display_name": "Python 3",
   "language": "python",
   "name": "python3"
  },
  "language_info": {
   "codemirror_mode": {
    "name": "ipython",
    "version": 3
   },
   "file_extension": ".py",
   "mimetype": "text/x-python",
   "name": "python",
   "nbconvert_exporter": "python",
   "pygments_lexer": "ipython3",
   "version": "3.7.3"
  }
 },
 "nbformat": 4,
 "nbformat_minor": 1
}
