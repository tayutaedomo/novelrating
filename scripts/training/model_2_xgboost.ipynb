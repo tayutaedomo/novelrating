{
 "cells": [
  {
   "cell_type": "code",
   "execution_count": 1,
   "metadata": {
    "colab": {},
    "colab_type": "code",
    "executionInfo": {
     "elapsed": 1722,
     "status": "ok",
     "timestamp": 1594730288525,
     "user": {
      "displayName": "Noboru Koike",
      "photoUrl": "https://lh3.googleusercontent.com/a-/AOh14Ggp8njUb4jc54JrzfM5cQBkfiCdlz6nY17y8-1szg=s64",
      "userId": "05156582812995850159"
     },
     "user_tz": -540
    },
    "id": "oRgRzYov47aM"
   },
   "outputs": [],
   "source": [
    "import numpy as np\n",
    "import pandas as pd\n",
    "import matplotlib.pyplot as plt\n",
    "import os"
   ]
  },
  {
   "cell_type": "code",
   "execution_count": 2,
   "metadata": {
    "colab": {},
    "colab_type": "code",
    "executionInfo": {
     "elapsed": 1715,
     "status": "ok",
     "timestamp": 1594730288527,
     "user": {
      "displayName": "Noboru Koike",
      "photoUrl": "https://lh3.googleusercontent.com/a-/AOh14Ggp8njUb4jc54JrzfM5cQBkfiCdlz6nY17y8-1szg=s64",
      "userId": "05156582812995850159"
     },
     "user_tz": -540
    },
    "id": "SIGukkQOVPP9"
   },
   "outputs": [],
   "source": [
    "import xgboost as xgb"
   ]
  },
  {
   "cell_type": "code",
   "execution_count": 3,
   "metadata": {
    "colab": {
     "base_uri": "https://localhost:8080/",
     "height": 34
    },
    "colab_type": "code",
    "executionInfo": {
     "elapsed": 1116,
     "status": "ok",
     "timestamp": 1594730306620,
     "user": {
      "displayName": "Noboru Koike",
      "photoUrl": "https://lh3.googleusercontent.com/a-/AOh14Ggp8njUb4jc54JrzfM5cQBkfiCdlz6nY17y8-1szg=s64",
      "userId": "05156582812995850159"
     },
     "user_tz": -540
    },
    "id": "1RYqNw20VSgQ",
    "outputId": "30f4c55f-50e6-4908-c5b6-186d9399431a"
   },
   "outputs": [
    {
     "data": {
      "text/plain": [
       "'1.1.1'"
      ]
     },
     "execution_count": 3,
     "metadata": {},
     "output_type": "execute_result"
    }
   ],
   "source": [
    "xgb.__version__"
   ]
  },
  {
   "cell_type": "code",
   "execution_count": 4,
   "metadata": {
    "colab": {},
    "colab_type": "code",
    "executionInfo": {
     "elapsed": 568,
     "status": "ok",
     "timestamp": 1594730407388,
     "user": {
      "displayName": "Noboru Koike",
      "photoUrl": "https://lh3.googleusercontent.com/a-/AOh14Ggp8njUb4jc54JrzfM5cQBkfiCdlz6nY17y8-1szg=s64",
      "userId": "05156582812995850159"
     },
     "user_tz": -540
    },
    "id": "BGSuozoETk3q"
   },
   "outputs": [],
   "source": [
    "DATA_DIR_PATH = os.path.join('..', '..', 'data')\n",
    "\n",
    "def laod_data(file_name):\n",
    "  file_path = os.path.join(DATA_DIR_PATH, file_name)\n",
    "  return pd.read_csv(file_path, header=0)"
   ]
  },
  {
   "cell_type": "code",
   "execution_count": 5,
   "metadata": {
    "colab": {
     "base_uri": "https://localhost:8080/",
     "height": 903
    },
    "colab_type": "code",
    "executionInfo": {
     "elapsed": 1575,
     "status": "ok",
     "timestamp": 1594730410377,
     "user": {
      "displayName": "Noboru Koike",
      "photoUrl": "https://lh3.googleusercontent.com/a-/AOh14Ggp8njUb4jc54JrzfM5cQBkfiCdlz6nY17y8-1szg=s64",
      "userId": "05156582812995850159"
     },
     "user_tz": -540
    },
    "id": "gF4_j_jaUYLh",
    "outputId": "a687d088-94ea-4a93-991e-69dc4a9bf2cd"
   },
   "outputs": [
    {
     "name": "stdout",
     "output_type": "stream",
     "text": [
      "199\n"
     ]
    },
    {
     "data": {
      "text/html": [
       "<div>\n",
       "<style scoped>\n",
       "    .dataframe tbody tr th:only-of-type {\n",
       "        vertical-align: middle;\n",
       "    }\n",
       "\n",
       "    .dataframe tbody tr th {\n",
       "        vertical-align: top;\n",
       "    }\n",
       "\n",
       "    .dataframe thead th {\n",
       "        text-align: right;\n",
       "    }\n",
       "</style>\n",
       "<table border=\"1\" class=\"dataframe\">\n",
       "  <thead>\n",
       "    <tr style=\"text-align: right;\">\n",
       "      <th></th>\n",
       "      <th>ncode</th>\n",
       "      <th>title</th>\n",
       "      <th>category</th>\n",
       "      <th>bookmark_cat</th>\n",
       "      <th>created_at</th>\n",
       "      <th>updated_at</th>\n",
       "      <th>sum_char_count</th>\n",
       "      <th>sum_new_line_count</th>\n",
       "      <th>sum_talk_char_count</th>\n",
       "      <th>sum_word_count</th>\n",
       "      <th>...</th>\n",
       "      <th>wc_その他-間投</th>\n",
       "      <th>wc_名詞-固有名詞-人名-名</th>\n",
       "      <th>wc_助動詞</th>\n",
       "      <th>wc_助詞-接続助詞</th>\n",
       "      <th>wc_名詞-代名詞-一般</th>\n",
       "      <th>wc_副詞-一般</th>\n",
       "      <th>wc_名詞-接続詞的</th>\n",
       "      <th>wc_名詞-固有名詞-組織</th>\n",
       "      <th>wc_記号-句点</th>\n",
       "      <th>rating</th>\n",
       "    </tr>\n",
       "  </thead>\n",
       "  <tbody>\n",
       "    <tr>\n",
       "      <th>0</th>\n",
       "      <td>n4366gd</td>\n",
       "      <td>雷帝の軌跡　～俺だけ使える【雷魔術】で最強の魔術師を目指します～</td>\n",
       "      <td>ハイファンタジー〔ファンタジー〕</td>\n",
       "      <td>1</td>\n",
       "      <td>1.586338e+09</td>\n",
       "      <td>1.593468e+09</td>\n",
       "      <td>92340</td>\n",
       "      <td>3840</td>\n",
       "      <td>28950</td>\n",
       "      <td>992220</td>\n",
       "      <td>...</td>\n",
       "      <td>0</td>\n",
       "      <td>30</td>\n",
       "      <td>4680</td>\n",
       "      <td>2250</td>\n",
       "      <td>900</td>\n",
       "      <td>570</td>\n",
       "      <td>0</td>\n",
       "      <td>0</td>\n",
       "      <td>1830</td>\n",
       "      <td>3.0</td>\n",
       "    </tr>\n",
       "    <tr>\n",
       "      <th>1</th>\n",
       "      <td>n7336gg</td>\n",
       "      <td>星斬りの剣士</td>\n",
       "      <td>ハイファンタジー〔ファンタジー〕</td>\n",
       "      <td>1</td>\n",
       "      <td>1.590714e+09</td>\n",
       "      <td>1.593338e+09</td>\n",
       "      <td>77880</td>\n",
       "      <td>4140</td>\n",
       "      <td>4950</td>\n",
       "      <td>863400</td>\n",
       "      <td>...</td>\n",
       "      <td>0</td>\n",
       "      <td>90</td>\n",
       "      <td>4320</td>\n",
       "      <td>1620</td>\n",
       "      <td>1590</td>\n",
       "      <td>390</td>\n",
       "      <td>0</td>\n",
       "      <td>60</td>\n",
       "      <td>2280</td>\n",
       "      <td>4.0</td>\n",
       "    </tr>\n",
       "    <tr>\n",
       "      <th>2</th>\n",
       "      <td>n9677fw</td>\n",
       "      <td>落ちこぼれ国を出る〜実は世界で４人目の付与術師だった件について〜</td>\n",
       "      <td>ハイファンタジー〔ファンタジー〕</td>\n",
       "      <td>1</td>\n",
       "      <td>1.575176e+09</td>\n",
       "      <td>1.593429e+09</td>\n",
       "      <td>59880</td>\n",
       "      <td>3090</td>\n",
       "      <td>10230</td>\n",
       "      <td>628470</td>\n",
       "      <td>...</td>\n",
       "      <td>0</td>\n",
       "      <td>240</td>\n",
       "      <td>2490</td>\n",
       "      <td>1260</td>\n",
       "      <td>450</td>\n",
       "      <td>360</td>\n",
       "      <td>30</td>\n",
       "      <td>0</td>\n",
       "      <td>930</td>\n",
       "      <td>3.0</td>\n",
       "    </tr>\n",
       "  </tbody>\n",
       "</table>\n",
       "<p>3 rows × 133 columns</p>\n",
       "</div>"
      ],
      "text/plain": [
       "     ncode                             title          category  bookmark_cat  \\\n",
       "0  n4366gd  雷帝の軌跡　～俺だけ使える【雷魔術】で最強の魔術師を目指します～  ハイファンタジー〔ファンタジー〕             1   \n",
       "1  n7336gg                            星斬りの剣士  ハイファンタジー〔ファンタジー〕             1   \n",
       "2  n9677fw  落ちこぼれ国を出る〜実は世界で４人目の付与術師だった件について〜  ハイファンタジー〔ファンタジー〕             1   \n",
       "\n",
       "     created_at    updated_at  sum_char_count  sum_new_line_count  \\\n",
       "0  1.586338e+09  1.593468e+09           92340                3840   \n",
       "1  1.590714e+09  1.593338e+09           77880                4140   \n",
       "2  1.575176e+09  1.593429e+09           59880                3090   \n",
       "\n",
       "   sum_talk_char_count  sum_word_count  ...  wc_その他-間投  wc_名詞-固有名詞-人名-名  \\\n",
       "0                28950          992220  ...          0               30   \n",
       "1                 4950          863400  ...          0               90   \n",
       "2                10230          628470  ...          0              240   \n",
       "\n",
       "   wc_助動詞  wc_助詞-接続助詞  wc_名詞-代名詞-一般  wc_副詞-一般  wc_名詞-接続詞的  wc_名詞-固有名詞-組織  \\\n",
       "0    4680        2250           900       570           0              0   \n",
       "1    4320        1620          1590       390           0             60   \n",
       "2    2490        1260           450       360          30              0   \n",
       "\n",
       "   wc_記号-句点  rating  \n",
       "0      1830     3.0  \n",
       "1      2280     4.0  \n",
       "2       930     3.0  \n",
       "\n",
       "[3 rows x 133 columns]"
      ]
     },
     "execution_count": 5,
     "metadata": {},
     "output_type": "execute_result"
    }
   ],
   "source": [
    "df_train = laod_data('bookmark_train_data.csv')\n",
    "print(len(df_train))\n",
    "df_train.head(3)"
   ]
  },
  {
   "cell_type": "code",
   "execution_count": 25,
   "metadata": {
    "colab": {
     "base_uri": "https://localhost:8080/",
     "height": 803
    },
    "colab_type": "code",
    "executionInfo": {
     "elapsed": 1004,
     "status": "ok",
     "timestamp": 1594730422367,
     "user": {
      "displayName": "Noboru Koike",
      "photoUrl": "https://lh3.googleusercontent.com/a-/AOh14Ggp8njUb4jc54JrzfM5cQBkfiCdlz6nY17y8-1szg=s64",
      "userId": "05156582812995850159"
     },
     "user_tz": -540
    },
    "id": "0anP9otzVHWQ",
    "outputId": "debc6268-c78b-4ba7-8af6-e1fb7801a2ad"
   },
   "outputs": [],
   "source": [
    "# df_test = laod_data('ranking_test_data.csv')\n",
    "# print(len(df_test))\n",
    "# df_test.head(3)"
   ]
  },
  {
   "cell_type": "code",
   "execution_count": 58,
   "metadata": {
    "colab": {},
    "colab_type": "code",
    "executionInfo": {
     "elapsed": 618,
     "status": "ok",
     "timestamp": 1594730713002,
     "user": {
      "displayName": "Noboru Koike",
      "photoUrl": "https://lh3.googleusercontent.com/a-/AOh14Ggp8njUb4jc54JrzfM5cQBkfiCdlz6nY17y8-1szg=s64",
      "userId": "05156582812995850159"
     },
     "user_tz": -540
    },
    "id": "BjRn1voqVOp4"
   },
   "outputs": [],
   "source": [
    "from sklearn.preprocessing import LabelEncoder\n",
    "\n",
    "cat_le = LabelEncoder()\n",
    "cat_le.fit(df_train['category'])\n",
    "\n",
    "\n",
    "def data_preprocess(df):\n",
    "  new_df = df.drop(['ncode', 'title', 'bookmark_cat'], axis=1)\n",
    "\n",
    "  new_df['category'] = cat_le.transform(new_df['category'])\n",
    "\n",
    "  kw_columns = [col for col in new_df.columns if col.find('kw_') != -1]\n",
    "  new_df = new_df.drop(kw_columns, axis=1)\n",
    "\n",
    "  wc_columns = [col for col in new_df.columns if col.find('wc_') != -1]\n",
    "  new_df = new_df.drop(wc_columns, axis=1)\n",
    "\n",
    "  return new_df"
   ]
  },
  {
   "cell_type": "code",
   "execution_count": 59,
   "metadata": {
    "colab": {
     "base_uri": "https://localhost:8080/",
     "height": 320
    },
    "colab_type": "code",
    "executionInfo": {
     "elapsed": 663,
     "status": "ok",
     "timestamp": 1594730714698,
     "user": {
      "displayName": "Noboru Koike",
      "photoUrl": "https://lh3.googleusercontent.com/a-/AOh14Ggp8njUb4jc54JrzfM5cQBkfiCdlz6nY17y8-1szg=s64",
      "userId": "05156582812995850159"
     },
     "user_tz": -540
    },
    "id": "JwrsiCQqYCJm",
    "outputId": "f67f097c-1686-4ce6-ff41-1c09b82d6d08"
   },
   "outputs": [
    {
     "data": {
      "text/html": [
       "<div>\n",
       "<style scoped>\n",
       "    .dataframe tbody tr th:only-of-type {\n",
       "        vertical-align: middle;\n",
       "    }\n",
       "\n",
       "    .dataframe tbody tr th {\n",
       "        vertical-align: top;\n",
       "    }\n",
       "\n",
       "    .dataframe thead th {\n",
       "        text-align: right;\n",
       "    }\n",
       "</style>\n",
       "<table border=\"1\" class=\"dataframe\">\n",
       "  <thead>\n",
       "    <tr style=\"text-align: right;\">\n",
       "      <th></th>\n",
       "      <th>category</th>\n",
       "      <th>created_at</th>\n",
       "      <th>updated_at</th>\n",
       "      <th>sum_char_count</th>\n",
       "      <th>sum_new_line_count</th>\n",
       "      <th>sum_talk_char_count</th>\n",
       "      <th>sum_word_count</th>\n",
       "      <th>avg_char_count</th>\n",
       "      <th>avg_new_line_count</th>\n",
       "      <th>avg_talk_char_count</th>\n",
       "      <th>avg_word_count</th>\n",
       "      <th>rating</th>\n",
       "    </tr>\n",
       "  </thead>\n",
       "  <tbody>\n",
       "    <tr>\n",
       "      <th>0</th>\n",
       "      <td>6</td>\n",
       "      <td>1.586338e+09</td>\n",
       "      <td>1.593468e+09</td>\n",
       "      <td>92340</td>\n",
       "      <td>3840</td>\n",
       "      <td>28950</td>\n",
       "      <td>992220</td>\n",
       "      <td>3078.0</td>\n",
       "      <td>128.0</td>\n",
       "      <td>965.0</td>\n",
       "      <td>33074.0</td>\n",
       "      <td>3.0</td>\n",
       "    </tr>\n",
       "    <tr>\n",
       "      <th>1</th>\n",
       "      <td>6</td>\n",
       "      <td>1.590714e+09</td>\n",
       "      <td>1.593338e+09</td>\n",
       "      <td>77880</td>\n",
       "      <td>4140</td>\n",
       "      <td>4950</td>\n",
       "      <td>863400</td>\n",
       "      <td>2596.0</td>\n",
       "      <td>138.0</td>\n",
       "      <td>165.0</td>\n",
       "      <td>28780.0</td>\n",
       "      <td>4.0</td>\n",
       "    </tr>\n",
       "    <tr>\n",
       "      <th>2</th>\n",
       "      <td>6</td>\n",
       "      <td>1.575176e+09</td>\n",
       "      <td>1.593429e+09</td>\n",
       "      <td>59880</td>\n",
       "      <td>3090</td>\n",
       "      <td>10230</td>\n",
       "      <td>628470</td>\n",
       "      <td>1996.0</td>\n",
       "      <td>103.0</td>\n",
       "      <td>341.0</td>\n",
       "      <td>20949.0</td>\n",
       "      <td>3.0</td>\n",
       "    </tr>\n",
       "  </tbody>\n",
       "</table>\n",
       "</div>"
      ],
      "text/plain": [
       "   category    created_at    updated_at  sum_char_count  sum_new_line_count  \\\n",
       "0         6  1.586338e+09  1.593468e+09           92340                3840   \n",
       "1         6  1.590714e+09  1.593338e+09           77880                4140   \n",
       "2         6  1.575176e+09  1.593429e+09           59880                3090   \n",
       "\n",
       "   sum_talk_char_count  sum_word_count  avg_char_count  avg_new_line_count  \\\n",
       "0                28950          992220          3078.0               128.0   \n",
       "1                 4950          863400          2596.0               138.0   \n",
       "2                10230          628470          1996.0               103.0   \n",
       "\n",
       "   avg_talk_char_count  avg_word_count  rating  \n",
       "0                965.0         33074.0     3.0  \n",
       "1                165.0         28780.0     4.0  \n",
       "2                341.0         20949.0     3.0  "
      ]
     },
     "execution_count": 59,
     "metadata": {},
     "output_type": "execute_result"
    }
   ],
   "source": [
    "df_train2 = data_preprocess(df_train)\n",
    "df_train2.head(3)"
   ]
  },
  {
   "cell_type": "code",
   "execution_count": 60,
   "metadata": {
    "colab": {
     "base_uri": "https://localhost:8080/",
     "height": 33
    },
    "colab_type": "code",
    "executionInfo": {
     "elapsed": 596,
     "status": "ok",
     "timestamp": 1594731114530,
     "user": {
      "displayName": "Noboru Koike",
      "photoUrl": "https://lh3.googleusercontent.com/a-/AOh14Ggp8njUb4jc54JrzfM5cQBkfiCdlz6nY17y8-1szg=s64",
      "userId": "05156582812995850159"
     },
     "user_tz": -540
    },
    "id": "kuN9fampYLzA",
    "outputId": "8d02c502-b3c6-4339-a8cc-8603b04e1330"
   },
   "outputs": [
    {
     "name": "stdout",
     "output_type": "stream",
     "text": [
      "(199, 11) (199,)\n"
     ]
    }
   ],
   "source": [
    "X = df_train2.drop(['rating'], axis=1).values\n",
    "y = df_train2['rating'].values\n",
    "print(X.shape, y.shape)"
   ]
  },
  {
   "cell_type": "code",
   "execution_count": 61,
   "metadata": {
    "colab": {
     "base_uri": "https://localhost:8080/",
     "height": 150
    },
    "colab_type": "code",
    "executionInfo": {
     "elapsed": 540,
     "status": "ok",
     "timestamp": 1594730878797,
     "user": {
      "displayName": "Noboru Koike",
      "photoUrl": "https://lh3.googleusercontent.com/a-/AOh14Ggp8njUb4jc54JrzfM5cQBkfiCdlz6nY17y8-1szg=s64",
      "userId": "05156582812995850159"
     },
     "user_tz": -540
    },
    "id": "RVFJGk05XPUu",
    "outputId": "53a88aee-6a2e-4bf4-d6e2-f5a18c27fbcc"
   },
   "outputs": [
    {
     "data": {
      "text/plain": [
       "Index(['category', 'created_at', 'updated_at', 'sum_char_count',\n",
       "       'sum_new_line_count', 'sum_talk_char_count', 'sum_word_count',\n",
       "       'avg_char_count', 'avg_new_line_count', 'avg_talk_char_count',\n",
       "       'avg_word_count', 'rating'],\n",
       "      dtype='object')"
      ]
     },
     "execution_count": 61,
     "metadata": {},
     "output_type": "execute_result"
    }
   ],
   "source": [
    "df_train2.keys()"
   ]
  },
  {
   "cell_type": "code",
   "execution_count": 62,
   "metadata": {
    "colab": {
     "base_uri": "https://localhost:8080/",
     "height": 266
    },
    "colab_type": "code",
    "executionInfo": {
     "elapsed": 544,
     "status": "ok",
     "timestamp": 1594731260039,
     "user": {
      "displayName": "Noboru Koike",
      "photoUrl": "https://lh3.googleusercontent.com/a-/AOh14Ggp8njUb4jc54JrzfM5cQBkfiCdlz6nY17y8-1szg=s64",
      "userId": "05156582812995850159"
     },
     "user_tz": -540
    },
    "id": "LMm0wPh6Y8pK",
    "outputId": "4faef2d3-e401-436d-90c8-33fb5359e6f4"
   },
   "outputs": [
    {
     "name": "stdout",
     "output_type": "stream",
     "text": [
      "[3.   4.   3.   4.   3.   3.   3.   4.   5.   2.   4.   4.   3.   3.\n",
      " 5.   4.   4.   4.   3.   2.5  2.   3.   2.   4.   4.   4.   3.5  3.\n",
      " 2.   2.   4.   3.   4.   2.   3.   2.   3.5  2.   2.   3.   3.5  3.5\n",
      " 3.5  1.   3.   4.5  7.5  6.   1.5  6.   6.   3.   6.   4.5  4.5  3.\n",
      " 4.5  4.5  4.5  5.25 1.5  1.5  4.5  4.5  5.25 4.5  6.   1.5  4.5  4.5\n",
      " 5.25 4.5  4.5  7.5  4.5  4.5  5.25 6.   5.25 6.75 6.   4.5  4.5  6.\n",
      " 5.25 4.5  5.25 6.75 6.   5.25 1.   1.5  0.5  1.75 1.5  1.   1.5  1.5\n",
      " 1.   1.5  1.5  1.   0.5  1.   1.5  1.5  1.5  1.   1.   1.   1.5  1.5\n",
      " 1.   1.5  1.   1.   1.5  0.5  0.5  0.5  0.5  0.5  0.5  0.5  1.   0.5\n",
      " 0.5  0.5  0.5  1.   1.5  1.   1.5  1.5  1.   1.   0.5  1.5  1.   1.\n",
      " 1.5  1.5  1.5  1.   0.5  0.5  1.5  1.75 1.5  1.5  1.   1.   1.5  1.5\n",
      " 1.5  1.   0.5  0.5  1.5  1.5  1.5  1.5  1.75 1.   1.   1.5  1.5  1.5\n",
      " 1.5  1.5  1.5  1.5  1.   1.5  0.5  1.5  1.75 1.5  1.75 1.5  1.5  1.5\n",
      " 1.5  1.5  1.   1.5  1.5  1.5  1.5  1.5  1.5  1.5  1.5  1.5  1.   1.5\n",
      " 1.5  1.   1.5 ]\n"
     ]
    }
   ],
   "source": [
    "print(y)"
   ]
  },
  {
   "cell_type": "code",
   "execution_count": 63,
   "metadata": {
    "colab": {},
    "colab_type": "code",
    "executionInfo": {
     "elapsed": 568,
     "status": "ok",
     "timestamp": 1594731288899,
     "user": {
      "displayName": "Noboru Koike",
      "photoUrl": "https://lh3.googleusercontent.com/a-/AOh14Ggp8njUb4jc54JrzfM5cQBkfiCdlz6nY17y8-1szg=s64",
      "userId": "05156582812995850159"
     },
     "user_tz": -540
    },
    "id": "R89OYNT0e_7A"
   },
   "outputs": [],
   "source": [
    "from sklearn.model_selection import train_test_split\n",
    "\n",
    "#X_train, X_test, y_train, y_test = train_test_split(\n",
    "X_train, X_val, y_train, y_val = train_test_split(\n",
    "    #X, y, test_size=0.3, shuffle=True, random_state=1, stratify=y)\n",
    "    X, y, test_size=0.3, shuffle=True, random_state=1)"
   ]
  },
  {
   "cell_type": "code",
   "execution_count": 64,
   "metadata": {
    "colab": {
     "base_uri": "https://localhost:8080/",
     "height": 33
    },
    "colab_type": "code",
    "executionInfo": {
     "elapsed": 690,
     "status": "ok",
     "timestamp": 1594731319243,
     "user": {
      "displayName": "Noboru Koike",
      "photoUrl": "https://lh3.googleusercontent.com/a-/AOh14Ggp8njUb4jc54JrzfM5cQBkfiCdlz6nY17y8-1szg=s64",
      "userId": "05156582812995850159"
     },
     "user_tz": -540
    },
    "id": "ozky4y8lYKpL",
    "outputId": "63cf2a41-9158-43e3-fe4d-09224267e58b"
   },
   "outputs": [
    {
     "name": "stdout",
     "output_type": "stream",
     "text": [
      "(139, 11) (139,)\n"
     ]
    }
   ],
   "source": [
    "print(X_train.shape, y_train.shape)"
   ]
  },
  {
   "cell_type": "code",
   "execution_count": 65,
   "metadata": {
    "colab": {},
    "colab_type": "code",
    "executionInfo": {
     "elapsed": 537,
     "status": "ok",
     "timestamp": 1594731369002,
     "user": {
      "displayName": "Noboru Koike",
      "photoUrl": "https://lh3.googleusercontent.com/a-/AOh14Ggp8njUb4jc54JrzfM5cQBkfiCdlz6nY17y8-1szg=s64",
      "userId": "05156582812995850159"
     },
     "user_tz": -540
    },
    "id": "sHtRYWyRZMzU"
   },
   "outputs": [],
   "source": [
    "dtrain = xgb.DMatrix(X_train, label=y_train)\n",
    "dval = xgb.DMatrix(X_val, label=y_val)"
   ]
  },
  {
   "cell_type": "code",
   "execution_count": 66,
   "metadata": {
    "colab": {
     "base_uri": "https://localhost:8080/",
     "height": 53
    },
    "colab_type": "code",
    "executionInfo": {
     "elapsed": 544,
     "status": "ok",
     "timestamp": 1594731381550,
     "user": {
      "displayName": "Noboru Koike",
      "photoUrl": "https://lh3.googleusercontent.com/a-/AOh14Ggp8njUb4jc54JrzfM5cQBkfiCdlz6nY17y8-1szg=s64",
      "userId": "05156582812995850159"
     },
     "user_tz": -540
    },
    "id": "C48YngjmZY--",
    "outputId": "d47af764-3103-485c-da0e-cba310cd5824"
   },
   "outputs": [
    {
     "name": "stdout",
     "output_type": "stream",
     "text": [
      "['f0', 'f1', 'f2', 'f3', 'f4', 'f5', 'f6', 'f7', 'f8', 'f9', 'f10']\n"
     ]
    }
   ],
   "source": [
    "print(dtrain.feature_names)"
   ]
  },
  {
   "cell_type": "code",
   "execution_count": 67,
   "metadata": {
    "colab": {
     "base_uri": "https://localhost:8080/",
     "height": 1000
    },
    "colab_type": "code",
    "executionInfo": {
     "elapsed": 1170,
     "status": "ok",
     "timestamp": 1594731479877,
     "user": {
      "displayName": "Noboru Koike",
      "photoUrl": "https://lh3.googleusercontent.com/a-/AOh14Ggp8njUb4jc54JrzfM5cQBkfiCdlz6nY17y8-1szg=s64",
      "userId": "05156582812995850159"
     },
     "user_tz": -540
    },
    "id": "wTZCJpHVZcDI",
    "outputId": "acb0d448-e4cb-4d52-ac50-d208590bebd1"
   },
   "outputs": [
    {
     "name": "stdout",
     "output_type": "stream",
     "text": [
      "[22:13:09] WARNING: /Users/travis/build/dmlc/xgboost/src/objective/regression_obj.cu:170: reg:linear is now deprecated in favor of reg:squarederror.\n",
      "[0]\ttrain-rmse:2.16875\teval-rmse:1.94481\n",
      "Multiple eval metrics have been passed: 'eval-rmse' will be used for early stopping.\n",
      "\n",
      "Will train until eval-rmse hasn't improved in 20 rounds.\n",
      "[1]\ttrain-rmse:1.78508\teval-rmse:1.65090\n",
      "[2]\ttrain-rmse:1.40149\teval-rmse:1.59658\n",
      "[3]\ttrain-rmse:1.17607\teval-rmse:1.52296\n",
      "[4]\ttrain-rmse:1.00594\teval-rmse:1.50894\n",
      "[5]\ttrain-rmse:0.82590\teval-rmse:1.49901\n",
      "[6]\ttrain-rmse:0.70681\teval-rmse:1.51065\n",
      "[7]\ttrain-rmse:0.62564\teval-rmse:1.53123\n",
      "[8]\ttrain-rmse:0.53830\teval-rmse:1.53914\n",
      "[9]\ttrain-rmse:0.48543\teval-rmse:1.55377\n",
      "[10]\ttrain-rmse:0.46219\teval-rmse:1.55478\n",
      "[11]\ttrain-rmse:0.40642\teval-rmse:1.56254\n",
      "[12]\ttrain-rmse:0.36596\teval-rmse:1.56237\n",
      "[13]\ttrain-rmse:0.34671\teval-rmse:1.56527\n",
      "[14]\ttrain-rmse:0.31414\teval-rmse:1.57094\n",
      "[15]\ttrain-rmse:0.29483\teval-rmse:1.57170\n",
      "[16]\ttrain-rmse:0.26315\teval-rmse:1.56873\n",
      "[17]\ttrain-rmse:0.25141\teval-rmse:1.57555\n",
      "[18]\ttrain-rmse:0.24065\teval-rmse:1.57426\n",
      "[19]\ttrain-rmse:0.22738\teval-rmse:1.58086\n",
      "[20]\ttrain-rmse:0.21679\teval-rmse:1.57539\n",
      "[21]\ttrain-rmse:0.20433\teval-rmse:1.57933\n",
      "[22]\ttrain-rmse:0.18325\teval-rmse:1.57968\n",
      "[23]\ttrain-rmse:0.16417\teval-rmse:1.58482\n",
      "[24]\ttrain-rmse:0.14454\teval-rmse:1.58829\n",
      "[25]\ttrain-rmse:0.13471\teval-rmse:1.58845\n",
      "Stopping. Best iteration:\n",
      "[5]\ttrain-rmse:0.82590\teval-rmse:1.49901\n",
      "\n",
      "[22:13:09] WARNING: /Users/travis/build/dmlc/xgboost/src/objective/regression_obj.cu:170: reg:linear is now deprecated in favor of reg:squarederror.\n"
     ]
    }
   ],
   "source": [
    "xgb_params = {\n",
    "    'objective': 'reg:linear',\n",
    "    'eval_metric': 'rmse',\n",
    "}\n",
    "\n",
    "evals = [(dtrain, 'train'), (dval, 'eval')]\n",
    "evals_result = {}\n",
    "\n",
    "bst = xgb.train(xgb_params,\n",
    "                dtrain,\n",
    "                num_boost_round=100,\n",
    "                early_stopping_rounds=20,\n",
    "                evals=evals,\n",
    "                evals_result=evals_result)"
   ]
  },
  {
   "cell_type": "code",
   "execution_count": 68,
   "metadata": {
    "colab": {
     "base_uri": "https://localhost:8080/",
     "height": 33
    },
    "colab_type": "code",
    "executionInfo": {
     "elapsed": 628,
     "status": "ok",
     "timestamp": 1594731554766,
     "user": {
      "displayName": "Noboru Koike",
      "photoUrl": "https://lh3.googleusercontent.com/a-/AOh14Ggp8njUb4jc54JrzfM5cQBkfiCdlz6nY17y8-1szg=s64",
      "userId": "05156582812995850159"
     },
     "user_tz": -540
    },
    "id": "dSz1D-LCZrPv",
    "outputId": "bc783225-6b03-487b-8f2f-ace095b5fcc1"
   },
   "outputs": [
    {
     "name": "stdout",
     "output_type": "stream",
     "text": [
      "RMSE: 1.5884454369508634\n"
     ]
    }
   ],
   "source": [
    "import math\n",
    "from sklearn.metrics import mean_squared_error\n",
    "\n",
    "y_pred = bst.predict(dval)\n",
    "mse = mean_squared_error(y_val, y_pred)\n",
    "print('RMSE:', math.sqrt(mse))"
   ]
  },
  {
   "cell_type": "code",
   "execution_count": 69,
   "metadata": {
    "colab": {
     "base_uri": "https://localhost:8080/",
     "height": 278
    },
    "colab_type": "code",
    "executionInfo": {
     "elapsed": 575,
     "status": "ok",
     "timestamp": 1594731583036,
     "user": {
      "displayName": "Noboru Koike",
      "photoUrl": "https://lh3.googleusercontent.com/a-/AOh14Ggp8njUb4jc54JrzfM5cQBkfiCdlz6nY17y8-1szg=s64",
      "userId": "05156582812995850159"
     },
     "user_tz": -540
    },
    "id": "8iERHp62Z9co",
    "outputId": "776f1f47-1def-4cbe-9467-0a359a6c0d06"
   },
   "outputs": [
    {
     "data": {
      "image/png": "[encoded data removed]",
      "text/plain": [
       "<Figure size 432x288 with 1 Axes>"
      ]
     },
     "metadata": {
      "needs_background": "light"
     },
     "output_type": "display_data"
    }
   ],
   "source": [
    "train_metric = evals_result['train']['rmse']\n",
    "plt.plot(train_metric, label='train rmse')\n",
    "\n",
    "eval_metric = evals_result['eval']['rmse']\n",
    "plt.plot(eval_metric, label='eval rmse')\n",
    "\n",
    "plt.grid()\n",
    "plt.legend()\n",
    "plt.xlabel('rounds')\n",
    "plt.ylabel('rmse')\n",
    "plt.show()"
   ]
  },
  {
   "cell_type": "code",
   "execution_count": 70,
   "metadata": {
    "colab": {
     "base_uri": "https://localhost:8080/",
     "height": 294
    },
    "colab_type": "code",
    "executionInfo": {
     "elapsed": 585,
     "status": "ok",
     "timestamp": 1594731753614,
     "user": {
      "displayName": "Noboru Koike",
      "photoUrl": "https://lh3.googleusercontent.com/a-/AOh14Ggp8njUb4jc54JrzfM5cQBkfiCdlz6nY17y8-1szg=s64",
      "userId": "05156582812995850159"
     },
     "user_tz": -540
    },
    "id": "mphD672PaNO2",
    "outputId": "0eb997c4-e6b1-4625-f918-0d41b4698f04"
   },
   "outputs": [
    {
     "data": {
      "image/png": "[encoded data removed]",
      "text/plain": [
       "<Figure size 864x288 with 1 Axes>"
      ]
     },
     "metadata": {
      "needs_background": "light"
     },
     "output_type": "display_data"
    }
   ],
   "source": [
    "_, ax = plt.subplots(figsize=(12, 4))\n",
    "\n",
    "xgb.plot_importance(bst,ax=ax,\n",
    "                    importance_type='gain',\n",
    "                    show_values=False)\n",
    "\n",
    "plt.show()"
   ]
  },
  {
   "cell_type": "code",
   "execution_count": 86,
   "metadata": {},
   "outputs": [
    {
     "name": "stdout",
     "output_type": "stream",
     "text": [
      "{'f0': 'category', 'f1': 'created_at', 'f2': 'updated_at', 'f3': 'sum_char_count', 'f4': 'sum_new_line_count', 'f5': 'sum_talk_char_count', 'f6': 'sum_word_count', 'f7': 'avg_char_count', 'f8': 'avg_new_line_count', 'f9': 'avg_talk_char_count', 'f10': 'avg_word_count', 'f11': 'rating'}\n",
      "{'updated_at': 94, 'created_at': 182, 'category': 55, 'sum_word_count': 39, 'sum_new_line_count': 76, 'sum_char_count': 101, 'sum_talk_char_count': 70}\n"
     ]
    },
    {
     "data": {
      "text/plain": [
       "<matplotlib.axes._subplots.AxesSubplot at 0x12595d0f0>"
      ]
     },
     "execution_count": 86,
     "metadata": {},
     "output_type": "execute_result"
    },
    {
     "data": {
      "image/png": "[encoded data removed]",
      "text/plain": [
       "<Figure size 432x288 with 1 Axes>"
      ]
     },
     "metadata": {
      "needs_background": "light"
     },
     "output_type": "display_data"
    }
   ],
   "source": [
    "mapper = {'f{0}'.format(i): v for i, v in enumerate(df_train2.columns)}\n",
    "print(mapper)\n",
    "\n",
    "mapped = {mapper[k]: v for k, v in bst.get_fscore().items()}\n",
    "print(mapped)\n",
    "\n",
    "xgb.plot_importance(mapped)"
   ]
  },
  {
   "cell_type": "code",
   "execution_count": 71,
   "metadata": {},
   "outputs": [
    {
     "data": {
      "text/plain": [
       "[('f1', 182),\n",
       " ('f3', 101),\n",
       " ('f2', 94),\n",
       " ('f4', 76),\n",
       " ('f5', 70),\n",
       " ('f0', 55),\n",
       " ('f6', 39)]"
      ]
     },
     "execution_count": 71,
     "metadata": {},
     "output_type": "execute_result"
    }
   ],
   "source": [
    "#bst.get_fscore()\n",
    "#sorted(bst.get_fscore().items(), key=lambda x:x[1])\n",
    "sorted_fscore = sorted(bst.get_fscore().items(), key=lambda x:x[1])\n",
    "sorted_fscore.reverse()\n",
    "sorted_fscore"
   ]
  },
  {
   "cell_type": "code",
   "execution_count": 72,
   "metadata": {},
   "outputs": [
    {
     "data": {
      "image/svg+xml": [
       "<?xml version=\"1.0\" encoding=\"UTF-8\" standalone=\"no\"?>\n",
       "<!DOCTYPE svg PUBLIC \"-//W3C//DTD SVG 1.1//EN\"\n",
       " \"http://www.w3.org/Graphics/SVG/1.1/DTD/svg11.dtd\">\n",
       "<!-- Generated by graphviz version 2.38.0 (20140413.2041)\n",
       " -->\n",
       "<!-- Title: %3 Pages: 1 -->\n",
       "<svg width=\"1836pt\" height=\"560pt\"\n",
       " viewBox=\"0.00 0.00 1836.49 560.00\" xmlns=\"http://www.w3.org/2000/svg\" xmlns:xlink=\"http://www.w3.org/1999/xlink\">\n",
       "<g id=\"graph0\" class=\"graph\" transform=\"scale(1 1) rotate(0) translate(4 556)\">\n",
       "<title>%3</title>\n",
       "<polygon fill=\"white\" stroke=\"none\" points=\"-4,4 -4,-556 1832.49,-556 1832.49,4 -4,4\"/>\n",
       "<!-- 0 -->\n",
       "<g id=\"node1\" class=\"node\"><title>0</title>\n",
       "<ellipse fill=\"none\" stroke=\"black\" cx=\"775.775\" cy=\"-534\" rx=\"82.4474\" ry=\"18\"/>\n",
       "<text text-anchor=\"middle\" x=\"775.775\" y=\"-529.8\" font-family=\"Times,serif\" font-size=\"14.00\">f2&lt;1.51396864e+09</text>\n",
       "</g>\n",
       "<!-- 1 -->\n",
       "<g id=\"node2\" class=\"node\"><title>1</title>\n",
       "<ellipse fill=\"none\" stroke=\"black\" cx=\"575.775\" cy=\"-448\" rx=\"33.5305\" ry=\"18\"/>\n",
       "<text text-anchor=\"middle\" x=\"575.775\" y=\"-443.8\" font-family=\"Times,serif\" font-size=\"14.00\">f0&lt;6.5</text>\n",
       "</g>\n",
       "<!-- 0&#45;&gt;1 -->\n",
       "<g id=\"edge1\" class=\"edge\"><title>0&#45;&gt;1</title>\n",
       "<path fill=\"none\" stroke=\"#0000ff\" d=\"M739.556,-517.788C703.029,-502.447 647.016,-478.921 610.888,-463.748\"/>\n",
       "<polygon fill=\"#0000ff\" stroke=\"#0000ff\" points=\"611.833,-460.348 601.258,-459.703 609.122,-466.802 611.833,-460.348\"/>\n",
       "<text text-anchor=\"middle\" x=\"722.388\" y=\"-486.8\" font-family=\"Times,serif\" font-size=\"14.00\">yes, missing</text>\n",
       "</g>\n",
       "<!-- 2 -->\n",
       "<g id=\"node3\" class=\"node\"><title>2</title>\n",
       "<ellipse fill=\"none\" stroke=\"black\" cx=\"914.775\" cy=\"-448\" rx=\"33.5305\" ry=\"18\"/>\n",
       "<text text-anchor=\"middle\" x=\"914.775\" y=\"-443.8\" font-family=\"Times,serif\" font-size=\"14.00\">f0&lt;9.5</text>\n",
       "</g>\n",
       "<!-- 0&#45;&gt;2 -->\n",
       "<g id=\"edge2\" class=\"edge\"><title>0&#45;&gt;2</title>\n",
       "<path fill=\"none\" stroke=\"#ff0000\" d=\"M802.575,-516.804C825.94,-502.684 859.816,-482.213 884.225,-467.462\"/>\n",
       "<polygon fill=\"#ff0000\" stroke=\"#ff0000\" points=\"886.327,-470.281 893.075,-462.113 882.706,-464.29 886.327,-470.281\"/>\n",
       "<text text-anchor=\"middle\" x=\"860.775\" y=\"-486.8\" font-family=\"Times,serif\" font-size=\"14.00\">no</text>\n",
       "</g>\n",
       "<!-- 3 -->\n",
       "<g id=\"node4\" class=\"node\"><title>3</title>\n",
       "<ellipse fill=\"none\" stroke=\"black\" cx=\"249.775\" cy=\"-362\" rx=\"82.4474\" ry=\"18\"/>\n",
       "<text text-anchor=\"middle\" x=\"249.775\" y=\"-357.8\" font-family=\"Times,serif\" font-size=\"14.00\">f1&lt;1.44819712e+09</text>\n",
       "</g>\n",
       "<!-- 1&#45;&gt;3 -->\n",
       "<g id=\"edge3\" class=\"edge\"><title>1&#45;&gt;3</title>\n",
       "<path fill=\"none\" stroke=\"#0000ff\" d=\"M546.269,-439.397C493.312,-425.752 381.126,-396.845 310.948,-378.762\"/>\n",
       "<polygon fill=\"#0000ff\" stroke=\"#0000ff\" points=\"311.467,-375.282 300.91,-376.176 309.721,-382.061 311.467,-375.282\"/>\n",
       "<text text-anchor=\"middle\" x=\"467.388\" y=\"-400.8\" font-family=\"Times,serif\" font-size=\"14.00\">yes, missing</text>\n",
       "</g>\n",
       "<!-- 4 -->\n",
       "<g id=\"node5\" class=\"node\"><title>4</title>\n",
       "<ellipse fill=\"none\" stroke=\"black\" cx=\"575.775\" cy=\"-362\" rx=\"27\" ry=\"18\"/>\n",
       "<text text-anchor=\"middle\" x=\"575.775\" y=\"-357.8\" font-family=\"Times,serif\" font-size=\"14.00\">f0&lt;9</text>\n",
       "</g>\n",
       "<!-- 1&#45;&gt;4 -->\n",
       "<g id=\"edge4\" class=\"edge\"><title>1&#45;&gt;4</title>\n",
       "<path fill=\"none\" stroke=\"#ff0000\" d=\"M575.775,-429.595C575.775,-418.257 575.775,-403.227 575.775,-390.315\"/>\n",
       "<polygon fill=\"#ff0000\" stroke=\"#ff0000\" points=\"579.275,-390.095 575.775,-380.095 572.275,-390.095 579.275,-390.095\"/>\n",
       "<text text-anchor=\"middle\" x=\"582.775\" y=\"-400.8\" font-family=\"Times,serif\" font-size=\"14.00\">no</text>\n",
       "</g>\n",
       "<!-- 5 -->\n",
       "<g id=\"node14\" class=\"node\"><title>5</title>\n",
       "<ellipse fill=\"none\" stroke=\"black\" cx=\"914.775\" cy=\"-362\" rx=\"44.6392\" ry=\"18\"/>\n",
       "<text text-anchor=\"middle\" x=\"914.775\" y=\"-357.8\" font-family=\"Times,serif\" font-size=\"14.00\">f5&lt;73635</text>\n",
       "</g>\n",
       "<!-- 2&#45;&gt;5 -->\n",
       "<g id=\"edge13\" class=\"edge\"><title>2&#45;&gt;5</title>\n",
       "<path fill=\"none\" stroke=\"#0000ff\" d=\"M914.775,-429.595C914.775,-418.257 914.775,-403.227 914.775,-390.315\"/>\n",
       "<polygon fill=\"#0000ff\" stroke=\"#0000ff\" points=\"918.275,-390.095 914.775,-380.095 911.275,-390.095 918.275,-390.095\"/>\n",
       "<text text-anchor=\"middle\" x=\"949.388\" y=\"-400.8\" font-family=\"Times,serif\" font-size=\"14.00\">yes, missing</text>\n",
       "</g>\n",
       "<!-- 6 -->\n",
       "<g id=\"node15\" class=\"node\"><title>6</title>\n",
       "<ellipse fill=\"none\" stroke=\"black\" cx=\"1389.77\" cy=\"-362\" rx=\"40.2962\" ry=\"18\"/>\n",
       "<text text-anchor=\"middle\" x=\"1389.77\" y=\"-357.8\" font-family=\"Times,serif\" font-size=\"14.00\">f4&lt;6030</text>\n",
       "</g>\n",
       "<!-- 2&#45;&gt;6 -->\n",
       "<g id=\"edge14\" class=\"edge\"><title>2&#45;&gt;6</title>\n",
       "<path fill=\"none\" stroke=\"#ff0000\" d=\"M946.309,-441.423C1027.98,-426.981 1246.7,-388.301 1343.08,-371.258\"/>\n",
       "<polygon fill=\"#ff0000\" stroke=\"#ff0000\" points=\"1343.87,-374.671 1353.11,-369.483 1342.66,-367.778 1343.87,-374.671\"/>\n",
       "<text text-anchor=\"middle\" x=\"1187.77\" y=\"-400.8\" font-family=\"Times,serif\" font-size=\"14.00\">no</text>\n",
       "</g>\n",
       "<!-- 7 -->\n",
       "<g id=\"node6\" class=\"node\"><title>7</title>\n",
       "<ellipse fill=\"none\" stroke=\"black\" cx=\"74.7747\" cy=\"-276\" rx=\"74.55\" ry=\"18\"/>\n",
       "<text text-anchor=\"middle\" x=\"74.7747\" y=\"-271.8\" font-family=\"Times,serif\" font-size=\"14.00\">leaf=0.955909073</text>\n",
       "</g>\n",
       "<!-- 3&#45;&gt;7 -->\n",
       "<g id=\"edge5\" class=\"edge\"><title>3&#45;&gt;7</title>\n",
       "<path fill=\"none\" stroke=\"#0000ff\" d=\"M216.958,-345.339C204.323,-339.303 189.76,-332.338 176.547,-326 156.581,-316.422 134.428,-305.76 115.901,-296.834\"/>\n",
       "<polygon fill=\"#0000ff\" stroke=\"#0000ff\" points=\"117.377,-293.66 106.849,-292.472 114.338,-299.966 117.377,-293.66\"/>\n",
       "<text text-anchor=\"middle\" x=\"211.388\" y=\"-314.8\" font-family=\"Times,serif\" font-size=\"14.00\">yes, missing</text>\n",
       "</g>\n",
       "<!-- 8 -->\n",
       "<g id=\"node7\" class=\"node\"><title>8</title>\n",
       "<ellipse fill=\"none\" stroke=\"black\" cx=\"249.775\" cy=\"-276\" rx=\"82.4474\" ry=\"18\"/>\n",
       "<text text-anchor=\"middle\" x=\"249.775\" y=\"-271.8\" font-family=\"Times,serif\" font-size=\"14.00\">f1&lt;1.48823014e+09</text>\n",
       "</g>\n",
       "<!-- 3&#45;&gt;8 -->\n",
       "<g id=\"edge6\" class=\"edge\"><title>3&#45;&gt;8</title>\n",
       "<path fill=\"none\" stroke=\"#ff0000\" d=\"M249.775,-343.595C249.775,-332.257 249.775,-317.227 249.775,-304.315\"/>\n",
       "<polygon fill=\"#ff0000\" stroke=\"#ff0000\" points=\"253.275,-304.095 249.775,-294.095 246.275,-304.095 253.275,-304.095\"/>\n",
       "<text text-anchor=\"middle\" x=\"256.775\" y=\"-314.8\" font-family=\"Times,serif\" font-size=\"14.00\">no</text>\n",
       "</g>\n",
       "<!-- 9 -->\n",
       "<g id=\"node10\" class=\"node\"><title>9</title>\n",
       "<ellipse fill=\"none\" stroke=\"black\" cx=\"503.775\" cy=\"-276\" rx=\"33.5305\" ry=\"18\"/>\n",
       "<text text-anchor=\"middle\" x=\"503.775\" y=\"-271.8\" font-family=\"Times,serif\" font-size=\"14.00\">f0&lt;7.5</text>\n",
       "</g>\n",
       "<!-- 4&#45;&gt;9 -->\n",
       "<g id=\"edge9\" class=\"edge\"><title>4&#45;&gt;9</title>\n",
       "<path fill=\"none\" stroke=\"#0000ff\" d=\"M555.181,-349.746C545.538,-343.692 534.461,-335.513 526.547,-326 521.063,-319.408 516.592,-311.277 513.11,-303.545\"/>\n",
       "<polygon fill=\"#0000ff\" stroke=\"#0000ff\" points=\"516.27,-302.027 509.226,-294.113 509.797,-304.692 516.27,-302.027\"/>\n",
       "<text text-anchor=\"middle\" x=\"561.388\" y=\"-314.8\" font-family=\"Times,serif\" font-size=\"14.00\">yes, missing</text>\n",
       "</g>\n",
       "<!-- 10 -->\n",
       "<g id=\"node11\" class=\"node\"><title>10</title>\n",
       "<ellipse fill=\"none\" stroke=\"black\" cx=\"629.775\" cy=\"-276\" rx=\"74.55\" ry=\"18\"/>\n",
       "<text text-anchor=\"middle\" x=\"629.775\" y=\"-271.8\" font-family=\"Times,serif\" font-size=\"14.00\">leaf=0.791000009</text>\n",
       "</g>\n",
       "<!-- 4&#45;&gt;10 -->\n",
       "<g id=\"edge10\" class=\"edge\"><title>4&#45;&gt;10</title>\n",
       "<path fill=\"none\" stroke=\"#ff0000\" d=\"M585.932,-345.2C593.651,-333.193 604.428,-316.428 613.365,-302.526\"/>\n",
       "<polygon fill=\"#ff0000\" stroke=\"#ff0000\" points=\"616.459,-304.186 618.922,-293.882 610.57,-300.401 616.459,-304.186\"/>\n",
       "<text text-anchor=\"middle\" x=\"613.775\" y=\"-314.8\" font-family=\"Times,serif\" font-size=\"14.00\">no</text>\n",
       "</g>\n",
       "<!-- 15 -->\n",
       "<g id=\"node8\" class=\"node\"><title>15</title>\n",
       "<ellipse fill=\"none\" stroke=\"black\" cx=\"86.7747\" cy=\"-190\" rx=\"74.55\" ry=\"18\"/>\n",
       "<text text-anchor=\"middle\" x=\"86.7747\" y=\"-185.8\" font-family=\"Times,serif\" font-size=\"14.00\">leaf=0.159999996</text>\n",
       "</g>\n",
       "<!-- 8&#45;&gt;15 -->\n",
       "<g id=\"edge7\" class=\"edge\"><title>8&#45;&gt;15</title>\n",
       "<path fill=\"none\" stroke=\"#0000ff\" d=\"M216.417,-259.52C203.847,-253.565 189.469,-246.608 176.547,-240 159.103,-231.079 140.019,-220.745 123.948,-211.873\"/>\n",
       "<polygon fill=\"#0000ff\" stroke=\"#0000ff\" points=\"125.313,-208.628 114.87,-206.84 121.919,-214.75 125.313,-208.628\"/>\n",
       "<text text-anchor=\"middle\" x=\"211.388\" y=\"-228.8\" font-family=\"Times,serif\" font-size=\"14.00\">yes, missing</text>\n",
       "</g>\n",
       "<!-- 16 -->\n",
       "<g id=\"node9\" class=\"node\"><title>16</title>\n",
       "<ellipse fill=\"none\" stroke=\"black\" cx=\"249.775\" cy=\"-190\" rx=\"70.2062\" ry=\"18\"/>\n",
       "<text text-anchor=\"middle\" x=\"249.775\" y=\"-185.8\" font-family=\"Times,serif\" font-size=\"14.00\">leaf=0.51000005</text>\n",
       "</g>\n",
       "<!-- 8&#45;&gt;16 -->\n",
       "<g id=\"edge8\" class=\"edge\"><title>8&#45;&gt;16</title>\n",
       "<path fill=\"none\" stroke=\"#ff0000\" d=\"M249.775,-257.595C249.775,-246.257 249.775,-231.227 249.775,-218.315\"/>\n",
       "<polygon fill=\"#ff0000\" stroke=\"#ff0000\" points=\"253.275,-218.095 249.775,-208.095 246.275,-218.095 253.275,-218.095\"/>\n",
       "<text text-anchor=\"middle\" x=\"256.775\" y=\"-228.8\" font-family=\"Times,serif\" font-size=\"14.00\">no</text>\n",
       "</g>\n",
       "<!-- 17 -->\n",
       "<g id=\"node12\" class=\"node\"><title>17</title>\n",
       "<ellipse fill=\"none\" stroke=\"black\" cx=\"419.775\" cy=\"-190\" rx=\"82.2829\" ry=\"18\"/>\n",
       "<text text-anchor=\"middle\" x=\"419.775\" y=\"-185.8\" font-family=\"Times,serif\" font-size=\"14.00\">leaf=&#45;0.0255000126</text>\n",
       "</g>\n",
       "<!-- 9&#45;&gt;17 -->\n",
       "<g id=\"edge11\" class=\"edge\"><title>9&#45;&gt;17</title>\n",
       "<path fill=\"none\" stroke=\"#0000ff\" d=\"M488.368,-259.593C475.865,-247.09 458.02,-229.245 443.666,-214.891\"/>\n",
       "<polygon fill=\"#0000ff\" stroke=\"#0000ff\" points=\"446.07,-212.346 436.524,-207.75 441.12,-217.296 446.07,-212.346\"/>\n",
       "<text text-anchor=\"middle\" x=\"502.388\" y=\"-228.8\" font-family=\"Times,serif\" font-size=\"14.00\">yes, missing</text>\n",
       "</g>\n",
       "<!-- 18 -->\n",
       "<g id=\"node13\" class=\"node\"><title>18</title>\n",
       "<ellipse fill=\"none\" stroke=\"black\" cx=\"597.775\" cy=\"-190\" rx=\"77.9398\" ry=\"18\"/>\n",
       "<text text-anchor=\"middle\" x=\"597.775\" y=\"-185.8\" font-family=\"Times,serif\" font-size=\"14.00\">leaf=&#45;0.100500017</text>\n",
       "</g>\n",
       "<!-- 9&#45;&gt;18 -->\n",
       "<g id=\"edge12\" class=\"edge\"><title>9&#45;&gt;18</title>\n",
       "<path fill=\"none\" stroke=\"#ff0000\" d=\"M520.58,-259.982C534.739,-247.33 555.239,-229.011 571.555,-214.431\"/>\n",
       "<polygon fill=\"#ff0000\" stroke=\"#ff0000\" points=\"574.058,-216.888 579.182,-207.615 569.393,-211.668 574.058,-216.888\"/>\n",
       "<text text-anchor=\"middle\" x=\"563.775\" y=\"-228.8\" font-family=\"Times,serif\" font-size=\"14.00\">no</text>\n",
       "</g>\n",
       "<!-- 11 -->\n",
       "<g id=\"node16\" class=\"node\"><title>11</title>\n",
       "<ellipse fill=\"none\" stroke=\"black\" cx=\"850.775\" cy=\"-276\" rx=\"44.6392\" ry=\"18\"/>\n",
       "<text text-anchor=\"middle\" x=\"850.775\" y=\"-271.8\" font-family=\"Times,serif\" font-size=\"14.00\">f5&lt;30195</text>\n",
       "</g>\n",
       "<!-- 5&#45;&gt;11 -->\n",
       "<g id=\"edge15\" class=\"edge\"><title>5&#45;&gt;11</title>\n",
       "<path fill=\"none\" stroke=\"#0000ff\" d=\"M895.217,-345.441C888.796,-339.749 881.932,-332.984 876.547,-326 871.206,-319.073 866.406,-310.879 862.437,-303.194\"/>\n",
       "<polygon fill=\"#0000ff\" stroke=\"#0000ff\" points=\"865.569,-301.633 858.027,-294.192 859.283,-304.713 865.569,-301.633\"/>\n",
       "<text text-anchor=\"middle\" x=\"911.388\" y=\"-314.8\" font-family=\"Times,serif\" font-size=\"14.00\">yes, missing</text>\n",
       "</g>\n",
       "<!-- 12 -->\n",
       "<g id=\"node17\" class=\"node\"><title>12</title>\n",
       "<ellipse fill=\"none\" stroke=\"black\" cx=\"992.775\" cy=\"-276\" rx=\"48.9826\" ry=\"18\"/>\n",
       "<text text-anchor=\"middle\" x=\"992.775\" y=\"-271.8\" font-family=\"Times,serif\" font-size=\"14.00\">f3&lt;743175</text>\n",
       "</g>\n",
       "<!-- 5&#45;&gt;12 -->\n",
       "<g id=\"edge16\" class=\"edge\"><title>5&#45;&gt;12</title>\n",
       "<path fill=\"none\" stroke=\"#ff0000\" d=\"M929.814,-344.804C941.468,-332.254 957.782,-314.684 970.884,-300.575\"/>\n",
       "<polygon fill=\"#ff0000\" stroke=\"#ff0000\" points=\"973.542,-302.856 977.782,-293.146 968.412,-298.093 973.542,-302.856\"/>\n",
       "<text text-anchor=\"middle\" x=\"965.775\" y=\"-314.8\" font-family=\"Times,serif\" font-size=\"14.00\">no</text>\n",
       "</g>\n",
       "<!-- 13 -->\n",
       "<g id=\"node34\" class=\"node\"><title>13</title>\n",
       "<ellipse fill=\"none\" stroke=\"black\" cx=\"1389.77\" cy=\"-276\" rx=\"44.6392\" ry=\"18\"/>\n",
       "<text text-anchor=\"middle\" x=\"1389.77\" y=\"-271.8\" font-family=\"Times,serif\" font-size=\"14.00\">f3&lt;15930</text>\n",
       "</g>\n",
       "<!-- 6&#45;&gt;13 -->\n",
       "<g id=\"edge33\" class=\"edge\"><title>6&#45;&gt;13</title>\n",
       "<path fill=\"none\" stroke=\"#0000ff\" d=\"M1389.77,-343.595C1389.77,-332.257 1389.77,-317.227 1389.77,-304.315\"/>\n",
       "<polygon fill=\"#0000ff\" stroke=\"#0000ff\" points=\"1393.27,-304.095 1389.77,-294.095 1386.27,-304.095 1393.27,-304.095\"/>\n",
       "<text text-anchor=\"middle\" x=\"1424.39\" y=\"-314.8\" font-family=\"Times,serif\" font-size=\"14.00\">yes, missing</text>\n",
       "</g>\n",
       "<!-- 14 -->\n",
       "<g id=\"node35\" class=\"node\"><title>14</title>\n",
       "<ellipse fill=\"none\" stroke=\"black\" cx=\"1664.77\" cy=\"-276\" rx=\"82.4474\" ry=\"18\"/>\n",
       "<text text-anchor=\"middle\" x=\"1664.77\" y=\"-271.8\" font-family=\"Times,serif\" font-size=\"14.00\">f1&lt;1.55198733e+09</text>\n",
       "</g>\n",
       "<!-- 6&#45;&gt;14 -->\n",
       "<g id=\"edge34\" class=\"edge\"><title>6&#45;&gt;14</title>\n",
       "<path fill=\"none\" stroke=\"#ff0000\" d=\"M1422.13,-351.117C1468.07,-337.084 1552.86,-311.186 1609.04,-294.025\"/>\n",
       "<polygon fill=\"#ff0000\" stroke=\"#ff0000\" points=\"1610.29,-297.301 1618.83,-291.033 1608.25,-290.607 1610.29,-297.301\"/>\n",
       "<text text-anchor=\"middle\" x=\"1549.77\" y=\"-314.8\" font-family=\"Times,serif\" font-size=\"14.00\">no</text>\n",
       "</g>\n",
       "<!-- 19 -->\n",
       "<g id=\"node18\" class=\"node\"><title>19</title>\n",
       "<ellipse fill=\"none\" stroke=\"black\" cx=\"733.775\" cy=\"-190\" rx=\"40.2962\" ry=\"18\"/>\n",
       "<text text-anchor=\"middle\" x=\"733.775\" y=\"-185.8\" font-family=\"Times,serif\" font-size=\"14.00\">f5&lt;9435</text>\n",
       "</g>\n",
       "<!-- 11&#45;&gt;19 -->\n",
       "<g id=\"edge17\" class=\"edge\"><title>11&#45;&gt;19</title>\n",
       "<path fill=\"none\" stroke=\"#0000ff\" d=\"M819.313,-263.227C805.764,-257.356 790.17,-249.472 777.547,-240 768.282,-233.047 759.48,-223.901 752.232,-215.394\"/>\n",
       "<polygon fill=\"#0000ff\" stroke=\"#0000ff\" points=\"754.835,-213.05 745.793,-207.528 749.418,-217.483 754.835,-213.05\"/>\n",
       "<text text-anchor=\"middle\" x=\"812.388\" y=\"-228.8\" font-family=\"Times,serif\" font-size=\"14.00\">yes, missing</text>\n",
       "</g>\n",
       "<!-- 20 -->\n",
       "<g id=\"node19\" class=\"node\"><title>20</title>\n",
       "<ellipse fill=\"none\" stroke=\"black\" cx=\"850.775\" cy=\"-190\" rx=\"48.9826\" ry=\"18\"/>\n",
       "<text text-anchor=\"middle\" x=\"850.775\" y=\"-185.8\" font-family=\"Times,serif\" font-size=\"14.00\">f3&lt;151230</text>\n",
       "</g>\n",
       "<!-- 11&#45;&gt;20 -->\n",
       "<g id=\"edge18\" class=\"edge\"><title>11&#45;&gt;20</title>\n",
       "<path fill=\"none\" stroke=\"#ff0000\" d=\"M850.775,-257.595C850.775,-246.257 850.775,-231.227 850.775,-218.315\"/>\n",
       "<polygon fill=\"#ff0000\" stroke=\"#ff0000\" points=\"854.275,-218.095 850.775,-208.095 847.275,-218.095 854.275,-218.095\"/>\n",
       "<text text-anchor=\"middle\" x=\"857.775\" y=\"-228.8\" font-family=\"Times,serif\" font-size=\"14.00\">no</text>\n",
       "</g>\n",
       "<!-- 21 -->\n",
       "<g id=\"node32\" class=\"node\"><title>21</title>\n",
       "<ellipse fill=\"none\" stroke=\"black\" cx=\"992.775\" cy=\"-190\" rx=\"74.55\" ry=\"18\"/>\n",
       "<text text-anchor=\"middle\" x=\"992.775\" y=\"-185.8\" font-family=\"Times,serif\" font-size=\"14.00\">leaf=0.724305034</text>\n",
       "</g>\n",
       "<!-- 12&#45;&gt;21 -->\n",
       "<g id=\"edge31\" class=\"edge\"><title>12&#45;&gt;21</title>\n",
       "<path fill=\"none\" stroke=\"#0000ff\" d=\"M992.775,-257.595C992.775,-246.257 992.775,-231.227 992.775,-218.315\"/>\n",
       "<polygon fill=\"#0000ff\" stroke=\"#0000ff\" points=\"996.275,-218.095 992.775,-208.095 989.275,-218.095 996.275,-218.095\"/>\n",
       "<text text-anchor=\"middle\" x=\"1027.39\" y=\"-228.8\" font-family=\"Times,serif\" font-size=\"14.00\">yes, missing</text>\n",
       "</g>\n",
       "<!-- 22 -->\n",
       "<g id=\"node33\" class=\"node\"><title>22</title>\n",
       "<ellipse fill=\"none\" stroke=\"black\" cx=\"1160.77\" cy=\"-190\" rx=\"74.55\" ry=\"18\"/>\n",
       "<text text-anchor=\"middle\" x=\"1160.77\" y=\"-185.8\" font-family=\"Times,serif\" font-size=\"14.00\">leaf=0.127500013</text>\n",
       "</g>\n",
       "<!-- 12&#45;&gt;22 -->\n",
       "<g id=\"edge32\" class=\"edge\"><title>12&#45;&gt;22</title>\n",
       "<path fill=\"none\" stroke=\"#ff0000\" d=\"M1021.65,-261.395C1035.1,-254.993 1051.3,-247.199 1065.77,-240 1084.28,-230.794 1104.66,-220.324 1121.79,-211.432\"/>\n",
       "<polygon fill=\"#ff0000\" stroke=\"#ff0000\" points=\"1123.68,-214.393 1130.94,-206.672 1120.45,-208.183 1123.68,-214.393\"/>\n",
       "<text text-anchor=\"middle\" x=\"1099.77\" y=\"-228.8\" font-family=\"Times,serif\" font-size=\"14.00\">no</text>\n",
       "</g>\n",
       "<!-- 27 -->\n",
       "<g id=\"node20\" class=\"node\"><title>27</title>\n",
       "<ellipse fill=\"none\" stroke=\"black\" cx=\"355.775\" cy=\"-104\" rx=\"77.6038\" ry=\"18\"/>\n",
       "<text text-anchor=\"middle\" x=\"355.775\" y=\"-99.8\" font-family=\"Times,serif\" font-size=\"14.00\">f2&lt;1.5931703e+09</text>\n",
       "</g>\n",
       "<!-- 19&#45;&gt;27 -->\n",
       "<g id=\"edge19\" class=\"edge\"><title>19&#45;&gt;27</title>\n",
       "<path fill=\"none\" stroke=\"#0000ff\" d=\"M703.913,-177.933C697.639,-175.807 691.027,-173.713 684.775,-172 597.346,-148.046 494.726,-128.47 427.637,-116.792\"/>\n",
       "<polygon fill=\"#0000ff\" stroke=\"#0000ff\" points=\"428.043,-113.311 417.593,-115.057 426.851,-120.208 428.043,-113.311\"/>\n",
       "<text text-anchor=\"middle\" x=\"639.388\" y=\"-142.8\" font-family=\"Times,serif\" font-size=\"14.00\">yes, missing</text>\n",
       "</g>\n",
       "<!-- 28 -->\n",
       "<g id=\"node21\" class=\"node\"><title>28</title>\n",
       "<ellipse fill=\"none\" stroke=\"black\" cx=\"690.775\" cy=\"-104\" rx=\"48.9826\" ry=\"18\"/>\n",
       "<text text-anchor=\"middle\" x=\"690.775\" y=\"-99.8\" font-family=\"Times,serif\" font-size=\"14.00\">f6&lt;967740</text>\n",
       "</g>\n",
       "<!-- 19&#45;&gt;28 -->\n",
       "<g id=\"edge20\" class=\"edge\"><title>19&#45;&gt;28</title>\n",
       "<path fill=\"none\" stroke=\"#ff0000\" d=\"M725.279,-172.404C719.253,-160.631 711.042,-144.592 704.142,-131.113\"/>\n",
       "<polygon fill=\"#ff0000\" stroke=\"#ff0000\" points=\"707.072,-129.155 699.4,-121.849 700.841,-132.345 707.072,-129.155\"/>\n",
       "<text text-anchor=\"middle\" x=\"722.775\" y=\"-142.8\" font-family=\"Times,serif\" font-size=\"14.00\">no</text>\n",
       "</g>\n",
       "<!-- 29 -->\n",
       "<g id=\"node26\" class=\"node\"><title>29</title>\n",
       "<ellipse fill=\"none\" stroke=\"black\" cx=\"865.775\" cy=\"-104\" rx=\"82.4474\" ry=\"18\"/>\n",
       "<text text-anchor=\"middle\" x=\"865.775\" y=\"-99.8\" font-family=\"Times,serif\" font-size=\"14.00\">f2&lt;1.59333197e+09</text>\n",
       "</g>\n",
       "<!-- 20&#45;&gt;29 -->\n",
       "<g id=\"edge25\" class=\"edge\"><title>20&#45;&gt;29</title>\n",
       "<path fill=\"none\" stroke=\"#0000ff\" d=\"M853.81,-172.001C855.85,-160.578 858.583,-145.274 860.922,-132.176\"/>\n",
       "<polygon fill=\"#0000ff\" stroke=\"#0000ff\" points=\"864.38,-132.721 862.692,-122.262 857.489,-131.491 864.38,-132.721\"/>\n",
       "<text text-anchor=\"middle\" x=\"894.388\" y=\"-142.8\" font-family=\"Times,serif\" font-size=\"14.00\">yes, missing</text>\n",
       "</g>\n",
       "<!-- 30 -->\n",
       "<g id=\"node27\" class=\"node\"><title>30</title>\n",
       "<ellipse fill=\"none\" stroke=\"black\" cx=\"1208.77\" cy=\"-104\" rx=\"53.3262\" ry=\"18\"/>\n",
       "<text text-anchor=\"middle\" x=\"1208.77\" y=\"-99.8\" font-family=\"Times,serif\" font-size=\"14.00\">f6&lt;1763985</text>\n",
       "</g>\n",
       "<!-- 20&#45;&gt;30 -->\n",
       "<g id=\"edge26\" class=\"edge\"><title>20&#45;&gt;30</title>\n",
       "<path fill=\"none\" stroke=\"#ff0000\" d=\"M887.183,-177.934C894.319,-175.877 901.764,-173.808 908.775,-172 993.895,-150.046 1093.68,-128.605 1154.02,-116.106\"/>\n",
       "<polygon fill=\"#ff0000\" stroke=\"#ff0000\" points=\"1155,-119.478 1164.08,-114.028 1153.58,-112.622 1155,-119.478\"/>\n",
       "<text text-anchor=\"middle\" x=\"1047.77\" y=\"-142.8\" font-family=\"Times,serif\" font-size=\"14.00\">no</text>\n",
       "</g>\n",
       "<!-- 31 -->\n",
       "<g id=\"node22\" class=\"node\"><title>31</title>\n",
       "<ellipse fill=\"none\" stroke=\"black\" cx=\"188.775\" cy=\"-18\" rx=\"74.55\" ry=\"18\"/>\n",
       "<text text-anchor=\"middle\" x=\"188.775\" y=\"-13.8\" font-family=\"Times,serif\" font-size=\"14.00\">leaf=0.240479514</text>\n",
       "</g>\n",
       "<!-- 27&#45;&gt;31 -->\n",
       "<g id=\"edge21\" class=\"edge\"><title>27&#45;&gt;31</title>\n",
       "<path fill=\"none\" stroke=\"#0000ff\" d=\"M322.846,-87.5676C310.197,-81.5594 295.654,-74.5541 282.547,-68 264.249,-58.8501 244.124,-48.3872 227.224,-39.4856\"/>\n",
       "<polygon fill=\"#0000ff\" stroke=\"#0000ff\" points=\"228.677,-36.2945 218.2,-34.7191 225.408,-42.4843 228.677,-36.2945\"/>\n",
       "<text text-anchor=\"middle\" x=\"317.388\" y=\"-56.8\" font-family=\"Times,serif\" font-size=\"14.00\">yes, missing</text>\n",
       "</g>\n",
       "<!-- 32 -->\n",
       "<g id=\"node23\" class=\"node\"><title>32</title>\n",
       "<ellipse fill=\"none\" stroke=\"black\" cx=\"355.775\" cy=\"-18\" rx=\"74.4016\" ry=\"18\"/>\n",
       "<text text-anchor=\"middle\" x=\"355.775\" y=\"-13.8\" font-family=\"Times,serif\" font-size=\"14.00\">leaf=0.511457324</text>\n",
       "</g>\n",
       "<!-- 27&#45;&gt;32 -->\n",
       "<g id=\"edge22\" class=\"edge\"><title>27&#45;&gt;32</title>\n",
       "<path fill=\"none\" stroke=\"#ff0000\" d=\"M355.775,-85.5951C355.775,-74.2572 355.775,-59.2271 355.775,-46.3153\"/>\n",
       "<polygon fill=\"#ff0000\" stroke=\"#ff0000\" points=\"359.275,-46.0951 355.775,-36.0952 352.275,-46.0952 359.275,-46.0951\"/>\n",
       "<text text-anchor=\"middle\" x=\"362.775\" y=\"-56.8\" font-family=\"Times,serif\" font-size=\"14.00\">no</text>\n",
       "</g>\n",
       "<!-- 33 -->\n",
       "<g id=\"node24\" class=\"node\"><title>33</title>\n",
       "<ellipse fill=\"none\" stroke=\"black\" cx=\"522.775\" cy=\"-18\" rx=\"74.55\" ry=\"18\"/>\n",
       "<text text-anchor=\"middle\" x=\"522.775\" y=\"-13.8\" font-family=\"Times,serif\" font-size=\"14.00\">leaf=0.716179371</text>\n",
       "</g>\n",
       "<!-- 28&#45;&gt;33 -->\n",
       "<g id=\"edge23\" class=\"edge\"><title>28&#45;&gt;33</title>\n",
       "<path fill=\"none\" stroke=\"#0000ff\" d=\"M661.806,-89.4102C648.307,-83.0117 632.056,-75.2159 617.547,-68 599.076,-58.8135 578.739,-48.3458 561.655,-39.4505\"/>\n",
       "<polygon fill=\"#0000ff\" stroke=\"#0000ff\" points=\"563.016,-36.2128 552.532,-34.6885 559.777,-42.4184 563.016,-36.2128\"/>\n",
       "<text text-anchor=\"middle\" x=\"652.388\" y=\"-56.8\" font-family=\"Times,serif\" font-size=\"14.00\">yes, missing</text>\n",
       "</g>\n",
       "<!-- 34 -->\n",
       "<g id=\"node25\" class=\"node\"><title>34</title>\n",
       "<ellipse fill=\"none\" stroke=\"black\" cx=\"690.775\" cy=\"-18\" rx=\"74.55\" ry=\"18\"/>\n",
       "<text text-anchor=\"middle\" x=\"690.775\" y=\"-13.8\" font-family=\"Times,serif\" font-size=\"14.00\">leaf=0.344938576</text>\n",
       "</g>\n",
       "<!-- 28&#45;&gt;34 -->\n",
       "<g id=\"edge24\" class=\"edge\"><title>28&#45;&gt;34</title>\n",
       "<path fill=\"none\" stroke=\"#ff0000\" d=\"M690.775,-85.5951C690.775,-74.2572 690.775,-59.2271 690.775,-46.3153\"/>\n",
       "<polygon fill=\"#ff0000\" stroke=\"#ff0000\" points=\"694.275,-46.0951 690.775,-36.0952 687.275,-46.0952 694.275,-46.0951\"/>\n",
       "<text text-anchor=\"middle\" x=\"697.775\" y=\"-56.8\" font-family=\"Times,serif\" font-size=\"14.00\">no</text>\n",
       "</g>\n",
       "<!-- 35 -->\n",
       "<g id=\"node28\" class=\"node\"><title>35</title>\n",
       "<ellipse fill=\"none\" stroke=\"black\" cx=\"865.775\" cy=\"-18\" rx=\"82.2829\" ry=\"18\"/>\n",
       "<text text-anchor=\"middle\" x=\"865.775\" y=\"-13.8\" font-family=\"Times,serif\" font-size=\"14.00\">leaf=&#45;0.0450559855</text>\n",
       "</g>\n",
       "<!-- 29&#45;&gt;35 -->\n",
       "<g id=\"edge27\" class=\"edge\"><title>29&#45;&gt;35</title>\n",
       "<path fill=\"none\" stroke=\"#0000ff\" d=\"M865.775,-85.5951C865.775,-74.2572 865.775,-59.2271 865.775,-46.3153\"/>\n",
       "<polygon fill=\"#0000ff\" stroke=\"#0000ff\" points=\"869.275,-46.0951 865.775,-36.0952 862.275,-46.0952 869.275,-46.0951\"/>\n",
       "<text text-anchor=\"middle\" x=\"900.388\" y=\"-56.8\" font-family=\"Times,serif\" font-size=\"14.00\">yes, missing</text>\n",
       "</g>\n",
       "<!-- 36 -->\n",
       "<g id=\"node29\" class=\"node\"><title>36</title>\n",
       "<ellipse fill=\"none\" stroke=\"black\" cx=\"1040.77\" cy=\"-18\" rx=\"74.55\" ry=\"18\"/>\n",
       "<text text-anchor=\"middle\" x=\"1040.77\" y=\"-13.8\" font-family=\"Times,serif\" font-size=\"14.00\">leaf=0.140149996</text>\n",
       "</g>\n",
       "<!-- 29&#45;&gt;36 -->\n",
       "<g id=\"edge28\" class=\"edge\"><title>29&#45;&gt;36</title>\n",
       "<path fill=\"none\" stroke=\"#ff0000\" d=\"M898.483,-87.3247C911.078,-81.2867 925.597,-74.3245 938.775,-68 958.775,-58.4014 980.977,-47.7368 999.547,-38.8142\"/>\n",
       "<polygon fill=\"#ff0000\" stroke=\"#ff0000\" points=\"1001.12,-41.9403 1008.62,-34.4545 998.091,-35.6309 1001.12,-41.9403\"/>\n",
       "<text text-anchor=\"middle\" x=\"974.775\" y=\"-56.8\" font-family=\"Times,serif\" font-size=\"14.00\">no</text>\n",
       "</g>\n",
       "<!-- 37 -->\n",
       "<g id=\"node30\" class=\"node\"><title>37</title>\n",
       "<ellipse fill=\"none\" stroke=\"black\" cx=\"1208.77\" cy=\"-18\" rx=\"74.55\" ry=\"18\"/>\n",
       "<text text-anchor=\"middle\" x=\"1208.77\" y=\"-13.8\" font-family=\"Times,serif\" font-size=\"14.00\">leaf=0.466526031</text>\n",
       "</g>\n",
       "<!-- 30&#45;&gt;37 -->\n",
       "<g id=\"edge29\" class=\"edge\"><title>30&#45;&gt;37</title>\n",
       "<path fill=\"none\" stroke=\"#0000ff\" d=\"M1208.77,-85.5951C1208.77,-74.2572 1208.77,-59.2271 1208.77,-46.3153\"/>\n",
       "<polygon fill=\"#0000ff\" stroke=\"#0000ff\" points=\"1212.27,-46.0951 1208.77,-36.0952 1205.27,-46.0952 1212.27,-46.0951\"/>\n",
       "<text text-anchor=\"middle\" x=\"1243.39\" y=\"-56.8\" font-family=\"Times,serif\" font-size=\"14.00\">yes, missing</text>\n",
       "</g>\n",
       "<!-- 38 -->\n",
       "<g id=\"node31\" class=\"node\"><title>38</title>\n",
       "<ellipse fill=\"none\" stroke=\"black\" cx=\"1371.77\" cy=\"-18\" rx=\"70.2062\" ry=\"18\"/>\n",
       "<text text-anchor=\"middle\" x=\"1371.77\" y=\"-13.8\" font-family=\"Times,serif\" font-size=\"14.00\">leaf=0.14581041</text>\n",
       "</g>\n",
       "<!-- 30&#45;&gt;38 -->\n",
       "<g id=\"edge30\" class=\"edge\"><title>30&#45;&gt;38</title>\n",
       "<path fill=\"none\" stroke=\"#ff0000\" d=\"M1238.78,-89.0405C1252.04,-82.764 1267.76,-75.1687 1281.77,-68 1299.38,-58.9924 1318.67,-48.5667 1334.86,-39.6536\"/>\n",
       "<polygon fill=\"#ff0000\" stroke=\"#ff0000\" points=\"1336.94,-42.5037 1344,-34.6026 1333.55,-36.3775 1336.94,-42.5037\"/>\n",
       "<text text-anchor=\"middle\" x=\"1313.77\" y=\"-56.8\" font-family=\"Times,serif\" font-size=\"14.00\">no</text>\n",
       "</g>\n",
       "<!-- 23 -->\n",
       "<g id=\"node36\" class=\"node\"><title>23</title>\n",
       "<ellipse fill=\"none\" stroke=\"black\" cx=\"1328.77\" cy=\"-190\" rx=\"74.55\" ry=\"18\"/>\n",
       "<text text-anchor=\"middle\" x=\"1328.77\" y=\"-185.8\" font-family=\"Times,serif\" font-size=\"14.00\">leaf=0.159375012</text>\n",
       "</g>\n",
       "<!-- 13&#45;&gt;23 -->\n",
       "<g id=\"edge35\" class=\"edge\"><title>13&#45;&gt;23</title>\n",
       "<path fill=\"none\" stroke=\"#0000ff\" d=\"M1377.72,-258.404C1368.92,-246.288 1356.84,-229.654 1346.89,-215.942\"/>\n",
       "<polygon fill=\"#0000ff\" stroke=\"#0000ff\" points=\"1349.72,-213.884 1341.01,-207.849 1344.05,-217.997 1349.72,-213.884\"/>\n",
       "<text text-anchor=\"middle\" x=\"1398.39\" y=\"-228.8\" font-family=\"Times,serif\" font-size=\"14.00\">yes, missing</text>\n",
       "</g>\n",
       "<!-- 24 -->\n",
       "<g id=\"node37\" class=\"node\"><title>24</title>\n",
       "<ellipse fill=\"none\" stroke=\"black\" cx=\"1496.77\" cy=\"-190\" rx=\"74.55\" ry=\"18\"/>\n",
       "<text text-anchor=\"middle\" x=\"1496.77\" y=\"-185.8\" font-family=\"Times,serif\" font-size=\"14.00\">leaf=0.934875071</text>\n",
       "</g>\n",
       "<!-- 13&#45;&gt;24 -->\n",
       "<g id=\"edge36\" class=\"edge\"><title>13&#45;&gt;24</title>\n",
       "<path fill=\"none\" stroke=\"#ff0000\" d=\"M1410.52,-259.864C1418.75,-253.773 1428.27,-246.633 1436.77,-240 1447.49,-231.645 1459.08,-222.256 1469.2,-213.949\"/>\n",
       "<polygon fill=\"#ff0000\" stroke=\"#ff0000\" points=\"1471.46,-216.62 1476.95,-207.559 1467.01,-211.218 1471.46,-216.62\"/>\n",
       "<text text-anchor=\"middle\" x=\"1459.77\" y=\"-228.8\" font-family=\"Times,serif\" font-size=\"14.00\">no</text>\n",
       "</g>\n",
       "<!-- 25 -->\n",
       "<g id=\"node38\" class=\"node\"><title>25</title>\n",
       "<ellipse fill=\"none\" stroke=\"black\" cx=\"1664.77\" cy=\"-190\" rx=\"74.55\" ry=\"18\"/>\n",
       "<text text-anchor=\"middle\" x=\"1664.77\" y=\"-185.8\" font-family=\"Times,serif\" font-size=\"14.00\">leaf=0.210749999</text>\n",
       "</g>\n",
       "<!-- 14&#45;&gt;25 -->\n",
       "<g id=\"edge37\" class=\"edge\"><title>14&#45;&gt;25</title>\n",
       "<path fill=\"none\" stroke=\"#0000ff\" d=\"M1664.77,-257.595C1664.77,-246.257 1664.77,-231.227 1664.77,-218.315\"/>\n",
       "<polygon fill=\"#0000ff\" stroke=\"#0000ff\" points=\"1668.27,-218.095 1664.77,-208.095 1661.27,-218.095 1668.27,-218.095\"/>\n",
       "<text text-anchor=\"middle\" x=\"1699.39\" y=\"-228.8\" font-family=\"Times,serif\" font-size=\"14.00\">yes, missing</text>\n",
       "</g>\n",
       "<!-- 26 -->\n",
       "<g id=\"node39\" class=\"node\"><title>26</title>\n",
       "<ellipse fill=\"none\" stroke=\"black\" cx=\"1792.77\" cy=\"-190\" rx=\"35.9276\" ry=\"18\"/>\n",
       "<text text-anchor=\"middle\" x=\"1792.77\" y=\"-185.8\" font-family=\"Times,serif\" font-size=\"14.00\">leaf=&#45;0</text>\n",
       "</g>\n",
       "<!-- 14&#45;&gt;26 -->\n",
       "<g id=\"edge38\" class=\"edge\"><title>14&#45;&gt;26</title>\n",
       "<path fill=\"none\" stroke=\"#ff0000\" d=\"M1701.52,-259.837C1713.47,-254.269 1726.54,-247.478 1737.77,-240 1749.25,-232.359 1760.82,-222.463 1770.36,-213.567\"/>\n",
       "<polygon fill=\"#ff0000\" stroke=\"#ff0000\" points=\"1773.05,-215.841 1777.85,-206.401 1768.21,-210.782 1773.05,-215.841\"/>\n",
       "<text text-anchor=\"middle\" x=\"1761.77\" y=\"-228.8\" font-family=\"Times,serif\" font-size=\"14.00\">no</text>\n",
       "</g>\n",
       "</g>\n",
       "</svg>\n"
      ],
      "text/plain": [
       "<graphviz.files.Source at 0x125490710>"
      ]
     },
     "execution_count": 72,
     "metadata": {},
     "output_type": "execute_result"
    }
   ],
   "source": [
    "xgb.to_graphviz(bst, num_trees=1)"
   ]
  },
  {
   "cell_type": "code",
   "execution_count": 73,
   "metadata": {
    "colab": {},
    "colab_type": "code",
    "id": "qcfr4LioalN5"
   },
   "outputs": [
    {
     "data": {
      "text/plain": [
       "(60,)"
      ]
     },
     "execution_count": 73,
     "metadata": {},
     "output_type": "execute_result"
    }
   ],
   "source": [
    "y_pred.shape"
   ]
  },
  {
   "cell_type": "code",
   "execution_count": 74,
   "metadata": {},
   "outputs": [
    {
     "name": "stdout",
     "output_type": "stream",
     "text": [
      "65\n"
     ]
    },
    {
     "data": {
      "text/html": [
       "<div>\n",
       "<style scoped>\n",
       "    .dataframe tbody tr th:only-of-type {\n",
       "        vertical-align: middle;\n",
       "    }\n",
       "\n",
       "    .dataframe tbody tr th {\n",
       "        vertical-align: top;\n",
       "    }\n",
       "\n",
       "    .dataframe thead th {\n",
       "        text-align: right;\n",
       "    }\n",
       "</style>\n",
       "<table border=\"1\" class=\"dataframe\">\n",
       "  <thead>\n",
       "    <tr style=\"text-align: right;\">\n",
       "      <th></th>\n",
       "      <th>ncode</th>\n",
       "      <th>title</th>\n",
       "      <th>category</th>\n",
       "      <th>bookmark_cat</th>\n",
       "      <th>created_at</th>\n",
       "      <th>updated_at</th>\n",
       "      <th>sum_char_count</th>\n",
       "      <th>sum_new_line_count</th>\n",
       "      <th>sum_talk_char_count</th>\n",
       "      <th>sum_word_count</th>\n",
       "      <th>...</th>\n",
       "      <th>wc_動詞-非自立</th>\n",
       "      <th>wc_助詞-並立助詞</th>\n",
       "      <th>wc_接頭詞-数接続</th>\n",
       "      <th>wc_名詞-接続詞的</th>\n",
       "      <th>wc_形容詞-自立</th>\n",
       "      <th>wc_名詞-固有名詞-人名-一般</th>\n",
       "      <th>wc_記号-括弧開</th>\n",
       "      <th>wc_名詞-固有名詞-人名-名</th>\n",
       "      <th>wc_名詞-接尾-形容動詞語幹</th>\n",
       "      <th>rating</th>\n",
       "    </tr>\n",
       "  </thead>\n",
       "  <tbody>\n",
       "    <tr>\n",
       "      <th>0</th>\n",
       "      <td>n8642gc</td>\n",
       "      <td>聖貨を集めて、ぶん回せ！</td>\n",
       "      <td>ハイファンタジー〔ファンタジー〕</td>\n",
       "      <td>-1</td>\n",
       "      <td>1.585469e+09</td>\n",
       "      <td>1.593763e+09</td>\n",
       "      <td>37740</td>\n",
       "      <td>2310</td>\n",
       "      <td>0</td>\n",
       "      <td>383130</td>\n",
       "      <td>...</td>\n",
       "      <td>30</td>\n",
       "      <td>240</td>\n",
       "      <td>0</td>\n",
       "      <td>0</td>\n",
       "      <td>270</td>\n",
       "      <td>30</td>\n",
       "      <td>480</td>\n",
       "      <td>60</td>\n",
       "      <td>0</td>\n",
       "      <td>-1</td>\n",
       "    </tr>\n",
       "    <tr>\n",
       "      <th>1</th>\n",
       "      <td>n8693gg</td>\n",
       "      <td>十年目、帰還を諦めた転移者はいまさら主人公になる</td>\n",
       "      <td>ハイファンタジー〔ファンタジー〕</td>\n",
       "      <td>-1</td>\n",
       "      <td>1.591009e+09</td>\n",
       "      <td>1.593774e+09</td>\n",
       "      <td>144330</td>\n",
       "      <td>5760</td>\n",
       "      <td>44100</td>\n",
       "      <td>1561170</td>\n",
       "      <td>...</td>\n",
       "      <td>1680</td>\n",
       "      <td>60</td>\n",
       "      <td>0</td>\n",
       "      <td>0</td>\n",
       "      <td>1710</td>\n",
       "      <td>0</td>\n",
       "      <td>1800</td>\n",
       "      <td>270</td>\n",
       "      <td>60</td>\n",
       "      <td>-1</td>\n",
       "    </tr>\n",
       "    <tr>\n",
       "      <th>2</th>\n",
       "      <td>n4452ge</td>\n",
       "      <td>俺だけレベルが上がる世界で悪徳領主になっていた</td>\n",
       "      <td>ハイファンタジー〔ファンタジー〕</td>\n",
       "      <td>-1</td>\n",
       "      <td>1.587737e+09</td>\n",
       "      <td>1.593006e+09</td>\n",
       "      <td>156720</td>\n",
       "      <td>6210</td>\n",
       "      <td>13290</td>\n",
       "      <td>1636680</td>\n",
       "      <td>...</td>\n",
       "      <td>1890</td>\n",
       "      <td>180</td>\n",
       "      <td>0</td>\n",
       "      <td>0</td>\n",
       "      <td>930</td>\n",
       "      <td>60</td>\n",
       "      <td>810</td>\n",
       "      <td>0</td>\n",
       "      <td>60</td>\n",
       "      <td>-1</td>\n",
       "    </tr>\n",
       "  </tbody>\n",
       "</table>\n",
       "<p>3 rows × 132 columns</p>\n",
       "</div>"
      ],
      "text/plain": [
       "     ncode                     title          category  bookmark_cat  \\\n",
       "0  n8642gc              聖貨を集めて、ぶん回せ！  ハイファンタジー〔ファンタジー〕            -1   \n",
       "1  n8693gg  十年目、帰還を諦めた転移者はいまさら主人公になる  ハイファンタジー〔ファンタジー〕            -1   \n",
       "2  n4452ge   俺だけレベルが上がる世界で悪徳領主になっていた  ハイファンタジー〔ファンタジー〕            -1   \n",
       "\n",
       "     created_at    updated_at  sum_char_count  sum_new_line_count  \\\n",
       "0  1.585469e+09  1.593763e+09           37740                2310   \n",
       "1  1.591009e+09  1.593774e+09          144330                5760   \n",
       "2  1.587737e+09  1.593006e+09          156720                6210   \n",
       "\n",
       "   sum_talk_char_count  sum_word_count  ...  wc_動詞-非自立  wc_助詞-並立助詞  \\\n",
       "0                    0          383130  ...         30         240   \n",
       "1                44100         1561170  ...       1680          60   \n",
       "2                13290         1636680  ...       1890         180   \n",
       "\n",
       "   wc_接頭詞-数接続  wc_名詞-接続詞的  wc_形容詞-自立  wc_名詞-固有名詞-人名-一般  wc_記号-括弧開  \\\n",
       "0           0           0        270                30        480   \n",
       "1           0           0       1710                 0       1800   \n",
       "2           0           0        930                60        810   \n",
       "\n",
       "   wc_名詞-固有名詞-人名-名  wc_名詞-接尾-形容動詞語幹  rating  \n",
       "0               60                0      -1  \n",
       "1              270               60      -1  \n",
       "2                0               60      -1  \n",
       "\n",
       "[3 rows x 132 columns]"
      ]
     },
     "execution_count": 74,
     "metadata": {},
     "output_type": "execute_result"
    }
   ],
   "source": [
    "df_test = laod_data('ranking_test_data.csv')\n",
    "print(len(df_test))\n",
    "df_test.head(3)"
   ]
  },
  {
   "cell_type": "code",
   "execution_count": 75,
   "metadata": {},
   "outputs": [
    {
     "data": {
      "text/html": [
       "<div>\n",
       "<style scoped>\n",
       "    .dataframe tbody tr th:only-of-type {\n",
       "        vertical-align: middle;\n",
       "    }\n",
       "\n",
       "    .dataframe tbody tr th {\n",
       "        vertical-align: top;\n",
       "    }\n",
       "\n",
       "    .dataframe thead th {\n",
       "        text-align: right;\n",
       "    }\n",
       "</style>\n",
       "<table border=\"1\" class=\"dataframe\">\n",
       "  <thead>\n",
       "    <tr style=\"text-align: right;\">\n",
       "      <th></th>\n",
       "      <th>category</th>\n",
       "      <th>created_at</th>\n",
       "      <th>updated_at</th>\n",
       "      <th>sum_char_count</th>\n",
       "      <th>sum_new_line_count</th>\n",
       "      <th>sum_talk_char_count</th>\n",
       "      <th>sum_word_count</th>\n",
       "      <th>avg_char_count</th>\n",
       "      <th>avg_new_line_count</th>\n",
       "      <th>avg_talk_char_count</th>\n",
       "      <th>avg_word_count</th>\n",
       "      <th>rating</th>\n",
       "    </tr>\n",
       "  </thead>\n",
       "  <tbody>\n",
       "    <tr>\n",
       "      <th>0</th>\n",
       "      <td>6</td>\n",
       "      <td>1.585469e+09</td>\n",
       "      <td>1.593763e+09</td>\n",
       "      <td>37740</td>\n",
       "      <td>2310</td>\n",
       "      <td>0</td>\n",
       "      <td>383130</td>\n",
       "      <td>1258.0</td>\n",
       "      <td>77.0</td>\n",
       "      <td>0.0</td>\n",
       "      <td>12771.0</td>\n",
       "      <td>-1</td>\n",
       "    </tr>\n",
       "    <tr>\n",
       "      <th>1</th>\n",
       "      <td>6</td>\n",
       "      <td>1.591009e+09</td>\n",
       "      <td>1.593774e+09</td>\n",
       "      <td>144330</td>\n",
       "      <td>5760</td>\n",
       "      <td>44100</td>\n",
       "      <td>1561170</td>\n",
       "      <td>4811.0</td>\n",
       "      <td>192.0</td>\n",
       "      <td>1470.0</td>\n",
       "      <td>52039.0</td>\n",
       "      <td>-1</td>\n",
       "    </tr>\n",
       "    <tr>\n",
       "      <th>2</th>\n",
       "      <td>6</td>\n",
       "      <td>1.587737e+09</td>\n",
       "      <td>1.593006e+09</td>\n",
       "      <td>156720</td>\n",
       "      <td>6210</td>\n",
       "      <td>13290</td>\n",
       "      <td>1636680</td>\n",
       "      <td>5224.0</td>\n",
       "      <td>207.0</td>\n",
       "      <td>443.0</td>\n",
       "      <td>54556.0</td>\n",
       "      <td>-1</td>\n",
       "    </tr>\n",
       "  </tbody>\n",
       "</table>\n",
       "</div>"
      ],
      "text/plain": [
       "   category    created_at    updated_at  sum_char_count  sum_new_line_count  \\\n",
       "0         6  1.585469e+09  1.593763e+09           37740                2310   \n",
       "1         6  1.591009e+09  1.593774e+09          144330                5760   \n",
       "2         6  1.587737e+09  1.593006e+09          156720                6210   \n",
       "\n",
       "   sum_talk_char_count  sum_word_count  avg_char_count  avg_new_line_count  \\\n",
       "0                    0          383130          1258.0                77.0   \n",
       "1                44100         1561170          4811.0               192.0   \n",
       "2                13290         1636680          5224.0               207.0   \n",
       "\n",
       "   avg_talk_char_count  avg_word_count  rating  \n",
       "0                  0.0         12771.0      -1  \n",
       "1               1470.0         52039.0      -1  \n",
       "2                443.0         54556.0      -1  "
      ]
     },
     "execution_count": 75,
     "metadata": {},
     "output_type": "execute_result"
    }
   ],
   "source": [
    "df_test2 = data_preprocess(df_test)\n",
    "df_test2.head(3)"
   ]
  },
  {
   "cell_type": "code",
   "execution_count": 76,
   "metadata": {},
   "outputs": [
    {
     "name": "stdout",
     "output_type": "stream",
     "text": [
      "(65, 11)\n",
      "<xgboost.core.DMatrix object at 0x12582e780>\n"
     ]
    }
   ],
   "source": [
    "X = df_test2.drop(['rating'], axis=1).values\n",
    "y = df_test2['rating'].values\n",
    "print(X.shape)\n",
    "\n",
    "#dtrain = xgb.DMatrix(X_train, label=y_train)\n",
    "dtest = xgb.DMatrix(X, label=y)\n",
    "print(dtest)"
   ]
  },
  {
   "cell_type": "code",
   "execution_count": 77,
   "metadata": {
    "scrolled": true
   },
   "outputs": [
    {
     "data": {
      "text/plain": [
       "array([2.9747853 , 2.1415815 , 3.049545  , 2.648631  , 2.6607714 ,\n",
       "       2.411335  , 2.3464704 , 0.94291514, 3.8658109 , 2.7784894 ,\n",
       "       3.7220838 , 2.5382795 , 3.265153  , 1.7221812 , 0.57267386,\n",
       "       1.6226844 , 1.9959738 , 2.137836  , 3.357317  , 1.655051  ,\n",
       "       1.7815632 , 1.3355079 , 1.9709467 , 3.8582737 , 3.1267679 ,\n",
       "       2.6414602 , 1.505339  , 3.2653186 , 1.815579  , 2.6037543 ,\n",
       "       2.3155732 , 3.1975248 , 2.09097   , 1.850057  , 2.1229582 ,\n",
       "       3.0568416 , 1.1689353 , 1.6300114 , 1.7736166 , 1.7536402 ,\n",
       "       2.3489594 , 2.3049793 , 3.9006765 , 2.9911368 , 1.346031  ,\n",
       "       2.5027034 , 3.403943  , 2.9039419 , 3.2790606 , 3.0291355 ,\n",
       "       3.1849403 , 1.2648125 , 3.6891623 , 1.9851847 , 2.003158  ,\n",
       "       2.0011473 , 1.8382349 , 1.4934354 , 1.3394707 , 1.922114  ,\n",
       "       3.9332585 , 2.478283  , 2.656311  , 3.7752464 , 1.3872931 ],\n",
       "      dtype=float32)"
      ]
     },
     "execution_count": 77,
     "metadata": {},
     "output_type": "execute_result"
    }
   ],
   "source": [
    "y_pred = bst.predict(dtest)\n",
    "y_pred"
   ]
  },
  {
   "cell_type": "code",
   "execution_count": 82,
   "metadata": {},
   "outputs": [
    {
     "name": "stdout",
     "output_type": "stream",
     "text": [
      "n8642gc\t聖貨を集めて、ぶん回せ！\t2.974785327911377\n",
      "n8693gg\t十年目、帰還を諦めた転移者はいまさら主人公になる\t2.1415815353393555\n",
      "n4452ge\t俺だけレベルが上がる世界で悪徳領主になっていた\t3.0495450496673584\n",
      "n8604ge\tスキル「屋台」で異世界生活～食料生成スキルを手に入れたので、商会を立ち上げようと思います～\t2.6486310958862305\n",
      "n6812gh\t悪徳領主の息子に転生！？　～普通に行動しているだけなのに、周囲からちやほやされます～\t2.660771369934082\n",
      "n7408gf\t異世界ゆるり農家生活\t2.411334991455078\n",
      "n0121gf\t異世界へ来たのはいいけれど、モンスターと戦える程若くないおっさん。神様からもらったスキルは戦いにも生産にも役立たない。それでも生きる為に転々と渡り歩く\t2.346470355987549\n",
      "n4834fx\t転生先が残念王子だった件　～今は腹筋１回もできないけど痩せて異世界救います～\t0.942915141582489\n",
      "n0512gh\t『錬金BOX』で生産チート+付与無双～無能と罵られ侯爵家を追放されたが、なんでも錬成できる箱のおかげで勝ち組人生を送れそうです～\t3.8658108711242676\n",
      "n4205gg\tかませ犬から始める天下統一〜前世のアニメの第一部のボスに憑依してました〜\t2.778489351272583\n",
      "n1773gf\t16年間魔法が使えず落ちこぼれだった俺が、科学者だった前世を思い出して異世界無双\t3.722083806991577\n",
      "n1217et\t信者ゼロの女神サマと始める異世界攻略　クラスメイト最弱の魔法使い\t2.5382795333862305\n",
      "n7657bb\tかわいいコックさん\t3.265152931213379\n",
      "n5677cl\t亡びの国の征服者～魔王は世界を征服するようです～\t1.7221812009811401\n",
      "n5375cy\t転生して田舎でスローライフをおくりたい\t0.5726738572120667\n",
      "n2945eg\tアラフォー男の異世界通販生活\t1.622684359550476\n",
      "n1118fh\t加護なし令嬢の小さな村\t1.995973825454712\n",
      "n3191eh\t乙女ゲー世界はモブに厳しい世界です\t2.13783597946167\n",
      "n2276dz\t異世界でスローライフを（願望）\t3.3573169708251953\n",
      "n6475db\t私、能力は平均値でって言ったよね！\t1.6550509929656982\n",
      "n0610eg\t魔石グルメ　～魔物の力を食べたオレは最強！～（Web版）\t1.78156316280365\n",
      "n8106fu\t異世界のんびり素材採取生活\t1.335507869720459\n",
      "n4811fg\tＴＲＰＧプレイヤーが異世界で最強ビルドを目指す 　～ヘンダーソン氏の福音を～\t1.9709466695785522\n",
      "n9629ex\t最弱テイマーはゴミ拾いの旅を始めました。\t3.85827374458313\n",
      "n8568fy\t普通職の異世界スローライフ　～チート（があるくせに小者）な薬剤師の無双（しない）物語～\t3.126767873764038\n",
      "n3245fy\t主人公じゃない！\t2.6414601802825928\n",
      "n5529cy\t老後に備えて異世界で８万枚の金貨を貯めます\t1.5053390264511108\n",
      "n9544br\t週末冒険者\t3.2653186321258545\n",
      "n1970fg\t田中家、転生する。\t1.8155790567398071\n",
      "n8516fu\t劣等人の魔剣使い　スキルボードを駆使して最強に至る（WEB連載版）\t2.6037542819976807\n",
      "n1290ff\t最強陰陽師の異世界転生記　～下僕の妖怪どもに比べてモンスターが弱すぎるんだが～\t2.315573215484619\n",
      "n4342ge\t聖女に追放された転生公爵は、辺境でのんびりと畑を耕すつもりだった～来るなというのに領民が沢山来るから内政無双をすることになってしまった件。はやく休ませて、頼む～\t3.1975247859954834\n",
      "n4546fc\t異世界の貧乏農家に転生したので、レンガを作って城を建てることにしました\t2.090970039367676\n",
      "n6300fz\t領民0の土地を押し付けられた俺、生産スキルを駆使して最強国家を作り上げる\t1.8500570058822632\n",
      "n4185ci\tくま　クマ　熊　ベアー\t2.122958183288574\n",
      "n4444ge\t植物モンスター娘日記　〜聖女だった私が裏切られた果てにアルラウネに転生してしまったので、これからは光合成しながら静かに植物ライフを過ごします〜\t3.0568416118621826\n",
      "n6088cy\tポーション頼みで生き延びます！\t1.1689352989196777\n",
      "n3726bt\tレジェンド\t1.6300114393234253\n",
      "n3742ey\tご主人様とゆく異世界サバイバル！\t1.7736165523529053\n",
      "n6006cw\t転生したら剣でした\t1.7536401748657227\n",
      "n2421eu\t転生幼女はあきらめない\t2.348959445953369\n",
      "n6078fg\t不死鳥への転生　ドラゴン倒せるって普通の鳥じゃないよね？　（旧題：憧れへの転生　以下同文）\t2.3049793243408203\n",
      "n0229fv\t植物魔法チートでのんびり領主生活始めます～前世の知識を駆使して農業したら、逆転人生始まった件～\t3.9006764888763428\n",
      "n0350em\t異世界転移、地雷付き。\t2.9911367893218994\n",
      "n9984fb\t身体は児童、中身はおっさんの成り上がり冒険記\t1.3460309505462646\n",
      "n1745ct\t四度目は嫌な死属性魔術師\t2.5027034282684326\n",
      "n6829bd\t賢者の弟子を名乗る賢者\t3.4039430618286133\n",
      "n9940gd\t最強錬金術師の異世界珍道中\t2.9039418697357178\n",
      "n9293gf\tゲームのストーリー開始前に死ぬ“設定上最強キャラ”に転生したので頑張って生きたい\t3.2790606021881104\n",
      "n1234gg\t魔法戦士セイクリッド・ナイツ～エロゲの触手怪人に転生した俺は、変身ヒロインたちを守り抜く～\t3.0291354656219482\n",
      "n5981bn\tニートだけどハロワにいったら異世界につれてかれた\t3.1849403381347656\n",
      "n4499gh\tよいこの世界統一せんそう！\t1.2648124694824219\n",
      "n6247cr\t鑑定能力で調合師になります\t3.689162254333496\n",
      "n5782dy\tハズレ判定から始まったチート魔術士生活\t1.985184669494629\n",
      "n1444fs\t転生領主の優良開拓〜前世の記憶を生かしてホワイトに努めたら、有能な人材が集まりすぎました〜\t2.0031580924987793\n",
      "n3406ek\t異世界で土地を買って農場を作ろう\t2.0011472702026367\n",
      "n7080gh\t連載版　踏み台が己を自覚した結果ww\t1.8382349014282227\n",
      "n8760ei\t異世界黙示録マイノグーラ～破滅の文明で始める世界征服～\t1.4934353828430176\n",
      "n2671do\t魔王になったので、ダンジョン造って人外娘とほのぼのする\t1.3394707441329956\n",
      "n4698cv\t転生したらドラゴンの卵だった～最強以外目指さねぇ～\t1.9221140146255493\n",
      "n5645ci\t自分が異世界に転移するなら\t3.933258533477783\n",
      "n4344dy\t世界最強の後衛　～迷宮国の新人探索者～\t2.478282928466797\n",
      "n7056gh\tレベルが上がらない！　～と思ってたら元の世界に帰って悪党ぶん殴ってザクザクレベルアップ。異世界では英雄、元の世界ではヒーロー～　【地獄の異世界転移コマンドー（仮）】\t2.65631103515625\n",
      "n6078gg\tイントゥ・ザ・ゴーレム！～土くれに生まれ変わった私は自己改造で進化する～\t3.7752463817596436\n",
      "n3258fh\tクラスメイトに殺された時、僕の復讐は大体達成された\t1.3872931003570557\n"
     ]
    }
   ],
   "source": [
    "#df_test.loc[0].title\n",
    "for i, y in enumerate(y_pred):\n",
    "    row = df_test.loc[i] \n",
    "    print('{}\\t{}\\t{}'.format(row.ncode, row.title, y))"
   ]
  },
  {
   "cell_type": "code",
   "execution_count": null,
   "metadata": {},
   "outputs": [],
   "source": []
  }
 ],
 "metadata": {
  "colab": {
   "authorship_tag": "ABX9TyNJKqUP19CQOBX92xv+zUYA",
   "collapsed_sections": [],
   "mount_file_id": "1hGfVCEXdPg3Bx7w2FsWb6sMP-uDmj2zF",
   "name": "model_2_xgboost.ipynb",
   "provenance": []
  },
  "kernelspec": {
   "display_name": "Python 3",
   "language": "python",
   "name": "python3"
  },
  "language_info": {
   "codemirror_mode": {
    "name": "ipython",
    "version": 3
   },
   "file_extension": ".py",
   "mimetype": "text/x-python",
   "name": "python",
   "nbconvert_exporter": "python",
   "pygments_lexer": "ipython3",
   "version": "3.7.3"
  }
 },
 "nbformat": 4,
 "nbformat_minor": 1
}
