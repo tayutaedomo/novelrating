{
 "cells": [
  {
   "cell_type": "code",
   "execution_count": 1,
   "metadata": {
    "colab": {},
    "colab_type": "code",
    "executionInfo": {
     "elapsed": 1722,
     "status": "ok",
     "timestamp": 1594730288525,
     "user": {
      "displayName": "Noboru Koike",
      "photoUrl": "https://lh3.googleusercontent.com/a-/AOh14Ggp8njUb4jc54JrzfM5cQBkfiCdlz6nY17y8-1szg=s64",
      "userId": "05156582812995850159"
     },
     "user_tz": -540
    },
    "id": "oRgRzYov47aM"
   },
   "outputs": [],
   "source": [
    "import numpy as np\n",
    "import pandas as pd\n",
    "import matplotlib.pyplot as plt\n",
    "import os"
   ]
  },
  {
   "cell_type": "code",
   "execution_count": 2,
   "metadata": {
    "colab": {},
    "colab_type": "code",
    "executionInfo": {
     "elapsed": 1715,
     "status": "ok",
     "timestamp": 1594730288527,
     "user": {
      "displayName": "Noboru Koike",
      "photoUrl": "https://lh3.googleusercontent.com/a-/AOh14Ggp8njUb4jc54JrzfM5cQBkfiCdlz6nY17y8-1szg=s64",
      "userId": "05156582812995850159"
     },
     "user_tz": -540
    },
    "id": "SIGukkQOVPP9"
   },
   "outputs": [],
   "source": [
    "import xgboost as xgb"
   ]
  },
  {
   "cell_type": "code",
   "execution_count": 3,
   "metadata": {
    "colab": {
     "base_uri": "https://localhost:8080/",
     "height": 34
    },
    "colab_type": "code",
    "executionInfo": {
     "elapsed": 1116,
     "status": "ok",
     "timestamp": 1594730306620,
     "user": {
      "displayName": "Noboru Koike",
      "photoUrl": "https://lh3.googleusercontent.com/a-/AOh14Ggp8njUb4jc54JrzfM5cQBkfiCdlz6nY17y8-1szg=s64",
      "userId": "05156582812995850159"
     },
     "user_tz": -540
    },
    "id": "1RYqNw20VSgQ",
    "outputId": "30f4c55f-50e6-4908-c5b6-186d9399431a"
   },
   "outputs": [
    {
     "data": {
      "text/plain": [
       "'1.1.1'"
      ]
     },
     "execution_count": 3,
     "metadata": {},
     "output_type": "execute_result"
    }
   ],
   "source": [
    "xgb.__version__"
   ]
  },
  {
   "cell_type": "code",
   "execution_count": 4,
   "metadata": {
    "colab": {},
    "colab_type": "code",
    "executionInfo": {
     "elapsed": 568,
     "status": "ok",
     "timestamp": 1594730407388,
     "user": {
      "displayName": "Noboru Koike",
      "photoUrl": "https://lh3.googleusercontent.com/a-/AOh14Ggp8njUb4jc54JrzfM5cQBkfiCdlz6nY17y8-1szg=s64",
      "userId": "05156582812995850159"
     },
     "user_tz": -540
    },
    "id": "BGSuozoETk3q"
   },
   "outputs": [],
   "source": [
    "DATA_DIR_PATH = os.path.join('..', '..', 'data')\n",
    "\n",
    "def laod_data(file_name):\n",
    "  file_path = os.path.join(DATA_DIR_PATH, file_name)\n",
    "  return pd.read_csv(file_path, header=0)"
   ]
  },
  {
   "cell_type": "code",
   "execution_count": 5,
   "metadata": {
    "colab": {
     "base_uri": "https://localhost:8080/",
     "height": 903
    },
    "colab_type": "code",
    "executionInfo": {
     "elapsed": 1575,
     "status": "ok",
     "timestamp": 1594730410377,
     "user": {
      "displayName": "Noboru Koike",
      "photoUrl": "https://lh3.googleusercontent.com/a-/AOh14Ggp8njUb4jc54JrzfM5cQBkfiCdlz6nY17y8-1szg=s64",
      "userId": "05156582812995850159"
     },
     "user_tz": -540
    },
    "id": "gF4_j_jaUYLh",
    "outputId": "a687d088-94ea-4a93-991e-69dc4a9bf2cd"
   },
   "outputs": [
    {
     "name": "stdout",
     "output_type": "stream",
     "text": [
      "199\n"
     ]
    },
    {
     "data": {
      "text/html": [
       "<div>\n",
       "<style scoped>\n",
       "    .dataframe tbody tr th:only-of-type {\n",
       "        vertical-align: middle;\n",
       "    }\n",
       "\n",
       "    .dataframe tbody tr th {\n",
       "        vertical-align: top;\n",
       "    }\n",
       "\n",
       "    .dataframe thead th {\n",
       "        text-align: right;\n",
       "    }\n",
       "</style>\n",
       "<table border=\"1\" class=\"dataframe\">\n",
       "  <thead>\n",
       "    <tr style=\"text-align: right;\">\n",
       "      <th></th>\n",
       "      <th>ncode</th>\n",
       "      <th>title</th>\n",
       "      <th>category</th>\n",
       "      <th>bookmark_cat</th>\n",
       "      <th>created_at</th>\n",
       "      <th>updated_at</th>\n",
       "      <th>sum_char_count</th>\n",
       "      <th>sum_new_line_count</th>\n",
       "      <th>sum_talk_char_count</th>\n",
       "      <th>sum_word_count</th>\n",
       "      <th>...</th>\n",
       "      <th>wc_その他-間投</th>\n",
       "      <th>wc_名詞-固有名詞-人名-名</th>\n",
       "      <th>wc_助動詞</th>\n",
       "      <th>wc_助詞-接続助詞</th>\n",
       "      <th>wc_名詞-代名詞-一般</th>\n",
       "      <th>wc_副詞-一般</th>\n",
       "      <th>wc_名詞-接続詞的</th>\n",
       "      <th>wc_名詞-固有名詞-組織</th>\n",
       "      <th>wc_記号-句点</th>\n",
       "      <th>rating</th>\n",
       "    </tr>\n",
       "  </thead>\n",
       "  <tbody>\n",
       "    <tr>\n",
       "      <th>0</th>\n",
       "      <td>n4366gd</td>\n",
       "      <td>雷帝の軌跡　～俺だけ使える【雷魔術】で最強の魔術師を目指します～</td>\n",
       "      <td>ハイファンタジー〔ファンタジー〕</td>\n",
       "      <td>1</td>\n",
       "      <td>1.586338e+09</td>\n",
       "      <td>1.593468e+09</td>\n",
       "      <td>92340</td>\n",
       "      <td>3840</td>\n",
       "      <td>28950</td>\n",
       "      <td>992220</td>\n",
       "      <td>...</td>\n",
       "      <td>0</td>\n",
       "      <td>30</td>\n",
       "      <td>4680</td>\n",
       "      <td>2250</td>\n",
       "      <td>900</td>\n",
       "      <td>570</td>\n",
       "      <td>0</td>\n",
       "      <td>0</td>\n",
       "      <td>1830</td>\n",
       "      <td>3.0</td>\n",
       "    </tr>\n",
       "    <tr>\n",
       "      <th>1</th>\n",
       "      <td>n7336gg</td>\n",
       "      <td>星斬りの剣士</td>\n",
       "      <td>ハイファンタジー〔ファンタジー〕</td>\n",
       "      <td>1</td>\n",
       "      <td>1.590714e+09</td>\n",
       "      <td>1.593338e+09</td>\n",
       "      <td>77880</td>\n",
       "      <td>4140</td>\n",
       "      <td>4950</td>\n",
       "      <td>863400</td>\n",
       "      <td>...</td>\n",
       "      <td>0</td>\n",
       "      <td>90</td>\n",
       "      <td>4320</td>\n",
       "      <td>1620</td>\n",
       "      <td>1590</td>\n",
       "      <td>390</td>\n",
       "      <td>0</td>\n",
       "      <td>60</td>\n",
       "      <td>2280</td>\n",
       "      <td>4.0</td>\n",
       "    </tr>\n",
       "    <tr>\n",
       "      <th>2</th>\n",
       "      <td>n9677fw</td>\n",
       "      <td>落ちこぼれ国を出る〜実は世界で４人目の付与術師だった件について〜</td>\n",
       "      <td>ハイファンタジー〔ファンタジー〕</td>\n",
       "      <td>1</td>\n",
       "      <td>1.575176e+09</td>\n",
       "      <td>1.593429e+09</td>\n",
       "      <td>59880</td>\n",
       "      <td>3090</td>\n",
       "      <td>10230</td>\n",
       "      <td>628470</td>\n",
       "      <td>...</td>\n",
       "      <td>0</td>\n",
       "      <td>240</td>\n",
       "      <td>2490</td>\n",
       "      <td>1260</td>\n",
       "      <td>450</td>\n",
       "      <td>360</td>\n",
       "      <td>30</td>\n",
       "      <td>0</td>\n",
       "      <td>930</td>\n",
       "      <td>3.0</td>\n",
       "    </tr>\n",
       "  </tbody>\n",
       "</table>\n",
       "<p>3 rows × 133 columns</p>\n",
       "</div>"
      ],
      "text/plain": [
       "     ncode                             title          category  bookmark_cat  \\\n",
       "0  n4366gd  雷帝の軌跡　～俺だけ使える【雷魔術】で最強の魔術師を目指します～  ハイファンタジー〔ファンタジー〕             1   \n",
       "1  n7336gg                            星斬りの剣士  ハイファンタジー〔ファンタジー〕             1   \n",
       "2  n9677fw  落ちこぼれ国を出る〜実は世界で４人目の付与術師だった件について〜  ハイファンタジー〔ファンタジー〕             1   \n",
       "\n",
       "     created_at    updated_at  sum_char_count  sum_new_line_count  \\\n",
       "0  1.586338e+09  1.593468e+09           92340                3840   \n",
       "1  1.590714e+09  1.593338e+09           77880                4140   \n",
       "2  1.575176e+09  1.593429e+09           59880                3090   \n",
       "\n",
       "   sum_talk_char_count  sum_word_count  ...  wc_その他-間投  wc_名詞-固有名詞-人名-名  \\\n",
       "0                28950          992220  ...          0               30   \n",
       "1                 4950          863400  ...          0               90   \n",
       "2                10230          628470  ...          0              240   \n",
       "\n",
       "   wc_助動詞  wc_助詞-接続助詞  wc_名詞-代名詞-一般  wc_副詞-一般  wc_名詞-接続詞的  wc_名詞-固有名詞-組織  \\\n",
       "0    4680        2250           900       570           0              0   \n",
       "1    4320        1620          1590       390           0             60   \n",
       "2    2490        1260           450       360          30              0   \n",
       "\n",
       "   wc_記号-句点  rating  \n",
       "0      1830     3.0  \n",
       "1      2280     4.0  \n",
       "2       930     3.0  \n",
       "\n",
       "[3 rows x 133 columns]"
      ]
     },
     "execution_count": 5,
     "metadata": {},
     "output_type": "execute_result"
    }
   ],
   "source": [
    "df_train = laod_data('bookmark_train_data.csv')\n",
    "print(len(df_train))\n",
    "df_train.head(3)"
   ]
  },
  {
   "cell_type": "code",
   "execution_count": 6,
   "metadata": {
    "colab": {
     "base_uri": "https://localhost:8080/",
     "height": 803
    },
    "colab_type": "code",
    "executionInfo": {
     "elapsed": 1004,
     "status": "ok",
     "timestamp": 1594730422367,
     "user": {
      "displayName": "Noboru Koike",
      "photoUrl": "https://lh3.googleusercontent.com/a-/AOh14Ggp8njUb4jc54JrzfM5cQBkfiCdlz6nY17y8-1szg=s64",
      "userId": "05156582812995850159"
     },
     "user_tz": -540
    },
    "id": "0anP9otzVHWQ",
    "outputId": "debc6268-c78b-4ba7-8af6-e1fb7801a2ad"
   },
   "outputs": [],
   "source": [
    "# df_test = laod_data('ranking_test_data.csv')\n",
    "# print(len(df_test))\n",
    "# df_test.head(3)"
   ]
  },
  {
   "cell_type": "code",
   "execution_count": 7,
   "metadata": {
    "colab": {},
    "colab_type": "code",
    "executionInfo": {
     "elapsed": 618,
     "status": "ok",
     "timestamp": 1594730713002,
     "user": {
      "displayName": "Noboru Koike",
      "photoUrl": "https://lh3.googleusercontent.com/a-/AOh14Ggp8njUb4jc54JrzfM5cQBkfiCdlz6nY17y8-1szg=s64",
      "userId": "05156582812995850159"
     },
     "user_tz": -540
    },
    "id": "BjRn1voqVOp4"
   },
   "outputs": [],
   "source": [
    "from sklearn.preprocessing import LabelEncoder\n",
    "\n",
    "cat_le = LabelEncoder()\n",
    "cat_le.fit(df_train['category'])\n",
    "\n",
    "\n",
    "def data_preprocess(df):\n",
    "  new_df = df.drop(['ncode', 'title', 'bookmark_cat'], axis=1)\n",
    "\n",
    "  new_df['category'] = cat_le.transform(new_df['category'])\n",
    "\n",
    "  new_df['rating'] = new_df['rating'] * 10\n",
    "  new_df = new_df.astype({'rating': 'int32'})\n",
    "\n",
    "  kw_columns = [col for col in new_df.columns if col.find('kw_') != -1]\n",
    "  new_df = new_df.drop(kw_columns, axis=1)\n",
    "\n",
    "  wc_columns = [col for col in new_df.columns if col.find('wc_') != -1]\n",
    "  new_df = new_df.drop(wc_columns, axis=1)\n",
    "\n",
    "  return new_df"
   ]
  },
  {
   "cell_type": "code",
   "execution_count": 8,
   "metadata": {
    "colab": {
     "base_uri": "https://localhost:8080/",
     "height": 320
    },
    "colab_type": "code",
    "executionInfo": {
     "elapsed": 663,
     "status": "ok",
     "timestamp": 1594730714698,
     "user": {
      "displayName": "Noboru Koike",
      "photoUrl": "https://lh3.googleusercontent.com/a-/AOh14Ggp8njUb4jc54JrzfM5cQBkfiCdlz6nY17y8-1szg=s64",
      "userId": "05156582812995850159"
     },
     "user_tz": -540
    },
    "id": "JwrsiCQqYCJm",
    "outputId": "f67f097c-1686-4ce6-ff41-1c09b82d6d08"
   },
   "outputs": [
    {
     "data": {
      "text/html": [
       "<div>\n",
       "<style scoped>\n",
       "    .dataframe tbody tr th:only-of-type {\n",
       "        vertical-align: middle;\n",
       "    }\n",
       "\n",
       "    .dataframe tbody tr th {\n",
       "        vertical-align: top;\n",
       "    }\n",
       "\n",
       "    .dataframe thead th {\n",
       "        text-align: right;\n",
       "    }\n",
       "</style>\n",
       "<table border=\"1\" class=\"dataframe\">\n",
       "  <thead>\n",
       "    <tr style=\"text-align: right;\">\n",
       "      <th></th>\n",
       "      <th>category</th>\n",
       "      <th>created_at</th>\n",
       "      <th>updated_at</th>\n",
       "      <th>sum_char_count</th>\n",
       "      <th>sum_new_line_count</th>\n",
       "      <th>sum_talk_char_count</th>\n",
       "      <th>sum_word_count</th>\n",
       "      <th>avg_char_count</th>\n",
       "      <th>avg_new_line_count</th>\n",
       "      <th>avg_talk_char_count</th>\n",
       "      <th>avg_word_count</th>\n",
       "      <th>rating</th>\n",
       "    </tr>\n",
       "  </thead>\n",
       "  <tbody>\n",
       "    <tr>\n",
       "      <th>0</th>\n",
       "      <td>6</td>\n",
       "      <td>1.586338e+09</td>\n",
       "      <td>1.593468e+09</td>\n",
       "      <td>92340</td>\n",
       "      <td>3840</td>\n",
       "      <td>28950</td>\n",
       "      <td>992220</td>\n",
       "      <td>3078.0</td>\n",
       "      <td>128.0</td>\n",
       "      <td>965.0</td>\n",
       "      <td>33074.0</td>\n",
       "      <td>30</td>\n",
       "    </tr>\n",
       "    <tr>\n",
       "      <th>1</th>\n",
       "      <td>6</td>\n",
       "      <td>1.590714e+09</td>\n",
       "      <td>1.593338e+09</td>\n",
       "      <td>77880</td>\n",
       "      <td>4140</td>\n",
       "      <td>4950</td>\n",
       "      <td>863400</td>\n",
       "      <td>2596.0</td>\n",
       "      <td>138.0</td>\n",
       "      <td>165.0</td>\n",
       "      <td>28780.0</td>\n",
       "      <td>40</td>\n",
       "    </tr>\n",
       "    <tr>\n",
       "      <th>2</th>\n",
       "      <td>6</td>\n",
       "      <td>1.575176e+09</td>\n",
       "      <td>1.593429e+09</td>\n",
       "      <td>59880</td>\n",
       "      <td>3090</td>\n",
       "      <td>10230</td>\n",
       "      <td>628470</td>\n",
       "      <td>1996.0</td>\n",
       "      <td>103.0</td>\n",
       "      <td>341.0</td>\n",
       "      <td>20949.0</td>\n",
       "      <td>30</td>\n",
       "    </tr>\n",
       "  </tbody>\n",
       "</table>\n",
       "</div>"
      ],
      "text/plain": [
       "   category    created_at    updated_at  sum_char_count  sum_new_line_count  \\\n",
       "0         6  1.586338e+09  1.593468e+09           92340                3840   \n",
       "1         6  1.590714e+09  1.593338e+09           77880                4140   \n",
       "2         6  1.575176e+09  1.593429e+09           59880                3090   \n",
       "\n",
       "   sum_talk_char_count  sum_word_count  avg_char_count  avg_new_line_count  \\\n",
       "0                28950          992220          3078.0               128.0   \n",
       "1                 4950          863400          2596.0               138.0   \n",
       "2                10230          628470          1996.0               103.0   \n",
       "\n",
       "   avg_talk_char_count  avg_word_count  rating  \n",
       "0                965.0         33074.0      30  \n",
       "1                165.0         28780.0      40  \n",
       "2                341.0         20949.0      30  "
      ]
     },
     "execution_count": 8,
     "metadata": {},
     "output_type": "execute_result"
    }
   ],
   "source": [
    "df_train2 = data_preprocess(df_train)\n",
    "df_train2.head(3)"
   ]
  },
  {
   "cell_type": "code",
   "execution_count": 9,
   "metadata": {
    "colab": {
     "base_uri": "https://localhost:8080/",
     "height": 33
    },
    "colab_type": "code",
    "executionInfo": {
     "elapsed": 596,
     "status": "ok",
     "timestamp": 1594731114530,
     "user": {
      "displayName": "Noboru Koike",
      "photoUrl": "https://lh3.googleusercontent.com/a-/AOh14Ggp8njUb4jc54JrzfM5cQBkfiCdlz6nY17y8-1szg=s64",
      "userId": "05156582812995850159"
     },
     "user_tz": -540
    },
    "id": "kuN9fampYLzA",
    "outputId": "8d02c502-b3c6-4339-a8cc-8603b04e1330"
   },
   "outputs": [
    {
     "name": "stdout",
     "output_type": "stream",
     "text": [
      "(199, 11) (199,)\n"
     ]
    }
   ],
   "source": [
    "X = df_train2.drop(['rating'], axis=1).values\n",
    "y = df_train2['rating'].values\n",
    "print(X.shape, y.shape)"
   ]
  },
  {
   "cell_type": "code",
   "execution_count": 10,
   "metadata": {
    "colab": {
     "base_uri": "https://localhost:8080/",
     "height": 150
    },
    "colab_type": "code",
    "executionInfo": {
     "elapsed": 540,
     "status": "ok",
     "timestamp": 1594730878797,
     "user": {
      "displayName": "Noboru Koike",
      "photoUrl": "https://lh3.googleusercontent.com/a-/AOh14Ggp8njUb4jc54JrzfM5cQBkfiCdlz6nY17y8-1szg=s64",
      "userId": "05156582812995850159"
     },
     "user_tz": -540
    },
    "id": "RVFJGk05XPUu",
    "outputId": "53a88aee-6a2e-4bf4-d6e2-f5a18c27fbcc"
   },
   "outputs": [
    {
     "data": {
      "text/plain": [
       "Index(['category', 'created_at', 'updated_at', 'sum_char_count',\n",
       "       'sum_new_line_count', 'sum_talk_char_count', 'sum_word_count',\n",
       "       'avg_char_count', 'avg_new_line_count', 'avg_talk_char_count',\n",
       "       'avg_word_count', 'rating'],\n",
       "      dtype='object')"
      ]
     },
     "execution_count": 10,
     "metadata": {},
     "output_type": "execute_result"
    }
   ],
   "source": [
    "df_train2.keys()"
   ]
  },
  {
   "cell_type": "code",
   "execution_count": 11,
   "metadata": {
    "colab": {
     "base_uri": "https://localhost:8080/",
     "height": 266
    },
    "colab_type": "code",
    "executionInfo": {
     "elapsed": 544,
     "status": "ok",
     "timestamp": 1594731260039,
     "user": {
      "displayName": "Noboru Koike",
      "photoUrl": "https://lh3.googleusercontent.com/a-/AOh14Ggp8njUb4jc54JrzfM5cQBkfiCdlz6nY17y8-1szg=s64",
      "userId": "05156582812995850159"
     },
     "user_tz": -540
    },
    "id": "LMm0wPh6Y8pK",
    "outputId": "4faef2d3-e401-436d-90c8-33fb5359e6f4"
   },
   "outputs": [
    {
     "name": "stdout",
     "output_type": "stream",
     "text": [
      "[30 40 30 40 30 30 30 40 50 20 40 40 30 30 50 40 40 40 30 25 20 30 20 40\n",
      " 40 40 35 30 20 20 40 30 40 20 30 20 35 20 20 30 35 35 35 10 30 45 75 60\n",
      " 15 60 60 30 60 45 45 30 45 45 45 52 15 15 45 45 52 45 60 15 45 45 52 45\n",
      " 45 75 45 45 52 60 52 67 60 45 45 60 52 45 52 67 60 52 10 15  5 17 15 10\n",
      " 15 15 10 15 15 10  5 10 15 15 15 10 10 10 15 15 10 15 10 10 15  5  5  5\n",
      "  5  5  5  5 10  5  5  5  5 10 15 10 15 15 10 10  5 15 10 10 15 15 15 10\n",
      "  5  5 15 17 15 15 10 10 15 15 15 10  5  5 15 15 15 15 17 10 10 15 15 15\n",
      " 15 15 15 15 10 15  5 15 17 15 17 15 15 15 15 15 10 15 15 15 15 15 15 15\n",
      " 15 15 10 15 15 10 15]\n",
      "15\n",
      "[ 5 10 15 17 20 25 30 35 40 45 50 52 60 67 75]\n",
      "[19 29 61  5  9  1 16  5 13 18  2  8  9  2  2]\n"
     ]
    }
   ],
   "source": [
    "print(y)\n",
    "\n",
    "u, counts = np.unique(y, return_counts=True)\n",
    "print(len(u))\n",
    "print(u)\n",
    "print(counts)"
   ]
  },
  {
   "cell_type": "code",
   "execution_count": 13,
   "metadata": {},
   "outputs": [],
   "source": [
    "import seaborn as sns"
   ]
  },
  {
   "cell_type": "code",
   "execution_count": 14,
   "metadata": {},
   "outputs": [
    {
     "data": {
      "text/plain": [
       "<matplotlib.axes._subplots.AxesSubplot at 0x12567bba8>"
      ]
     },
     "execution_count": 14,
     "metadata": {},
     "output_type": "execute_result"
    },
    {
     "data": {
      "image/png": "[encoded data removed]",
      "text/plain": [
       "<Figure size 432x288 with 1 Axes>"
      ]
     },
     "metadata": {
      "needs_background": "light"
     },
     "output_type": "display_data"
    }
   ],
   "source": [
    "sns.distplot(y, kde=False, rug=False, bins=20)"
   ]
  },
  {
   "cell_type": "code",
   "execution_count": 15,
   "metadata": {
    "colab": {},
    "colab_type": "code",
    "executionInfo": {
     "elapsed": 568,
     "status": "ok",
     "timestamp": 1594731288899,
     "user": {
      "displayName": "Noboru Koike",
      "photoUrl": "https://lh3.googleusercontent.com/a-/AOh14Ggp8njUb4jc54JrzfM5cQBkfiCdlz6nY17y8-1szg=s64",
      "userId": "05156582812995850159"
     },
     "user_tz": -540
    },
    "id": "R89OYNT0e_7A"
   },
   "outputs": [],
   "source": [
    "from sklearn.model_selection import train_test_split\n",
    "\n",
    "X_train, X_val, y_train, y_val = train_test_split(X, y, test_size=0.3, shuffle=True, random_state=1)\n",
    "#X_train, X_val, y_train, y_val = train_test_split(X_resampled, y_resampled, test_size=0.3, shuffle=True, random_state=1)"
   ]
  },
  {
   "cell_type": "code",
   "execution_count": 16,
   "metadata": {
    "colab": {
     "base_uri": "https://localhost:8080/",
     "height": 33
    },
    "colab_type": "code",
    "executionInfo": {
     "elapsed": 690,
     "status": "ok",
     "timestamp": 1594731319243,
     "user": {
      "displayName": "Noboru Koike",
      "photoUrl": "https://lh3.googleusercontent.com/a-/AOh14Ggp8njUb4jc54JrzfM5cQBkfiCdlz6nY17y8-1szg=s64",
      "userId": "05156582812995850159"
     },
     "user_tz": -540
    },
    "id": "ozky4y8lYKpL",
    "outputId": "63cf2a41-9158-43e3-fe4d-09224267e58b"
   },
   "outputs": [
    {
     "name": "stdout",
     "output_type": "stream",
     "text": [
      "(139, 11) (139,)\n",
      "(60, 11) (60,)\n"
     ]
    }
   ],
   "source": [
    "print(X_train.shape, y_train.shape)\n",
    "print(X_val.shape, y_val.shape)"
   ]
  },
  {
   "cell_type": "code",
   "execution_count": 17,
   "metadata": {},
   "outputs": [],
   "source": [
    "dtrain = xgb.DMatrix(X_train, label=y_train)\n",
    "dval = xgb.DMatrix(X_val, label=y_val)"
   ]
  },
  {
   "cell_type": "code",
   "execution_count": 18,
   "metadata": {},
   "outputs": [
    {
     "name": "stdout",
     "output_type": "stream",
     "text": [
      "['f0', 'f1', 'f2', 'f3', 'f4', 'f5', 'f6', 'f7', 'f8', 'f9', 'f10']\n"
     ]
    }
   ],
   "source": [
    "print(dtrain.feature_names)"
   ]
  },
  {
   "cell_type": "code",
   "execution_count": 19,
   "metadata": {},
   "outputs": [
    {
     "name": "stdout",
     "output_type": "stream",
     "text": [
      "[03:15:47] WARNING: /Users/travis/build/dmlc/xgboost/src/objective/regression_obj.cu:170: reg:linear is now deprecated in favor of reg:squarederror.\n",
      "[0]\ttrain-rmse:23.84318\teval-rmse:21.99571\n",
      "Multiple eval metrics have been passed: 'eval-rmse' will be used for early stopping.\n",
      "\n",
      "Will train until eval-rmse hasn't improved in 20 rounds.\n",
      "[1]\ttrain-rmse:18.91438\teval-rmse:18.25224\n",
      "[2]\ttrain-rmse:15.67317\teval-rmse:15.94071\n",
      "[3]\ttrain-rmse:12.46807\teval-rmse:15.52410\n",
      "[4]\ttrain-rmse:10.11113\teval-rmse:15.51394\n",
      "[5]\ttrain-rmse:8.33563\teval-rmse:15.61091\n",
      "[6]\ttrain-rmse:6.93880\teval-rmse:15.89006\n",
      "[7]\ttrain-rmse:5.98241\teval-rmse:16.19113\n",
      "[8]\ttrain-rmse:5.37909\teval-rmse:16.29915\n",
      "[9]\ttrain-rmse:4.61644\teval-rmse:16.50214\n",
      "[10]\ttrain-rmse:4.18032\teval-rmse:16.54972\n",
      "[11]\ttrain-rmse:3.93710\teval-rmse:16.52509\n",
      "[12]\ttrain-rmse:3.71748\teval-rmse:16.55514\n",
      "[13]\ttrain-rmse:3.32031\teval-rmse:16.64584\n",
      "[14]\ttrain-rmse:3.07743\teval-rmse:16.63242\n",
      "[15]\ttrain-rmse:2.70366\teval-rmse:16.67213\n",
      "[16]\ttrain-rmse:2.53301\teval-rmse:16.65605\n",
      "[17]\ttrain-rmse:2.29982\teval-rmse:16.72036\n",
      "[18]\ttrain-rmse:2.18481\teval-rmse:16.75503\n",
      "[19]\ttrain-rmse:2.09479\teval-rmse:16.77700\n",
      "[20]\ttrain-rmse:1.94738\teval-rmse:16.77882\n",
      "[21]\ttrain-rmse:1.78322\teval-rmse:16.82710\n",
      "[22]\ttrain-rmse:1.65012\teval-rmse:16.87976\n",
      "[23]\ttrain-rmse:1.52369\teval-rmse:16.87049\n",
      "[24]\ttrain-rmse:1.36757\teval-rmse:16.80896\n",
      "Stopping. Best iteration:\n",
      "[4]\ttrain-rmse:10.11113\teval-rmse:15.51394\n",
      "\n",
      "[03:15:47] WARNING: /Users/travis/build/dmlc/xgboost/src/objective/regression_obj.cu:170: reg:linear is now deprecated in favor of reg:squarederror.\n"
     ]
    }
   ],
   "source": [
    "xgb_params = {\n",
    "    'objective': 'reg:linear',\n",
    "    'eval_metric': 'rmse',\n",
    "}\n",
    "\n",
    "evals = [(dtrain, 'train'), (dval, 'eval')]\n",
    "evals_result = {}\n",
    "\n",
    "bst = xgb.train(xgb_params,\n",
    "                dtrain,\n",
    "                num_boost_round=100,\n",
    "                early_stopping_rounds=20,\n",
    "                evals=evals,\n",
    "                evals_result=evals_result)"
   ]
  },
  {
   "cell_type": "code",
   "execution_count": 20,
   "metadata": {},
   "outputs": [
    {
     "name": "stdout",
     "output_type": "stream",
     "text": [
      "RMSE: 16.80896221530921\n"
     ]
    }
   ],
   "source": [
    "import math\n",
    "from sklearn.metrics import mean_squared_error\n",
    "\n",
    "y_pred = bst.predict(dval)\n",
    "mse = mean_squared_error(y_val, y_pred)\n",
    "print('RMSE:', math.sqrt(mse))"
   ]
  },
  {
   "cell_type": "code",
   "execution_count": 21,
   "metadata": {},
   "outputs": [
    {
     "data": {
      "image/png": "[encoded data removed]",
      "text/plain": [
       "<Figure size 432x288 with 1 Axes>"
      ]
     },
     "metadata": {
      "needs_background": "light"
     },
     "output_type": "display_data"
    }
   ],
   "source": [
    "train_metric = evals_result['train']['rmse']\n",
    "plt.plot(train_metric, label='train rmse')\n",
    "\n",
    "eval_metric = evals_result['eval']['rmse']\n",
    "plt.plot(eval_metric, label='eval rmse')\n",
    "\n",
    "plt.grid()\n",
    "plt.legend()\n",
    "plt.xlabel('rounds')\n",
    "plt.ylabel('rmse')\n",
    "plt.show()"
   ]
  },
  {
   "cell_type": "code",
   "execution_count": 22,
   "metadata": {},
   "outputs": [
    {
     "data": {
      "image/png": "[encoded data removed]",
      "text/plain": [
       "<Figure size 864x288 with 1 Axes>"
      ]
     },
     "metadata": {
      "needs_background": "light"
     },
     "output_type": "display_data"
    }
   ],
   "source": [
    "_, ax = plt.subplots(figsize=(12, 4))\n",
    "\n",
    "xgb.plot_importance(bst,ax=ax,\n",
    "                    importance_type='gain',\n",
    "                    show_values=False)\n",
    "\n",
    "plt.show()"
   ]
  },
  {
   "cell_type": "code",
   "execution_count": 23,
   "metadata": {},
   "outputs": [
    {
     "name": "stdout",
     "output_type": "stream",
     "text": [
      "{'f0': 'category', 'f1': 'created_at', 'f2': 'updated_at', 'f3': 'sum_char_count', 'f4': 'sum_new_line_count', 'f5': 'sum_talk_char_count', 'f6': 'sum_word_count', 'f7': 'avg_char_count', 'f8': 'avg_new_line_count', 'f9': 'avg_talk_char_count', 'f10': 'avg_word_count', 'f11': 'rating'}\n",
      "{'updated_at': 92, 'created_at': 165, 'sum_word_count': 38, 'sum_talk_char_count': 56, 'sum_char_count': 72, 'category': 60, 'sum_new_line_count': 67}\n"
     ]
    },
    {
     "data": {
      "text/plain": [
       "<matplotlib.axes._subplots.AxesSubplot at 0x1258afa58>"
      ]
     },
     "execution_count": 23,
     "metadata": {},
     "output_type": "execute_result"
    },
    {
     "data": {
      "image/png": "[encoded data removed]",
      "text/plain": [
       "<Figure size 432x288 with 1 Axes>"
      ]
     },
     "metadata": {
      "needs_background": "light"
     },
     "output_type": "display_data"
    }
   ],
   "source": [
    "mapper = {'f{0}'.format(i): v for i, v in enumerate(df_train2.columns)}\n",
    "print(mapper)\n",
    "\n",
    "mapped = {mapper[k]: v for k, v in bst.get_fscore().items()}\n",
    "print(mapped)\n",
    "\n",
    "xgb.plot_importance(mapped)"
   ]
  },
  {
   "cell_type": "code",
   "execution_count": 24,
   "metadata": {},
   "outputs": [
    {
     "data": {
      "image/svg+xml": [
       "<?xml version=\"1.0\" encoding=\"UTF-8\" standalone=\"no\"?>\n",
       "<!DOCTYPE svg PUBLIC \"-//W3C//DTD SVG 1.1//EN\"\n",
       " \"http://www.w3.org/Graphics/SVG/1.1/DTD/svg11.dtd\">\n",
       "<!-- Generated by graphviz version 2.38.0 (20140413.2041)\n",
       " -->\n",
       "<!-- Title: %3 Pages: 1 -->\n",
       "<svg width=\"2050pt\" height=\"560pt\"\n",
       " viewBox=\"0.00 0.00 2050.13 560.00\" xmlns=\"http://www.w3.org/2000/svg\" xmlns:xlink=\"http://www.w3.org/1999/xlink\">\n",
       "<g id=\"graph0\" class=\"graph\" transform=\"scale(1 1) rotate(0) translate(4 556)\">\n",
       "<title>%3</title>\n",
       "<polygon fill=\"white\" stroke=\"none\" points=\"-4,4 -4,-556 2046.13,-556 2046.13,4 -4,4\"/>\n",
       "<!-- 0 -->\n",
       "<g id=\"node1\" class=\"node\"><title>0</title>\n",
       "<ellipse fill=\"none\" stroke=\"black\" cx=\"838.775\" cy=\"-534\" rx=\"82.4474\" ry=\"18\"/>\n",
       "<text text-anchor=\"middle\" x=\"838.775\" y=\"-529.8\" font-family=\"Times,serif\" font-size=\"14.00\">f2&lt;1.51396864e+09</text>\n",
       "</g>\n",
       "<!-- 1 -->\n",
       "<g id=\"node2\" class=\"node\"><title>1</title>\n",
       "<ellipse fill=\"none\" stroke=\"black\" cx=\"707.775\" cy=\"-448\" rx=\"82.4474\" ry=\"18\"/>\n",
       "<text text-anchor=\"middle\" x=\"707.775\" y=\"-443.8\" font-family=\"Times,serif\" font-size=\"14.00\">f1&lt;1.45980774e+09</text>\n",
       "</g>\n",
       "<!-- 0&#45;&gt;1 -->\n",
       "<g id=\"edge1\" class=\"edge\"><title>0&#45;&gt;1</title>\n",
       "<path fill=\"none\" stroke=\"#0000ff\" d=\"M813.517,-516.804C793.038,-503.673 763.99,-485.047 741.52,-470.638\"/>\n",
       "<polygon fill=\"#0000ff\" stroke=\"#0000ff\" points=\"743.263,-467.598 732.955,-465.146 739.484,-473.491 743.263,-467.598\"/>\n",
       "<text text-anchor=\"middle\" x=\"816.388\" y=\"-486.8\" font-family=\"Times,serif\" font-size=\"14.00\">yes, missing</text>\n",
       "</g>\n",
       "<!-- 2 -->\n",
       "<g id=\"node3\" class=\"node\"><title>2</title>\n",
       "<ellipse fill=\"none\" stroke=\"black\" cx=\"935.775\" cy=\"-448\" rx=\"33.5305\" ry=\"18\"/>\n",
       "<text text-anchor=\"middle\" x=\"935.775\" y=\"-443.8\" font-family=\"Times,serif\" font-size=\"14.00\">f0&lt;9.5</text>\n",
       "</g>\n",
       "<!-- 0&#45;&gt;2 -->\n",
       "<g id=\"edge2\" class=\"edge\"><title>0&#45;&gt;2</title>\n",
       "<path fill=\"none\" stroke=\"#ff0000\" d=\"M857.939,-516.404C873.217,-503.174 894.717,-484.555 911.25,-470.238\"/>\n",
       "<polygon fill=\"#ff0000\" stroke=\"#ff0000\" points=\"913.65,-472.789 918.918,-463.597 909.068,-467.498 913.65,-472.789\"/>\n",
       "<text text-anchor=\"middle\" x=\"900.775\" y=\"-486.8\" font-family=\"Times,serif\" font-size=\"14.00\">no</text>\n",
       "</g>\n",
       "<!-- 3 -->\n",
       "<g id=\"node4\" class=\"node\"><title>3</title>\n",
       "<ellipse fill=\"none\" stroke=\"black\" cx=\"417.775\" cy=\"-362\" rx=\"33.5305\" ry=\"18\"/>\n",
       "<text text-anchor=\"middle\" x=\"417.775\" y=\"-357.8\" font-family=\"Times,serif\" font-size=\"14.00\">f0&lt;6.5</text>\n",
       "</g>\n",
       "<!-- 1&#45;&gt;3 -->\n",
       "<g id=\"edge3\" class=\"edge\"><title>1&#45;&gt;3</title>\n",
       "<path fill=\"none\" stroke=\"#0000ff\" d=\"M660.212,-433.223C603.3,-416.738 509.116,-389.458 456.459,-374.205\"/>\n",
       "<polygon fill=\"#0000ff\" stroke=\"#0000ff\" points=\"457.395,-370.832 446.816,-371.412 455.448,-377.556 457.395,-370.832\"/>\n",
       "<text text-anchor=\"middle\" x=\"615.388\" y=\"-400.8\" font-family=\"Times,serif\" font-size=\"14.00\">yes, missing</text>\n",
       "</g>\n",
       "<!-- 4 -->\n",
       "<g id=\"node5\" class=\"node\"><title>4</title>\n",
       "<ellipse fill=\"none\" stroke=\"black\" cx=\"707.775\" cy=\"-362\" rx=\"82.4474\" ry=\"18\"/>\n",
       "<text text-anchor=\"middle\" x=\"707.775\" y=\"-357.8\" font-family=\"Times,serif\" font-size=\"14.00\">f1&lt;1.48823014e+09</text>\n",
       "</g>\n",
       "<!-- 1&#45;&gt;4 -->\n",
       "<g id=\"edge4\" class=\"edge\"><title>1&#45;&gt;4</title>\n",
       "<path fill=\"none\" stroke=\"#ff0000\" d=\"M707.775,-429.595C707.775,-418.257 707.775,-403.227 707.775,-390.315\"/>\n",
       "<polygon fill=\"#ff0000\" stroke=\"#ff0000\" points=\"711.275,-390.095 707.775,-380.095 704.275,-390.095 711.275,-390.095\"/>\n",
       "<text text-anchor=\"middle\" x=\"714.775\" y=\"-400.8\" font-family=\"Times,serif\" font-size=\"14.00\">no</text>\n",
       "</g>\n",
       "<!-- 5 -->\n",
       "<g id=\"node14\" class=\"node\"><title>5</title>\n",
       "<ellipse fill=\"none\" stroke=\"black\" cx=\"935.775\" cy=\"-362\" rx=\"82.4474\" ry=\"18\"/>\n",
       "<text text-anchor=\"middle\" x=\"935.775\" y=\"-357.8\" font-family=\"Times,serif\" font-size=\"14.00\">f1&lt;1.38805824e+09</text>\n",
       "</g>\n",
       "<!-- 2&#45;&gt;5 -->\n",
       "<g id=\"edge13\" class=\"edge\"><title>2&#45;&gt;5</title>\n",
       "<path fill=\"none\" stroke=\"#0000ff\" d=\"M935.775,-429.595C935.775,-418.257 935.775,-403.227 935.775,-390.315\"/>\n",
       "<polygon fill=\"#0000ff\" stroke=\"#0000ff\" points=\"939.275,-390.095 935.775,-380.095 932.275,-390.095 939.275,-390.095\"/>\n",
       "<text text-anchor=\"middle\" x=\"970.388\" y=\"-400.8\" font-family=\"Times,serif\" font-size=\"14.00\">yes, missing</text>\n",
       "</g>\n",
       "<!-- 6 -->\n",
       "<g id=\"node15\" class=\"node\"><title>6</title>\n",
       "<ellipse fill=\"none\" stroke=\"black\" cx=\"1439.77\" cy=\"-362\" rx=\"77.6038\" ry=\"18\"/>\n",
       "<text text-anchor=\"middle\" x=\"1439.77\" y=\"-357.8\" font-family=\"Times,serif\" font-size=\"14.00\">f1&lt;1.5663817e+09</text>\n",
       "</g>\n",
       "<!-- 2&#45;&gt;6 -->\n",
       "<g id=\"edge14\" class=\"edge\"><title>2&#45;&gt;6</title>\n",
       "<path fill=\"none\" stroke=\"#ff0000\" d=\"M967.302,-441.745C1046.82,-428.493 1257.11,-393.444 1368.39,-374.898\"/>\n",
       "<polygon fill=\"#ff0000\" stroke=\"#ff0000\" points=\"1369.22,-378.307 1378.51,-373.211 1368.07,-371.402 1369.22,-378.307\"/>\n",
       "<text text-anchor=\"middle\" x=\"1225.77\" y=\"-400.8\" font-family=\"Times,serif\" font-size=\"14.00\">no</text>\n",
       "</g>\n",
       "<!-- 7 -->\n",
       "<g id=\"node6\" class=\"node\"><title>7</title>\n",
       "<ellipse fill=\"none\" stroke=\"black\" cx=\"302.775\" cy=\"-276\" rx=\"70.2062\" ry=\"18\"/>\n",
       "<text text-anchor=\"middle\" x=\"302.775\" y=\"-271.8\" font-family=\"Times,serif\" font-size=\"14.00\">leaf=10.4127274</text>\n",
       "</g>\n",
       "<!-- 3&#45;&gt;7 -->\n",
       "<g id=\"edge5\" class=\"edge\"><title>3&#45;&gt;7</title>\n",
       "<path fill=\"none\" stroke=\"#0000ff\" d=\"M390.494,-351.173C376.013,-345.193 358.4,-336.648 344.547,-326 335.773,-319.255 327.538,-310.399 320.737,-302.073\"/>\n",
       "<polygon fill=\"#0000ff\" stroke=\"#0000ff\" points=\"323.362,-299.748 314.448,-294.022 317.846,-304.057 323.362,-299.748\"/>\n",
       "<text text-anchor=\"middle\" x=\"379.388\" y=\"-314.8\" font-family=\"Times,serif\" font-size=\"14.00\">yes, missing</text>\n",
       "</g>\n",
       "<!-- 8 -->\n",
       "<g id=\"node7\" class=\"node\"><title>8</title>\n",
       "<ellipse fill=\"none\" stroke=\"black\" cx=\"417.775\" cy=\"-276\" rx=\"27\" ry=\"18\"/>\n",
       "<text text-anchor=\"middle\" x=\"417.775\" y=\"-271.8\" font-family=\"Times,serif\" font-size=\"14.00\">f0&lt;9</text>\n",
       "</g>\n",
       "<!-- 3&#45;&gt;8 -->\n",
       "<g id=\"edge6\" class=\"edge\"><title>3&#45;&gt;8</title>\n",
       "<path fill=\"none\" stroke=\"#ff0000\" d=\"M417.775,-343.595C417.775,-332.257 417.775,-317.227 417.775,-304.315\"/>\n",
       "<polygon fill=\"#ff0000\" stroke=\"#ff0000\" points=\"421.275,-304.095 417.775,-294.095 414.275,-304.095 421.275,-304.095\"/>\n",
       "<text text-anchor=\"middle\" x=\"424.775\" y=\"-314.8\" font-family=\"Times,serif\" font-size=\"14.00\">no</text>\n",
       "</g>\n",
       "<!-- 9 -->\n",
       "<g id=\"node12\" class=\"node\"><title>9</title>\n",
       "<ellipse fill=\"none\" stroke=\"black\" cx=\"566.775\" cy=\"-276\" rx=\"70.2062\" ry=\"18\"/>\n",
       "<text text-anchor=\"middle\" x=\"566.775\" y=\"-271.8\" font-family=\"Times,serif\" font-size=\"14.00\">leaf=1.79750001</text>\n",
       "</g>\n",
       "<!-- 4&#45;&gt;9 -->\n",
       "<g id=\"edge11\" class=\"edge\"><title>4&#45;&gt;9</title>\n",
       "<path fill=\"none\" stroke=\"#0000ff\" d=\"M676.959,-345.127C665.988,-339.303 653.614,-332.533 642.547,-326 628.05,-317.442 612.372,-307.435 599.059,-298.703\"/>\n",
       "<polygon fill=\"#0000ff\" stroke=\"#0000ff\" points=\"600.962,-295.765 590.689,-293.177 597.106,-301.607 600.962,-295.765\"/>\n",
       "<text text-anchor=\"middle\" x=\"677.388\" y=\"-314.8\" font-family=\"Times,serif\" font-size=\"14.00\">yes, missing</text>\n",
       "</g>\n",
       "<!-- 10 -->\n",
       "<g id=\"node13\" class=\"node\"><title>10</title>\n",
       "<ellipse fill=\"none\" stroke=\"black\" cx=\"725.775\" cy=\"-276\" rx=\"70.2062\" ry=\"18\"/>\n",
       "<text text-anchor=\"middle\" x=\"725.775\" y=\"-271.8\" font-family=\"Times,serif\" font-size=\"14.00\">leaf=5.84812498</text>\n",
       "</g>\n",
       "<!-- 4&#45;&gt;10 -->\n",
       "<g id=\"edge12\" class=\"edge\"><title>4&#45;&gt;10</title>\n",
       "<path fill=\"none\" stroke=\"#ff0000\" d=\"M711.417,-344.001C713.865,-332.578 717.145,-317.274 719.951,-304.176\"/>\n",
       "<polygon fill=\"#ff0000\" stroke=\"#ff0000\" points=\"723.403,-304.773 722.076,-294.262 716.558,-303.306 723.403,-304.773\"/>\n",
       "<text text-anchor=\"middle\" x=\"725.775\" y=\"-314.8\" font-family=\"Times,serif\" font-size=\"14.00\">no</text>\n",
       "</g>\n",
       "<!-- 15 -->\n",
       "<g id=\"node8\" class=\"node\"><title>15</title>\n",
       "<ellipse fill=\"none\" stroke=\"black\" cx=\"244.775\" cy=\"-190\" rx=\"33.5305\" ry=\"18\"/>\n",
       "<text text-anchor=\"middle\" x=\"244.775\" y=\"-185.8\" font-family=\"Times,serif\" font-size=\"14.00\">f0&lt;7.5</text>\n",
       "</g>\n",
       "<!-- 8&#45;&gt;15 -->\n",
       "<g id=\"edge7\" class=\"edge\"><title>8&#45;&gt;15</title>\n",
       "<path fill=\"none\" stroke=\"#0000ff\" d=\"M396.278,-264.799C381.67,-257.849 361.92,-248.417 344.547,-240 322.16,-229.153 297.021,-216.806 277.578,-207.219\"/>\n",
       "<polygon fill=\"#0000ff\" stroke=\"#0000ff\" points=\"279.044,-204.04 268.528,-202.754 275.947,-210.317 279.044,-204.04\"/>\n",
       "<text text-anchor=\"middle\" x=\"379.388\" y=\"-228.8\" font-family=\"Times,serif\" font-size=\"14.00\">yes, missing</text>\n",
       "</g>\n",
       "<!-- 16 -->\n",
       "<g id=\"node9\" class=\"node\"><title>16</title>\n",
       "<ellipse fill=\"none\" stroke=\"black\" cx=\"417.775\" cy=\"-190\" rx=\"70.2062\" ry=\"18\"/>\n",
       "<text text-anchor=\"middle\" x=\"417.775\" y=\"-185.8\" font-family=\"Times,serif\" font-size=\"14.00\">leaf=8.51600075</text>\n",
       "</g>\n",
       "<!-- 8&#45;&gt;16 -->\n",
       "<g id=\"edge8\" class=\"edge\"><title>8&#45;&gt;16</title>\n",
       "<path fill=\"none\" stroke=\"#ff0000\" d=\"M417.775,-257.595C417.775,-246.257 417.775,-231.227 417.775,-218.315\"/>\n",
       "<polygon fill=\"#ff0000\" stroke=\"#ff0000\" points=\"421.275,-218.095 417.775,-208.095 414.275,-218.095 421.275,-218.095\"/>\n",
       "<text text-anchor=\"middle\" x=\"424.775\" y=\"-228.8\" font-family=\"Times,serif\" font-size=\"14.00\">no</text>\n",
       "</g>\n",
       "<!-- 23 -->\n",
       "<g id=\"node10\" class=\"node\"><title>23</title>\n",
       "<ellipse fill=\"none\" stroke=\"black\" cx=\"74.7747\" cy=\"-104\" rx=\"74.55\" ry=\"18\"/>\n",
       "<text text-anchor=\"middle\" x=\"74.7747\" y=\"-99.8\" font-family=\"Times,serif\" font-size=\"14.00\">leaf=0.237000003</text>\n",
       "</g>\n",
       "<!-- 15&#45;&gt;23 -->\n",
       "<g id=\"edge9\" class=\"edge\"><title>15&#45;&gt;23</title>\n",
       "<path fill=\"none\" stroke=\"#0000ff\" d=\"M220.298,-177.472C206.037,-170.713 187.73,-161.963 171.547,-154 152.728,-144.74 131.967,-134.262 114.516,-125.38\"/>\n",
       "<polygon fill=\"#0000ff\" stroke=\"#0000ff\" points=\"115.693,-122.052 105.195,-120.627 112.514,-128.288 115.693,-122.052\"/>\n",
       "<text text-anchor=\"middle\" x=\"206.388\" y=\"-142.8\" font-family=\"Times,serif\" font-size=\"14.00\">yes, missing</text>\n",
       "</g>\n",
       "<!-- 24 -->\n",
       "<g id=\"node11\" class=\"node\"><title>24</title>\n",
       "<ellipse fill=\"none\" stroke=\"black\" cx=\"244.775\" cy=\"-104\" rx=\"77.2916\" ry=\"18\"/>\n",
       "<text text-anchor=\"middle\" x=\"244.775\" y=\"-99.8\" font-family=\"Times,serif\" font-size=\"14.00\">leaf=&#45;0.513000011</text>\n",
       "</g>\n",
       "<!-- 15&#45;&gt;24 -->\n",
       "<g id=\"edge10\" class=\"edge\"><title>15&#45;&gt;24</title>\n",
       "<path fill=\"none\" stroke=\"#ff0000\" d=\"M244.775,-171.595C244.775,-160.257 244.775,-145.227 244.775,-132.315\"/>\n",
       "<polygon fill=\"#ff0000\" stroke=\"#ff0000\" points=\"248.275,-132.095 244.775,-122.095 241.275,-132.095 248.275,-132.095\"/>\n",
       "<text text-anchor=\"middle\" x=\"251.775\" y=\"-142.8\" font-family=\"Times,serif\" font-size=\"14.00\">no</text>\n",
       "</g>\n",
       "<!-- 11 -->\n",
       "<g id=\"node16\" class=\"node\"><title>11</title>\n",
       "<ellipse fill=\"none\" stroke=\"black\" cx=\"881.775\" cy=\"-276\" rx=\"27\" ry=\"18\"/>\n",
       "<text text-anchor=\"middle\" x=\"881.775\" y=\"-271.8\" font-family=\"Times,serif\" font-size=\"14.00\">f0&lt;7</text>\n",
       "</g>\n",
       "<!-- 5&#45;&gt;11 -->\n",
       "<g id=\"edge15\" class=\"edge\"><title>5&#45;&gt;11</title>\n",
       "<path fill=\"none\" stroke=\"#0000ff\" d=\"M924.847,-344.001C916.959,-331.732 906.195,-314.987 897.4,-301.306\"/>\n",
       "<polygon fill=\"#0000ff\" stroke=\"#0000ff\" points=\"900.307,-299.356 891.955,-292.837 894.419,-303.141 900.307,-299.356\"/>\n",
       "<text text-anchor=\"middle\" x=\"947.388\" y=\"-314.8\" font-family=\"Times,serif\" font-size=\"14.00\">yes, missing</text>\n",
       "</g>\n",
       "<!-- 12 -->\n",
       "<g id=\"node17\" class=\"node\"><title>12</title>\n",
       "<ellipse fill=\"none\" stroke=\"black\" cx=\"1180.77\" cy=\"-276\" rx=\"48.9826\" ry=\"18\"/>\n",
       "<text text-anchor=\"middle\" x=\"1180.77\" y=\"-271.8\" font-family=\"Times,serif\" font-size=\"14.00\">f6&lt;967740</text>\n",
       "</g>\n",
       "<!-- 5&#45;&gt;12 -->\n",
       "<g id=\"edge16\" class=\"edge\"><title>5&#45;&gt;12</title>\n",
       "<path fill=\"none\" stroke=\"#ff0000\" d=\"M978.171,-346.464C1022.45,-331.284 1091.58,-307.58 1136.53,-292.168\"/>\n",
       "<polygon fill=\"#ff0000\" stroke=\"#ff0000\" points=\"1137.69,-295.47 1146.02,-288.916 1135.42,-288.849 1137.69,-295.47\"/>\n",
       "<text text-anchor=\"middle\" x=\"1080.77\" y=\"-314.8\" font-family=\"Times,serif\" font-size=\"14.00\">no</text>\n",
       "</g>\n",
       "<!-- 13 -->\n",
       "<g id=\"node40\" class=\"node\"><title>13</title>\n",
       "<ellipse fill=\"none\" stroke=\"black\" cx=\"1439.77\" cy=\"-276\" rx=\"44.6392\" ry=\"18\"/>\n",
       "<text text-anchor=\"middle\" x=\"1439.77\" y=\"-271.8\" font-family=\"Times,serif\" font-size=\"14.00\">f3&lt;15930</text>\n",
       "</g>\n",
       "<!-- 6&#45;&gt;13 -->\n",
       "<g id=\"edge39\" class=\"edge\"><title>6&#45;&gt;13</title>\n",
       "<path fill=\"none\" stroke=\"#0000ff\" d=\"M1439.77,-343.595C1439.77,-332.257 1439.77,-317.227 1439.77,-304.315\"/>\n",
       "<polygon fill=\"#0000ff\" stroke=\"#0000ff\" points=\"1443.27,-304.095 1439.77,-294.095 1436.27,-304.095 1443.27,-304.095\"/>\n",
       "<text text-anchor=\"middle\" x=\"1474.39\" y=\"-314.8\" font-family=\"Times,serif\" font-size=\"14.00\">yes, missing</text>\n",
       "</g>\n",
       "<!-- 14 -->\n",
       "<g id=\"node41\" class=\"node\"><title>14</title>\n",
       "<ellipse fill=\"none\" stroke=\"black\" cx=\"1576.77\" cy=\"-276\" rx=\"74.55\" ry=\"18\"/>\n",
       "<text text-anchor=\"middle\" x=\"1576.77\" y=\"-271.8\" font-family=\"Times,serif\" font-size=\"14.00\">leaf=0.445000023</text>\n",
       "</g>\n",
       "<!-- 6&#45;&gt;14 -->\n",
       "<g id=\"edge40\" class=\"edge\"><title>6&#45;&gt;14</title>\n",
       "<path fill=\"none\" stroke=\"#ff0000\" d=\"M1475.08,-345.864C1487.31,-340.159 1500.91,-333.276 1512.77,-326 1525.32,-318.303 1538.36,-308.659 1549.37,-299.967\"/>\n",
       "<polygon fill=\"#ff0000\" stroke=\"#ff0000\" points=\"1551.75,-302.545 1557.36,-293.553 1547.37,-297.088 1551.75,-302.545\"/>\n",
       "<text text-anchor=\"middle\" x=\"1540.77\" y=\"-314.8\" font-family=\"Times,serif\" font-size=\"14.00\">no</text>\n",
       "</g>\n",
       "<!-- 17 -->\n",
       "<g id=\"node18\" class=\"node\"><title>17</title>\n",
       "<ellipse fill=\"none\" stroke=\"black\" cx=\"581.775\" cy=\"-190\" rx=\"48.9826\" ry=\"18\"/>\n",
       "<text text-anchor=\"middle\" x=\"581.775\" y=\"-185.8\" font-family=\"Times,serif\" font-size=\"14.00\">f6&lt;378705</text>\n",
       "</g>\n",
       "<!-- 11&#45;&gt;17 -->\n",
       "<g id=\"edge17\" class=\"edge\"><title>11&#45;&gt;17</title>\n",
       "<path fill=\"none\" stroke=\"#0000ff\" d=\"M857.224,-268.126C807.545,-254.216 694.331,-222.516 629.573,-204.384\"/>\n",
       "<polygon fill=\"#0000ff\" stroke=\"#0000ff\" points=\"630.186,-200.921 619.613,-201.595 628.299,-207.662 630.186,-200.921\"/>\n",
       "<text text-anchor=\"middle\" x=\"784.388\" y=\"-228.8\" font-family=\"Times,serif\" font-size=\"14.00\">yes, missing</text>\n",
       "</g>\n",
       "<!-- 18 -->\n",
       "<g id=\"node19\" class=\"node\"><title>18</title>\n",
       "<ellipse fill=\"none\" stroke=\"black\" cx=\"881.775\" cy=\"-190\" rx=\"33.5305\" ry=\"18\"/>\n",
       "<text text-anchor=\"middle\" x=\"881.775\" y=\"-185.8\" font-family=\"Times,serif\" font-size=\"14.00\">f0&lt;8.5</text>\n",
       "</g>\n",
       "<!-- 11&#45;&gt;18 -->\n",
       "<g id=\"edge18\" class=\"edge\"><title>11&#45;&gt;18</title>\n",
       "<path fill=\"none\" stroke=\"#ff0000\" d=\"M881.775,-257.595C881.775,-246.257 881.775,-231.227 881.775,-218.315\"/>\n",
       "<polygon fill=\"#ff0000\" stroke=\"#ff0000\" points=\"885.275,-218.095 881.775,-208.095 878.275,-218.095 885.275,-218.095\"/>\n",
       "<text text-anchor=\"middle\" x=\"888.775\" y=\"-228.8\" font-family=\"Times,serif\" font-size=\"14.00\">no</text>\n",
       "</g>\n",
       "<!-- 19 -->\n",
       "<g id=\"node26\" class=\"node\"><title>19</title>\n",
       "<ellipse fill=\"none\" stroke=\"black\" cx=\"1180.77\" cy=\"-190\" rx=\"48.9826\" ry=\"18\"/>\n",
       "<text text-anchor=\"middle\" x=\"1180.77\" y=\"-185.8\" font-family=\"Times,serif\" font-size=\"14.00\">f6&lt;887805</text>\n",
       "</g>\n",
       "<!-- 12&#45;&gt;19 -->\n",
       "<g id=\"edge25\" class=\"edge\"><title>12&#45;&gt;19</title>\n",
       "<path fill=\"none\" stroke=\"#0000ff\" d=\"M1180.77,-257.595C1180.77,-246.257 1180.77,-231.227 1180.77,-218.315\"/>\n",
       "<polygon fill=\"#0000ff\" stroke=\"#0000ff\" points=\"1184.27,-218.095 1180.77,-208.095 1177.27,-218.095 1184.27,-218.095\"/>\n",
       "<text text-anchor=\"middle\" x=\"1215.39\" y=\"-228.8\" font-family=\"Times,serif\" font-size=\"14.00\">yes, missing</text>\n",
       "</g>\n",
       "<!-- 20 -->\n",
       "<g id=\"node27\" class=\"node\"><title>20</title>\n",
       "<ellipse fill=\"none\" stroke=\"black\" cx=\"1302.77\" cy=\"-190\" rx=\"48.9826\" ry=\"18\"/>\n",
       "<text text-anchor=\"middle\" x=\"1302.77\" y=\"-185.8\" font-family=\"Times,serif\" font-size=\"14.00\">f3&lt;120075</text>\n",
       "</g>\n",
       "<!-- 12&#45;&gt;20 -->\n",
       "<g id=\"edge26\" class=\"edge\"><title>12&#45;&gt;20</title>\n",
       "<path fill=\"none\" stroke=\"#ff0000\" d=\"M1212.98,-262.391C1226.18,-256.514 1241.27,-248.854 1253.77,-240 1263.85,-232.866 1273.72,-223.581 1281.93,-215.014\"/>\n",
       "<polygon fill=\"#ff0000\" stroke=\"#ff0000\" points=\"1284.73,-217.143 1288.96,-207.43 1279.59,-212.383 1284.73,-217.143\"/>\n",
       "<text text-anchor=\"middle\" x=\"1277.77\" y=\"-228.8\" font-family=\"Times,serif\" font-size=\"14.00\">no</text>\n",
       "</g>\n",
       "<!-- 25 -->\n",
       "<g id=\"node20\" class=\"node\"><title>25</title>\n",
       "<ellipse fill=\"none\" stroke=\"black\" cx=\"410.775\" cy=\"-104\" rx=\"70.2062\" ry=\"18\"/>\n",
       "<text text-anchor=\"middle\" x=\"410.775\" y=\"-99.8\" font-family=\"Times,serif\" font-size=\"14.00\">leaf=1.36269224</text>\n",
       "</g>\n",
       "<!-- 17&#45;&gt;25 -->\n",
       "<g id=\"edge19\" class=\"edge\"><title>17&#45;&gt;25</title>\n",
       "<path fill=\"none\" stroke=\"#0000ff\" d=\"M552.848,-175.327C539.356,-168.911 523.101,-161.124 508.547,-154 489.233,-144.546 467.872,-133.866 450.055,-124.896\"/>\n",
       "<polygon fill=\"#0000ff\" stroke=\"#0000ff\" points=\"451.595,-121.753 441.09,-120.376 448.444,-128.003 451.595,-121.753\"/>\n",
       "<text text-anchor=\"middle\" x=\"543.388\" y=\"-142.8\" font-family=\"Times,serif\" font-size=\"14.00\">yes, missing</text>\n",
       "</g>\n",
       "<!-- 26 -->\n",
       "<g id=\"node21\" class=\"node\"><title>26</title>\n",
       "<ellipse fill=\"none\" stroke=\"black\" cx=\"581.775\" cy=\"-104\" rx=\"82.4474\" ry=\"18\"/>\n",
       "<text text-anchor=\"middle\" x=\"581.775\" y=\"-99.8\" font-family=\"Times,serif\" font-size=\"14.00\">f1&lt;1.33591309e+09</text>\n",
       "</g>\n",
       "<!-- 17&#45;&gt;26 -->\n",
       "<g id=\"edge20\" class=\"edge\"><title>17&#45;&gt;26</title>\n",
       "<path fill=\"none\" stroke=\"#ff0000\" d=\"M581.775,-171.595C581.775,-160.257 581.775,-145.227 581.775,-132.315\"/>\n",
       "<polygon fill=\"#ff0000\" stroke=\"#ff0000\" points=\"585.275,-132.095 581.775,-122.095 578.275,-132.095 585.275,-132.095\"/>\n",
       "<text text-anchor=\"middle\" x=\"588.775\" y=\"-142.8\" font-family=\"Times,serif\" font-size=\"14.00\">no</text>\n",
       "</g>\n",
       "<!-- 27 -->\n",
       "<g id=\"node24\" class=\"node\"><title>27</title>\n",
       "<ellipse fill=\"none\" stroke=\"black\" cx=\"752.775\" cy=\"-104\" rx=\"70.2062\" ry=\"18\"/>\n",
       "<text text-anchor=\"middle\" x=\"752.775\" y=\"-99.8\" font-family=\"Times,serif\" font-size=\"14.00\">leaf=0.15899992</text>\n",
       "</g>\n",
       "<!-- 18&#45;&gt;27 -->\n",
       "<g id=\"edge23\" class=\"edge\"><title>18&#45;&gt;27</title>\n",
       "<path fill=\"none\" stroke=\"#0000ff\" d=\"M859.726,-176.199C848.749,-169.712 835.338,-161.614 823.547,-154 810.414,-145.519 796.197,-135.787 783.974,-127.243\"/>\n",
       "<polygon fill=\"#0000ff\" stroke=\"#0000ff\" points=\"785.665,-124.153 775.471,-121.266 781.639,-129.88 785.665,-124.153\"/>\n",
       "<text text-anchor=\"middle\" x=\"858.388\" y=\"-142.8\" font-family=\"Times,serif\" font-size=\"14.00\">yes, missing</text>\n",
       "</g>\n",
       "<!-- 28 -->\n",
       "<g id=\"node25\" class=\"node\"><title>28</title>\n",
       "<ellipse fill=\"none\" stroke=\"black\" cx=\"915.775\" cy=\"-104\" rx=\"74.55\" ry=\"18\"/>\n",
       "<text text-anchor=\"middle\" x=\"915.775\" y=\"-99.8\" font-family=\"Times,serif\" font-size=\"14.00\">leaf=0.647019207</text>\n",
       "</g>\n",
       "<!-- 18&#45;&gt;28 -->\n",
       "<g id=\"edge24\" class=\"edge\"><title>18&#45;&gt;28</title>\n",
       "<path fill=\"none\" stroke=\"#ff0000\" d=\"M888.655,-172.001C893.356,-160.388 899.679,-144.765 905.038,-131.526\"/>\n",
       "<polygon fill=\"#ff0000\" stroke=\"#ff0000\" points=\"908.397,-132.556 908.904,-121.973 901.908,-129.93 908.397,-132.556\"/>\n",
       "<text text-anchor=\"middle\" x=\"908.775\" y=\"-142.8\" font-family=\"Times,serif\" font-size=\"14.00\">no</text>\n",
       "</g>\n",
       "<!-- 33 -->\n",
       "<g id=\"node22\" class=\"node\"><title>33</title>\n",
       "<ellipse fill=\"none\" stroke=\"black\" cx=\"481.775\" cy=\"-18\" rx=\"70.2062\" ry=\"18\"/>\n",
       "<text text-anchor=\"middle\" x=\"481.775\" y=\"-13.8\" font-family=\"Times,serif\" font-size=\"14.00\">leaf=3.34072137</text>\n",
       "</g>\n",
       "<!-- 26&#45;&gt;33 -->\n",
       "<g id=\"edge21\" class=\"edge\"><title>26&#45;&gt;33</title>\n",
       "<path fill=\"none\" stroke=\"#0000ff\" d=\"M558.323,-86.4094C550.61,-80.7461 542.084,-74.2594 534.547,-68 525.025,-60.0922 514.976,-50.9726 506.231,-42.761\"/>\n",
       "<polygon fill=\"#0000ff\" stroke=\"#0000ff\" points=\"508.591,-40.1757 498.928,-35.8318 503.773,-45.2538 508.591,-40.1757\"/>\n",
       "<text text-anchor=\"middle\" x=\"569.388\" y=\"-56.8\" font-family=\"Times,serif\" font-size=\"14.00\">yes, missing</text>\n",
       "</g>\n",
       "<!-- 34 -->\n",
       "<g id=\"node23\" class=\"node\"><title>34</title>\n",
       "<ellipse fill=\"none\" stroke=\"black\" cx=\"640.775\" cy=\"-18\" rx=\"70.2062\" ry=\"18\"/>\n",
       "<text text-anchor=\"middle\" x=\"640.775\" y=\"-13.8\" font-family=\"Times,serif\" font-size=\"14.00\">leaf=10.2507353</text>\n",
       "</g>\n",
       "<!-- 26&#45;&gt;34 -->\n",
       "<g id=\"edge22\" class=\"edge\"><title>26&#45;&gt;34</title>\n",
       "<path fill=\"none\" stroke=\"#ff0000\" d=\"M593.714,-86.0013C602.111,-74.0464 613.492,-57.8424 622.959,-44.3646\"/>\n",
       "<polygon fill=\"#ff0000\" stroke=\"#ff0000\" points=\"625.969,-46.1683 628.853,-35.9734 620.241,-42.1448 625.969,-46.1683\"/>\n",
       "<text text-anchor=\"middle\" x=\"622.775\" y=\"-56.8\" font-family=\"Times,serif\" font-size=\"14.00\">no</text>\n",
       "</g>\n",
       "<!-- 29 -->\n",
       "<g id=\"node28\" class=\"node\"><title>29</title>\n",
       "<ellipse fill=\"none\" stroke=\"black\" cx=\"1090.77\" cy=\"-104\" rx=\"81.7992\" ry=\"18\"/>\n",
       "<text text-anchor=\"middle\" x=\"1090.77\" y=\"-99.8\" font-family=\"Times,serif\" font-size=\"14.00\">f2&lt;1.59311552e+09</text>\n",
       "</g>\n",
       "<!-- 19&#45;&gt;29 -->\n",
       "<g id=\"edge27\" class=\"edge\"><title>19&#45;&gt;29</title>\n",
       "<path fill=\"none\" stroke=\"#0000ff\" d=\"M1163.42,-172.804C1150.02,-160.3 1131.29,-142.814 1116.2,-128.731\"/>\n",
       "<polygon fill=\"#0000ff\" stroke=\"#0000ff\" points=\"1118.39,-125.986 1108.69,-121.721 1113.61,-131.103 1118.39,-125.986\"/>\n",
       "<text text-anchor=\"middle\" x=\"1176.39\" y=\"-142.8\" font-family=\"Times,serif\" font-size=\"14.00\">yes, missing</text>\n",
       "</g>\n",
       "<!-- 30 -->\n",
       "<g id=\"node29\" class=\"node\"><title>30</title>\n",
       "<ellipse fill=\"none\" stroke=\"black\" cx=\"1272.77\" cy=\"-104\" rx=\"82.4474\" ry=\"18\"/>\n",
       "<text text-anchor=\"middle\" x=\"1272.77\" y=\"-99.8\" font-family=\"Times,serif\" font-size=\"14.00\">f1&lt;1.47656909e+09</text>\n",
       "</g>\n",
       "<!-- 19&#45;&gt;30 -->\n",
       "<g id=\"edge28\" class=\"edge\"><title>19&#45;&gt;30</title>\n",
       "<path fill=\"none\" stroke=\"#ff0000\" d=\"M1198.51,-172.804C1212.21,-160.3 1231.36,-142.814 1246.78,-128.731\"/>\n",
       "<polygon fill=\"#ff0000\" stroke=\"#ff0000\" points=\"1249.44,-131.049 1254.46,-121.721 1244.72,-125.879 1249.44,-131.049\"/>\n",
       "<text text-anchor=\"middle\" x=\"1239.77\" y=\"-142.8\" font-family=\"Times,serif\" font-size=\"14.00\">no</text>\n",
       "</g>\n",
       "<!-- 31 -->\n",
       "<g id=\"node34\" class=\"node\"><title>31</title>\n",
       "<ellipse fill=\"none\" stroke=\"black\" cx=\"1494.77\" cy=\"-104\" rx=\"82.4474\" ry=\"18\"/>\n",
       "<text text-anchor=\"middle\" x=\"1494.77\" y=\"-99.8\" font-family=\"Times,serif\" font-size=\"14.00\">f1&lt;1.55303027e+09</text>\n",
       "</g>\n",
       "<!-- 20&#45;&gt;31 -->\n",
       "<g id=\"edge33\" class=\"edge\"><title>20&#45;&gt;31</title>\n",
       "<path fill=\"none\" stroke=\"#0000ff\" d=\"M1333.2,-175.69C1364.74,-161.888 1414.39,-140.169 1450.33,-124.446\"/>\n",
       "<polygon fill=\"#0000ff\" stroke=\"#0000ff\" points=\"1451.85,-127.599 1459.61,-120.384 1449.05,-121.186 1451.85,-127.599\"/>\n",
       "<text text-anchor=\"middle\" x=\"1445.39\" y=\"-142.8\" font-family=\"Times,serif\" font-size=\"14.00\">yes, missing</text>\n",
       "</g>\n",
       "<!-- 32 -->\n",
       "<g id=\"node35\" class=\"node\"><title>32</title>\n",
       "<ellipse fill=\"none\" stroke=\"black\" cx=\"1812.77\" cy=\"-104\" rx=\"40.2962\" ry=\"18\"/>\n",
       "<text text-anchor=\"middle\" x=\"1812.77\" y=\"-99.8\" font-family=\"Times,serif\" font-size=\"14.00\">f4&lt;5550</text>\n",
       "</g>\n",
       "<!-- 20&#45;&gt;32 -->\n",
       "<g id=\"edge34\" class=\"edge\"><title>20&#45;&gt;32</title>\n",
       "<path fill=\"none\" stroke=\"#ff0000\" d=\"M1338.77,-177.602C1346.01,-175.55 1353.6,-173.569 1360.77,-172 1414.75,-160.201 1429.12,-162.069 1483.77,-154 1583.89,-139.219 1701.11,-121.713 1765.1,-112.139\"/>\n",
       "<polygon fill=\"#ff0000\" stroke=\"#ff0000\" points=\"1765.91,-115.557 1775.28,-110.616 1764.87,-108.634 1765.91,-115.557\"/>\n",
       "<text text-anchor=\"middle\" x=\"1581.77\" y=\"-142.8\" font-family=\"Times,serif\" font-size=\"14.00\">no</text>\n",
       "</g>\n",
       "<!-- 35 -->\n",
       "<g id=\"node30\" class=\"node\"><title>35</title>\n",
       "<ellipse fill=\"none\" stroke=\"black\" cx=\"858.775\" cy=\"-18\" rx=\"70.2062\" ry=\"18\"/>\n",
       "<text text-anchor=\"middle\" x=\"858.775\" y=\"-13.8\" font-family=\"Times,serif\" font-size=\"14.00\">leaf=3.52423143</text>\n",
       "</g>\n",
       "<!-- 29&#45;&gt;35 -->\n",
       "<g id=\"edge29\" class=\"edge\"><title>29&#45;&gt;35</title>\n",
       "<path fill=\"none\" stroke=\"#0000ff\" d=\"M1043.08,-89.313C1022.74,-83.2059 998.842,-75.6658 977.547,-68 952.113,-58.8441 924.143,-47.3761 901.737,-37.8368\"/>\n",
       "<polygon fill=\"#0000ff\" stroke=\"#0000ff\" points=\"903.069,-34.5999 892.499,-33.8789 900.313,-41.0343 903.069,-34.5999\"/>\n",
       "<text text-anchor=\"middle\" x=\"1012.39\" y=\"-56.8\" font-family=\"Times,serif\" font-size=\"14.00\">yes, missing</text>\n",
       "</g>\n",
       "<!-- 36 -->\n",
       "<g id=\"node31\" class=\"node\"><title>36</title>\n",
       "<ellipse fill=\"none\" stroke=\"black\" cx=\"1017.77\" cy=\"-18\" rx=\"70.2062\" ry=\"18\"/>\n",
       "<text text-anchor=\"middle\" x=\"1017.77\" y=\"-13.8\" font-family=\"Times,serif\" font-size=\"14.00\">leaf=6.12869978</text>\n",
       "</g>\n",
       "<!-- 29&#45;&gt;36 -->\n",
       "<g id=\"edge30\" class=\"edge\"><title>29&#45;&gt;36</title>\n",
       "<path fill=\"none\" stroke=\"#ff0000\" d=\"M1076,-86.0013C1065.35,-73.7386 1050.8,-57.0051 1038.92,-43.3289\"/>\n",
       "<polygon fill=\"#ff0000\" stroke=\"#ff0000\" points=\"1041.48,-40.9389 1032.28,-35.6867 1036.19,-45.5306 1041.48,-40.9389\"/>\n",
       "<text text-anchor=\"middle\" x=\"1065.77\" y=\"-56.8\" font-family=\"Times,serif\" font-size=\"14.00\">no</text>\n",
       "</g>\n",
       "<!-- 37 -->\n",
       "<g id=\"node32\" class=\"node\"><title>37</title>\n",
       "<ellipse fill=\"none\" stroke=\"black\" cx=\"1176.77\" cy=\"-18\" rx=\"70.2062\" ry=\"18\"/>\n",
       "<text text-anchor=\"middle\" x=\"1176.77\" y=\"-13.8\" font-family=\"Times,serif\" font-size=\"14.00\">leaf=1.13999999</text>\n",
       "</g>\n",
       "<!-- 30&#45;&gt;37 -->\n",
       "<g id=\"edge31\" class=\"edge\"><title>30&#45;&gt;37</title>\n",
       "<path fill=\"none\" stroke=\"#0000ff\" d=\"M1250.31,-86.3813C1242.92,-80.7161 1234.76,-74.2354 1227.55,-68 1218.47,-60.1463 1208.9,-51.1248 1200.55,-42.9806\"/>\n",
       "<polygon fill=\"#0000ff\" stroke=\"#0000ff\" points=\"1202.85,-40.3328 1193.27,-35.8066 1197.93,-45.3187 1202.85,-40.3328\"/>\n",
       "<text text-anchor=\"middle\" x=\"1262.39\" y=\"-56.8\" font-family=\"Times,serif\" font-size=\"14.00\">yes, missing</text>\n",
       "</g>\n",
       "<!-- 38 -->\n",
       "<g id=\"node33\" class=\"node\"><title>38</title>\n",
       "<ellipse fill=\"none\" stroke=\"black\" cx=\"1335.77\" cy=\"-18\" rx=\"70.2062\" ry=\"18\"/>\n",
       "<text text-anchor=\"middle\" x=\"1335.77\" y=\"-13.8\" font-family=\"Times,serif\" font-size=\"14.00\">leaf=10.3844233</text>\n",
       "</g>\n",
       "<!-- 30&#45;&gt;38 -->\n",
       "<g id=\"edge32\" class=\"edge\"><title>30&#45;&gt;38</title>\n",
       "<path fill=\"none\" stroke=\"#ff0000\" d=\"M1285.52,-86.0013C1294.58,-73.9326 1306.87,-57.5334 1317.04,-43.9802\"/>\n",
       "<polygon fill=\"#ff0000\" stroke=\"#ff0000\" points=\"1319.84,-46.0734 1323.04,-35.9734 1314.24,-41.8734 1319.84,-46.0734\"/>\n",
       "<text text-anchor=\"middle\" x=\"1315.77\" y=\"-56.8\" font-family=\"Times,serif\" font-size=\"14.00\">no</text>\n",
       "</g>\n",
       "<!-- 39 -->\n",
       "<g id=\"node36\" class=\"node\"><title>39</title>\n",
       "<ellipse fill=\"none\" stroke=\"black\" cx=\"1494.77\" cy=\"-18\" rx=\"70.2062\" ry=\"18\"/>\n",
       "<text text-anchor=\"middle\" x=\"1494.77\" y=\"-13.8\" font-family=\"Times,serif\" font-size=\"14.00\">leaf=1.08765471</text>\n",
       "</g>\n",
       "<!-- 31&#45;&gt;39 -->\n",
       "<g id=\"edge35\" class=\"edge\"><title>31&#45;&gt;39</title>\n",
       "<path fill=\"none\" stroke=\"#0000ff\" d=\"M1494.77,-85.5951C1494.77,-74.2572 1494.77,-59.2271 1494.77,-46.3153\"/>\n",
       "<polygon fill=\"#0000ff\" stroke=\"#0000ff\" points=\"1498.27,-46.0951 1494.77,-36.0952 1491.27,-46.0952 1498.27,-46.0951\"/>\n",
       "<text text-anchor=\"middle\" x=\"1529.39\" y=\"-56.8\" font-family=\"Times,serif\" font-size=\"14.00\">yes, missing</text>\n",
       "</g>\n",
       "<!-- 40 -->\n",
       "<g id=\"node37\" class=\"node\"><title>40</title>\n",
       "<ellipse fill=\"none\" stroke=\"black\" cx=\"1653.77\" cy=\"-18\" rx=\"70.2062\" ry=\"18\"/>\n",
       "<text text-anchor=\"middle\" x=\"1653.77\" y=\"-13.8\" font-family=\"Times,serif\" font-size=\"14.00\">leaf=3.10602617</text>\n",
       "</g>\n",
       "<!-- 31&#45;&gt;40 -->\n",
       "<g id=\"edge36\" class=\"edge\"><title>31&#45;&gt;40</title>\n",
       "<path fill=\"none\" stroke=\"#ff0000\" d=\"M1528.46,-87.4626C1540.91,-81.5591 1555.08,-74.6517 1567.77,-68 1584.7,-59.1356 1603.14,-48.7287 1618.6,-39.7911\"/>\n",
       "<polygon fill=\"#ff0000\" stroke=\"#ff0000\" points=\"1620.43,-42.7739 1627.31,-34.7213 1616.91,-36.7227 1620.43,-42.7739\"/>\n",
       "<text text-anchor=\"middle\" x=\"1597.77\" y=\"-56.8\" font-family=\"Times,serif\" font-size=\"14.00\">no</text>\n",
       "</g>\n",
       "<!-- 41 -->\n",
       "<g id=\"node38\" class=\"node\"><title>41</title>\n",
       "<ellipse fill=\"none\" stroke=\"black\" cx=\"1812.77\" cy=\"-18\" rx=\"70.2062\" ry=\"18\"/>\n",
       "<text text-anchor=\"middle\" x=\"1812.77\" y=\"-13.8\" font-family=\"Times,serif\" font-size=\"14.00\">leaf=6.21822834</text>\n",
       "</g>\n",
       "<!-- 32&#45;&gt;41 -->\n",
       "<g id=\"edge37\" class=\"edge\"><title>32&#45;&gt;41</title>\n",
       "<path fill=\"none\" stroke=\"#0000ff\" d=\"M1812.77,-85.5951C1812.77,-74.2572 1812.77,-59.2271 1812.77,-46.3153\"/>\n",
       "<polygon fill=\"#0000ff\" stroke=\"#0000ff\" points=\"1816.27,-46.0951 1812.77,-36.0952 1809.27,-46.0952 1816.27,-46.0951\"/>\n",
       "<text text-anchor=\"middle\" x=\"1847.39\" y=\"-56.8\" font-family=\"Times,serif\" font-size=\"14.00\">yes, missing</text>\n",
       "</g>\n",
       "<!-- 42 -->\n",
       "<g id=\"node39\" class=\"node\"><title>42</title>\n",
       "<ellipse fill=\"none\" stroke=\"black\" cx=\"1971.77\" cy=\"-18\" rx=\"70.2062\" ry=\"18\"/>\n",
       "<text text-anchor=\"middle\" x=\"1971.77\" y=\"-13.8\" font-family=\"Times,serif\" font-size=\"14.00\">leaf=3.64640784</text>\n",
       "</g>\n",
       "<!-- 32&#45;&gt;42 -->\n",
       "<g id=\"edge38\" class=\"edge\"><title>32&#45;&gt;42</title>\n",
       "<path fill=\"none\" stroke=\"#ff0000\" d=\"M1840.04,-90.4872C1853.86,-84.005 1870.83,-75.8255 1885.77,-68 1902.7,-59.1356 1921.14,-48.7287 1936.6,-39.7911\"/>\n",
       "<polygon fill=\"#ff0000\" stroke=\"#ff0000\" points=\"1938.43,-42.7739 1945.31,-34.7213 1934.91,-36.7227 1938.43,-42.7739\"/>\n",
       "<text text-anchor=\"middle\" x=\"1915.77\" y=\"-56.8\" font-family=\"Times,serif\" font-size=\"14.00\">no</text>\n",
       "</g>\n",
       "<!-- 21 -->\n",
       "<g id=\"node42\" class=\"node\"><title>21</title>\n",
       "<ellipse fill=\"none\" stroke=\"black\" cx=\"1439.77\" cy=\"-190\" rx=\"70.2062\" ry=\"18\"/>\n",
       "<text text-anchor=\"middle\" x=\"1439.77\" y=\"-185.8\" font-family=\"Times,serif\" font-size=\"14.00\">leaf=1.69701922</text>\n",
       "</g>\n",
       "<!-- 13&#45;&gt;21 -->\n",
       "<g id=\"edge41\" class=\"edge\"><title>13&#45;&gt;21</title>\n",
       "<path fill=\"none\" stroke=\"#0000ff\" d=\"M1439.77,-257.595C1439.77,-246.257 1439.77,-231.227 1439.77,-218.315\"/>\n",
       "<polygon fill=\"#0000ff\" stroke=\"#0000ff\" points=\"1443.27,-218.095 1439.77,-208.095 1436.27,-218.095 1443.27,-218.095\"/>\n",
       "<text text-anchor=\"middle\" x=\"1474.39\" y=\"-228.8\" font-family=\"Times,serif\" font-size=\"14.00\">yes, missing</text>\n",
       "</g>\n",
       "<!-- 22 -->\n",
       "<g id=\"node43\" class=\"node\"><title>22</title>\n",
       "<ellipse fill=\"none\" stroke=\"black\" cx=\"1598.77\" cy=\"-190\" rx=\"70.2062\" ry=\"18\"/>\n",
       "<text text-anchor=\"middle\" x=\"1598.77\" y=\"-185.8\" font-family=\"Times,serif\" font-size=\"14.00\">leaf=10.0516319</text>\n",
       "</g>\n",
       "<!-- 13&#45;&gt;22 -->\n",
       "<g id=\"edge42\" class=\"edge\"><title>13&#45;&gt;22</title>\n",
       "<path fill=\"none\" stroke=\"#ff0000\" d=\"M1468.08,-261.998C1481.71,-255.596 1498.21,-247.63 1512.77,-240 1529.7,-231.136 1548.14,-220.729 1563.6,-211.791\"/>\n",
       "<polygon fill=\"#ff0000\" stroke=\"#ff0000\" points=\"1565.43,-214.774 1572.31,-206.721 1561.91,-208.723 1565.43,-214.774\"/>\n",
       "<text text-anchor=\"middle\" x=\"1543.77\" y=\"-228.8\" font-family=\"Times,serif\" font-size=\"14.00\">no</text>\n",
       "</g>\n",
       "</g>\n",
       "</svg>\n"
      ],
      "text/plain": [
       "<graphviz.files.Source at 0x1259847b8>"
      ]
     },
     "execution_count": 24,
     "metadata": {},
     "output_type": "execute_result"
    }
   ],
   "source": [
    "xgb.to_graphviz(bst, num_trees=1)"
   ]
  },
  {
   "cell_type": "code",
   "execution_count": 25,
   "metadata": {},
   "outputs": [
    {
     "name": "stdout",
     "output_type": "stream",
     "text": [
      "65\n"
     ]
    },
    {
     "data": {
      "text/html": [
       "<div>\n",
       "<style scoped>\n",
       "    .dataframe tbody tr th:only-of-type {\n",
       "        vertical-align: middle;\n",
       "    }\n",
       "\n",
       "    .dataframe tbody tr th {\n",
       "        vertical-align: top;\n",
       "    }\n",
       "\n",
       "    .dataframe thead th {\n",
       "        text-align: right;\n",
       "    }\n",
       "</style>\n",
       "<table border=\"1\" class=\"dataframe\">\n",
       "  <thead>\n",
       "    <tr style=\"text-align: right;\">\n",
       "      <th></th>\n",
       "      <th>ncode</th>\n",
       "      <th>title</th>\n",
       "      <th>category</th>\n",
       "      <th>bookmark_cat</th>\n",
       "      <th>created_at</th>\n",
       "      <th>updated_at</th>\n",
       "      <th>sum_char_count</th>\n",
       "      <th>sum_new_line_count</th>\n",
       "      <th>sum_talk_char_count</th>\n",
       "      <th>sum_word_count</th>\n",
       "      <th>...</th>\n",
       "      <th>wc_動詞-非自立</th>\n",
       "      <th>wc_助詞-並立助詞</th>\n",
       "      <th>wc_接頭詞-数接続</th>\n",
       "      <th>wc_名詞-接続詞的</th>\n",
       "      <th>wc_形容詞-自立</th>\n",
       "      <th>wc_名詞-固有名詞-人名-一般</th>\n",
       "      <th>wc_記号-括弧開</th>\n",
       "      <th>wc_名詞-固有名詞-人名-名</th>\n",
       "      <th>wc_名詞-接尾-形容動詞語幹</th>\n",
       "      <th>rating</th>\n",
       "    </tr>\n",
       "  </thead>\n",
       "  <tbody>\n",
       "    <tr>\n",
       "      <th>0</th>\n",
       "      <td>n8642gc</td>\n",
       "      <td>聖貨を集めて、ぶん回せ！</td>\n",
       "      <td>ハイファンタジー〔ファンタジー〕</td>\n",
       "      <td>-1</td>\n",
       "      <td>1.585469e+09</td>\n",
       "      <td>1.593763e+09</td>\n",
       "      <td>37740</td>\n",
       "      <td>2310</td>\n",
       "      <td>0</td>\n",
       "      <td>383130</td>\n",
       "      <td>...</td>\n",
       "      <td>30</td>\n",
       "      <td>240</td>\n",
       "      <td>0</td>\n",
       "      <td>0</td>\n",
       "      <td>270</td>\n",
       "      <td>30</td>\n",
       "      <td>480</td>\n",
       "      <td>60</td>\n",
       "      <td>0</td>\n",
       "      <td>-1</td>\n",
       "    </tr>\n",
       "    <tr>\n",
       "      <th>1</th>\n",
       "      <td>n8693gg</td>\n",
       "      <td>十年目、帰還を諦めた転移者はいまさら主人公になる</td>\n",
       "      <td>ハイファンタジー〔ファンタジー〕</td>\n",
       "      <td>-1</td>\n",
       "      <td>1.591009e+09</td>\n",
       "      <td>1.593774e+09</td>\n",
       "      <td>144330</td>\n",
       "      <td>5760</td>\n",
       "      <td>44100</td>\n",
       "      <td>1561170</td>\n",
       "      <td>...</td>\n",
       "      <td>1680</td>\n",
       "      <td>60</td>\n",
       "      <td>0</td>\n",
       "      <td>0</td>\n",
       "      <td>1710</td>\n",
       "      <td>0</td>\n",
       "      <td>1800</td>\n",
       "      <td>270</td>\n",
       "      <td>60</td>\n",
       "      <td>-1</td>\n",
       "    </tr>\n",
       "    <tr>\n",
       "      <th>2</th>\n",
       "      <td>n4452ge</td>\n",
       "      <td>俺だけレベルが上がる世界で悪徳領主になっていた</td>\n",
       "      <td>ハイファンタジー〔ファンタジー〕</td>\n",
       "      <td>-1</td>\n",
       "      <td>1.587737e+09</td>\n",
       "      <td>1.593006e+09</td>\n",
       "      <td>156720</td>\n",
       "      <td>6210</td>\n",
       "      <td>13290</td>\n",
       "      <td>1636680</td>\n",
       "      <td>...</td>\n",
       "      <td>1890</td>\n",
       "      <td>180</td>\n",
       "      <td>0</td>\n",
       "      <td>0</td>\n",
       "      <td>930</td>\n",
       "      <td>60</td>\n",
       "      <td>810</td>\n",
       "      <td>0</td>\n",
       "      <td>60</td>\n",
       "      <td>-1</td>\n",
       "    </tr>\n",
       "  </tbody>\n",
       "</table>\n",
       "<p>3 rows × 132 columns</p>\n",
       "</div>"
      ],
      "text/plain": [
       "     ncode                     title          category  bookmark_cat  \\\n",
       "0  n8642gc              聖貨を集めて、ぶん回せ！  ハイファンタジー〔ファンタジー〕            -1   \n",
       "1  n8693gg  十年目、帰還を諦めた転移者はいまさら主人公になる  ハイファンタジー〔ファンタジー〕            -1   \n",
       "2  n4452ge   俺だけレベルが上がる世界で悪徳領主になっていた  ハイファンタジー〔ファンタジー〕            -1   \n",
       "\n",
       "     created_at    updated_at  sum_char_count  sum_new_line_count  \\\n",
       "0  1.585469e+09  1.593763e+09           37740                2310   \n",
       "1  1.591009e+09  1.593774e+09          144330                5760   \n",
       "2  1.587737e+09  1.593006e+09          156720                6210   \n",
       "\n",
       "   sum_talk_char_count  sum_word_count  ...  wc_動詞-非自立  wc_助詞-並立助詞  \\\n",
       "0                    0          383130  ...         30         240   \n",
       "1                44100         1561170  ...       1680          60   \n",
       "2                13290         1636680  ...       1890         180   \n",
       "\n",
       "   wc_接頭詞-数接続  wc_名詞-接続詞的  wc_形容詞-自立  wc_名詞-固有名詞-人名-一般  wc_記号-括弧開  \\\n",
       "0           0           0        270                30        480   \n",
       "1           0           0       1710                 0       1800   \n",
       "2           0           0        930                60        810   \n",
       "\n",
       "   wc_名詞-固有名詞-人名-名  wc_名詞-接尾-形容動詞語幹  rating  \n",
       "0               60                0      -1  \n",
       "1              270               60      -1  \n",
       "2                0               60      -1  \n",
       "\n",
       "[3 rows x 132 columns]"
      ]
     },
     "execution_count": 25,
     "metadata": {},
     "output_type": "execute_result"
    }
   ],
   "source": [
    "df_test = laod_data('ranking_test_data.csv')\n",
    "print(len(df_test))\n",
    "df_test.head(3)"
   ]
  },
  {
   "cell_type": "code",
   "execution_count": 26,
   "metadata": {},
   "outputs": [
    {
     "data": {
      "text/html": [
       "<div>\n",
       "<style scoped>\n",
       "    .dataframe tbody tr th:only-of-type {\n",
       "        vertical-align: middle;\n",
       "    }\n",
       "\n",
       "    .dataframe tbody tr th {\n",
       "        vertical-align: top;\n",
       "    }\n",
       "\n",
       "    .dataframe thead th {\n",
       "        text-align: right;\n",
       "    }\n",
       "</style>\n",
       "<table border=\"1\" class=\"dataframe\">\n",
       "  <thead>\n",
       "    <tr style=\"text-align: right;\">\n",
       "      <th></th>\n",
       "      <th>category</th>\n",
       "      <th>created_at</th>\n",
       "      <th>updated_at</th>\n",
       "      <th>sum_char_count</th>\n",
       "      <th>sum_new_line_count</th>\n",
       "      <th>sum_talk_char_count</th>\n",
       "      <th>sum_word_count</th>\n",
       "      <th>avg_char_count</th>\n",
       "      <th>avg_new_line_count</th>\n",
       "      <th>avg_talk_char_count</th>\n",
       "      <th>avg_word_count</th>\n",
       "      <th>rating</th>\n",
       "    </tr>\n",
       "  </thead>\n",
       "  <tbody>\n",
       "    <tr>\n",
       "      <th>0</th>\n",
       "      <td>6</td>\n",
       "      <td>1.585469e+09</td>\n",
       "      <td>1.593763e+09</td>\n",
       "      <td>37740</td>\n",
       "      <td>2310</td>\n",
       "      <td>0</td>\n",
       "      <td>383130</td>\n",
       "      <td>1258.0</td>\n",
       "      <td>77.0</td>\n",
       "      <td>0.0</td>\n",
       "      <td>12771.0</td>\n",
       "      <td>-10</td>\n",
       "    </tr>\n",
       "    <tr>\n",
       "      <th>1</th>\n",
       "      <td>6</td>\n",
       "      <td>1.591009e+09</td>\n",
       "      <td>1.593774e+09</td>\n",
       "      <td>144330</td>\n",
       "      <td>5760</td>\n",
       "      <td>44100</td>\n",
       "      <td>1561170</td>\n",
       "      <td>4811.0</td>\n",
       "      <td>192.0</td>\n",
       "      <td>1470.0</td>\n",
       "      <td>52039.0</td>\n",
       "      <td>-10</td>\n",
       "    </tr>\n",
       "    <tr>\n",
       "      <th>2</th>\n",
       "      <td>6</td>\n",
       "      <td>1.587737e+09</td>\n",
       "      <td>1.593006e+09</td>\n",
       "      <td>156720</td>\n",
       "      <td>6210</td>\n",
       "      <td>13290</td>\n",
       "      <td>1636680</td>\n",
       "      <td>5224.0</td>\n",
       "      <td>207.0</td>\n",
       "      <td>443.0</td>\n",
       "      <td>54556.0</td>\n",
       "      <td>-10</td>\n",
       "    </tr>\n",
       "  </tbody>\n",
       "</table>\n",
       "</div>"
      ],
      "text/plain": [
       "   category    created_at    updated_at  sum_char_count  sum_new_line_count  \\\n",
       "0         6  1.585469e+09  1.593763e+09           37740                2310   \n",
       "1         6  1.591009e+09  1.593774e+09          144330                5760   \n",
       "2         6  1.587737e+09  1.593006e+09          156720                6210   \n",
       "\n",
       "   sum_talk_char_count  sum_word_count  avg_char_count  avg_new_line_count  \\\n",
       "0                    0          383130          1258.0                77.0   \n",
       "1                44100         1561170          4811.0               192.0   \n",
       "2                13290         1636680          5224.0               207.0   \n",
       "\n",
       "   avg_talk_char_count  avg_word_count  rating  \n",
       "0                  0.0         12771.0     -10  \n",
       "1               1470.0         52039.0     -10  \n",
       "2                443.0         54556.0     -10  "
      ]
     },
     "execution_count": 26,
     "metadata": {},
     "output_type": "execute_result"
    }
   ],
   "source": [
    "df_test2 = data_preprocess(df_test)\n",
    "df_test2.head(3)"
   ]
  },
  {
   "cell_type": "code",
   "execution_count": 27,
   "metadata": {},
   "outputs": [
    {
     "name": "stdout",
     "output_type": "stream",
     "text": [
      "(65, 11)\n",
      "<xgboost.core.DMatrix object at 0x1259a4be0>\n"
     ]
    }
   ],
   "source": [
    "X = df_test2.drop(['rating'], axis=1).values\n",
    "y = df_test2['rating'].values\n",
    "print(X.shape)\n",
    "\n",
    "#dtrain = xgb.DMatrix(X_train, label=y_train)\n",
    "dtest = xgb.DMatrix(X, label=y)\n",
    "print(dtest)"
   ]
  },
  {
   "cell_type": "code",
   "execution_count": 28,
   "metadata": {},
   "outputs": [
    {
     "data": {
      "text/plain": [
       "array([29.743662, 25.079943, 34.173523, 28.222937, 29.338156, 32.077408,\n",
       "       23.030233, 10.194477, 32.566372, 32.52783 , 36.404305, 19.26503 ,\n",
       "       25.66862 , 19.830345,  9.469247, 17.40097 , 22.224298, 15.874058,\n",
       "       29.692417, 24.88306 , 14.925053, 13.354975, 18.966177, 30.873875,\n",
       "       22.086086, 23.077526, 15.228945, 40.025394, 14.924584, 26.769026,\n",
       "       24.977026, 27.366007, 19.282341, 23.378447, 18.566528, 27.85119 ,\n",
       "        8.805719, 14.600757, 14.747458,  9.528884, 26.920488, 19.462185,\n",
       "       34.063835, 27.31121 , 19.920687,  8.417929, 15.95136 , 30.281313,\n",
       "       32.630447, 27.700264, 34.036503, 18.02885 , 38.92567 , 18.262718,\n",
       "       15.009492, 14.991391, 22.20761 , 16.514174, 19.110975, 20.05619 ,\n",
       "       28.255392, 26.588121, 28.986572, 36.404305, 12.660989],\n",
       "      dtype=float32)"
      ]
     },
     "execution_count": 28,
     "metadata": {},
     "output_type": "execute_result"
    }
   ],
   "source": [
    "y_pred = bst.predict(dtest)\n",
    "y_pred"
   ]
  },
  {
   "cell_type": "code",
   "execution_count": 36,
   "metadata": {},
   "outputs": [
    {
     "name": "stdout",
     "output_type": "stream",
     "text": [
      "n8642gc\t聖貨を集めて、ぶん回せ！\t29.743661880493164\n",
      "n8693gg\t十年目、帰還を諦めた転移者はいまさら主人公になる\t25.07994270324707\n",
      "n4452ge\t俺だけレベルが上がる世界で悪徳領主になっていた\t34.17352294921875\n",
      "n8604ge\tスキル「屋台」で異世界生活～食料生成スキルを手に入れたので、商会を立ち上げようと思います～\t28.222936630249023\n",
      "n6812gh\t悪徳領主の息子に転生！？　～普通に行動しているだけなのに、周囲からちやほやされます～\t29.33815574645996\n",
      "n7408gf\t異世界ゆるり農家生活\t32.07740783691406\n",
      "n0121gf\t異世界へ来たのはいいけれど、モンスターと戦える程若くないおっさん。神様からもらったスキルは戦いにも生産にも役立たない。それでも生きる為に転々と渡り歩く\t23.03023338317871\n",
      "n4834fx\t転生先が残念王子だった件　～今は腹筋１回もできないけど痩せて異世界救います～\t10.194477081298828\n",
      "n0512gh\t『錬金BOX』で生産チート+付与無双～無能と罵られ侯爵家を追放されたが、なんでも錬成できる箱のおかげで勝ち組人生を送れそうです～\t32.56637191772461\n",
      "n4205gg\tかませ犬から始める天下統一〜前世のアニメの第一部のボスに憑依してました〜\t32.527828216552734\n",
      "n1773gf\t16年間魔法が使えず落ちこぼれだった俺が、科学者だった前世を思い出して異世界無双\t36.40430450439453\n",
      "n1217et\t信者ゼロの女神サマと始める異世界攻略　クラスメイト最弱の魔法使い\t19.265029907226562\n",
      "n7657bb\tかわいいコックさん\t25.66861915588379\n",
      "n5677cl\t亡びの国の征服者～魔王は世界を征服するようです～\t19.830345153808594\n",
      "n5375cy\t転生して田舎でスローライフをおくりたい\t9.469246864318848\n",
      "n2945eg\tアラフォー男の異世界通販生活\t17.400970458984375\n",
      "n1118fh\t加護なし令嬢の小さな村\t22.22429847717285\n",
      "n3191eh\t乙女ゲー世界はモブに厳しい世界です\t15.87405776977539\n",
      "n2276dz\t異世界でスローライフを（願望）\t29.69241714477539\n",
      "n6475db\t私、能力は平均値でって言ったよね！\t24.883060455322266\n",
      "n0610eg\t魔石グルメ　～魔物の力を食べたオレは最強！～（Web版）\t14.925052642822266\n",
      "n8106fu\t異世界のんびり素材採取生活\t13.354974746704102\n",
      "n4811fg\tＴＲＰＧプレイヤーが異世界で最強ビルドを目指す 　～ヘンダーソン氏の福音を～\t18.966176986694336\n",
      "n9629ex\t最弱テイマーはゴミ拾いの旅を始めました。\t30.87387466430664\n",
      "n8568fy\t普通職の異世界スローライフ　～チート（があるくせに小者）な薬剤師の無双（しない）物語～\t22.08608627319336\n",
      "n3245fy\t主人公じゃない！\t23.077526092529297\n",
      "n5529cy\t老後に備えて異世界で８万枚の金貨を貯めます\t15.228944778442383\n",
      "n9544br\t週末冒険者\t40.025394439697266\n",
      "n1970fg\t田中家、転生する。\t14.92458438873291\n",
      "n8516fu\t劣等人の魔剣使い　スキルボードを駆使して最強に至る（WEB連載版）\t26.769025802612305\n",
      "n1290ff\t最強陰陽師の異世界転生記　～下僕の妖怪どもに比べてモンスターが弱すぎるんだが～\t24.977025985717773\n",
      "n4342ge\t聖女に追放された転生公爵は、辺境でのんびりと畑を耕すつもりだった～来るなというのに領民が沢山来るから内政無双をすることになってしまった件。はやく休ませて、頼む～\t27.36600685119629\n",
      "n4546fc\t異世界の貧乏農家に転生したので、レンガを作って城を建てることにしました\t19.28234100341797\n",
      "n6300fz\t領民0の土地を押し付けられた俺、生産スキルを駆使して最強国家を作り上げる\t23.378446578979492\n",
      "n4185ci\tくま　クマ　熊　ベアー\t18.5665283203125\n",
      "n4444ge\t植物モンスター娘日記　〜聖女だった私が裏切られた果てにアルラウネに転生してしまったので、これからは光合成しながら静かに植物ライフを過ごします〜\t27.8511905670166\n",
      "n6088cy\tポーション頼みで生き延びます！\t8.805719375610352\n",
      "n3726bt\tレジェンド\t14.600756645202637\n",
      "n3742ey\tご主人様とゆく異世界サバイバル！\t14.747458457946777\n",
      "n6006cw\t転生したら剣でした\t9.528883934020996\n",
      "n2421eu\t転生幼女はあきらめない\t26.920488357543945\n",
      "n6078fg\t不死鳥への転生　ドラゴン倒せるって普通の鳥じゃないよね？　（旧題：憧れへの転生　以下同文）\t19.46218490600586\n",
      "n0229fv\t植物魔法チートでのんびり領主生活始めます～前世の知識を駆使して農業したら、逆転人生始まった件～\t34.06383514404297\n",
      "n0350em\t異世界転移、地雷付き。\t27.31121063232422\n",
      "n9984fb\t身体は児童、中身はおっさんの成り上がり冒険記\t19.920686721801758\n",
      "n1745ct\t四度目は嫌な死属性魔術師\t8.417928695678711\n",
      "n6829bd\t賢者の弟子を名乗る賢者\t15.951359748840332\n",
      "n9940gd\t最強錬金術師の異世界珍道中\t30.281312942504883\n",
      "n9293gf\tゲームのストーリー開始前に死ぬ“設定上最強キャラ”に転生したので頑張って生きたい\t32.63044738769531\n",
      "n1234gg\t魔法戦士セイクリッド・ナイツ～エロゲの触手怪人に転生した俺は、変身ヒロインたちを守り抜く～\t27.70026397705078\n",
      "n5981bn\tニートだけどハロワにいったら異世界につれてかれた\t34.036502838134766\n",
      "n4499gh\tよいこの世界統一せんそう！\t18.028850555419922\n",
      "n6247cr\t鑑定能力で調合師になります\t38.9256706237793\n",
      "n5782dy\tハズレ判定から始まったチート魔術士生活\t18.262718200683594\n",
      "n1444fs\t転生領主の優良開拓〜前世の記憶を生かしてホワイトに努めたら、有能な人材が集まりすぎました〜\t15.009491920471191\n",
      "n3406ek\t異世界で土地を買って農場を作ろう\t14.9913911819458\n",
      "n7080gh\t連載版　踏み台が己を自覚した結果ww\t22.207609176635742\n",
      "n8760ei\t異世界黙示録マイノグーラ～破滅の文明で始める世界征服～\t16.51417350769043\n",
      "n2671do\t魔王になったので、ダンジョン造って人外娘とほのぼのする\t19.11097526550293\n",
      "n4698cv\t転生したらドラゴンの卵だった～最強以外目指さねぇ～\t20.056190490722656\n",
      "n5645ci\t自分が異世界に転移するなら\t28.25539207458496\n",
      "n4344dy\t世界最強の後衛　～迷宮国の新人探索者～\t26.58812141418457\n",
      "n7056gh\tレベルが上がらない！　～と思ってたら元の世界に帰って悪党ぶん殴ってザクザクレベルアップ。異世界では英雄、元の世界ではヒーロー～　【地獄の異世界転移コマンドー（仮）】\t28.986572265625\n",
      "n6078gg\tイントゥ・ザ・ゴーレム！～土くれに生まれ変わった私は自己改造で進化する～\t36.40430450439453\n",
      "n3258fh\tクラスメイトに殺された時、僕の復讐は大体達成された\t12.660988807678223\n"
     ]
    }
   ],
   "source": [
    "df_rating = pd.DataFrame(columns=['ncode', 'title', 'rating'])\n",
    "\n",
    "for i, y in enumerate(y_pred):\n",
    "    row = df_test.loc[i] \n",
    "    print('{}\\t{}\\t{}'.format(row.ncode, row.title, y))\n",
    "    df_rating = df_rating.append({'ncode': row.ncode, 'title': row.title, 'rating': y}, ignore_index=True)"
   ]
  },
  {
   "cell_type": "code",
   "execution_count": 37,
   "metadata": {},
   "outputs": [
    {
     "data": {
      "text/html": [
       "<div>\n",
       "<style scoped>\n",
       "    .dataframe tbody tr th:only-of-type {\n",
       "        vertical-align: middle;\n",
       "    }\n",
       "\n",
       "    .dataframe tbody tr th {\n",
       "        vertical-align: top;\n",
       "    }\n",
       "\n",
       "    .dataframe thead th {\n",
       "        text-align: right;\n",
       "    }\n",
       "</style>\n",
       "<table border=\"1\" class=\"dataframe\">\n",
       "  <thead>\n",
       "    <tr style=\"text-align: right;\">\n",
       "      <th></th>\n",
       "      <th>ncode</th>\n",
       "      <th>title</th>\n",
       "      <th>rating</th>\n",
       "    </tr>\n",
       "  </thead>\n",
       "  <tbody>\n",
       "    <tr>\n",
       "      <th>0</th>\n",
       "      <td>n8642gc</td>\n",
       "      <td>聖貨を集めて、ぶん回せ！</td>\n",
       "      <td>29.743662</td>\n",
       "    </tr>\n",
       "    <tr>\n",
       "      <th>1</th>\n",
       "      <td>n8693gg</td>\n",
       "      <td>十年目、帰還を諦めた転移者はいまさら主人公になる</td>\n",
       "      <td>25.079943</td>\n",
       "    </tr>\n",
       "    <tr>\n",
       "      <th>2</th>\n",
       "      <td>n4452ge</td>\n",
       "      <td>俺だけレベルが上がる世界で悪徳領主になっていた</td>\n",
       "      <td>34.173523</td>\n",
       "    </tr>\n",
       "    <tr>\n",
       "      <th>3</th>\n",
       "      <td>n8604ge</td>\n",
       "      <td>スキル「屋台」で異世界生活～食料生成スキルを手に入れたので、商会を立ち上げようと思います～</td>\n",
       "      <td>28.222937</td>\n",
       "    </tr>\n",
       "    <tr>\n",
       "      <th>4</th>\n",
       "      <td>n6812gh</td>\n",
       "      <td>悪徳領主の息子に転生！？　～普通に行動しているだけなのに、周囲からちやほやされます～</td>\n",
       "      <td>29.338156</td>\n",
       "    </tr>\n",
       "  </tbody>\n",
       "</table>\n",
       "</div>"
      ],
      "text/plain": [
       "     ncode                                          title     rating\n",
       "0  n8642gc                                   聖貨を集めて、ぶん回せ！  29.743662\n",
       "1  n8693gg                       十年目、帰還を諦めた転移者はいまさら主人公になる  25.079943\n",
       "2  n4452ge                        俺だけレベルが上がる世界で悪徳領主になっていた  34.173523\n",
       "3  n8604ge  スキル「屋台」で異世界生活～食料生成スキルを手に入れたので、商会を立ち上げようと思います～  28.222937\n",
       "4  n6812gh     悪徳領主の息子に転生！？　～普通に行動しているだけなのに、周囲からちやほやされます～  29.338156"
      ]
     },
     "execution_count": 37,
     "metadata": {},
     "output_type": "execute_result"
    }
   ],
   "source": [
    "df_rating.head()"
   ]
  },
  {
   "cell_type": "code",
   "execution_count": 39,
   "metadata": {},
   "outputs": [
    {
     "data": {
      "text/html": [
       "<div>\n",
       "<style scoped>\n",
       "    .dataframe tbody tr th:only-of-type {\n",
       "        vertical-align: middle;\n",
       "    }\n",
       "\n",
       "    .dataframe tbody tr th {\n",
       "        vertical-align: top;\n",
       "    }\n",
       "\n",
       "    .dataframe thead th {\n",
       "        text-align: right;\n",
       "    }\n",
       "</style>\n",
       "<table border=\"1\" class=\"dataframe\">\n",
       "  <thead>\n",
       "    <tr style=\"text-align: right;\">\n",
       "      <th></th>\n",
       "      <th>rating</th>\n",
       "    </tr>\n",
       "  </thead>\n",
       "  <tbody>\n",
       "    <tr>\n",
       "      <th>count</th>\n",
       "      <td>65.000000</td>\n",
       "    </tr>\n",
       "    <tr>\n",
       "      <th>mean</th>\n",
       "      <td>23.072332</td>\n",
       "    </tr>\n",
       "    <tr>\n",
       "      <th>std</th>\n",
       "      <td>7.957519</td>\n",
       "    </tr>\n",
       "    <tr>\n",
       "      <th>min</th>\n",
       "      <td>8.417929</td>\n",
       "    </tr>\n",
       "    <tr>\n",
       "      <th>25%</th>\n",
       "      <td>16.514174</td>\n",
       "    </tr>\n",
       "    <tr>\n",
       "      <th>50%</th>\n",
       "      <td>23.030233</td>\n",
       "    </tr>\n",
       "    <tr>\n",
       "      <th>75%</th>\n",
       "      <td>28.986572</td>\n",
       "    </tr>\n",
       "    <tr>\n",
       "      <th>max</th>\n",
       "      <td>40.025394</td>\n",
       "    </tr>\n",
       "  </tbody>\n",
       "</table>\n",
       "</div>"
      ],
      "text/plain": [
       "          rating\n",
       "count  65.000000\n",
       "mean   23.072332\n",
       "std     7.957519\n",
       "min     8.417929\n",
       "25%    16.514174\n",
       "50%    23.030233\n",
       "75%    28.986572\n",
       "max    40.025394"
      ]
     },
     "execution_count": 39,
     "metadata": {},
     "output_type": "execute_result"
    }
   ],
   "source": [
    "df_rating.describe()"
   ]
  },
  {
   "cell_type": "code",
   "execution_count": 40,
   "metadata": {},
   "outputs": [
    {
     "data": {
      "text/plain": [
       "rating    63.322102\n",
       "dtype: float64"
      ]
     },
     "execution_count": 40,
     "metadata": {},
     "output_type": "execute_result"
    }
   ],
   "source": [
    "df_rating.var()"
   ]
  },
  {
   "cell_type": "code",
   "execution_count": 41,
   "metadata": {},
   "outputs": [
    {
     "data": {
      "text/plain": [
       "rating    23.030233\n",
       "dtype: float64"
      ]
     },
     "execution_count": 41,
     "metadata": {},
     "output_type": "execute_result"
    }
   ],
   "source": [
    "df_rating.median()"
   ]
  },
  {
   "cell_type": "code",
   "execution_count": null,
   "metadata": {},
   "outputs": [],
   "source": []
  }
 ],
 "metadata": {
  "colab": {
   "authorship_tag": "ABX9TyNJKqUP19CQOBX92xv+zUYA",
   "collapsed_sections": [],
   "mount_file_id": "1hGfVCEXdPg3Bx7w2FsWb6sMP-uDmj2zF",
   "name": "model_2_xgboost.ipynb",
   "provenance": []
  },
  "kernelspec": {
   "display_name": "Python 3",
   "language": "python",
   "name": "python3"
  },
  "language_info": {
   "codemirror_mode": {
    "name": "ipython",
    "version": 3
   },
   "file_extension": ".py",
   "mimetype": "text/x-python",
   "name": "python",
   "nbconvert_exporter": "python",
   "pygments_lexer": "ipython3",
   "version": "3.7.3"
  }
 },
 "nbformat": 4,
 "nbformat_minor": 1
}
