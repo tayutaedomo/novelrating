{
 "cells": [
  {
   "cell_type": "code",
   "execution_count": 3,
   "metadata": {
    "colab": {},
    "colab_type": "code",
    "executionInfo": {
     "elapsed": 1722,
     "status": "ok",
     "timestamp": 1594730288525,
     "user": {
      "displayName": "Noboru Koike",
      "photoUrl": "https://lh3.googleusercontent.com/a-/AOh14Ggp8njUb4jc54JrzfM5cQBkfiCdlz6nY17y8-1szg=s64",
      "userId": "05156582812995850159"
     },
     "user_tz": -540
    },
    "id": "oRgRzYov47aM"
   },
   "outputs": [],
   "source": [
    "import numpy as np\n",
    "import pandas as pd\n",
    "import matplotlib.pyplot as plt\n",
    "import os"
   ]
  },
  {
   "cell_type": "code",
   "execution_count": 4,
   "metadata": {
    "colab": {},
    "colab_type": "code",
    "executionInfo": {
     "elapsed": 1715,
     "status": "ok",
     "timestamp": 1594730288527,
     "user": {
      "displayName": "Noboru Koike",
      "photoUrl": "https://lh3.googleusercontent.com/a-/AOh14Ggp8njUb4jc54JrzfM5cQBkfiCdlz6nY17y8-1szg=s64",
      "userId": "05156582812995850159"
     },
     "user_tz": -540
    },
    "id": "SIGukkQOVPP9"
   },
   "outputs": [],
   "source": [
    "import xgboost as xgb"
   ]
  },
  {
   "cell_type": "code",
   "execution_count": 5,
   "metadata": {
    "colab": {
     "base_uri": "https://localhost:8080/",
     "height": 34
    },
    "colab_type": "code",
    "executionInfo": {
     "elapsed": 1116,
     "status": "ok",
     "timestamp": 1594730306620,
     "user": {
      "displayName": "Noboru Koike",
      "photoUrl": "https://lh3.googleusercontent.com/a-/AOh14Ggp8njUb4jc54JrzfM5cQBkfiCdlz6nY17y8-1szg=s64",
      "userId": "05156582812995850159"
     },
     "user_tz": -540
    },
    "id": "1RYqNw20VSgQ",
    "outputId": "30f4c55f-50e6-4908-c5b6-186d9399431a"
   },
   "outputs": [
    {
     "data": {
      "text/plain": [
       "'1.1.1'"
      ]
     },
     "execution_count": 5,
     "metadata": {},
     "output_type": "execute_result"
    }
   ],
   "source": [
    "xgb.__version__"
   ]
  },
  {
   "cell_type": "code",
   "execution_count": 6,
   "metadata": {
    "colab": {},
    "colab_type": "code",
    "executionInfo": {
     "elapsed": 568,
     "status": "ok",
     "timestamp": 1594730407388,
     "user": {
      "displayName": "Noboru Koike",
      "photoUrl": "https://lh3.googleusercontent.com/a-/AOh14Ggp8njUb4jc54JrzfM5cQBkfiCdlz6nY17y8-1szg=s64",
      "userId": "05156582812995850159"
     },
     "user_tz": -540
    },
    "id": "BGSuozoETk3q"
   },
   "outputs": [],
   "source": [
    "DATA_DIR_PATH = os.path.join('..', '..', 'data')\n",
    "\n",
    "def laod_data(file_name):\n",
    "  file_path = os.path.join(DATA_DIR_PATH, file_name)\n",
    "  return pd.read_csv(file_path, header=0)"
   ]
  },
  {
   "cell_type": "code",
   "execution_count": 8,
   "metadata": {
    "colab": {
     "base_uri": "https://localhost:8080/",
     "height": 903
    },
    "colab_type": "code",
    "executionInfo": {
     "elapsed": 1575,
     "status": "ok",
     "timestamp": 1594730410377,
     "user": {
      "displayName": "Noboru Koike",
      "photoUrl": "https://lh3.googleusercontent.com/a-/AOh14Ggp8njUb4jc54JrzfM5cQBkfiCdlz6nY17y8-1szg=s64",
      "userId": "05156582812995850159"
     },
     "user_tz": -540
    },
    "id": "gF4_j_jaUYLh",
    "outputId": "a687d088-94ea-4a93-991e-69dc4a9bf2cd"
   },
   "outputs": [
    {
     "name": "stdout",
     "output_type": "stream",
     "text": [
      "199\n"
     ]
    }
   ],
   "source": [
    "df_train = laod_data('bookmark_train_data.csv')\n",
    "print(len(df_train))\n",
    "#df_train.head(3)"
   ]
  },
  {
   "cell_type": "code",
   "execution_count": 15,
   "metadata": {
    "colab": {},
    "colab_type": "code",
    "executionInfo": {
     "elapsed": 618,
     "status": "ok",
     "timestamp": 1594730713002,
     "user": {
      "displayName": "Noboru Koike",
      "photoUrl": "https://lh3.googleusercontent.com/a-/AOh14Ggp8njUb4jc54JrzfM5cQBkfiCdlz6nY17y8-1szg=s64",
      "userId": "05156582812995850159"
     },
     "user_tz": -540
    },
    "id": "BjRn1voqVOp4"
   },
   "outputs": [],
   "source": [
    "from sklearn.preprocessing import LabelEncoder\n",
    "\n",
    "cat_le = LabelEncoder()\n",
    "cat_le.fit(df_train['category'])\n",
    "\n",
    "WORD_CLASSE_LABELS = ['その他', 'フィラー', '副詞', '助動詞', '助詞',\n",
    "                     '動詞', '名詞', '形容詞', '感動詞', '接続詞',\n",
    "                     '接頭詞', '記号', '連体詞',]\n",
    "new_wc_columns = {}\n",
    "for (i, name) in enumerate(WORD_CLASSE_LABELS):\n",
    "  new_wc_columns['wc_sum_{}'.format(name)] = 'wc_sum_{}'.format(i)\n",
    "  new_wc_columns['wc_rate_{}'.format(name)] = 'wc_rate_{}'.format(i)\n",
    "\n",
    "\n",
    "def data_preprocess(df):\n",
    "  new_df = df.drop(['ncode', 'title', 'bookmark_cat'], axis=1)\n",
    "\n",
    "  new_df['category'] = cat_le.transform(new_df['category'])\n",
    "\n",
    "  new_df['rating'] = new_df['rating'] * 10\n",
    "  new_df = new_df.astype({'rating': 'int32'})\n",
    "\n",
    "  #wc_columns = [col for col in new_df.columns if col.find('wc_') != -1]\n",
    "  #new_df = new_df.drop(wc_columns, axis=1)\n",
    "  new_df = new_df.rename(columns=new_wc_columns)\n",
    "\n",
    "  kw_columns = [col for col in new_df.columns if col.find('kw_') != -1]\n",
    "  new_df = new_df.drop(kw_columns, axis=1)\n",
    "\n",
    "  return new_df"
   ]
  },
  {
   "cell_type": "code",
   "execution_count": 16,
   "metadata": {},
   "outputs": [
    {
     "data": {
      "text/plain": [
       "Index(['ncode', 'title', 'category', 'bookmark_cat', 'created_at',\n",
       "       'updated_at', 'char_count_sum', 'new_line_count_sum',\n",
       "       'talk_char_count_sum', 'new_line_count_rate_sum',\n",
       "       'talk_char_count_rate_sum', 'char_count_avg', 'new_line_count_avg',\n",
       "       'talk_char_count_avg', 'new_line_count_rate_avg',\n",
       "       'talk_char_count_rate_avg', 'wc_sum_その他', 'wc_sum_フィラー', 'wc_sum_副詞',\n",
       "       'wc_sum_助動詞', 'wc_sum_助詞', 'wc_sum_動詞', 'wc_sum_名詞', 'wc_sum_形容詞',\n",
       "       'wc_sum_感動詞', 'wc_sum_接続詞', 'wc_sum_接頭詞', 'wc_sum_記号', 'wc_sum_連体詞',\n",
       "       'wc_rate_その他', 'wc_rate_フィラー', 'wc_rate_副詞', 'wc_rate_助動詞',\n",
       "       'wc_rate_助詞', 'wc_rate_動詞', 'wc_rate_名詞', 'wc_rate_形容詞', 'wc_rate_感動詞',\n",
       "       'wc_rate_接続詞', 'wc_rate_接頭詞', 'wc_rate_記号', 'wc_rate_連体詞', 'kw_冒険者',\n",
       "       'kw_魔王', 'kw_日常', 'kw_成り上がり', 'kw_内政', 'kw_恋愛', 'kw_無双', 'kw_青春',\n",
       "       'kw_ハーレム', 'kw_男主人公', 'kw_奴隷', 'kw_テンプレ', 'kw_勘違い', 'kw_ほのぼの', 'kw_貴族',\n",
       "       'kw_ギルド', 'kw_コメディ', 'kw_異世界', 'kw_エルフ', 'kw_ファンタジー', 'kw_オリジナル戦記',\n",
       "       'kw_チート', 'kw_R15', 'kw_ダンジョン', 'kw_ステータス', 'kw_料理', 'kw_ラブコメ', 'kw_中世',\n",
       "       'kw_異世界召喚', 'kw_剣と魔法', 'kw_学園', 'kw_異能力バトル', 'kw_勇者', 'kw_冒険',\n",
       "       'kw_主人公最強', 'kw_転生', 'kw_シリアス', 'kw_異世界転移', 'kw_追放', 'kw_ざまぁ', 'kw_西洋',\n",
       "       'kw_最強', 'kw_スキル', 'kw_魔法', 'kw_異世界転生', 'kw_ご都合主義', 'kw_ハッピーエンド',\n",
       "       'kw_書籍化', 'kw_おっさん', 'kw_残酷な描写あり', 'rating'],\n",
       "      dtype='object')"
      ]
     },
     "execution_count": 16,
     "metadata": {},
     "output_type": "execute_result"
    }
   ],
   "source": [
    "df_train.keys()"
   ]
  },
  {
   "cell_type": "code",
   "execution_count": 17,
   "metadata": {
    "colab": {
     "base_uri": "https://localhost:8080/",
     "height": 320
    },
    "colab_type": "code",
    "executionInfo": {
     "elapsed": 663,
     "status": "ok",
     "timestamp": 1594730714698,
     "user": {
      "displayName": "Noboru Koike",
      "photoUrl": "https://lh3.googleusercontent.com/a-/AOh14Ggp8njUb4jc54JrzfM5cQBkfiCdlz6nY17y8-1szg=s64",
      "userId": "05156582812995850159"
     },
     "user_tz": -540
    },
    "id": "JwrsiCQqYCJm",
    "outputId": "f67f097c-1686-4ce6-ff41-1c09b82d6d08"
   },
   "outputs": [
    {
     "data": {
      "text/html": [
       "<div>\n",
       "<style scoped>\n",
       "    .dataframe tbody tr th:only-of-type {\n",
       "        vertical-align: middle;\n",
       "    }\n",
       "\n",
       "    .dataframe tbody tr th {\n",
       "        vertical-align: top;\n",
       "    }\n",
       "\n",
       "    .dataframe thead th {\n",
       "        text-align: right;\n",
       "    }\n",
       "</style>\n",
       "<table border=\"1\" class=\"dataframe\">\n",
       "  <thead>\n",
       "    <tr style=\"text-align: right;\">\n",
       "      <th></th>\n",
       "      <th>category</th>\n",
       "      <th>created_at</th>\n",
       "      <th>updated_at</th>\n",
       "      <th>char_count_sum</th>\n",
       "      <th>new_line_count_sum</th>\n",
       "      <th>talk_char_count_sum</th>\n",
       "      <th>new_line_count_rate_sum</th>\n",
       "      <th>talk_char_count_rate_sum</th>\n",
       "      <th>char_count_avg</th>\n",
       "      <th>new_line_count_avg</th>\n",
       "      <th>...</th>\n",
       "      <th>wc_rate_4</th>\n",
       "      <th>wc_rate_5</th>\n",
       "      <th>wc_rate_6</th>\n",
       "      <th>wc_rate_7</th>\n",
       "      <th>wc_rate_8</th>\n",
       "      <th>wc_rate_9</th>\n",
       "      <th>wc_rate_10</th>\n",
       "      <th>wc_rate_11</th>\n",
       "      <th>wc_rate_12</th>\n",
       "      <th>rating</th>\n",
       "    </tr>\n",
       "  </thead>\n",
       "  <tbody>\n",
       "    <tr>\n",
       "      <th>0</th>\n",
       "      <td>6</td>\n",
       "      <td>1.586338e+09</td>\n",
       "      <td>1.593468e+09</td>\n",
       "      <td>92340</td>\n",
       "      <td>3840</td>\n",
       "      <td>28950</td>\n",
       "      <td>0.041585</td>\n",
       "      <td>0.313515</td>\n",
       "      <td>3078.0</td>\n",
       "      <td>128.0</td>\n",
       "      <td>...</td>\n",
       "      <td>0.237664</td>\n",
       "      <td>0.226083</td>\n",
       "      <td>0.225076</td>\n",
       "      <td>0.013595</td>\n",
       "      <td>0.006042</td>\n",
       "      <td>0.007049</td>\n",
       "      <td>0.006042</td>\n",
       "      <td>0.144008</td>\n",
       "      <td>0.011078</td>\n",
       "      <td>30</td>\n",
       "    </tr>\n",
       "    <tr>\n",
       "      <th>1</th>\n",
       "      <td>6</td>\n",
       "      <td>1.590714e+09</td>\n",
       "      <td>1.593338e+09</td>\n",
       "      <td>77880</td>\n",
       "      <td>4140</td>\n",
       "      <td>4950</td>\n",
       "      <td>0.053159</td>\n",
       "      <td>0.063559</td>\n",
       "      <td>2596.0</td>\n",
       "      <td>138.0</td>\n",
       "      <td>...</td>\n",
       "      <td>0.238590</td>\n",
       "      <td>0.238013</td>\n",
       "      <td>0.217215</td>\n",
       "      <td>0.017909</td>\n",
       "      <td>0.001155</td>\n",
       "      <td>0.010399</td>\n",
       "      <td>0.001155</td>\n",
       "      <td>0.138070</td>\n",
       "      <td>0.013287</td>\n",
       "      <td>40</td>\n",
       "    </tr>\n",
       "    <tr>\n",
       "      <th>2</th>\n",
       "      <td>6</td>\n",
       "      <td>1.575176e+09</td>\n",
       "      <td>1.593429e+09</td>\n",
       "      <td>59880</td>\n",
       "      <td>3090</td>\n",
       "      <td>10230</td>\n",
       "      <td>0.051603</td>\n",
       "      <td>0.170842</td>\n",
       "      <td>1996.0</td>\n",
       "      <td>103.0</td>\n",
       "      <td>...</td>\n",
       "      <td>0.240486</td>\n",
       "      <td>0.177328</td>\n",
       "      <td>0.285020</td>\n",
       "      <td>0.014575</td>\n",
       "      <td>0.000000</td>\n",
       "      <td>0.005668</td>\n",
       "      <td>0.008907</td>\n",
       "      <td>0.148178</td>\n",
       "      <td>0.005668</td>\n",
       "      <td>30</td>\n",
       "    </tr>\n",
       "  </tbody>\n",
       "</table>\n",
       "<p>3 rows × 40 columns</p>\n",
       "</div>"
      ],
      "text/plain": [
       "   category    created_at    updated_at  char_count_sum  new_line_count_sum  \\\n",
       "0         6  1.586338e+09  1.593468e+09           92340                3840   \n",
       "1         6  1.590714e+09  1.593338e+09           77880                4140   \n",
       "2         6  1.575176e+09  1.593429e+09           59880                3090   \n",
       "\n",
       "   talk_char_count_sum  new_line_count_rate_sum  talk_char_count_rate_sum  \\\n",
       "0                28950                 0.041585                  0.313515   \n",
       "1                 4950                 0.053159                  0.063559   \n",
       "2                10230                 0.051603                  0.170842   \n",
       "\n",
       "   char_count_avg  new_line_count_avg  ...  wc_rate_4  wc_rate_5  wc_rate_6  \\\n",
       "0          3078.0               128.0  ...   0.237664   0.226083   0.225076   \n",
       "1          2596.0               138.0  ...   0.238590   0.238013   0.217215   \n",
       "2          1996.0               103.0  ...   0.240486   0.177328   0.285020   \n",
       "\n",
       "   wc_rate_7  wc_rate_8  wc_rate_9  wc_rate_10  wc_rate_11  wc_rate_12  rating  \n",
       "0   0.013595   0.006042   0.007049    0.006042    0.144008    0.011078      30  \n",
       "1   0.017909   0.001155   0.010399    0.001155    0.138070    0.013287      40  \n",
       "2   0.014575   0.000000   0.005668    0.008907    0.148178    0.005668      30  \n",
       "\n",
       "[3 rows x 40 columns]"
      ]
     },
     "execution_count": 17,
     "metadata": {},
     "output_type": "execute_result"
    }
   ],
   "source": [
    "df_train2 = data_preprocess(df_train)\n",
    "df_train2.head(3)"
   ]
  },
  {
   "cell_type": "code",
   "execution_count": 18,
   "metadata": {
    "colab": {
     "base_uri": "https://localhost:8080/",
     "height": 33
    },
    "colab_type": "code",
    "executionInfo": {
     "elapsed": 596,
     "status": "ok",
     "timestamp": 1594731114530,
     "user": {
      "displayName": "Noboru Koike",
      "photoUrl": "https://lh3.googleusercontent.com/a-/AOh14Ggp8njUb4jc54JrzfM5cQBkfiCdlz6nY17y8-1szg=s64",
      "userId": "05156582812995850159"
     },
     "user_tz": -540
    },
    "id": "kuN9fampYLzA",
    "outputId": "8d02c502-b3c6-4339-a8cc-8603b04e1330"
   },
   "outputs": [
    {
     "name": "stdout",
     "output_type": "stream",
     "text": [
      "(199, 39) (199,)\n"
     ]
    }
   ],
   "source": [
    "X = df_train2.drop(['rating'], axis=1).values\n",
    "y = df_train2['rating'].values\n",
    "print(X.shape, y.shape)"
   ]
  },
  {
   "cell_type": "code",
   "execution_count": 30,
   "metadata": {},
   "outputs": [],
   "source": [
    "feature_names = df_train2.keys()[:-1]"
   ]
  },
  {
   "cell_type": "code",
   "execution_count": 31,
   "metadata": {
    "colab": {
     "base_uri": "https://localhost:8080/",
     "height": 150
    },
    "colab_type": "code",
    "executionInfo": {
     "elapsed": 540,
     "status": "ok",
     "timestamp": 1594730878797,
     "user": {
      "displayName": "Noboru Koike",
      "photoUrl": "https://lh3.googleusercontent.com/a-/AOh14Ggp8njUb4jc54JrzfM5cQBkfiCdlz6nY17y8-1szg=s64",
      "userId": "05156582812995850159"
     },
     "user_tz": -540
    },
    "id": "RVFJGk05XPUu",
    "outputId": "53a88aee-6a2e-4bf4-d6e2-f5a18c27fbcc"
   },
   "outputs": [
    {
     "name": "stdout",
     "output_type": "stream",
     "text": [
      "Index(['category', 'created_at', 'updated_at', 'char_count_sum',\n",
      "       'new_line_count_sum', 'talk_char_count_sum', 'new_line_count_rate_sum',\n",
      "       'talk_char_count_rate_sum', 'char_count_avg', 'new_line_count_avg',\n",
      "       'talk_char_count_avg', 'new_line_count_rate_avg',\n",
      "       'talk_char_count_rate_avg', 'wc_sum_0', 'wc_sum_1', 'wc_sum_2',\n",
      "       'wc_sum_3', 'wc_sum_4', 'wc_sum_5', 'wc_sum_6', 'wc_sum_7', 'wc_sum_8',\n",
      "       'wc_sum_9', 'wc_sum_10', 'wc_sum_11', 'wc_sum_12', 'wc_rate_0',\n",
      "       'wc_rate_1', 'wc_rate_2', 'wc_rate_3', 'wc_rate_4', 'wc_rate_5',\n",
      "       'wc_rate_6', 'wc_rate_7', 'wc_rate_8', 'wc_rate_9', 'wc_rate_10',\n",
      "       'wc_rate_11', 'wc_rate_12'],\n",
      "      dtype='object')\n",
      "39\n"
     ]
    }
   ],
   "source": [
    "print(feature_names)\n",
    "print(len(feature_names))"
   ]
  },
  {
   "cell_type": "code",
   "execution_count": 32,
   "metadata": {
    "colab": {
     "base_uri": "https://localhost:8080/",
     "height": 266
    },
    "colab_type": "code",
    "executionInfo": {
     "elapsed": 544,
     "status": "ok",
     "timestamp": 1594731260039,
     "user": {
      "displayName": "Noboru Koike",
      "photoUrl": "https://lh3.googleusercontent.com/a-/AOh14Ggp8njUb4jc54JrzfM5cQBkfiCdlz6nY17y8-1szg=s64",
      "userId": "05156582812995850159"
     },
     "user_tz": -540
    },
    "id": "LMm0wPh6Y8pK",
    "outputId": "4faef2d3-e401-436d-90c8-33fb5359e6f4"
   },
   "outputs": [
    {
     "name": "stdout",
     "output_type": "stream",
     "text": [
      "[30 40 30 40 30 30 30 40 50 20 40 40 30 30 50 40 40 40 30 25 20 30 20 40\n",
      " 40 40 35 30 20 20 40 30 40 20 30 20 35 20 20 30 35 35 35 10 30 45 75 60\n",
      " 15 60 60 30 60 45 45 30 45 45 45 52 15 15 45 45 52 45 60 15 45 45 52 45\n",
      " 45 75 45 45 52 60 52 67 60 45 45 60 52 45 52 67 60 52 10 15  5 17 15 10\n",
      " 15 15 10 15 15 10  5 10 15 15 15 10 10 10 15 15 10 15 10 10 15  5  5  5\n",
      "  5  5  5  5 10  5  5  5  5 10 15 10 15 15 10 10  5 15 10 10 15 15 15 10\n",
      "  5  5 15 17 15 15 10 10 15 15 15 10  5  5 15 15 15 15 17 10 10 15 15 15\n",
      " 15 15 15 15 10 15  5 15 17 15 17 15 15 15 15 15 10 15 15 15 15 15 15 15\n",
      " 15 15 10 15 15 10 15]\n",
      "15\n",
      "[ 5 10 15 17 20 25 30 35 40 45 50 52 60 67 75]\n",
      "[19 29 61  5  9  1 16  5 13 18  2  8  9  2  2]\n"
     ]
    }
   ],
   "source": [
    "print(y)\n",
    "\n",
    "u, counts = np.unique(y, return_counts=True)\n",
    "print(len(u))\n",
    "print(u)\n",
    "print(counts)"
   ]
  },
  {
   "cell_type": "code",
   "execution_count": 33,
   "metadata": {},
   "outputs": [],
   "source": [
    "from imblearn.over_sampling import RandomOverSampler"
   ]
  },
  {
   "cell_type": "code",
   "execution_count": 34,
   "metadata": {},
   "outputs": [
    {
     "name": "stdout",
     "output_type": "stream",
     "text": [
      "(915, 39) (915,)\n",
      "15\n",
      "[ 5 10 15 17 20 25 30 35 40 45 50 52 60 67 75]\n",
      "[61 61 61 61 61 61 61 61 61 61 61 61 61 61 61]\n"
     ]
    }
   ],
   "source": [
    "ros = RandomOverSampler(random_state=0)\n",
    "X_resampled, y_resampled = ros.fit_resample(X, y)\n",
    "print(X_resampled.shape, y_resampled.shape)\n",
    "\n",
    "u, counts = np.unique(y_resampled, return_counts=True)\n",
    "print(len(u))\n",
    "print(u)\n",
    "print(counts)"
   ]
  },
  {
   "cell_type": "code",
   "execution_count": 35,
   "metadata": {
    "colab": {},
    "colab_type": "code",
    "executionInfo": {
     "elapsed": 568,
     "status": "ok",
     "timestamp": 1594731288899,
     "user": {
      "displayName": "Noboru Koike",
      "photoUrl": "https://lh3.googleusercontent.com/a-/AOh14Ggp8njUb4jc54JrzfM5cQBkfiCdlz6nY17y8-1szg=s64",
      "userId": "05156582812995850159"
     },
     "user_tz": -540
    },
    "id": "R89OYNT0e_7A"
   },
   "outputs": [],
   "source": [
    "from sklearn.model_selection import train_test_split\n",
    "\n",
    "#X_train, X_val, y_train, y_val = train_test_split(X, y, test_size=0.3, shuffle=True, random_state=1)\n",
    "X_train, X_val, y_train, y_val = train_test_split(X_resampled, y_resampled, test_size=0.3, shuffle=True, random_state=1)"
   ]
  },
  {
   "cell_type": "code",
   "execution_count": 36,
   "metadata": {
    "colab": {
     "base_uri": "https://localhost:8080/",
     "height": 33
    },
    "colab_type": "code",
    "executionInfo": {
     "elapsed": 690,
     "status": "ok",
     "timestamp": 1594731319243,
     "user": {
      "displayName": "Noboru Koike",
      "photoUrl": "https://lh3.googleusercontent.com/a-/AOh14Ggp8njUb4jc54JrzfM5cQBkfiCdlz6nY17y8-1szg=s64",
      "userId": "05156582812995850159"
     },
     "user_tz": -540
    },
    "id": "ozky4y8lYKpL",
    "outputId": "63cf2a41-9158-43e3-fe4d-09224267e58b"
   },
   "outputs": [
    {
     "name": "stdout",
     "output_type": "stream",
     "text": [
      "(640, 39) (640,)\n",
      "(275, 39) (275,)\n"
     ]
    }
   ],
   "source": [
    "print(X_train.shape, y_train.shape)\n",
    "print(X_val.shape, y_val.shape)"
   ]
  },
  {
   "cell_type": "code",
   "execution_count": 39,
   "metadata": {},
   "outputs": [],
   "source": [
    "dtrain = xgb.DMatrix(X_train, label=y_train, feature_names=feature_names)\n",
    "dval = xgb.DMatrix(X_val, label=y_val, feature_names=feature_names)"
   ]
  },
  {
   "cell_type": "code",
   "execution_count": 40,
   "metadata": {},
   "outputs": [
    {
     "name": "stdout",
     "output_type": "stream",
     "text": [
      "['category', 'created_at', 'updated_at', 'char_count_sum', 'new_line_count_sum', 'talk_char_count_sum', 'new_line_count_rate_sum', 'talk_char_count_rate_sum', 'char_count_avg', 'new_line_count_avg', 'talk_char_count_avg', 'new_line_count_rate_avg', 'talk_char_count_rate_avg', 'wc_sum_0', 'wc_sum_1', 'wc_sum_2', 'wc_sum_3', 'wc_sum_4', 'wc_sum_5', 'wc_sum_6', 'wc_sum_7', 'wc_sum_8', 'wc_sum_9', 'wc_sum_10', 'wc_sum_11', 'wc_sum_12', 'wc_rate_0', 'wc_rate_1', 'wc_rate_2', 'wc_rate_3', 'wc_rate_4', 'wc_rate_5', 'wc_rate_6', 'wc_rate_7', 'wc_rate_8', 'wc_rate_9', 'wc_rate_10', 'wc_rate_11', 'wc_rate_12']\n"
     ]
    }
   ],
   "source": [
    "print(dtrain.feature_names)"
   ]
  },
  {
   "cell_type": "code",
   "execution_count": 41,
   "metadata": {},
   "outputs": [
    {
     "name": "stdout",
     "output_type": "stream",
     "text": [
      "[11:20:30] WARNING: /Users/travis/build/dmlc/xgboost/src/objective/regression_obj.cu:170: reg:linear is now deprecated in favor of reg:squarederror.\n",
      "[0]\ttrain-rmse:29.48635\teval-rmse:31.14471\n",
      "Multiple eval metrics have been passed: 'eval-rmse' will be used for early stopping.\n",
      "\n",
      "Will train until eval-rmse hasn't improved in 20 rounds.\n",
      "[1]\ttrain-rmse:21.50414\teval-rmse:23.07840\n",
      "[2]\ttrain-rmse:15.70600\teval-rmse:17.22820\n",
      "[3]\ttrain-rmse:11.67949\teval-rmse:13.38512\n",
      "[4]\ttrain-rmse:8.92405\teval-rmse:10.88237\n",
      "[5]\ttrain-rmse:6.93947\teval-rmse:9.31509\n",
      "[6]\ttrain-rmse:5.58918\teval-rmse:8.43275\n",
      "[7]\ttrain-rmse:4.52272\teval-rmse:7.71929\n",
      "[8]\ttrain-rmse:3.69089\teval-rmse:7.29815\n",
      "[9]\ttrain-rmse:3.13772\teval-rmse:7.16188\n",
      "[10]\ttrain-rmse:2.53901\teval-rmse:6.96577\n",
      "[11]\ttrain-rmse:2.31636\teval-rmse:6.91717\n",
      "[12]\ttrain-rmse:2.11328\teval-rmse:6.84932\n",
      "[13]\ttrain-rmse:1.79460\teval-rmse:6.70489\n",
      "[14]\ttrain-rmse:1.63862\teval-rmse:6.65925\n",
      "[15]\ttrain-rmse:1.50661\teval-rmse:6.60255\n",
      "[16]\ttrain-rmse:1.44132\teval-rmse:6.61165\n",
      "[17]\ttrain-rmse:1.39452\teval-rmse:6.59907\n",
      "[18]\ttrain-rmse:1.26409\teval-rmse:6.54109\n",
      "[19]\ttrain-rmse:1.06673\teval-rmse:6.46941\n",
      "[20]\ttrain-rmse:1.01466\teval-rmse:6.45958\n",
      "[21]\ttrain-rmse:0.92200\teval-rmse:6.44397\n",
      "[22]\ttrain-rmse:0.86674\teval-rmse:6.43858\n",
      "[23]\ttrain-rmse:0.82325\teval-rmse:6.42376\n",
      "[24]\ttrain-rmse:0.75102\teval-rmse:6.40629\n",
      "[25]\ttrain-rmse:0.71773\teval-rmse:6.39435\n",
      "[26]\ttrain-rmse:0.66661\teval-rmse:6.37763\n",
      "[27]\ttrain-rmse:0.60407\teval-rmse:6.37477\n",
      "[28]\ttrain-rmse:0.56482\teval-rmse:6.37257\n",
      "[29]\ttrain-rmse:0.50770\teval-rmse:6.35627\n",
      "[30]\ttrain-rmse:0.45927\teval-rmse:6.35446\n",
      "[31]\ttrain-rmse:0.43414\teval-rmse:6.35266\n",
      "[32]\ttrain-rmse:0.41458\teval-rmse:6.34579\n",
      "[33]\ttrain-rmse:0.38146\teval-rmse:6.32755\n",
      "[34]\ttrain-rmse:0.31645\teval-rmse:6.31229\n",
      "[35]\ttrain-rmse:0.28449\teval-rmse:6.31425\n",
      "[36]\ttrain-rmse:0.27286\teval-rmse:6.31423\n",
      "[37]\ttrain-rmse:0.26732\teval-rmse:6.31517\n",
      "[38]\ttrain-rmse:0.23663\teval-rmse:6.30462\n",
      "[39]\ttrain-rmse:0.22617\teval-rmse:6.30495\n",
      "[40]\ttrain-rmse:0.20633\teval-rmse:6.30471\n",
      "[41]\ttrain-rmse:0.20194\teval-rmse:6.30429\n",
      "[42]\ttrain-rmse:0.17521\teval-rmse:6.28835\n",
      "[43]\ttrain-rmse:0.15611\teval-rmse:6.28449\n",
      "[44]\ttrain-rmse:0.15041\teval-rmse:6.28133\n",
      "[45]\ttrain-rmse:0.13002\teval-rmse:6.27330\n",
      "[46]\ttrain-rmse:0.11898\teval-rmse:6.27148\n",
      "[47]\ttrain-rmse:0.10783\teval-rmse:6.26875\n",
      "[48]\ttrain-rmse:0.10158\teval-rmse:6.26817\n",
      "[49]\ttrain-rmse:0.09415\teval-rmse:6.26659\n",
      "[50]\ttrain-rmse:0.08498\teval-rmse:6.26495\n",
      "[51]\ttrain-rmse:0.07800\teval-rmse:6.26373\n",
      "[52]\ttrain-rmse:0.07129\teval-rmse:6.26297\n",
      "[53]\ttrain-rmse:0.06881\teval-rmse:6.26148\n",
      "[54]\ttrain-rmse:0.06060\teval-rmse:6.26233\n",
      "[55]\ttrain-rmse:0.05729\teval-rmse:6.26097\n",
      "[56]\ttrain-rmse:0.05197\teval-rmse:6.25985\n",
      "[57]\ttrain-rmse:0.04660\teval-rmse:6.25820\n",
      "[58]\ttrain-rmse:0.04530\teval-rmse:6.25832\n",
      "[59]\ttrain-rmse:0.04083\teval-rmse:6.25799\n",
      "[60]\ttrain-rmse:0.03797\teval-rmse:6.25853\n",
      "[61]\ttrain-rmse:0.03593\teval-rmse:6.25889\n",
      "[62]\ttrain-rmse:0.03348\teval-rmse:6.25857\n",
      "[63]\ttrain-rmse:0.03069\teval-rmse:6.25864\n",
      "[64]\ttrain-rmse:0.02908\teval-rmse:6.25875\n",
      "[65]\ttrain-rmse:0.02734\teval-rmse:6.25798\n",
      "[66]\ttrain-rmse:0.02417\teval-rmse:6.25763\n",
      "[67]\ttrain-rmse:0.02133\teval-rmse:6.25824\n",
      "[68]\ttrain-rmse:0.01998\teval-rmse:6.25831\n",
      "[69]\ttrain-rmse:0.01926\teval-rmse:6.25832\n",
      "[70]\ttrain-rmse:0.01809\teval-rmse:6.25861\n",
      "[71]\ttrain-rmse:0.01641\teval-rmse:6.25842\n",
      "[72]\ttrain-rmse:0.01392\teval-rmse:6.25764\n",
      "[73]\ttrain-rmse:0.01311\teval-rmse:6.25740\n",
      "[74]\ttrain-rmse:0.01250\teval-rmse:6.25739\n",
      "[75]\ttrain-rmse:0.01160\teval-rmse:6.25740\n",
      "[76]\ttrain-rmse:0.01020\teval-rmse:6.25742\n",
      "[77]\ttrain-rmse:0.00940\teval-rmse:6.25740\n",
      "[78]\ttrain-rmse:0.00835\teval-rmse:6.25732\n",
      "[79]\ttrain-rmse:0.00775\teval-rmse:6.25729\n",
      "[80]\ttrain-rmse:0.00731\teval-rmse:6.25719\n",
      "[81]\ttrain-rmse:0.00697\teval-rmse:6.25718\n",
      "[82]\ttrain-rmse:0.00668\teval-rmse:6.25711\n",
      "[83]\ttrain-rmse:0.00628\teval-rmse:6.25711\n",
      "[84]\ttrain-rmse:0.00554\teval-rmse:6.25719\n",
      "[85]\ttrain-rmse:0.00528\teval-rmse:6.25721\n",
      "[86]\ttrain-rmse:0.00473\teval-rmse:6.25724\n",
      "[87]\ttrain-rmse:0.00451\teval-rmse:6.25725\n",
      "[88]\ttrain-rmse:0.00429\teval-rmse:6.25724\n",
      "[89]\ttrain-rmse:0.00375\teval-rmse:6.25730\n",
      "[90]\ttrain-rmse:0.00354\teval-rmse:6.25722\n",
      "[91]\ttrain-rmse:0.00325\teval-rmse:6.25713\n",
      "[92]\ttrain-rmse:0.00283\teval-rmse:6.25698\n",
      "[93]\ttrain-rmse:0.00267\teval-rmse:6.25701\n",
      "[94]\ttrain-rmse:0.00249\teval-rmse:6.25704\n",
      "[95]\ttrain-rmse:0.00245\teval-rmse:6.25701\n",
      "[96]\ttrain-rmse:0.00226\teval-rmse:6.25704\n",
      "[97]\ttrain-rmse:0.00205\teval-rmse:6.25706\n",
      "[98]\ttrain-rmse:0.00194\teval-rmse:6.25697\n",
      "[99]\ttrain-rmse:0.00169\teval-rmse:6.25700\n",
      "[11:20:30] WARNING: /Users/travis/build/dmlc/xgboost/src/objective/regression_obj.cu:170: reg:linear is now deprecated in favor of reg:squarederror.\n"
     ]
    }
   ],
   "source": [
    "xgb_params = {\n",
    "    'objective': 'reg:linear',\n",
    "    'eval_metric': 'rmse',\n",
    "}\n",
    "\n",
    "evals = [(dtrain, 'train'), (dval, 'eval')]\n",
    "evals_result = {}\n",
    "\n",
    "bst = xgb.train(xgb_params,\n",
    "                dtrain,\n",
    "                num_boost_round=100,\n",
    "                early_stopping_rounds=20,\n",
    "                evals=evals,\n",
    "                evals_result=evals_result)"
   ]
  },
  {
   "cell_type": "code",
   "execution_count": 42,
   "metadata": {},
   "outputs": [
    {
     "name": "stdout",
     "output_type": "stream",
     "text": [
      "RMSE: 6.257003174252576\n"
     ]
    }
   ],
   "source": [
    "import math\n",
    "from sklearn.metrics import mean_squared_error\n",
    "\n",
    "y_pred = bst.predict(dval)\n",
    "mse = mean_squared_error(y_val, y_pred)\n",
    "print('RMSE:', math.sqrt(mse))"
   ]
  },
  {
   "cell_type": "code",
   "execution_count": 43,
   "metadata": {},
   "outputs": [
    {
     "data": {
      "image/png": "[encoded data removed]",
      "text/plain": [
       "<Figure size 432x288 with 1 Axes>"
      ]
     },
     "metadata": {
      "needs_background": "light"
     },
     "output_type": "display_data"
    }
   ],
   "source": [
    "train_metric = evals_result['train']['rmse']\n",
    "plt.plot(train_metric, label='train rmse')\n",
    "\n",
    "eval_metric = evals_result['eval']['rmse']\n",
    "plt.plot(eval_metric, label='eval rmse')\n",
    "\n",
    "plt.grid()\n",
    "plt.legend()\n",
    "plt.xlabel('rounds')\n",
    "plt.ylabel('rmse')\n",
    "plt.show()"
   ]
  },
  {
   "cell_type": "code",
   "execution_count": 73,
   "metadata": {
    "scrolled": true
   },
   "outputs": [
    {
     "data": {
      "image/png": "[encoded data removed]",
      "text/plain": [
       "<Figure size 864x576 with 1 Axes>"
      ]
     },
     "metadata": {
      "needs_background": "light"
     },
     "output_type": "display_data"
    },
    {
     "data": {
      "text/plain": [
       "<Figure size 960x640 with 0 Axes>"
      ]
     },
     "metadata": {},
     "output_type": "display_data"
    }
   ],
   "source": [
    "_, ax = plt.subplots(figsize=(12, 8))\n",
    "\n",
    "xgb.plot_importance(bst,ax=ax,\n",
    "                    importance_type='gain',\n",
    "                    show_values=True,\n",
    "                    color='red')\n",
    "\n",
    "plt.yticks(fontsize=12)\n",
    "plt.figure(dpi=160)\n",
    "\n",
    "plt.show()"
   ]
  },
  {
   "cell_type": "code",
   "execution_count": 74,
   "metadata": {},
   "outputs": [],
   "source": [
    "#xgb.to_graphviz(bst, num_trees=1)"
   ]
  },
  {
   "cell_type": "code",
   "execution_count": 75,
   "metadata": {},
   "outputs": [
    {
     "name": "stdout",
     "output_type": "stream",
     "text": [
      "65\n"
     ]
    }
   ],
   "source": [
    "df_test = laod_data('ranking_test_data.csv')\n",
    "print(len(df_test))\n",
    "#df_test.head(3)"
   ]
  },
  {
   "cell_type": "code",
   "execution_count": 76,
   "metadata": {},
   "outputs": [
    {
     "data": {
      "text/html": [
       "<div>\n",
       "<style scoped>\n",
       "    .dataframe tbody tr th:only-of-type {\n",
       "        vertical-align: middle;\n",
       "    }\n",
       "\n",
       "    .dataframe tbody tr th {\n",
       "        vertical-align: top;\n",
       "    }\n",
       "\n",
       "    .dataframe thead th {\n",
       "        text-align: right;\n",
       "    }\n",
       "</style>\n",
       "<table border=\"1\" class=\"dataframe\">\n",
       "  <thead>\n",
       "    <tr style=\"text-align: right;\">\n",
       "      <th></th>\n",
       "      <th>category</th>\n",
       "      <th>created_at</th>\n",
       "      <th>updated_at</th>\n",
       "      <th>char_count_sum</th>\n",
       "      <th>new_line_count_sum</th>\n",
       "      <th>talk_char_count_sum</th>\n",
       "      <th>new_line_count_rate_sum</th>\n",
       "      <th>talk_char_count_rate_sum</th>\n",
       "      <th>char_count_avg</th>\n",
       "      <th>new_line_count_avg</th>\n",
       "      <th>...</th>\n",
       "      <th>wc_rate_4</th>\n",
       "      <th>wc_rate_5</th>\n",
       "      <th>wc_rate_6</th>\n",
       "      <th>wc_rate_7</th>\n",
       "      <th>wc_rate_8</th>\n",
       "      <th>wc_rate_9</th>\n",
       "      <th>wc_rate_10</th>\n",
       "      <th>wc_rate_11</th>\n",
       "      <th>wc_rate_12</th>\n",
       "      <th>rating</th>\n",
       "    </tr>\n",
       "  </thead>\n",
       "  <tbody>\n",
       "    <tr>\n",
       "      <th>0</th>\n",
       "      <td>6</td>\n",
       "      <td>1.585469e+09</td>\n",
       "      <td>1.593763e+09</td>\n",
       "      <td>37740</td>\n",
       "      <td>2310</td>\n",
       "      <td>0</td>\n",
       "      <td>0.061208</td>\n",
       "      <td>0.000000</td>\n",
       "      <td>1258.0</td>\n",
       "      <td>77.0</td>\n",
       "      <td>...</td>\n",
       "      <td>0.240634</td>\n",
       "      <td>0.149856</td>\n",
       "      <td>0.386167</td>\n",
       "      <td>0.014409</td>\n",
       "      <td>0.000000</td>\n",
       "      <td>0.000000</td>\n",
       "      <td>0.000000</td>\n",
       "      <td>0.171470</td>\n",
       "      <td>0.001441</td>\n",
       "      <td>-10</td>\n",
       "    </tr>\n",
       "    <tr>\n",
       "      <th>1</th>\n",
       "      <td>6</td>\n",
       "      <td>1.591009e+09</td>\n",
       "      <td>1.593774e+09</td>\n",
       "      <td>144330</td>\n",
       "      <td>5760</td>\n",
       "      <td>44100</td>\n",
       "      <td>0.039909</td>\n",
       "      <td>0.305550</td>\n",
       "      <td>4811.0</td>\n",
       "      <td>192.0</td>\n",
       "      <td>...</td>\n",
       "      <td>0.252519</td>\n",
       "      <td>0.217420</td>\n",
       "      <td>0.238219</td>\n",
       "      <td>0.019175</td>\n",
       "      <td>0.002600</td>\n",
       "      <td>0.006175</td>\n",
       "      <td>0.000975</td>\n",
       "      <td>0.132272</td>\n",
       "      <td>0.008450</td>\n",
       "      <td>-10</td>\n",
       "    </tr>\n",
       "    <tr>\n",
       "      <th>2</th>\n",
       "      <td>6</td>\n",
       "      <td>1.587737e+09</td>\n",
       "      <td>1.593006e+09</td>\n",
       "      <td>156720</td>\n",
       "      <td>6210</td>\n",
       "      <td>13290</td>\n",
       "      <td>0.039625</td>\n",
       "      <td>0.084801</td>\n",
       "      <td>5224.0</td>\n",
       "      <td>207.0</td>\n",
       "      <td>...</td>\n",
       "      <td>0.248532</td>\n",
       "      <td>0.211128</td>\n",
       "      <td>0.241731</td>\n",
       "      <td>0.011437</td>\n",
       "      <td>0.002473</td>\n",
       "      <td>0.007419</td>\n",
       "      <td>0.001546</td>\n",
       "      <td>0.126739</td>\n",
       "      <td>0.012056</td>\n",
       "      <td>-10</td>\n",
       "    </tr>\n",
       "  </tbody>\n",
       "</table>\n",
       "<p>3 rows × 40 columns</p>\n",
       "</div>"
      ],
      "text/plain": [
       "   category    created_at    updated_at  char_count_sum  new_line_count_sum  \\\n",
       "0         6  1.585469e+09  1.593763e+09           37740                2310   \n",
       "1         6  1.591009e+09  1.593774e+09          144330                5760   \n",
       "2         6  1.587737e+09  1.593006e+09          156720                6210   \n",
       "\n",
       "   talk_char_count_sum  new_line_count_rate_sum  talk_char_count_rate_sum  \\\n",
       "0                    0                 0.061208                  0.000000   \n",
       "1                44100                 0.039909                  0.305550   \n",
       "2                13290                 0.039625                  0.084801   \n",
       "\n",
       "   char_count_avg  new_line_count_avg  ...  wc_rate_4  wc_rate_5  wc_rate_6  \\\n",
       "0          1258.0                77.0  ...   0.240634   0.149856   0.386167   \n",
       "1          4811.0               192.0  ...   0.252519   0.217420   0.238219   \n",
       "2          5224.0               207.0  ...   0.248532   0.211128   0.241731   \n",
       "\n",
       "   wc_rate_7  wc_rate_8  wc_rate_9  wc_rate_10  wc_rate_11  wc_rate_12  rating  \n",
       "0   0.014409   0.000000   0.000000    0.000000    0.171470    0.001441     -10  \n",
       "1   0.019175   0.002600   0.006175    0.000975    0.132272    0.008450     -10  \n",
       "2   0.011437   0.002473   0.007419    0.001546    0.126739    0.012056     -10  \n",
       "\n",
       "[3 rows x 40 columns]"
      ]
     },
     "execution_count": 76,
     "metadata": {},
     "output_type": "execute_result"
    }
   ],
   "source": [
    "df_test2 = data_preprocess(df_test)\n",
    "df_test2.head(3)"
   ]
  },
  {
   "cell_type": "code",
   "execution_count": 80,
   "metadata": {},
   "outputs": [
    {
     "name": "stdout",
     "output_type": "stream",
     "text": [
      "(65, 39)\n"
     ]
    }
   ],
   "source": [
    "X = df_test2.drop(['rating'], axis=1).values\n",
    "y = df_test2['rating'].values\n",
    "print(X.shape)\n",
    "\n",
    "#dtrain = xgb.DMatrix(X_train, label=y_train)\n",
    "dtest = xgb.DMatrix(X, label=y, feature_names=feature_names)\n",
    "#print(dtest)"
   ]
  },
  {
   "cell_type": "code",
   "execution_count": 81,
   "metadata": {},
   "outputs": [
    {
     "data": {
      "text/plain": [
       "array([34.890377 , 25.822573 , 22.855139 , 17.354874 , 28.039164 ,\n",
       "       13.145368 , 23.71256  , 11.5845   , 34.528847 , 24.659836 ,\n",
       "       20.280571 , 23.558195 , 42.535706 , 35.481968 , 18.057058 ,\n",
       "       16.216724 , 17.997355 , 23.890945 , 24.359152 , 26.385334 ,\n",
       "       12.7406025, 17.049334 , 24.194283 , 46.616528 , 17.199839 ,\n",
       "       26.911243 , 28.413992 , 27.942953 , 27.062239 , 17.416592 ,\n",
       "       17.540083 , 19.486938 , 28.627539 , 15.475658 , 16.631683 ,\n",
       "       32.113625 , 32.6193   , 26.561222 , 36.7527   , 28.514332 ,\n",
       "       15.581838 , 30.477169 , 21.543655 , 29.358818 , 38.212982 ,\n",
       "       21.111101 , 16.599058 , 25.75623  , 25.433151 , 40.68857  ,\n",
       "       16.55647  , 25.386984 , 15.556887 , 26.921442 , 27.660376 ,\n",
       "       10.97246  , 18.765802 , 18.581974 , 27.354307 , 30.89813  ,\n",
       "       53.922615 , 26.119253 , 16.667303 , 31.776651 , 15.113932 ],\n",
       "      dtype=float32)"
      ]
     },
     "execution_count": 81,
     "metadata": {},
     "output_type": "execute_result"
    }
   ],
   "source": [
    "y_pred = bst.predict(dtest)\n",
    "y_pred"
   ]
  },
  {
   "cell_type": "code",
   "execution_count": 82,
   "metadata": {},
   "outputs": [],
   "source": [
    "df_rating = pd.DataFrame(columns=['ncode', 'title', 'rating'])\n",
    "\n",
    "for i, y in enumerate(y_pred):\n",
    "    row = df_test.loc[i] \n",
    "    #print('{}\\t{}\\t{}'.format(row.ncode, row.title, y))\n",
    "    df_rating = df_rating.append({'ncode': row.ncode, 'title': row.title, 'rating': y}, ignore_index=True)"
   ]
  },
  {
   "cell_type": "code",
   "execution_count": 83,
   "metadata": {},
   "outputs": [
    {
     "data": {
      "text/html": [
       "<div>\n",
       "<style scoped>\n",
       "    .dataframe tbody tr th:only-of-type {\n",
       "        vertical-align: middle;\n",
       "    }\n",
       "\n",
       "    .dataframe tbody tr th {\n",
       "        vertical-align: top;\n",
       "    }\n",
       "\n",
       "    .dataframe thead th {\n",
       "        text-align: right;\n",
       "    }\n",
       "</style>\n",
       "<table border=\"1\" class=\"dataframe\">\n",
       "  <thead>\n",
       "    <tr style=\"text-align: right;\">\n",
       "      <th></th>\n",
       "      <th>ncode</th>\n",
       "      <th>title</th>\n",
       "      <th>rating</th>\n",
       "    </tr>\n",
       "  </thead>\n",
       "  <tbody>\n",
       "    <tr>\n",
       "      <th>0</th>\n",
       "      <td>n8642gc</td>\n",
       "      <td>聖貨を集めて、ぶん回せ！</td>\n",
       "      <td>34.890377</td>\n",
       "    </tr>\n",
       "    <tr>\n",
       "      <th>1</th>\n",
       "      <td>n8693gg</td>\n",
       "      <td>十年目、帰還を諦めた転移者はいまさら主人公になる</td>\n",
       "      <td>25.822573</td>\n",
       "    </tr>\n",
       "    <tr>\n",
       "      <th>2</th>\n",
       "      <td>n4452ge</td>\n",
       "      <td>俺だけレベルが上がる世界で悪徳領主になっていた</td>\n",
       "      <td>22.855139</td>\n",
       "    </tr>\n",
       "    <tr>\n",
       "      <th>3</th>\n",
       "      <td>n8604ge</td>\n",
       "      <td>スキル「屋台」で異世界生活～食料生成スキルを手に入れたので、商会を立ち上げようと思います～</td>\n",
       "      <td>17.354874</td>\n",
       "    </tr>\n",
       "    <tr>\n",
       "      <th>4</th>\n",
       "      <td>n6812gh</td>\n",
       "      <td>悪徳領主の息子に転生！？　～普通に行動しているだけなのに、周囲からちやほやされます～</td>\n",
       "      <td>28.039164</td>\n",
       "    </tr>\n",
       "  </tbody>\n",
       "</table>\n",
       "</div>"
      ],
      "text/plain": [
       "     ncode                                          title     rating\n",
       "0  n8642gc                                   聖貨を集めて、ぶん回せ！  34.890377\n",
       "1  n8693gg                       十年目、帰還を諦めた転移者はいまさら主人公になる  25.822573\n",
       "2  n4452ge                        俺だけレベルが上がる世界で悪徳領主になっていた  22.855139\n",
       "3  n8604ge  スキル「屋台」で異世界生活～食料生成スキルを手に入れたので、商会を立ち上げようと思います～  17.354874\n",
       "4  n6812gh     悪徳領主の息子に転生！？　～普通に行動しているだけなのに、周囲からちやほやされます～  28.039164"
      ]
     },
     "execution_count": 83,
     "metadata": {},
     "output_type": "execute_result"
    }
   ],
   "source": [
    "df_rating.head()"
   ]
  },
  {
   "cell_type": "code",
   "execution_count": 84,
   "metadata": {},
   "outputs": [
    {
     "data": {
      "text/html": [
       "<div>\n",
       "<style scoped>\n",
       "    .dataframe tbody tr th:only-of-type {\n",
       "        vertical-align: middle;\n",
       "    }\n",
       "\n",
       "    .dataframe tbody tr th {\n",
       "        vertical-align: top;\n",
       "    }\n",
       "\n",
       "    .dataframe thead th {\n",
       "        text-align: right;\n",
       "    }\n",
       "</style>\n",
       "<table border=\"1\" class=\"dataframe\">\n",
       "  <thead>\n",
       "    <tr style=\"text-align: right;\">\n",
       "      <th></th>\n",
       "      <th>rating</th>\n",
       "    </tr>\n",
       "  </thead>\n",
       "  <tbody>\n",
       "    <tr>\n",
       "      <th>count</th>\n",
       "      <td>65.000000</td>\n",
       "    </tr>\n",
       "    <tr>\n",
       "      <th>mean</th>\n",
       "      <td>24.803755</td>\n",
       "    </tr>\n",
       "    <tr>\n",
       "      <th>std</th>\n",
       "      <td>8.612104</td>\n",
       "    </tr>\n",
       "    <tr>\n",
       "      <th>min</th>\n",
       "      <td>10.972460</td>\n",
       "    </tr>\n",
       "    <tr>\n",
       "      <th>25%</th>\n",
       "      <td>17.416592</td>\n",
       "    </tr>\n",
       "    <tr>\n",
       "      <th>50%</th>\n",
       "      <td>24.659836</td>\n",
       "    </tr>\n",
       "    <tr>\n",
       "      <th>75%</th>\n",
       "      <td>28.514332</td>\n",
       "    </tr>\n",
       "    <tr>\n",
       "      <th>max</th>\n",
       "      <td>53.922615</td>\n",
       "    </tr>\n",
       "  </tbody>\n",
       "</table>\n",
       "</div>"
      ],
      "text/plain": [
       "          rating\n",
       "count  65.000000\n",
       "mean   24.803755\n",
       "std     8.612104\n",
       "min    10.972460\n",
       "25%    17.416592\n",
       "50%    24.659836\n",
       "75%    28.514332\n",
       "max    53.922615"
      ]
     },
     "execution_count": 84,
     "metadata": {},
     "output_type": "execute_result"
    }
   ],
   "source": [
    "df_rating.describe()"
   ]
  },
  {
   "cell_type": "code",
   "execution_count": 85,
   "metadata": {},
   "outputs": [
    {
     "data": {
      "text/plain": [
       "rating    74.168327\n",
       "dtype: float64"
      ]
     },
     "execution_count": 85,
     "metadata": {},
     "output_type": "execute_result"
    }
   ],
   "source": [
    "df_rating.var()"
   ]
  },
  {
   "cell_type": "code",
   "execution_count": 86,
   "metadata": {},
   "outputs": [
    {
     "data": {
      "text/plain": [
       "rating    24.659836\n",
       "dtype: float64"
      ]
     },
     "execution_count": 86,
     "metadata": {},
     "output_type": "execute_result"
    }
   ],
   "source": [
    "df_rating.median()"
   ]
  },
  {
   "cell_type": "code",
   "execution_count": 97,
   "metadata": {},
   "outputs": [
    {
     "data": {
      "text/html": [
       "<div>\n",
       "<style scoped>\n",
       "    .dataframe tbody tr th:only-of-type {\n",
       "        vertical-align: middle;\n",
       "    }\n",
       "\n",
       "    .dataframe tbody tr th {\n",
       "        vertical-align: top;\n",
       "    }\n",
       "\n",
       "    .dataframe thead th {\n",
       "        text-align: right;\n",
       "    }\n",
       "</style>\n",
       "<table border=\"1\" class=\"dataframe\">\n",
       "  <thead>\n",
       "    <tr style=\"text-align: right;\">\n",
       "      <th></th>\n",
       "      <th>ncode</th>\n",
       "      <th>title</th>\n",
       "      <th>rating</th>\n",
       "    </tr>\n",
       "  </thead>\n",
       "  <tbody>\n",
       "    <tr>\n",
       "      <th>60</th>\n",
       "      <td>n5645ci</td>\n",
       "      <td>自分が異世界に転移するなら</td>\n",
       "      <td>53.922615</td>\n",
       "    </tr>\n",
       "    <tr>\n",
       "      <th>23</th>\n",
       "      <td>n9629ex</td>\n",
       "      <td>最弱テイマーはゴミ拾いの旅を始めました。</td>\n",
       "      <td>46.616528</td>\n",
       "    </tr>\n",
       "    <tr>\n",
       "      <th>12</th>\n",
       "      <td>n7657bb</td>\n",
       "      <td>かわいいコックさん</td>\n",
       "      <td>42.535706</td>\n",
       "    </tr>\n",
       "    <tr>\n",
       "      <th>49</th>\n",
       "      <td>n1234gg</td>\n",
       "      <td>魔法戦士セイクリッド・ナイツ～エロゲの触手怪人に転生した俺は、変身ヒロインたちを守り抜く～</td>\n",
       "      <td>40.688568</td>\n",
       "    </tr>\n",
       "    <tr>\n",
       "      <th>44</th>\n",
       "      <td>n9984fb</td>\n",
       "      <td>身体は児童、中身はおっさんの成り上がり冒険記</td>\n",
       "      <td>38.212982</td>\n",
       "    </tr>\n",
       "    <tr>\n",
       "      <th>38</th>\n",
       "      <td>n3742ey</td>\n",
       "      <td>ご主人様とゆく異世界サバイバル！</td>\n",
       "      <td>36.752701</td>\n",
       "    </tr>\n",
       "    <tr>\n",
       "      <th>13</th>\n",
       "      <td>n5677cl</td>\n",
       "      <td>亡びの国の征服者～魔王は世界を征服するようです～</td>\n",
       "      <td>35.481968</td>\n",
       "    </tr>\n",
       "    <tr>\n",
       "      <th>0</th>\n",
       "      <td>n8642gc</td>\n",
       "      <td>聖貨を集めて、ぶん回せ！</td>\n",
       "      <td>34.890377</td>\n",
       "    </tr>\n",
       "    <tr>\n",
       "      <th>8</th>\n",
       "      <td>n0512gh</td>\n",
       "      <td>『錬金BOX』で生産チート+付与無双～無能と罵られ侯爵家を追放されたが、なんでも錬成できる箱...</td>\n",
       "      <td>34.528847</td>\n",
       "    </tr>\n",
       "    <tr>\n",
       "      <th>36</th>\n",
       "      <td>n6088cy</td>\n",
       "      <td>ポーション頼みで生き延びます！</td>\n",
       "      <td>32.619301</td>\n",
       "    </tr>\n",
       "    <tr>\n",
       "      <th>35</th>\n",
       "      <td>n4444ge</td>\n",
       "      <td>植物モンスター娘日記　〜聖女だった私が裏切られた果てにアルラウネに転生してしまったので、これ...</td>\n",
       "      <td>32.113625</td>\n",
       "    </tr>\n",
       "    <tr>\n",
       "      <th>63</th>\n",
       "      <td>n6078gg</td>\n",
       "      <td>イントゥ・ザ・ゴーレム！～土くれに生まれ変わった私は自己改造で進化する～</td>\n",
       "      <td>31.776651</td>\n",
       "    </tr>\n",
       "    <tr>\n",
       "      <th>59</th>\n",
       "      <td>n4698cv</td>\n",
       "      <td>転生したらドラゴンの卵だった～最強以外目指さねぇ～</td>\n",
       "      <td>30.898130</td>\n",
       "    </tr>\n",
       "    <tr>\n",
       "      <th>41</th>\n",
       "      <td>n6078fg</td>\n",
       "      <td>不死鳥への転生　ドラゴン倒せるって普通の鳥じゃないよね？　（旧題：憧れへの転生　以下同文）</td>\n",
       "      <td>30.477169</td>\n",
       "    </tr>\n",
       "    <tr>\n",
       "      <th>43</th>\n",
       "      <td>n0350em</td>\n",
       "      <td>異世界転移、地雷付き。</td>\n",
       "      <td>29.358818</td>\n",
       "    </tr>\n",
       "    <tr>\n",
       "      <th>32</th>\n",
       "      <td>n4546fc</td>\n",
       "      <td>異世界の貧乏農家に転生したので、レンガを作って城を建てることにしました</td>\n",
       "      <td>28.627539</td>\n",
       "    </tr>\n",
       "    <tr>\n",
       "      <th>39</th>\n",
       "      <td>n6006cw</td>\n",
       "      <td>転生したら剣でした</td>\n",
       "      <td>28.514332</td>\n",
       "    </tr>\n",
       "    <tr>\n",
       "      <th>26</th>\n",
       "      <td>n5529cy</td>\n",
       "      <td>老後に備えて異世界で８万枚の金貨を貯めます</td>\n",
       "      <td>28.413992</td>\n",
       "    </tr>\n",
       "    <tr>\n",
       "      <th>4</th>\n",
       "      <td>n6812gh</td>\n",
       "      <td>悪徳領主の息子に転生！？　～普通に行動しているだけなのに、周囲からちやほやされます～</td>\n",
       "      <td>28.039164</td>\n",
       "    </tr>\n",
       "    <tr>\n",
       "      <th>27</th>\n",
       "      <td>n9544br</td>\n",
       "      <td>週末冒険者</td>\n",
       "      <td>27.942953</td>\n",
       "    </tr>\n",
       "    <tr>\n",
       "      <th>54</th>\n",
       "      <td>n1444fs</td>\n",
       "      <td>転生領主の優良開拓〜前世の記憶を生かしてホワイトに努めたら、有能な人材が集まりすぎました〜</td>\n",
       "      <td>27.660376</td>\n",
       "    </tr>\n",
       "    <tr>\n",
       "      <th>58</th>\n",
       "      <td>n2671do</td>\n",
       "      <td>魔王になったので、ダンジョン造って人外娘とほのぼのする</td>\n",
       "      <td>27.354307</td>\n",
       "    </tr>\n",
       "    <tr>\n",
       "      <th>28</th>\n",
       "      <td>n1970fg</td>\n",
       "      <td>田中家、転生する。</td>\n",
       "      <td>27.062239</td>\n",
       "    </tr>\n",
       "    <tr>\n",
       "      <th>53</th>\n",
       "      <td>n5782dy</td>\n",
       "      <td>ハズレ判定から始まったチート魔術士生活</td>\n",
       "      <td>26.921442</td>\n",
       "    </tr>\n",
       "    <tr>\n",
       "      <th>25</th>\n",
       "      <td>n3245fy</td>\n",
       "      <td>主人公じゃない！</td>\n",
       "      <td>26.911243</td>\n",
       "    </tr>\n",
       "    <tr>\n",
       "      <th>37</th>\n",
       "      <td>n3726bt</td>\n",
       "      <td>レジェンド</td>\n",
       "      <td>26.561222</td>\n",
       "    </tr>\n",
       "    <tr>\n",
       "      <th>19</th>\n",
       "      <td>n6475db</td>\n",
       "      <td>私、能力は平均値でって言ったよね！</td>\n",
       "      <td>26.385334</td>\n",
       "    </tr>\n",
       "    <tr>\n",
       "      <th>61</th>\n",
       "      <td>n4344dy</td>\n",
       "      <td>世界最強の後衛　～迷宮国の新人探索者～</td>\n",
       "      <td>26.119253</td>\n",
       "    </tr>\n",
       "    <tr>\n",
       "      <th>1</th>\n",
       "      <td>n8693gg</td>\n",
       "      <td>十年目、帰還を諦めた転移者はいまさら主人公になる</td>\n",
       "      <td>25.822573</td>\n",
       "    </tr>\n",
       "    <tr>\n",
       "      <th>47</th>\n",
       "      <td>n9940gd</td>\n",
       "      <td>最強錬金術師の異世界珍道中</td>\n",
       "      <td>25.756229</td>\n",
       "    </tr>\n",
       "    <tr>\n",
       "      <th>48</th>\n",
       "      <td>n9293gf</td>\n",
       "      <td>ゲームのストーリー開始前に死ぬ“設定上最強キャラ”に転生したので頑張って生きたい</td>\n",
       "      <td>25.433151</td>\n",
       "    </tr>\n",
       "    <tr>\n",
       "      <th>51</th>\n",
       "      <td>n4499gh</td>\n",
       "      <td>よいこの世界統一せんそう！</td>\n",
       "      <td>25.386984</td>\n",
       "    </tr>\n",
       "    <tr>\n",
       "      <th>9</th>\n",
       "      <td>n4205gg</td>\n",
       "      <td>かませ犬から始める天下統一〜前世のアニメの第一部のボスに憑依してました〜</td>\n",
       "      <td>24.659836</td>\n",
       "    </tr>\n",
       "    <tr>\n",
       "      <th>18</th>\n",
       "      <td>n2276dz</td>\n",
       "      <td>異世界でスローライフを（願望）</td>\n",
       "      <td>24.359152</td>\n",
       "    </tr>\n",
       "    <tr>\n",
       "      <th>22</th>\n",
       "      <td>n4811fg</td>\n",
       "      <td>ＴＲＰＧプレイヤーが異世界で最強ビルドを目指す 　～ヘンダーソン氏の福音を～</td>\n",
       "      <td>24.194283</td>\n",
       "    </tr>\n",
       "    <tr>\n",
       "      <th>17</th>\n",
       "      <td>n3191eh</td>\n",
       "      <td>乙女ゲー世界はモブに厳しい世界です</td>\n",
       "      <td>23.890945</td>\n",
       "    </tr>\n",
       "    <tr>\n",
       "      <th>6</th>\n",
       "      <td>n0121gf</td>\n",
       "      <td>異世界へ来たのはいいけれど、モンスターと戦える程若くないおっさん。神様からもらったスキルは戦...</td>\n",
       "      <td>23.712561</td>\n",
       "    </tr>\n",
       "    <tr>\n",
       "      <th>11</th>\n",
       "      <td>n1217et</td>\n",
       "      <td>信者ゼロの女神サマと始める異世界攻略　クラスメイト最弱の魔法使い</td>\n",
       "      <td>23.558195</td>\n",
       "    </tr>\n",
       "    <tr>\n",
       "      <th>2</th>\n",
       "      <td>n4452ge</td>\n",
       "      <td>俺だけレベルが上がる世界で悪徳領主になっていた</td>\n",
       "      <td>22.855139</td>\n",
       "    </tr>\n",
       "    <tr>\n",
       "      <th>42</th>\n",
       "      <td>n0229fv</td>\n",
       "      <td>植物魔法チートでのんびり領主生活始めます～前世の知識を駆使して農業したら、逆転人生始まった件～</td>\n",
       "      <td>21.543655</td>\n",
       "    </tr>\n",
       "    <tr>\n",
       "      <th>45</th>\n",
       "      <td>n1745ct</td>\n",
       "      <td>四度目は嫌な死属性魔術師</td>\n",
       "      <td>21.111101</td>\n",
       "    </tr>\n",
       "    <tr>\n",
       "      <th>10</th>\n",
       "      <td>n1773gf</td>\n",
       "      <td>16年間魔法が使えず落ちこぼれだった俺が、科学者だった前世を思い出して異世界無双</td>\n",
       "      <td>20.280571</td>\n",
       "    </tr>\n",
       "    <tr>\n",
       "      <th>31</th>\n",
       "      <td>n4342ge</td>\n",
       "      <td>聖女に追放された転生公爵は、辺境でのんびりと畑を耕すつもりだった～来るなというのに領民が沢山...</td>\n",
       "      <td>19.486938</td>\n",
       "    </tr>\n",
       "    <tr>\n",
       "      <th>56</th>\n",
       "      <td>n7080gh</td>\n",
       "      <td>連載版　踏み台が己を自覚した結果ww</td>\n",
       "      <td>18.765802</td>\n",
       "    </tr>\n",
       "    <tr>\n",
       "      <th>57</th>\n",
       "      <td>n8760ei</td>\n",
       "      <td>異世界黙示録マイノグーラ～破滅の文明で始める世界征服～</td>\n",
       "      <td>18.581974</td>\n",
       "    </tr>\n",
       "    <tr>\n",
       "      <th>14</th>\n",
       "      <td>n5375cy</td>\n",
       "      <td>転生して田舎でスローライフをおくりたい</td>\n",
       "      <td>18.057058</td>\n",
       "    </tr>\n",
       "    <tr>\n",
       "      <th>16</th>\n",
       "      <td>n1118fh</td>\n",
       "      <td>加護なし令嬢の小さな村</td>\n",
       "      <td>17.997355</td>\n",
       "    </tr>\n",
       "    <tr>\n",
       "      <th>30</th>\n",
       "      <td>n1290ff</td>\n",
       "      <td>最強陰陽師の異世界転生記　～下僕の妖怪どもに比べてモンスターが弱すぎるんだが～</td>\n",
       "      <td>17.540083</td>\n",
       "    </tr>\n",
       "    <tr>\n",
       "      <th>29</th>\n",
       "      <td>n8516fu</td>\n",
       "      <td>劣等人の魔剣使い　スキルボードを駆使して最強に至る（WEB連載版）</td>\n",
       "      <td>17.416592</td>\n",
       "    </tr>\n",
       "    <tr>\n",
       "      <th>3</th>\n",
       "      <td>n8604ge</td>\n",
       "      <td>スキル「屋台」で異世界生活～食料生成スキルを手に入れたので、商会を立ち上げようと思います～</td>\n",
       "      <td>17.354874</td>\n",
       "    </tr>\n",
       "    <tr>\n",
       "      <th>24</th>\n",
       "      <td>n8568fy</td>\n",
       "      <td>普通職の異世界スローライフ　～チート（があるくせに小者）な薬剤師の無双（しない）物語～</td>\n",
       "      <td>17.199839</td>\n",
       "    </tr>\n",
       "    <tr>\n",
       "      <th>21</th>\n",
       "      <td>n8106fu</td>\n",
       "      <td>異世界のんびり素材採取生活</td>\n",
       "      <td>17.049334</td>\n",
       "    </tr>\n",
       "    <tr>\n",
       "      <th>62</th>\n",
       "      <td>n7056gh</td>\n",
       "      <td>レベルが上がらない！　～と思ってたら元の世界に帰って悪党ぶん殴ってザクザクレベルアップ。異世...</td>\n",
       "      <td>16.667303</td>\n",
       "    </tr>\n",
       "    <tr>\n",
       "      <th>34</th>\n",
       "      <td>n4185ci</td>\n",
       "      <td>くま　クマ　熊　ベアー</td>\n",
       "      <td>16.631683</td>\n",
       "    </tr>\n",
       "    <tr>\n",
       "      <th>46</th>\n",
       "      <td>n6829bd</td>\n",
       "      <td>賢者の弟子を名乗る賢者</td>\n",
       "      <td>16.599058</td>\n",
       "    </tr>\n",
       "    <tr>\n",
       "      <th>50</th>\n",
       "      <td>n5981bn</td>\n",
       "      <td>ニートだけどハロワにいったら異世界につれてかれた</td>\n",
       "      <td>16.556471</td>\n",
       "    </tr>\n",
       "    <tr>\n",
       "      <th>15</th>\n",
       "      <td>n2945eg</td>\n",
       "      <td>アラフォー男の異世界通販生活</td>\n",
       "      <td>16.216724</td>\n",
       "    </tr>\n",
       "    <tr>\n",
       "      <th>40</th>\n",
       "      <td>n2421eu</td>\n",
       "      <td>転生幼女はあきらめない</td>\n",
       "      <td>15.581838</td>\n",
       "    </tr>\n",
       "    <tr>\n",
       "      <th>52</th>\n",
       "      <td>n6247cr</td>\n",
       "      <td>鑑定能力で調合師になります</td>\n",
       "      <td>15.556887</td>\n",
       "    </tr>\n",
       "    <tr>\n",
       "      <th>33</th>\n",
       "      <td>n6300fz</td>\n",
       "      <td>領民0の土地を押し付けられた俺、生産スキルを駆使して最強国家を作り上げる</td>\n",
       "      <td>15.475658</td>\n",
       "    </tr>\n",
       "    <tr>\n",
       "      <th>64</th>\n",
       "      <td>n3258fh</td>\n",
       "      <td>クラスメイトに殺された時、僕の復讐は大体達成された</td>\n",
       "      <td>15.113932</td>\n",
       "    </tr>\n",
       "    <tr>\n",
       "      <th>5</th>\n",
       "      <td>n7408gf</td>\n",
       "      <td>異世界ゆるり農家生活</td>\n",
       "      <td>13.145368</td>\n",
       "    </tr>\n",
       "    <tr>\n",
       "      <th>20</th>\n",
       "      <td>n0610eg</td>\n",
       "      <td>魔石グルメ　～魔物の力を食べたオレは最強！～（Web版）</td>\n",
       "      <td>12.740602</td>\n",
       "    </tr>\n",
       "    <tr>\n",
       "      <th>7</th>\n",
       "      <td>n4834fx</td>\n",
       "      <td>転生先が残念王子だった件　～今は腹筋１回もできないけど痩せて異世界救います～</td>\n",
       "      <td>11.584500</td>\n",
       "    </tr>\n",
       "    <tr>\n",
       "      <th>55</th>\n",
       "      <td>n3406ek</td>\n",
       "      <td>異世界で土地を買って農場を作ろう</td>\n",
       "      <td>10.972460</td>\n",
       "    </tr>\n",
       "  </tbody>\n",
       "</table>\n",
       "</div>"
      ],
      "text/plain": [
       "      ncode                                              title     rating\n",
       "60  n5645ci                                      自分が異世界に転移するなら  53.922615\n",
       "23  n9629ex                               最弱テイマーはゴミ拾いの旅を始めました。  46.616528\n",
       "12  n7657bb                                          かわいいコックさん  42.535706\n",
       "49  n1234gg      魔法戦士セイクリッド・ナイツ～エロゲの触手怪人に転生した俺は、変身ヒロインたちを守り抜く～  40.688568\n",
       "44  n9984fb                             身体は児童、中身はおっさんの成り上がり冒険記  38.212982\n",
       "38  n3742ey                                   ご主人様とゆく異世界サバイバル！  36.752701\n",
       "13  n5677cl                           亡びの国の征服者～魔王は世界を征服するようです～  35.481968\n",
       "0   n8642gc                                       聖貨を集めて、ぶん回せ！  34.890377\n",
       "8   n0512gh  『錬金BOX』で生産チート+付与無双～無能と罵られ侯爵家を追放されたが、なんでも錬成できる箱...  34.528847\n",
       "36  n6088cy                                    ポーション頼みで生き延びます！  32.619301\n",
       "35  n4444ge  植物モンスター娘日記　〜聖女だった私が裏切られた果てにアルラウネに転生してしまったので、これ...  32.113625\n",
       "63  n6078gg               イントゥ・ザ・ゴーレム！～土くれに生まれ変わった私は自己改造で進化する～  31.776651\n",
       "59  n4698cv                          転生したらドラゴンの卵だった～最強以外目指さねぇ～  30.898130\n",
       "41  n6078fg      不死鳥への転生　ドラゴン倒せるって普通の鳥じゃないよね？　（旧題：憧れへの転生　以下同文）  30.477169\n",
       "43  n0350em                                        異世界転移、地雷付き。  29.358818\n",
       "32  n4546fc                異世界の貧乏農家に転生したので、レンガを作って城を建てることにしました  28.627539\n",
       "39  n6006cw                                          転生したら剣でした  28.514332\n",
       "26  n5529cy                              老後に備えて異世界で８万枚の金貨を貯めます  28.413992\n",
       "4   n6812gh         悪徳領主の息子に転生！？　～普通に行動しているだけなのに、周囲からちやほやされます～  28.039164\n",
       "27  n9544br                                              週末冒険者  27.942953\n",
       "54  n1444fs      転生領主の優良開拓〜前世の記憶を生かしてホワイトに努めたら、有能な人材が集まりすぎました〜  27.660376\n",
       "58  n2671do                        魔王になったので、ダンジョン造って人外娘とほのぼのする  27.354307\n",
       "28  n1970fg                                          田中家、転生する。  27.062239\n",
       "53  n5782dy                                ハズレ判定から始まったチート魔術士生活  26.921442\n",
       "25  n3245fy                                           主人公じゃない！  26.911243\n",
       "37  n3726bt                                              レジェンド  26.561222\n",
       "19  n6475db                                  私、能力は平均値でって言ったよね！  26.385334\n",
       "61  n4344dy                                世界最強の後衛　～迷宮国の新人探索者～  26.119253\n",
       "1   n8693gg                           十年目、帰還を諦めた転移者はいまさら主人公になる  25.822573\n",
       "47  n9940gd                                      最強錬金術師の異世界珍道中  25.756229\n",
       "48  n9293gf           ゲームのストーリー開始前に死ぬ“設定上最強キャラ”に転生したので頑張って生きたい  25.433151\n",
       "51  n4499gh                                      よいこの世界統一せんそう！  25.386984\n",
       "9   n4205gg               かませ犬から始める天下統一〜前世のアニメの第一部のボスに憑依してました〜  24.659836\n",
       "18  n2276dz                                    異世界でスローライフを（願望）  24.359152\n",
       "22  n4811fg             ＴＲＰＧプレイヤーが異世界で最強ビルドを目指す 　～ヘンダーソン氏の福音を～  24.194283\n",
       "17  n3191eh                                  乙女ゲー世界はモブに厳しい世界です  23.890945\n",
       "6   n0121gf  異世界へ来たのはいいけれど、モンスターと戦える程若くないおっさん。神様からもらったスキルは戦...  23.712561\n",
       "11  n1217et                   信者ゼロの女神サマと始める異世界攻略　クラスメイト最弱の魔法使い  23.558195\n",
       "2   n4452ge                            俺だけレベルが上がる世界で悪徳領主になっていた  22.855139\n",
       "42  n0229fv    植物魔法チートでのんびり領主生活始めます～前世の知識を駆使して農業したら、逆転人生始まった件～  21.543655\n",
       "45  n1745ct                                       四度目は嫌な死属性魔術師  21.111101\n",
       "10  n1773gf           16年間魔法が使えず落ちこぼれだった俺が、科学者だった前世を思い出して異世界無双  20.280571\n",
       "31  n4342ge  聖女に追放された転生公爵は、辺境でのんびりと畑を耕すつもりだった～来るなというのに領民が沢山...  19.486938\n",
       "56  n7080gh                                 連載版　踏み台が己を自覚した結果ww  18.765802\n",
       "57  n8760ei                        異世界黙示録マイノグーラ～破滅の文明で始める世界征服～  18.581974\n",
       "14  n5375cy                                転生して田舎でスローライフをおくりたい  18.057058\n",
       "16  n1118fh                                        加護なし令嬢の小さな村  17.997355\n",
       "30  n1290ff            最強陰陽師の異世界転生記　～下僕の妖怪どもに比べてモンスターが弱すぎるんだが～  17.540083\n",
       "29  n8516fu                  劣等人の魔剣使い　スキルボードを駆使して最強に至る（WEB連載版）  17.416592\n",
       "3   n8604ge      スキル「屋台」で異世界生活～食料生成スキルを手に入れたので、商会を立ち上げようと思います～  17.354874\n",
       "24  n8568fy        普通職の異世界スローライフ　～チート（があるくせに小者）な薬剤師の無双（しない）物語～  17.199839\n",
       "21  n8106fu                                      異世界のんびり素材採取生活  17.049334\n",
       "62  n7056gh  レベルが上がらない！　～と思ってたら元の世界に帰って悪党ぶん殴ってザクザクレベルアップ。異世...  16.667303\n",
       "34  n4185ci                                        くま　クマ　熊　ベアー  16.631683\n",
       "46  n6829bd                                        賢者の弟子を名乗る賢者  16.599058\n",
       "50  n5981bn                           ニートだけどハロワにいったら異世界につれてかれた  16.556471\n",
       "15  n2945eg                                     アラフォー男の異世界通販生活  16.216724\n",
       "40  n2421eu                                        転生幼女はあきらめない  15.581838\n",
       "52  n6247cr                                      鑑定能力で調合師になります  15.556887\n",
       "33  n6300fz               領民0の土地を押し付けられた俺、生産スキルを駆使して最強国家を作り上げる  15.475658\n",
       "64  n3258fh                          クラスメイトに殺された時、僕の復讐は大体達成された  15.113932\n",
       "5   n7408gf                                         異世界ゆるり農家生活  13.145368\n",
       "20  n0610eg                       魔石グルメ　～魔物の力を食べたオレは最強！～（Web版）  12.740602\n",
       "7   n4834fx             転生先が残念王子だった件　～今は腹筋１回もできないけど痩せて異世界救います～  11.584500\n",
       "55  n3406ek                                   異世界で土地を買って農場を作ろう  10.972460"
      ]
     },
     "execution_count": 97,
     "metadata": {},
     "output_type": "execute_result"
    }
   ],
   "source": [
    "pd.set_option('display.max_rows', None)\n",
    "\n",
    "df_rating.sort_values('rating', ascending=False)"
   ]
  },
  {
   "cell_type": "code",
   "execution_count": null,
   "metadata": {},
   "outputs": [],
   "source": []
  }
 ],
 "metadata": {
  "colab": {
   "authorship_tag": "ABX9TyNJKqUP19CQOBX92xv+zUYA",
   "collapsed_sections": [],
   "mount_file_id": "1hGfVCEXdPg3Bx7w2FsWb6sMP-uDmj2zF",
   "name": "model_2_xgboost.ipynb",
   "provenance": []
  },
  "kernelspec": {
   "display_name": "Python 3",
   "language": "python",
   "name": "python3"
  },
  "language_info": {
   "codemirror_mode": {
    "name": "ipython",
    "version": 3
   },
   "file_extension": ".py",
   "mimetype": "text/x-python",
   "name": "python",
   "nbconvert_exporter": "python",
   "pygments_lexer": "ipython3",
   "version": "3.7.3"
  }
 },
 "nbformat": 4,
 "nbformat_minor": 1
}
