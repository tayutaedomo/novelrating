{
 "cells": [
  {
   "cell_type": "code",
   "execution_count": 1,
   "metadata": {
    "colab": {},
    "colab_type": "code",
    "executionInfo": {
     "elapsed": 1722,
     "status": "ok",
     "timestamp": 1594730288525,
     "user": {
      "displayName": "Noboru Koike",
      "photoUrl": "https://lh3.googleusercontent.com/a-/AOh14Ggp8njUb4jc54JrzfM5cQBkfiCdlz6nY17y8-1szg=s64",
      "userId": "05156582812995850159"
     },
     "user_tz": -540
    },
    "id": "oRgRzYov47aM"
   },
   "outputs": [],
   "source": [
    "import numpy as np\n",
    "import pandas as pd\n",
    "import matplotlib.pyplot as plt\n",
    "import os"
   ]
  },
  {
   "cell_type": "code",
   "execution_count": 2,
   "metadata": {
    "colab": {},
    "colab_type": "code",
    "executionInfo": {
     "elapsed": 1715,
     "status": "ok",
     "timestamp": 1594730288527,
     "user": {
      "displayName": "Noboru Koike",
      "photoUrl": "https://lh3.googleusercontent.com/a-/AOh14Ggp8njUb4jc54JrzfM5cQBkfiCdlz6nY17y8-1szg=s64",
      "userId": "05156582812995850159"
     },
     "user_tz": -540
    },
    "id": "SIGukkQOVPP9"
   },
   "outputs": [],
   "source": [
    "import xgboost as xgb"
   ]
  },
  {
   "cell_type": "code",
   "execution_count": 3,
   "metadata": {
    "colab": {
     "base_uri": "https://localhost:8080/",
     "height": 34
    },
    "colab_type": "code",
    "executionInfo": {
     "elapsed": 1116,
     "status": "ok",
     "timestamp": 1594730306620,
     "user": {
      "displayName": "Noboru Koike",
      "photoUrl": "https://lh3.googleusercontent.com/a-/AOh14Ggp8njUb4jc54JrzfM5cQBkfiCdlz6nY17y8-1szg=s64",
      "userId": "05156582812995850159"
     },
     "user_tz": -540
    },
    "id": "1RYqNw20VSgQ",
    "outputId": "30f4c55f-50e6-4908-c5b6-186d9399431a"
   },
   "outputs": [
    {
     "data": {
      "text/plain": [
       "'1.1.1'"
      ]
     },
     "execution_count": 3,
     "metadata": {},
     "output_type": "execute_result"
    }
   ],
   "source": [
    "xgb.__version__"
   ]
  },
  {
   "cell_type": "code",
   "execution_count": 4,
   "metadata": {
    "colab": {},
    "colab_type": "code",
    "executionInfo": {
     "elapsed": 568,
     "status": "ok",
     "timestamp": 1594730407388,
     "user": {
      "displayName": "Noboru Koike",
      "photoUrl": "https://lh3.googleusercontent.com/a-/AOh14Ggp8njUb4jc54JrzfM5cQBkfiCdlz6nY17y8-1szg=s64",
      "userId": "05156582812995850159"
     },
     "user_tz": -540
    },
    "id": "BGSuozoETk3q"
   },
   "outputs": [],
   "source": [
    "DATA_DIR_PATH = os.path.join('..', '..', 'data')\n",
    "\n",
    "def laod_data(file_name):\n",
    "  file_path = os.path.join(DATA_DIR_PATH, file_name)\n",
    "  return pd.read_csv(file_path, header=0)"
   ]
  },
  {
   "cell_type": "code",
   "execution_count": 5,
   "metadata": {
    "colab": {
     "base_uri": "https://localhost:8080/",
     "height": 903
    },
    "colab_type": "code",
    "executionInfo": {
     "elapsed": 1575,
     "status": "ok",
     "timestamp": 1594730410377,
     "user": {
      "displayName": "Noboru Koike",
      "photoUrl": "https://lh3.googleusercontent.com/a-/AOh14Ggp8njUb4jc54JrzfM5cQBkfiCdlz6nY17y8-1szg=s64",
      "userId": "05156582812995850159"
     },
     "user_tz": -540
    },
    "id": "gF4_j_jaUYLh",
    "outputId": "a687d088-94ea-4a93-991e-69dc4a9bf2cd"
   },
   "outputs": [
    {
     "name": "stdout",
     "output_type": "stream",
     "text": [
      "199\n"
     ]
    }
   ],
   "source": [
    "df_train = laod_data('bookmark_train_data.csv')\n",
    "print(len(df_train))\n",
    "#df_train.head(3)"
   ]
  },
  {
   "cell_type": "code",
   "execution_count": 6,
   "metadata": {
    "colab": {},
    "colab_type": "code",
    "executionInfo": {
     "elapsed": 618,
     "status": "ok",
     "timestamp": 1594730713002,
     "user": {
      "displayName": "Noboru Koike",
      "photoUrl": "https://lh3.googleusercontent.com/a-/AOh14Ggp8njUb4jc54JrzfM5cQBkfiCdlz6nY17y8-1szg=s64",
      "userId": "05156582812995850159"
     },
     "user_tz": -540
    },
    "id": "BjRn1voqVOp4"
   },
   "outputs": [],
   "source": [
    "from sklearn.preprocessing import LabelEncoder\n",
    "\n",
    "cat_le = LabelEncoder()\n",
    "cat_le.fit(df_train['category'])\n",
    "\n",
    "WORD_CLASSE_LABELS = ['その他', 'フィラー', '副詞', '助動詞', '助詞',\n",
    "                     '動詞', '名詞', '形容詞', '感動詞', '接続詞',\n",
    "                     '接頭詞', '記号', '連体詞',]\n",
    "new_wc_columns = {}\n",
    "for (i, name) in enumerate(WORD_CLASSE_LABELS):\n",
    "  new_wc_columns['wc_sum_{}'.format(name)] = 'wc_sum_{}'.format(i)\n",
    "  new_wc_columns['wc_rate_{}'.format(name)] = 'wc_rate_{}'.format(i)\n",
    "\n",
    "\n",
    "def data_preprocess(df):\n",
    "  new_df = df.drop(['ncode', 'title', 'bookmark_cat'], axis=1)\n",
    "\n",
    "  new_df['category'] = cat_le.transform(new_df['category'])\n",
    "\n",
    "  new_df['rating'] = new_df['rating'] * 10\n",
    "  new_df = new_df.astype({'rating': 'int32'})\n",
    "\n",
    "  #wc_columns = [col for col in new_df.columns if col.find('wc_') != -1]\n",
    "  #new_df = new_df.drop(wc_columns, axis=1)\n",
    "  wc_columns = [col for col in new_df.columns if col.find('wc_sum_') != -1]\n",
    "  new_df = new_df.drop(wc_columns, axis=1)\n",
    "  new_df = new_df.rename(columns=new_wc_columns)\n",
    "\n",
    "  kw_columns = [col for col in new_df.columns if col.find('kw_') != -1]\n",
    "  new_df = new_df.drop(kw_columns, axis=1)\n",
    "\n",
    "  return new_df"
   ]
  },
  {
   "cell_type": "code",
   "execution_count": 7,
   "metadata": {},
   "outputs": [
    {
     "data": {
      "text/plain": [
       "Index(['ncode', 'title', 'category', 'bookmark_cat', 'created_at',\n",
       "       'updated_at', 'char_count_sum', 'new_line_count_sum',\n",
       "       'talk_char_count_sum', 'new_line_count_rate_sum',\n",
       "       'talk_char_count_rate_sum', 'char_count_avg', 'new_line_count_avg',\n",
       "       'talk_char_count_avg', 'new_line_count_rate_avg',\n",
       "       'talk_char_count_rate_avg', 'wc_sum_その他', 'wc_sum_フィラー', 'wc_sum_副詞',\n",
       "       'wc_sum_助動詞', 'wc_sum_助詞', 'wc_sum_動詞', 'wc_sum_名詞', 'wc_sum_形容詞',\n",
       "       'wc_sum_感動詞', 'wc_sum_接続詞', 'wc_sum_接頭詞', 'wc_sum_記号', 'wc_sum_連体詞',\n",
       "       'wc_rate_その他', 'wc_rate_フィラー', 'wc_rate_副詞', 'wc_rate_助動詞',\n",
       "       'wc_rate_助詞', 'wc_rate_動詞', 'wc_rate_名詞', 'wc_rate_形容詞', 'wc_rate_感動詞',\n",
       "       'wc_rate_接続詞', 'wc_rate_接頭詞', 'wc_rate_記号', 'wc_rate_連体詞', 'kw_冒険者',\n",
       "       'kw_魔王', 'kw_日常', 'kw_成り上がり', 'kw_内政', 'kw_恋愛', 'kw_無双', 'kw_青春',\n",
       "       'kw_ハーレム', 'kw_男主人公', 'kw_奴隷', 'kw_テンプレ', 'kw_勘違い', 'kw_ほのぼの', 'kw_貴族',\n",
       "       'kw_ギルド', 'kw_コメディ', 'kw_異世界', 'kw_エルフ', 'kw_ファンタジー', 'kw_オリジナル戦記',\n",
       "       'kw_チート', 'kw_R15', 'kw_ダンジョン', 'kw_ステータス', 'kw_料理', 'kw_ラブコメ', 'kw_中世',\n",
       "       'kw_異世界召喚', 'kw_剣と魔法', 'kw_学園', 'kw_異能力バトル', 'kw_勇者', 'kw_冒険',\n",
       "       'kw_主人公最強', 'kw_転生', 'kw_シリアス', 'kw_異世界転移', 'kw_追放', 'kw_ざまぁ', 'kw_西洋',\n",
       "       'kw_最強', 'kw_スキル', 'kw_魔法', 'kw_異世界転生', 'kw_ご都合主義', 'kw_ハッピーエンド',\n",
       "       'kw_書籍化', 'kw_おっさん', 'kw_残酷な描写あり', 'rating'],\n",
       "      dtype='object')"
      ]
     },
     "execution_count": 7,
     "metadata": {},
     "output_type": "execute_result"
    }
   ],
   "source": [
    "df_train.keys()"
   ]
  },
  {
   "cell_type": "code",
   "execution_count": 8,
   "metadata": {
    "colab": {
     "base_uri": "https://localhost:8080/",
     "height": 320
    },
    "colab_type": "code",
    "executionInfo": {
     "elapsed": 663,
     "status": "ok",
     "timestamp": 1594730714698,
     "user": {
      "displayName": "Noboru Koike",
      "photoUrl": "https://lh3.googleusercontent.com/a-/AOh14Ggp8njUb4jc54JrzfM5cQBkfiCdlz6nY17y8-1szg=s64",
      "userId": "05156582812995850159"
     },
     "user_tz": -540
    },
    "id": "JwrsiCQqYCJm",
    "outputId": "f67f097c-1686-4ce6-ff41-1c09b82d6d08"
   },
   "outputs": [
    {
     "data": {
      "text/html": [
       "<div>\n",
       "<style scoped>\n",
       "    .dataframe tbody tr th:only-of-type {\n",
       "        vertical-align: middle;\n",
       "    }\n",
       "\n",
       "    .dataframe tbody tr th {\n",
       "        vertical-align: top;\n",
       "    }\n",
       "\n",
       "    .dataframe thead th {\n",
       "        text-align: right;\n",
       "    }\n",
       "</style>\n",
       "<table border=\"1\" class=\"dataframe\">\n",
       "  <thead>\n",
       "    <tr style=\"text-align: right;\">\n",
       "      <th></th>\n",
       "      <th>category</th>\n",
       "      <th>created_at</th>\n",
       "      <th>updated_at</th>\n",
       "      <th>char_count_sum</th>\n",
       "      <th>new_line_count_sum</th>\n",
       "      <th>talk_char_count_sum</th>\n",
       "      <th>new_line_count_rate_sum</th>\n",
       "      <th>talk_char_count_rate_sum</th>\n",
       "      <th>char_count_avg</th>\n",
       "      <th>new_line_count_avg</th>\n",
       "      <th>...</th>\n",
       "      <th>wc_rate_4</th>\n",
       "      <th>wc_rate_5</th>\n",
       "      <th>wc_rate_6</th>\n",
       "      <th>wc_rate_7</th>\n",
       "      <th>wc_rate_8</th>\n",
       "      <th>wc_rate_9</th>\n",
       "      <th>wc_rate_10</th>\n",
       "      <th>wc_rate_11</th>\n",
       "      <th>wc_rate_12</th>\n",
       "      <th>rating</th>\n",
       "    </tr>\n",
       "  </thead>\n",
       "  <tbody>\n",
       "    <tr>\n",
       "      <th>0</th>\n",
       "      <td>6</td>\n",
       "      <td>1.586338e+09</td>\n",
       "      <td>1.593468e+09</td>\n",
       "      <td>92340</td>\n",
       "      <td>3840</td>\n",
       "      <td>28950</td>\n",
       "      <td>0.041585</td>\n",
       "      <td>0.313515</td>\n",
       "      <td>3078.0</td>\n",
       "      <td>128.0</td>\n",
       "      <td>...</td>\n",
       "      <td>0.237664</td>\n",
       "      <td>0.226083</td>\n",
       "      <td>0.225076</td>\n",
       "      <td>0.013595</td>\n",
       "      <td>0.006042</td>\n",
       "      <td>0.007049</td>\n",
       "      <td>0.006042</td>\n",
       "      <td>0.144008</td>\n",
       "      <td>0.011078</td>\n",
       "      <td>30</td>\n",
       "    </tr>\n",
       "    <tr>\n",
       "      <th>1</th>\n",
       "      <td>6</td>\n",
       "      <td>1.590714e+09</td>\n",
       "      <td>1.593338e+09</td>\n",
       "      <td>77880</td>\n",
       "      <td>4140</td>\n",
       "      <td>4950</td>\n",
       "      <td>0.053159</td>\n",
       "      <td>0.063559</td>\n",
       "      <td>2596.0</td>\n",
       "      <td>138.0</td>\n",
       "      <td>...</td>\n",
       "      <td>0.238590</td>\n",
       "      <td>0.238013</td>\n",
       "      <td>0.217215</td>\n",
       "      <td>0.017909</td>\n",
       "      <td>0.001155</td>\n",
       "      <td>0.010399</td>\n",
       "      <td>0.001155</td>\n",
       "      <td>0.138070</td>\n",
       "      <td>0.013287</td>\n",
       "      <td>40</td>\n",
       "    </tr>\n",
       "    <tr>\n",
       "      <th>2</th>\n",
       "      <td>6</td>\n",
       "      <td>1.575176e+09</td>\n",
       "      <td>1.593429e+09</td>\n",
       "      <td>59880</td>\n",
       "      <td>3090</td>\n",
       "      <td>10230</td>\n",
       "      <td>0.051603</td>\n",
       "      <td>0.170842</td>\n",
       "      <td>1996.0</td>\n",
       "      <td>103.0</td>\n",
       "      <td>...</td>\n",
       "      <td>0.240486</td>\n",
       "      <td>0.177328</td>\n",
       "      <td>0.285020</td>\n",
       "      <td>0.014575</td>\n",
       "      <td>0.000000</td>\n",
       "      <td>0.005668</td>\n",
       "      <td>0.008907</td>\n",
       "      <td>0.148178</td>\n",
       "      <td>0.005668</td>\n",
       "      <td>30</td>\n",
       "    </tr>\n",
       "  </tbody>\n",
       "</table>\n",
       "<p>3 rows × 27 columns</p>\n",
       "</div>"
      ],
      "text/plain": [
       "   category    created_at    updated_at  char_count_sum  new_line_count_sum  \\\n",
       "0         6  1.586338e+09  1.593468e+09           92340                3840   \n",
       "1         6  1.590714e+09  1.593338e+09           77880                4140   \n",
       "2         6  1.575176e+09  1.593429e+09           59880                3090   \n",
       "\n",
       "   talk_char_count_sum  new_line_count_rate_sum  talk_char_count_rate_sum  \\\n",
       "0                28950                 0.041585                  0.313515   \n",
       "1                 4950                 0.053159                  0.063559   \n",
       "2                10230                 0.051603                  0.170842   \n",
       "\n",
       "   char_count_avg  new_line_count_avg  ...  wc_rate_4  wc_rate_5  wc_rate_6  \\\n",
       "0          3078.0               128.0  ...   0.237664   0.226083   0.225076   \n",
       "1          2596.0               138.0  ...   0.238590   0.238013   0.217215   \n",
       "2          1996.0               103.0  ...   0.240486   0.177328   0.285020   \n",
       "\n",
       "   wc_rate_7  wc_rate_8  wc_rate_9  wc_rate_10  wc_rate_11  wc_rate_12  rating  \n",
       "0   0.013595   0.006042   0.007049    0.006042    0.144008    0.011078      30  \n",
       "1   0.017909   0.001155   0.010399    0.001155    0.138070    0.013287      40  \n",
       "2   0.014575   0.000000   0.005668    0.008907    0.148178    0.005668      30  \n",
       "\n",
       "[3 rows x 27 columns]"
      ]
     },
     "execution_count": 8,
     "metadata": {},
     "output_type": "execute_result"
    }
   ],
   "source": [
    "df_train2 = data_preprocess(df_train)\n",
    "df_train2.head(3)"
   ]
  },
  {
   "cell_type": "code",
   "execution_count": 9,
   "metadata": {
    "colab": {
     "base_uri": "https://localhost:8080/",
     "height": 33
    },
    "colab_type": "code",
    "executionInfo": {
     "elapsed": 596,
     "status": "ok",
     "timestamp": 1594731114530,
     "user": {
      "displayName": "Noboru Koike",
      "photoUrl": "https://lh3.googleusercontent.com/a-/AOh14Ggp8njUb4jc54JrzfM5cQBkfiCdlz6nY17y8-1szg=s64",
      "userId": "05156582812995850159"
     },
     "user_tz": -540
    },
    "id": "kuN9fampYLzA",
    "outputId": "8d02c502-b3c6-4339-a8cc-8603b04e1330"
   },
   "outputs": [
    {
     "name": "stdout",
     "output_type": "stream",
     "text": [
      "(199, 26) (199,)\n"
     ]
    }
   ],
   "source": [
    "X = df_train2.drop(['rating'], axis=1).values\n",
    "y = df_train2['rating'].values\n",
    "print(X.shape, y.shape)"
   ]
  },
  {
   "cell_type": "code",
   "execution_count": 10,
   "metadata": {},
   "outputs": [],
   "source": [
    "feature_names = df_train2.keys()[:-1]"
   ]
  },
  {
   "cell_type": "code",
   "execution_count": 11,
   "metadata": {
    "colab": {
     "base_uri": "https://localhost:8080/",
     "height": 150
    },
    "colab_type": "code",
    "executionInfo": {
     "elapsed": 540,
     "status": "ok",
     "timestamp": 1594730878797,
     "user": {
      "displayName": "Noboru Koike",
      "photoUrl": "https://lh3.googleusercontent.com/a-/AOh14Ggp8njUb4jc54JrzfM5cQBkfiCdlz6nY17y8-1szg=s64",
      "userId": "05156582812995850159"
     },
     "user_tz": -540
    },
    "id": "RVFJGk05XPUu",
    "outputId": "53a88aee-6a2e-4bf4-d6e2-f5a18c27fbcc"
   },
   "outputs": [
    {
     "name": "stdout",
     "output_type": "stream",
     "text": [
      "Index(['category', 'created_at', 'updated_at', 'char_count_sum',\n",
      "       'new_line_count_sum', 'talk_char_count_sum', 'new_line_count_rate_sum',\n",
      "       'talk_char_count_rate_sum', 'char_count_avg', 'new_line_count_avg',\n",
      "       'talk_char_count_avg', 'new_line_count_rate_avg',\n",
      "       'talk_char_count_rate_avg', 'wc_rate_0', 'wc_rate_1', 'wc_rate_2',\n",
      "       'wc_rate_3', 'wc_rate_4', 'wc_rate_5', 'wc_rate_6', 'wc_rate_7',\n",
      "       'wc_rate_8', 'wc_rate_9', 'wc_rate_10', 'wc_rate_11', 'wc_rate_12'],\n",
      "      dtype='object')\n",
      "26\n"
     ]
    }
   ],
   "source": [
    "print(feature_names)\n",
    "print(len(feature_names))"
   ]
  },
  {
   "cell_type": "code",
   "execution_count": 12,
   "metadata": {
    "colab": {
     "base_uri": "https://localhost:8080/",
     "height": 266
    },
    "colab_type": "code",
    "executionInfo": {
     "elapsed": 544,
     "status": "ok",
     "timestamp": 1594731260039,
     "user": {
      "displayName": "Noboru Koike",
      "photoUrl": "https://lh3.googleusercontent.com/a-/AOh14Ggp8njUb4jc54JrzfM5cQBkfiCdlz6nY17y8-1szg=s64",
      "userId": "05156582812995850159"
     },
     "user_tz": -540
    },
    "id": "LMm0wPh6Y8pK",
    "outputId": "4faef2d3-e401-436d-90c8-33fb5359e6f4"
   },
   "outputs": [],
   "source": [
    "# print(y)\n",
    "\n",
    "# u, counts = np.unique(y, return_counts=True)\n",
    "# print(len(u))\n",
    "# print(u)\n",
    "# print(counts)"
   ]
  },
  {
   "cell_type": "code",
   "execution_count": 13,
   "metadata": {},
   "outputs": [],
   "source": [
    "from imblearn.over_sampling import RandomOverSampler"
   ]
  },
  {
   "cell_type": "code",
   "execution_count": 14,
   "metadata": {},
   "outputs": [
    {
     "name": "stdout",
     "output_type": "stream",
     "text": [
      "(915, 26) (915,)\n",
      "15\n",
      "[ 5 10 15 17 20 25 30 35 40 45 50 52 60 67 75]\n",
      "[61 61 61 61 61 61 61 61 61 61 61 61 61 61 61]\n"
     ]
    }
   ],
   "source": [
    "ros = RandomOverSampler(random_state=0)\n",
    "X_resampled, y_resampled = ros.fit_resample(X, y)\n",
    "print(X_resampled.shape, y_resampled.shape)\n",
    "\n",
    "u, counts = np.unique(y_resampled, return_counts=True)\n",
    "print(len(u))\n",
    "print(u)\n",
    "print(counts)"
   ]
  },
  {
   "cell_type": "code",
   "execution_count": 15,
   "metadata": {
    "colab": {},
    "colab_type": "code",
    "executionInfo": {
     "elapsed": 568,
     "status": "ok",
     "timestamp": 1594731288899,
     "user": {
      "displayName": "Noboru Koike",
      "photoUrl": "https://lh3.googleusercontent.com/a-/AOh14Ggp8njUb4jc54JrzfM5cQBkfiCdlz6nY17y8-1szg=s64",
      "userId": "05156582812995850159"
     },
     "user_tz": -540
    },
    "id": "R89OYNT0e_7A"
   },
   "outputs": [],
   "source": [
    "from sklearn.model_selection import train_test_split\n",
    "\n",
    "#X_train, X_val, y_train, y_val = train_test_split(X, y, test_size=0.3, shuffle=True, random_state=1)\n",
    "X_train, X_val, y_train, y_val = train_test_split(X_resampled, y_resampled, test_size=0.3, shuffle=True, random_state=1)"
   ]
  },
  {
   "cell_type": "code",
   "execution_count": 16,
   "metadata": {
    "colab": {
     "base_uri": "https://localhost:8080/",
     "height": 33
    },
    "colab_type": "code",
    "executionInfo": {
     "elapsed": 690,
     "status": "ok",
     "timestamp": 1594731319243,
     "user": {
      "displayName": "Noboru Koike",
      "photoUrl": "https://lh3.googleusercontent.com/a-/AOh14Ggp8njUb4jc54JrzfM5cQBkfiCdlz6nY17y8-1szg=s64",
      "userId": "05156582812995850159"
     },
     "user_tz": -540
    },
    "id": "ozky4y8lYKpL",
    "outputId": "63cf2a41-9158-43e3-fe4d-09224267e58b"
   },
   "outputs": [
    {
     "name": "stdout",
     "output_type": "stream",
     "text": [
      "(640, 26) (640,)\n",
      "(275, 26) (275,)\n"
     ]
    }
   ],
   "source": [
    "print(X_train.shape, y_train.shape)\n",
    "print(X_val.shape, y_val.shape)"
   ]
  },
  {
   "cell_type": "code",
   "execution_count": 17,
   "metadata": {},
   "outputs": [],
   "source": [
    "dtrain = xgb.DMatrix(X_train, label=y_train, feature_names=feature_names)\n",
    "dval = xgb.DMatrix(X_val, label=y_val, feature_names=feature_names)"
   ]
  },
  {
   "cell_type": "code",
   "execution_count": 18,
   "metadata": {},
   "outputs": [
    {
     "name": "stdout",
     "output_type": "stream",
     "text": [
      "['category', 'created_at', 'updated_at', 'char_count_sum', 'new_line_count_sum', 'talk_char_count_sum', 'new_line_count_rate_sum', 'talk_char_count_rate_sum', 'char_count_avg', 'new_line_count_avg', 'talk_char_count_avg', 'new_line_count_rate_avg', 'talk_char_count_rate_avg', 'wc_rate_0', 'wc_rate_1', 'wc_rate_2', 'wc_rate_3', 'wc_rate_4', 'wc_rate_5', 'wc_rate_6', 'wc_rate_7', 'wc_rate_8', 'wc_rate_9', 'wc_rate_10', 'wc_rate_11', 'wc_rate_12']\n"
     ]
    }
   ],
   "source": [
    "print(dtrain.feature_names)"
   ]
  },
  {
   "cell_type": "code",
   "execution_count": 19,
   "metadata": {},
   "outputs": [
    {
     "name": "stdout",
     "output_type": "stream",
     "text": [
      "[13:10:09] WARNING: /Users/travis/build/dmlc/xgboost/src/objective/regression_obj.cu:170: reg:linear is now deprecated in favor of reg:squarederror.\n",
      "[0]\ttrain-rmse:29.48635\teval-rmse:31.14042\n",
      "Multiple eval metrics have been passed: 'eval-rmse' will be used for early stopping.\n",
      "\n",
      "Will train until eval-rmse hasn't improved in 20 rounds.\n",
      "[1]\ttrain-rmse:21.48445\teval-rmse:23.02701\n",
      "[2]\ttrain-rmse:15.68184\teval-rmse:17.22133\n",
      "[3]\ttrain-rmse:11.69560\teval-rmse:13.52017\n",
      "[4]\ttrain-rmse:8.65907\teval-rmse:10.80927\n",
      "[5]\ttrain-rmse:6.65944\teval-rmse:9.16982\n",
      "[6]\ttrain-rmse:5.10162\teval-rmse:8.12059\n",
      "[7]\ttrain-rmse:4.14760\teval-rmse:7.51638\n",
      "[8]\ttrain-rmse:3.54806\teval-rmse:7.19288\n",
      "[9]\ttrain-rmse:2.92686\teval-rmse:6.89970\n",
      "[10]\ttrain-rmse:2.63887\teval-rmse:6.72240\n",
      "[11]\ttrain-rmse:2.26690\teval-rmse:6.54652\n",
      "[12]\ttrain-rmse:2.10129\teval-rmse:6.47745\n",
      "[13]\ttrain-rmse:1.94550\teval-rmse:6.43304\n",
      "[14]\ttrain-rmse:1.80101\teval-rmse:6.39302\n",
      "[15]\ttrain-rmse:1.57171\teval-rmse:6.34307\n",
      "[16]\ttrain-rmse:1.48311\teval-rmse:6.33340\n",
      "[17]\ttrain-rmse:1.31488\teval-rmse:6.26590\n",
      "[18]\ttrain-rmse:1.24306\teval-rmse:6.22673\n",
      "[19]\ttrain-rmse:1.15216\teval-rmse:6.22084\n",
      "[20]\ttrain-rmse:1.04680\teval-rmse:6.19885\n",
      "[21]\ttrain-rmse:0.98908\teval-rmse:6.19180\n",
      "[22]\ttrain-rmse:0.91759\teval-rmse:6.17063\n",
      "[23]\ttrain-rmse:0.88357\teval-rmse:6.16138\n",
      "[24]\ttrain-rmse:0.84427\teval-rmse:6.15891\n",
      "[25]\ttrain-rmse:0.74190\teval-rmse:6.12465\n",
      "[26]\ttrain-rmse:0.68062\teval-rmse:6.10187\n",
      "[27]\ttrain-rmse:0.60356\teval-rmse:6.07672\n",
      "[28]\ttrain-rmse:0.55661\teval-rmse:6.08684\n",
      "[29]\ttrain-rmse:0.51622\teval-rmse:6.07463\n",
      "[30]\ttrain-rmse:0.47758\teval-rmse:6.07103\n",
      "[31]\ttrain-rmse:0.44110\teval-rmse:6.06980\n",
      "[32]\ttrain-rmse:0.40725\teval-rmse:6.06340\n",
      "[33]\ttrain-rmse:0.38678\teval-rmse:6.06052\n",
      "[34]\ttrain-rmse:0.35801\teval-rmse:6.05376\n",
      "[35]\ttrain-rmse:0.34080\teval-rmse:6.04962\n",
      "[36]\ttrain-rmse:0.31813\teval-rmse:6.04834\n",
      "[37]\ttrain-rmse:0.28867\teval-rmse:6.04596\n",
      "[38]\ttrain-rmse:0.27286\teval-rmse:6.04244\n",
      "[39]\ttrain-rmse:0.26820\teval-rmse:6.04176\n",
      "[40]\ttrain-rmse:0.26123\teval-rmse:6.03855\n",
      "[41]\ttrain-rmse:0.23468\teval-rmse:6.03620\n",
      "[42]\ttrain-rmse:0.22380\teval-rmse:6.03564\n",
      "[43]\ttrain-rmse:0.21051\teval-rmse:6.02936\n",
      "[44]\ttrain-rmse:0.18734\teval-rmse:6.02961\n",
      "[45]\ttrain-rmse:0.17214\teval-rmse:6.02795\n",
      "[46]\ttrain-rmse:0.15701\teval-rmse:6.02446\n",
      "[47]\ttrain-rmse:0.13376\teval-rmse:6.01858\n",
      "[48]\ttrain-rmse:0.11968\teval-rmse:6.01458\n",
      "[49]\ttrain-rmse:0.11417\teval-rmse:6.01352\n",
      "[50]\ttrain-rmse:0.10381\teval-rmse:6.01386\n",
      "[51]\ttrain-rmse:0.09702\teval-rmse:6.01380\n",
      "[52]\ttrain-rmse:0.09028\teval-rmse:6.01607\n",
      "[53]\ttrain-rmse:0.07787\teval-rmse:6.01319\n",
      "[54]\ttrain-rmse:0.07284\teval-rmse:6.01250\n",
      "[55]\ttrain-rmse:0.06484\teval-rmse:6.01203\n",
      "[56]\ttrain-rmse:0.05559\teval-rmse:6.00948\n",
      "[57]\ttrain-rmse:0.04783\teval-rmse:6.01140\n",
      "[58]\ttrain-rmse:0.04186\teval-rmse:6.00959\n",
      "[59]\ttrain-rmse:0.03633\teval-rmse:6.00877\n",
      "[60]\ttrain-rmse:0.03314\teval-rmse:6.00766\n",
      "[61]\ttrain-rmse:0.02984\teval-rmse:6.00719\n",
      "[62]\ttrain-rmse:0.02738\teval-rmse:6.00763\n",
      "[63]\ttrain-rmse:0.02493\teval-rmse:6.00707\n",
      "[64]\ttrain-rmse:0.02223\teval-rmse:6.00747\n",
      "[65]\ttrain-rmse:0.02044\teval-rmse:6.00729\n",
      "[66]\ttrain-rmse:0.01854\teval-rmse:6.00669\n",
      "[67]\ttrain-rmse:0.01600\teval-rmse:6.00650\n",
      "[68]\ttrain-rmse:0.01452\teval-rmse:6.00651\n",
      "[69]\ttrain-rmse:0.01334\teval-rmse:6.00655\n",
      "[70]\ttrain-rmse:0.01231\teval-rmse:6.00655\n",
      "[71]\ttrain-rmse:0.01147\teval-rmse:6.00652\n",
      "[72]\ttrain-rmse:0.01094\teval-rmse:6.00673\n",
      "[73]\ttrain-rmse:0.01034\teval-rmse:6.00680\n",
      "[74]\ttrain-rmse:0.00953\teval-rmse:6.00640\n",
      "[75]\ttrain-rmse:0.00887\teval-rmse:6.00607\n",
      "[76]\ttrain-rmse:0.00799\teval-rmse:6.00593\n",
      "[77]\ttrain-rmse:0.00731\teval-rmse:6.00587\n",
      "[78]\ttrain-rmse:0.00692\teval-rmse:6.00593\n",
      "[79]\ttrain-rmse:0.00639\teval-rmse:6.00574\n",
      "[80]\ttrain-rmse:0.00583\teval-rmse:6.00559\n",
      "[81]\ttrain-rmse:0.00561\teval-rmse:6.00554\n",
      "[82]\ttrain-rmse:0.00509\teval-rmse:6.00551\n",
      "[83]\ttrain-rmse:0.00492\teval-rmse:6.00550\n",
      "[84]\ttrain-rmse:0.00435\teval-rmse:6.00548\n",
      "[85]\ttrain-rmse:0.00404\teval-rmse:6.00547\n",
      "[86]\ttrain-rmse:0.00381\teval-rmse:6.00556\n",
      "[87]\ttrain-rmse:0.00351\teval-rmse:6.00551\n",
      "[88]\ttrain-rmse:0.00322\teval-rmse:6.00553\n",
      "[89]\ttrain-rmse:0.00302\teval-rmse:6.00554\n",
      "[90]\ttrain-rmse:0.00271\teval-rmse:6.00553\n",
      "[91]\ttrain-rmse:0.00248\teval-rmse:6.00552\n",
      "[92]\ttrain-rmse:0.00228\teval-rmse:6.00549\n",
      "[93]\ttrain-rmse:0.00213\teval-rmse:6.00546\n",
      "[94]\ttrain-rmse:0.00196\teval-rmse:6.00542\n",
      "[95]\ttrain-rmse:0.00183\teval-rmse:6.00542\n",
      "[96]\ttrain-rmse:0.00177\teval-rmse:6.00542\n",
      "[97]\ttrain-rmse:0.00168\teval-rmse:6.00539\n",
      "[98]\ttrain-rmse:0.00148\teval-rmse:6.00538\n",
      "[99]\ttrain-rmse:0.00129\teval-rmse:6.00543\n",
      "[13:10:09] WARNING: /Users/travis/build/dmlc/xgboost/src/objective/regression_obj.cu:170: reg:linear is now deprecated in favor of reg:squarederror.\n"
     ]
    }
   ],
   "source": [
    "xgb_params = {\n",
    "    'objective': 'reg:linear',\n",
    "    'eval_metric': 'rmse',\n",
    "}\n",
    "\n",
    "evals = [(dtrain, 'train'), (dval, 'eval')]\n",
    "evals_result = {}\n",
    "\n",
    "bst = xgb.train(xgb_params,\n",
    "                dtrain,\n",
    "                num_boost_round=100,\n",
    "                early_stopping_rounds=20,\n",
    "                evals=evals,\n",
    "                evals_result=evals_result)"
   ]
  },
  {
   "cell_type": "code",
   "execution_count": 20,
   "metadata": {},
   "outputs": [
    {
     "name": "stdout",
     "output_type": "stream",
     "text": [
      "RMSE: 6.005429110600139\n"
     ]
    }
   ],
   "source": [
    "import math\n",
    "from sklearn.metrics import mean_squared_error\n",
    "\n",
    "y_pred = bst.predict(dval)\n",
    "mse = mean_squared_error(y_val, y_pred)\n",
    "print('RMSE:', math.sqrt(mse))"
   ]
  },
  {
   "cell_type": "code",
   "execution_count": 21,
   "metadata": {},
   "outputs": [
    {
     "data": {
      "image/png": "[encoded data removed]",
      "text/plain": [
       "<Figure size 432x288 with 1 Axes>"
      ]
     },
     "metadata": {
      "needs_background": "light"
     },
     "output_type": "display_data"
    }
   ],
   "source": [
    "train_metric = evals_result['train']['rmse']\n",
    "plt.plot(train_metric, label='train rmse')\n",
    "\n",
    "eval_metric = evals_result['eval']['rmse']\n",
    "plt.plot(eval_metric, label='eval rmse')\n",
    "\n",
    "plt.grid()\n",
    "plt.legend()\n",
    "plt.xlabel('rounds')\n",
    "plt.ylabel('rmse')\n",
    "plt.show()"
   ]
  },
  {
   "cell_type": "code",
   "execution_count": 39,
   "metadata": {
    "scrolled": true
   },
   "outputs": [
    {
     "data": {
      "image/png": "[encoded data removed]",
      "text/plain": [
       "<Figure size 864x576 with 1 Axes>"
      ]
     },
     "metadata": {
      "needs_background": "light"
     },
     "output_type": "display_data"
    }
   ],
   "source": [
    "_, ax = plt.subplots(figsize=(12, 8))\n",
    "\n",
    "xgb.plot_importance(bst,ax=ax,\n",
    "                    importance_type='gain',\n",
    "                    show_values=True,\n",
    "                    color='red')\n",
    "\n",
    "plt.yticks(fontsize=12)\n",
    "#plt.figure(dpi=80)\n",
    "\n",
    "plt.show()"
   ]
  },
  {
   "cell_type": "code",
   "execution_count": 23,
   "metadata": {},
   "outputs": [],
   "source": [
    "#xgb.to_graphviz(bst, num_trees=1)"
   ]
  },
  {
   "cell_type": "code",
   "execution_count": 24,
   "metadata": {},
   "outputs": [
    {
     "name": "stdout",
     "output_type": "stream",
     "text": [
      "65\n"
     ]
    }
   ],
   "source": [
    "df_test = laod_data('ranking_test_data.csv')\n",
    "print(len(df_test))\n",
    "#df_test.head(3)"
   ]
  },
  {
   "cell_type": "code",
   "execution_count": 25,
   "metadata": {},
   "outputs": [
    {
     "data": {
      "text/html": [
       "<div>\n",
       "<style scoped>\n",
       "    .dataframe tbody tr th:only-of-type {\n",
       "        vertical-align: middle;\n",
       "    }\n",
       "\n",
       "    .dataframe tbody tr th {\n",
       "        vertical-align: top;\n",
       "    }\n",
       "\n",
       "    .dataframe thead th {\n",
       "        text-align: right;\n",
       "    }\n",
       "</style>\n",
       "<table border=\"1\" class=\"dataframe\">\n",
       "  <thead>\n",
       "    <tr style=\"text-align: right;\">\n",
       "      <th></th>\n",
       "      <th>category</th>\n",
       "      <th>created_at</th>\n",
       "      <th>updated_at</th>\n",
       "      <th>char_count_sum</th>\n",
       "      <th>new_line_count_sum</th>\n",
       "      <th>talk_char_count_sum</th>\n",
       "      <th>new_line_count_rate_sum</th>\n",
       "      <th>talk_char_count_rate_sum</th>\n",
       "      <th>char_count_avg</th>\n",
       "      <th>new_line_count_avg</th>\n",
       "      <th>...</th>\n",
       "      <th>wc_rate_4</th>\n",
       "      <th>wc_rate_5</th>\n",
       "      <th>wc_rate_6</th>\n",
       "      <th>wc_rate_7</th>\n",
       "      <th>wc_rate_8</th>\n",
       "      <th>wc_rate_9</th>\n",
       "      <th>wc_rate_10</th>\n",
       "      <th>wc_rate_11</th>\n",
       "      <th>wc_rate_12</th>\n",
       "      <th>rating</th>\n",
       "    </tr>\n",
       "  </thead>\n",
       "  <tbody>\n",
       "    <tr>\n",
       "      <th>0</th>\n",
       "      <td>6</td>\n",
       "      <td>1.585469e+09</td>\n",
       "      <td>1.593763e+09</td>\n",
       "      <td>37740</td>\n",
       "      <td>2310</td>\n",
       "      <td>0</td>\n",
       "      <td>0.061208</td>\n",
       "      <td>0.000000</td>\n",
       "      <td>1258.0</td>\n",
       "      <td>77.0</td>\n",
       "      <td>...</td>\n",
       "      <td>0.240634</td>\n",
       "      <td>0.149856</td>\n",
       "      <td>0.386167</td>\n",
       "      <td>0.014409</td>\n",
       "      <td>0.000000</td>\n",
       "      <td>0.000000</td>\n",
       "      <td>0.000000</td>\n",
       "      <td>0.171470</td>\n",
       "      <td>0.001441</td>\n",
       "      <td>-10</td>\n",
       "    </tr>\n",
       "    <tr>\n",
       "      <th>1</th>\n",
       "      <td>6</td>\n",
       "      <td>1.591009e+09</td>\n",
       "      <td>1.593774e+09</td>\n",
       "      <td>144330</td>\n",
       "      <td>5760</td>\n",
       "      <td>44100</td>\n",
       "      <td>0.039909</td>\n",
       "      <td>0.305550</td>\n",
       "      <td>4811.0</td>\n",
       "      <td>192.0</td>\n",
       "      <td>...</td>\n",
       "      <td>0.252519</td>\n",
       "      <td>0.217420</td>\n",
       "      <td>0.238219</td>\n",
       "      <td>0.019175</td>\n",
       "      <td>0.002600</td>\n",
       "      <td>0.006175</td>\n",
       "      <td>0.000975</td>\n",
       "      <td>0.132272</td>\n",
       "      <td>0.008450</td>\n",
       "      <td>-10</td>\n",
       "    </tr>\n",
       "    <tr>\n",
       "      <th>2</th>\n",
       "      <td>6</td>\n",
       "      <td>1.587737e+09</td>\n",
       "      <td>1.593006e+09</td>\n",
       "      <td>156720</td>\n",
       "      <td>6210</td>\n",
       "      <td>13290</td>\n",
       "      <td>0.039625</td>\n",
       "      <td>0.084801</td>\n",
       "      <td>5224.0</td>\n",
       "      <td>207.0</td>\n",
       "      <td>...</td>\n",
       "      <td>0.248532</td>\n",
       "      <td>0.211128</td>\n",
       "      <td>0.241731</td>\n",
       "      <td>0.011437</td>\n",
       "      <td>0.002473</td>\n",
       "      <td>0.007419</td>\n",
       "      <td>0.001546</td>\n",
       "      <td>0.126739</td>\n",
       "      <td>0.012056</td>\n",
       "      <td>-10</td>\n",
       "    </tr>\n",
       "  </tbody>\n",
       "</table>\n",
       "<p>3 rows × 27 columns</p>\n",
       "</div>"
      ],
      "text/plain": [
       "   category    created_at    updated_at  char_count_sum  new_line_count_sum  \\\n",
       "0         6  1.585469e+09  1.593763e+09           37740                2310   \n",
       "1         6  1.591009e+09  1.593774e+09          144330                5760   \n",
       "2         6  1.587737e+09  1.593006e+09          156720                6210   \n",
       "\n",
       "   talk_char_count_sum  new_line_count_rate_sum  talk_char_count_rate_sum  \\\n",
       "0                    0                 0.061208                  0.000000   \n",
       "1                44100                 0.039909                  0.305550   \n",
       "2                13290                 0.039625                  0.084801   \n",
       "\n",
       "   char_count_avg  new_line_count_avg  ...  wc_rate_4  wc_rate_5  wc_rate_6  \\\n",
       "0          1258.0                77.0  ...   0.240634   0.149856   0.386167   \n",
       "1          4811.0               192.0  ...   0.252519   0.217420   0.238219   \n",
       "2          5224.0               207.0  ...   0.248532   0.211128   0.241731   \n",
       "\n",
       "   wc_rate_7  wc_rate_8  wc_rate_9  wc_rate_10  wc_rate_11  wc_rate_12  rating  \n",
       "0   0.014409   0.000000   0.000000    0.000000    0.171470    0.001441     -10  \n",
       "1   0.019175   0.002600   0.006175    0.000975    0.132272    0.008450     -10  \n",
       "2   0.011437   0.002473   0.007419    0.001546    0.126739    0.012056     -10  \n",
       "\n",
       "[3 rows x 27 columns]"
      ]
     },
     "execution_count": 25,
     "metadata": {},
     "output_type": "execute_result"
    }
   ],
   "source": [
    "df_test2 = data_preprocess(df_test)\n",
    "df_test2.head(3)"
   ]
  },
  {
   "cell_type": "code",
   "execution_count": 26,
   "metadata": {},
   "outputs": [
    {
     "name": "stdout",
     "output_type": "stream",
     "text": [
      "(65, 26)\n"
     ]
    }
   ],
   "source": [
    "X = df_test2.drop(['rating'], axis=1).values\n",
    "y = df_test2['rating'].values\n",
    "print(X.shape)\n",
    "\n",
    "#dtrain = xgb.DMatrix(X_train, label=y_train)\n",
    "dtest = xgb.DMatrix(X, label=y, feature_names=feature_names)\n",
    "#print(dtest)"
   ]
  },
  {
   "cell_type": "code",
   "execution_count": 28,
   "metadata": {},
   "outputs": [],
   "source": [
    "y_pred = bst.predict(dtest)\n",
    "#y_pred"
   ]
  },
  {
   "cell_type": "code",
   "execution_count": 29,
   "metadata": {},
   "outputs": [],
   "source": [
    "df_rating = pd.DataFrame(columns=['ncode', 'title', 'rating'])\n",
    "\n",
    "for i, y in enumerate(y_pred):\n",
    "    row = df_test.loc[i] \n",
    "    #print('{}\\t{}\\t{}'.format(row.ncode, row.title, y))\n",
    "    df_rating = df_rating.append({'ncode': row.ncode, 'title': row.title, 'rating': y}, ignore_index=True)"
   ]
  },
  {
   "cell_type": "code",
   "execution_count": 31,
   "metadata": {},
   "outputs": [],
   "source": [
    "#df_rating.head()"
   ]
  },
  {
   "cell_type": "code",
   "execution_count": 32,
   "metadata": {},
   "outputs": [
    {
     "data": {
      "text/html": [
       "<div>\n",
       "<style scoped>\n",
       "    .dataframe tbody tr th:only-of-type {\n",
       "        vertical-align: middle;\n",
       "    }\n",
       "\n",
       "    .dataframe tbody tr th {\n",
       "        vertical-align: top;\n",
       "    }\n",
       "\n",
       "    .dataframe thead th {\n",
       "        text-align: right;\n",
       "    }\n",
       "</style>\n",
       "<table border=\"1\" class=\"dataframe\">\n",
       "  <thead>\n",
       "    <tr style=\"text-align: right;\">\n",
       "      <th></th>\n",
       "      <th>rating</th>\n",
       "    </tr>\n",
       "  </thead>\n",
       "  <tbody>\n",
       "    <tr>\n",
       "      <th>count</th>\n",
       "      <td>65.000000</td>\n",
       "    </tr>\n",
       "    <tr>\n",
       "      <th>mean</th>\n",
       "      <td>24.588104</td>\n",
       "    </tr>\n",
       "    <tr>\n",
       "      <th>std</th>\n",
       "      <td>7.529778</td>\n",
       "    </tr>\n",
       "    <tr>\n",
       "      <th>min</th>\n",
       "      <td>11.145062</td>\n",
       "    </tr>\n",
       "    <tr>\n",
       "      <th>25%</th>\n",
       "      <td>18.921967</td>\n",
       "    </tr>\n",
       "    <tr>\n",
       "      <th>50%</th>\n",
       "      <td>24.137463</td>\n",
       "    </tr>\n",
       "    <tr>\n",
       "      <th>75%</th>\n",
       "      <td>28.626982</td>\n",
       "    </tr>\n",
       "    <tr>\n",
       "      <th>max</th>\n",
       "      <td>44.654007</td>\n",
       "    </tr>\n",
       "  </tbody>\n",
       "</table>\n",
       "</div>"
      ],
      "text/plain": [
       "          rating\n",
       "count  65.000000\n",
       "mean   24.588104\n",
       "std     7.529778\n",
       "min    11.145062\n",
       "25%    18.921967\n",
       "50%    24.137463\n",
       "75%    28.626982\n",
       "max    44.654007"
      ]
     },
     "execution_count": 32,
     "metadata": {},
     "output_type": "execute_result"
    }
   ],
   "source": [
    "df_rating.describe()"
   ]
  },
  {
   "cell_type": "code",
   "execution_count": 33,
   "metadata": {},
   "outputs": [
    {
     "data": {
      "text/plain": [
       "rating    56.697557\n",
       "dtype: float64"
      ]
     },
     "execution_count": 33,
     "metadata": {},
     "output_type": "execute_result"
    }
   ],
   "source": [
    "df_rating.var()"
   ]
  },
  {
   "cell_type": "code",
   "execution_count": 34,
   "metadata": {},
   "outputs": [
    {
     "data": {
      "text/plain": [
       "rating    24.137463\n",
       "dtype: float64"
      ]
     },
     "execution_count": 34,
     "metadata": {},
     "output_type": "execute_result"
    }
   ],
   "source": [
    "df_rating.median()"
   ]
  },
  {
   "cell_type": "code",
   "execution_count": 35,
   "metadata": {},
   "outputs": [
    {
     "data": {
      "text/html": [
       "<div>\n",
       "<style scoped>\n",
       "    .dataframe tbody tr th:only-of-type {\n",
       "        vertical-align: middle;\n",
       "    }\n",
       "\n",
       "    .dataframe tbody tr th {\n",
       "        vertical-align: top;\n",
       "    }\n",
       "\n",
       "    .dataframe thead th {\n",
       "        text-align: right;\n",
       "    }\n",
       "</style>\n",
       "<table border=\"1\" class=\"dataframe\">\n",
       "  <thead>\n",
       "    <tr style=\"text-align: right;\">\n",
       "      <th></th>\n",
       "      <th>ncode</th>\n",
       "      <th>title</th>\n",
       "      <th>rating</th>\n",
       "    </tr>\n",
       "  </thead>\n",
       "  <tbody>\n",
       "    <tr>\n",
       "      <th>60</th>\n",
       "      <td>n5645ci</td>\n",
       "      <td>自分が異世界に転移するなら</td>\n",
       "      <td>44.654007</td>\n",
       "    </tr>\n",
       "    <tr>\n",
       "      <th>61</th>\n",
       "      <td>n4344dy</td>\n",
       "      <td>世界最強の後衛　～迷宮国の新人探索者～</td>\n",
       "      <td>41.295052</td>\n",
       "    </tr>\n",
       "    <tr>\n",
       "      <th>4</th>\n",
       "      <td>n6812gh</td>\n",
       "      <td>悪徳領主の息子に転生！？　～普通に行動しているだけなのに、周囲からちやほやされます～</td>\n",
       "      <td>40.364941</td>\n",
       "    </tr>\n",
       "    <tr>\n",
       "      <th>38</th>\n",
       "      <td>n3742ey</td>\n",
       "      <td>ご主人様とゆく異世界サバイバル！</td>\n",
       "      <td>38.883430</td>\n",
       "    </tr>\n",
       "    <tr>\n",
       "      <th>44</th>\n",
       "      <td>n9984fb</td>\n",
       "      <td>身体は児童、中身はおっさんの成り上がり冒険記</td>\n",
       "      <td>37.171757</td>\n",
       "    </tr>\n",
       "    <tr>\n",
       "      <th>49</th>\n",
       "      <td>n1234gg</td>\n",
       "      <td>魔法戦士セイクリッド・ナイツ～エロゲの触手怪人に転生した俺は、変身ヒロインたちを守り抜く～</td>\n",
       "      <td>36.045532</td>\n",
       "    </tr>\n",
       "    <tr>\n",
       "      <th>23</th>\n",
       "      <td>n9629ex</td>\n",
       "      <td>最弱テイマーはゴミ拾いの旅を始めました。</td>\n",
       "      <td>35.840317</td>\n",
       "    </tr>\n",
       "    <tr>\n",
       "      <th>41</th>\n",
       "      <td>n6078fg</td>\n",
       "      <td>不死鳥への転生　ドラゴン倒せるって普通の鳥じゃないよね？　（旧題：憧れへの転生　以下同文）</td>\n",
       "      <td>34.564163</td>\n",
       "    </tr>\n",
       "    <tr>\n",
       "      <th>63</th>\n",
       "      <td>n6078gg</td>\n",
       "      <td>イントゥ・ザ・ゴーレム！～土くれに生まれ変わった私は自己改造で進化する～</td>\n",
       "      <td>34.067009</td>\n",
       "    </tr>\n",
       "    <tr>\n",
       "      <th>13</th>\n",
       "      <td>n5677cl</td>\n",
       "      <td>亡びの国の征服者～魔王は世界を征服するようです～</td>\n",
       "      <td>31.989611</td>\n",
       "    </tr>\n",
       "    <tr>\n",
       "      <th>26</th>\n",
       "      <td>n5529cy</td>\n",
       "      <td>老後に備えて異世界で８万枚の金貨を貯めます</td>\n",
       "      <td>31.898167</td>\n",
       "    </tr>\n",
       "    <tr>\n",
       "      <th>35</th>\n",
       "      <td>n4444ge</td>\n",
       "      <td>植物モンスター娘日記　〜聖女だった私が裏切られた果てにアルラウネに転生してしまったので、これ...</td>\n",
       "      <td>31.866442</td>\n",
       "    </tr>\n",
       "    <tr>\n",
       "      <th>37</th>\n",
       "      <td>n3726bt</td>\n",
       "      <td>レジェンド</td>\n",
       "      <td>30.732359</td>\n",
       "    </tr>\n",
       "    <tr>\n",
       "      <th>45</th>\n",
       "      <td>n1745ct</td>\n",
       "      <td>四度目は嫌な死属性魔術師</td>\n",
       "      <td>30.079018</td>\n",
       "    </tr>\n",
       "    <tr>\n",
       "      <th>43</th>\n",
       "      <td>n0350em</td>\n",
       "      <td>異世界転移、地雷付き。</td>\n",
       "      <td>29.656401</td>\n",
       "    </tr>\n",
       "    <tr>\n",
       "      <th>25</th>\n",
       "      <td>n3245fy</td>\n",
       "      <td>主人公じゃない！</td>\n",
       "      <td>28.910036</td>\n",
       "    </tr>\n",
       "    <tr>\n",
       "      <th>0</th>\n",
       "      <td>n8642gc</td>\n",
       "      <td>聖貨を集めて、ぶん回せ！</td>\n",
       "      <td>28.626982</td>\n",
       "    </tr>\n",
       "    <tr>\n",
       "      <th>1</th>\n",
       "      <td>n8693gg</td>\n",
       "      <td>十年目、帰還を諦めた転移者はいまさら主人公になる</td>\n",
       "      <td>28.494261</td>\n",
       "    </tr>\n",
       "    <tr>\n",
       "      <th>11</th>\n",
       "      <td>n1217et</td>\n",
       "      <td>信者ゼロの女神サマと始める異世界攻略　クラスメイト最弱の魔法使い</td>\n",
       "      <td>28.370230</td>\n",
       "    </tr>\n",
       "    <tr>\n",
       "      <th>36</th>\n",
       "      <td>n6088cy</td>\n",
       "      <td>ポーション頼みで生き延びます！</td>\n",
       "      <td>28.112288</td>\n",
       "    </tr>\n",
       "    <tr>\n",
       "      <th>47</th>\n",
       "      <td>n9940gd</td>\n",
       "      <td>最強錬金術師の異世界珍道中</td>\n",
       "      <td>27.209635</td>\n",
       "    </tr>\n",
       "    <tr>\n",
       "      <th>31</th>\n",
       "      <td>n4342ge</td>\n",
       "      <td>聖女に追放された転生公爵は、辺境でのんびりと畑を耕すつもりだった～来るなというのに領民が沢山...</td>\n",
       "      <td>27.166193</td>\n",
       "    </tr>\n",
       "    <tr>\n",
       "      <th>59</th>\n",
       "      <td>n4698cv</td>\n",
       "      <td>転生したらドラゴンの卵だった～最強以外目指さねぇ～</td>\n",
       "      <td>26.627605</td>\n",
       "    </tr>\n",
       "    <tr>\n",
       "      <th>39</th>\n",
       "      <td>n6006cw</td>\n",
       "      <td>転生したら剣でした</td>\n",
       "      <td>26.548368</td>\n",
       "    </tr>\n",
       "    <tr>\n",
       "      <th>12</th>\n",
       "      <td>n7657bb</td>\n",
       "      <td>かわいいコックさん</td>\n",
       "      <td>26.256077</td>\n",
       "    </tr>\n",
       "    <tr>\n",
       "      <th>19</th>\n",
       "      <td>n6475db</td>\n",
       "      <td>私、能力は平均値でって言ったよね！</td>\n",
       "      <td>25.620075</td>\n",
       "    </tr>\n",
       "    <tr>\n",
       "      <th>28</th>\n",
       "      <td>n1970fg</td>\n",
       "      <td>田中家、転生する。</td>\n",
       "      <td>25.314068</td>\n",
       "    </tr>\n",
       "    <tr>\n",
       "      <th>33</th>\n",
       "      <td>n6300fz</td>\n",
       "      <td>領民0の土地を押し付けられた俺、生産スキルを駆使して最強国家を作り上げる</td>\n",
       "      <td>24.952288</td>\n",
       "    </tr>\n",
       "    <tr>\n",
       "      <th>18</th>\n",
       "      <td>n2276dz</td>\n",
       "      <td>異世界でスローライフを（願望）</td>\n",
       "      <td>24.923840</td>\n",
       "    </tr>\n",
       "    <tr>\n",
       "      <th>54</th>\n",
       "      <td>n1444fs</td>\n",
       "      <td>転生領主の優良開拓〜前世の記憶を生かしてホワイトに努めたら、有能な人材が集まりすぎました〜</td>\n",
       "      <td>24.893579</td>\n",
       "    </tr>\n",
       "    <tr>\n",
       "      <th>27</th>\n",
       "      <td>n9544br</td>\n",
       "      <td>週末冒険者</td>\n",
       "      <td>24.690670</td>\n",
       "    </tr>\n",
       "    <tr>\n",
       "      <th>53</th>\n",
       "      <td>n5782dy</td>\n",
       "      <td>ハズレ判定から始まったチート魔術士生活</td>\n",
       "      <td>24.689280</td>\n",
       "    </tr>\n",
       "    <tr>\n",
       "      <th>58</th>\n",
       "      <td>n2671do</td>\n",
       "      <td>魔王になったので、ダンジョン造って人外娘とほのぼのする</td>\n",
       "      <td>24.137463</td>\n",
       "    </tr>\n",
       "    <tr>\n",
       "      <th>10</th>\n",
       "      <td>n1773gf</td>\n",
       "      <td>16年間魔法が使えず落ちこぼれだった俺が、科学者だった前世を思い出して異世界無双</td>\n",
       "      <td>23.928555</td>\n",
       "    </tr>\n",
       "    <tr>\n",
       "      <th>52</th>\n",
       "      <td>n6247cr</td>\n",
       "      <td>鑑定能力で調合師になります</td>\n",
       "      <td>22.710117</td>\n",
       "    </tr>\n",
       "    <tr>\n",
       "      <th>51</th>\n",
       "      <td>n4499gh</td>\n",
       "      <td>よいこの世界統一せんそう！</td>\n",
       "      <td>22.575388</td>\n",
       "    </tr>\n",
       "    <tr>\n",
       "      <th>48</th>\n",
       "      <td>n9293gf</td>\n",
       "      <td>ゲームのストーリー開始前に死ぬ“設定上最強キャラ”に転生したので頑張って生きたい</td>\n",
       "      <td>22.285925</td>\n",
       "    </tr>\n",
       "    <tr>\n",
       "      <th>5</th>\n",
       "      <td>n7408gf</td>\n",
       "      <td>異世界ゆるり農家生活</td>\n",
       "      <td>22.223942</td>\n",
       "    </tr>\n",
       "    <tr>\n",
       "      <th>32</th>\n",
       "      <td>n4546fc</td>\n",
       "      <td>異世界の貧乏農家に転生したので、レンガを作って城を建てることにしました</td>\n",
       "      <td>21.924646</td>\n",
       "    </tr>\n",
       "    <tr>\n",
       "      <th>57</th>\n",
       "      <td>n8760ei</td>\n",
       "      <td>異世界黙示録マイノグーラ～破滅の文明で始める世界征服～</td>\n",
       "      <td>21.856710</td>\n",
       "    </tr>\n",
       "    <tr>\n",
       "      <th>22</th>\n",
       "      <td>n4811fg</td>\n",
       "      <td>ＴＲＰＧプレイヤーが異世界で最強ビルドを目指す 　～ヘンダーソン氏の福音を～</td>\n",
       "      <td>21.848272</td>\n",
       "    </tr>\n",
       "    <tr>\n",
       "      <th>62</th>\n",
       "      <td>n7056gh</td>\n",
       "      <td>レベルが上がらない！　～と思ってたら元の世界に帰って悪党ぶん殴ってザクザクレベルアップ。異世...</td>\n",
       "      <td>21.399782</td>\n",
       "    </tr>\n",
       "    <tr>\n",
       "      <th>3</th>\n",
       "      <td>n8604ge</td>\n",
       "      <td>スキル「屋台」で異世界生活～食料生成スキルを手に入れたので、商会を立ち上げようと思います～</td>\n",
       "      <td>21.214533</td>\n",
       "    </tr>\n",
       "    <tr>\n",
       "      <th>17</th>\n",
       "      <td>n3191eh</td>\n",
       "      <td>乙女ゲー世界はモブに厳しい世界です</td>\n",
       "      <td>20.773224</td>\n",
       "    </tr>\n",
       "    <tr>\n",
       "      <th>14</th>\n",
       "      <td>n5375cy</td>\n",
       "      <td>転生して田舎でスローライフをおくりたい</td>\n",
       "      <td>20.657501</td>\n",
       "    </tr>\n",
       "    <tr>\n",
       "      <th>6</th>\n",
       "      <td>n0121gf</td>\n",
       "      <td>異世界へ来たのはいいけれど、モンスターと戦える程若くないおっさん。神様からもらったスキルは戦...</td>\n",
       "      <td>20.363699</td>\n",
       "    </tr>\n",
       "    <tr>\n",
       "      <th>8</th>\n",
       "      <td>n0512gh</td>\n",
       "      <td>『錬金BOX』で生産チート+付与無双～無能と罵られ侯爵家を追放されたが、なんでも錬成できる箱...</td>\n",
       "      <td>20.117037</td>\n",
       "    </tr>\n",
       "    <tr>\n",
       "      <th>20</th>\n",
       "      <td>n0610eg</td>\n",
       "      <td>魔石グルメ　～魔物の力を食べたオレは最強！～（Web版）</td>\n",
       "      <td>19.613600</td>\n",
       "    </tr>\n",
       "    <tr>\n",
       "      <th>9</th>\n",
       "      <td>n4205gg</td>\n",
       "      <td>かませ犬から始める天下統一〜前世のアニメの第一部のボスに憑依してました〜</td>\n",
       "      <td>18.921967</td>\n",
       "    </tr>\n",
       "    <tr>\n",
       "      <th>2</th>\n",
       "      <td>n4452ge</td>\n",
       "      <td>俺だけレベルが上がる世界で悪徳領主になっていた</td>\n",
       "      <td>18.841810</td>\n",
       "    </tr>\n",
       "    <tr>\n",
       "      <th>7</th>\n",
       "      <td>n4834fx</td>\n",
       "      <td>転生先が残念王子だった件　～今は腹筋１回もできないけど痩せて異世界救います～</td>\n",
       "      <td>18.495527</td>\n",
       "    </tr>\n",
       "    <tr>\n",
       "      <th>42</th>\n",
       "      <td>n0229fv</td>\n",
       "      <td>植物魔法チートでのんびり領主生活始めます～前世の知識を駆使して農業したら、逆転人生始まった件～</td>\n",
       "      <td>17.973923</td>\n",
       "    </tr>\n",
       "    <tr>\n",
       "      <th>24</th>\n",
       "      <td>n8568fy</td>\n",
       "      <td>普通職の異世界スローライフ　～チート（があるくせに小者）な薬剤師の無双（しない）物語～</td>\n",
       "      <td>17.510845</td>\n",
       "    </tr>\n",
       "    <tr>\n",
       "      <th>30</th>\n",
       "      <td>n1290ff</td>\n",
       "      <td>最強陰陽師の異世界転生記　～下僕の妖怪どもに比べてモンスターが弱すぎるんだが～</td>\n",
       "      <td>17.257072</td>\n",
       "    </tr>\n",
       "    <tr>\n",
       "      <th>50</th>\n",
       "      <td>n5981bn</td>\n",
       "      <td>ニートだけどハロワにいったら異世界につれてかれた</td>\n",
       "      <td>17.003218</td>\n",
       "    </tr>\n",
       "    <tr>\n",
       "      <th>40</th>\n",
       "      <td>n2421eu</td>\n",
       "      <td>転生幼女はあきらめない</td>\n",
       "      <td>16.642023</td>\n",
       "    </tr>\n",
       "    <tr>\n",
       "      <th>56</th>\n",
       "      <td>n7080gh</td>\n",
       "      <td>連載版　踏み台が己を自覚した結果ww</td>\n",
       "      <td>16.278570</td>\n",
       "    </tr>\n",
       "    <tr>\n",
       "      <th>64</th>\n",
       "      <td>n3258fh</td>\n",
       "      <td>クラスメイトに殺された時、僕の復讐は大体達成された</td>\n",
       "      <td>15.585409</td>\n",
       "    </tr>\n",
       "    <tr>\n",
       "      <th>15</th>\n",
       "      <td>n2945eg</td>\n",
       "      <td>アラフォー男の異世界通販生活</td>\n",
       "      <td>15.572529</td>\n",
       "    </tr>\n",
       "    <tr>\n",
       "      <th>29</th>\n",
       "      <td>n8516fu</td>\n",
       "      <td>劣等人の魔剣使い　スキルボードを駆使して最強に至る（WEB連載版）</td>\n",
       "      <td>15.389123</td>\n",
       "    </tr>\n",
       "    <tr>\n",
       "      <th>34</th>\n",
       "      <td>n4185ci</td>\n",
       "      <td>くま　クマ　熊　ベアー</td>\n",
       "      <td>14.913013</td>\n",
       "    </tr>\n",
       "    <tr>\n",
       "      <th>46</th>\n",
       "      <td>n6829bd</td>\n",
       "      <td>賢者の弟子を名乗る賢者</td>\n",
       "      <td>13.445250</td>\n",
       "    </tr>\n",
       "    <tr>\n",
       "      <th>16</th>\n",
       "      <td>n1118fh</td>\n",
       "      <td>加護なし令嬢の小さな村</td>\n",
       "      <td>12.738425</td>\n",
       "    </tr>\n",
       "    <tr>\n",
       "      <th>55</th>\n",
       "      <td>n3406ek</td>\n",
       "      <td>異世界で土地を買って農場を作ろう</td>\n",
       "      <td>12.368925</td>\n",
       "    </tr>\n",
       "    <tr>\n",
       "      <th>21</th>\n",
       "      <td>n8106fu</td>\n",
       "      <td>異世界のんびり素材採取生活</td>\n",
       "      <td>11.145062</td>\n",
       "    </tr>\n",
       "  </tbody>\n",
       "</table>\n",
       "</div>"
      ],
      "text/plain": [
       "      ncode                                              title     rating\n",
       "60  n5645ci                                      自分が異世界に転移するなら  44.654007\n",
       "61  n4344dy                                世界最強の後衛　～迷宮国の新人探索者～  41.295052\n",
       "4   n6812gh         悪徳領主の息子に転生！？　～普通に行動しているだけなのに、周囲からちやほやされます～  40.364941\n",
       "38  n3742ey                                   ご主人様とゆく異世界サバイバル！  38.883430\n",
       "44  n9984fb                             身体は児童、中身はおっさんの成り上がり冒険記  37.171757\n",
       "49  n1234gg      魔法戦士セイクリッド・ナイツ～エロゲの触手怪人に転生した俺は、変身ヒロインたちを守り抜く～  36.045532\n",
       "23  n9629ex                               最弱テイマーはゴミ拾いの旅を始めました。  35.840317\n",
       "41  n6078fg      不死鳥への転生　ドラゴン倒せるって普通の鳥じゃないよね？　（旧題：憧れへの転生　以下同文）  34.564163\n",
       "63  n6078gg               イントゥ・ザ・ゴーレム！～土くれに生まれ変わった私は自己改造で進化する～  34.067009\n",
       "13  n5677cl                           亡びの国の征服者～魔王は世界を征服するようです～  31.989611\n",
       "26  n5529cy                              老後に備えて異世界で８万枚の金貨を貯めます  31.898167\n",
       "35  n4444ge  植物モンスター娘日記　〜聖女だった私が裏切られた果てにアルラウネに転生してしまったので、これ...  31.866442\n",
       "37  n3726bt                                              レジェンド  30.732359\n",
       "45  n1745ct                                       四度目は嫌な死属性魔術師  30.079018\n",
       "43  n0350em                                        異世界転移、地雷付き。  29.656401\n",
       "25  n3245fy                                           主人公じゃない！  28.910036\n",
       "0   n8642gc                                       聖貨を集めて、ぶん回せ！  28.626982\n",
       "1   n8693gg                           十年目、帰還を諦めた転移者はいまさら主人公になる  28.494261\n",
       "11  n1217et                   信者ゼロの女神サマと始める異世界攻略　クラスメイト最弱の魔法使い  28.370230\n",
       "36  n6088cy                                    ポーション頼みで生き延びます！  28.112288\n",
       "47  n9940gd                                      最強錬金術師の異世界珍道中  27.209635\n",
       "31  n4342ge  聖女に追放された転生公爵は、辺境でのんびりと畑を耕すつもりだった～来るなというのに領民が沢山...  27.166193\n",
       "59  n4698cv                          転生したらドラゴンの卵だった～最強以外目指さねぇ～  26.627605\n",
       "39  n6006cw                                          転生したら剣でした  26.548368\n",
       "12  n7657bb                                          かわいいコックさん  26.256077\n",
       "19  n6475db                                  私、能力は平均値でって言ったよね！  25.620075\n",
       "28  n1970fg                                          田中家、転生する。  25.314068\n",
       "33  n6300fz               領民0の土地を押し付けられた俺、生産スキルを駆使して最強国家を作り上げる  24.952288\n",
       "18  n2276dz                                    異世界でスローライフを（願望）  24.923840\n",
       "54  n1444fs      転生領主の優良開拓〜前世の記憶を生かしてホワイトに努めたら、有能な人材が集まりすぎました〜  24.893579\n",
       "27  n9544br                                              週末冒険者  24.690670\n",
       "53  n5782dy                                ハズレ判定から始まったチート魔術士生活  24.689280\n",
       "58  n2671do                        魔王になったので、ダンジョン造って人外娘とほのぼのする  24.137463\n",
       "10  n1773gf           16年間魔法が使えず落ちこぼれだった俺が、科学者だった前世を思い出して異世界無双  23.928555\n",
       "52  n6247cr                                      鑑定能力で調合師になります  22.710117\n",
       "51  n4499gh                                      よいこの世界統一せんそう！  22.575388\n",
       "48  n9293gf           ゲームのストーリー開始前に死ぬ“設定上最強キャラ”に転生したので頑張って生きたい  22.285925\n",
       "5   n7408gf                                         異世界ゆるり農家生活  22.223942\n",
       "32  n4546fc                異世界の貧乏農家に転生したので、レンガを作って城を建てることにしました  21.924646\n",
       "57  n8760ei                        異世界黙示録マイノグーラ～破滅の文明で始める世界征服～  21.856710\n",
       "22  n4811fg             ＴＲＰＧプレイヤーが異世界で最強ビルドを目指す 　～ヘンダーソン氏の福音を～  21.848272\n",
       "62  n7056gh  レベルが上がらない！　～と思ってたら元の世界に帰って悪党ぶん殴ってザクザクレベルアップ。異世...  21.399782\n",
       "3   n8604ge      スキル「屋台」で異世界生活～食料生成スキルを手に入れたので、商会を立ち上げようと思います～  21.214533\n",
       "17  n3191eh                                  乙女ゲー世界はモブに厳しい世界です  20.773224\n",
       "14  n5375cy                                転生して田舎でスローライフをおくりたい  20.657501\n",
       "6   n0121gf  異世界へ来たのはいいけれど、モンスターと戦える程若くないおっさん。神様からもらったスキルは戦...  20.363699\n",
       "8   n0512gh  『錬金BOX』で生産チート+付与無双～無能と罵られ侯爵家を追放されたが、なんでも錬成できる箱...  20.117037\n",
       "20  n0610eg                       魔石グルメ　～魔物の力を食べたオレは最強！～（Web版）  19.613600\n",
       "9   n4205gg               かませ犬から始める天下統一〜前世のアニメの第一部のボスに憑依してました〜  18.921967\n",
       "2   n4452ge                            俺だけレベルが上がる世界で悪徳領主になっていた  18.841810\n",
       "7   n4834fx             転生先が残念王子だった件　～今は腹筋１回もできないけど痩せて異世界救います～  18.495527\n",
       "42  n0229fv    植物魔法チートでのんびり領主生活始めます～前世の知識を駆使して農業したら、逆転人生始まった件～  17.973923\n",
       "24  n8568fy        普通職の異世界スローライフ　～チート（があるくせに小者）な薬剤師の無双（しない）物語～  17.510845\n",
       "30  n1290ff            最強陰陽師の異世界転生記　～下僕の妖怪どもに比べてモンスターが弱すぎるんだが～  17.257072\n",
       "50  n5981bn                           ニートだけどハロワにいったら異世界につれてかれた  17.003218\n",
       "40  n2421eu                                        転生幼女はあきらめない  16.642023\n",
       "56  n7080gh                                 連載版　踏み台が己を自覚した結果ww  16.278570\n",
       "64  n3258fh                          クラスメイトに殺された時、僕の復讐は大体達成された  15.585409\n",
       "15  n2945eg                                     アラフォー男の異世界通販生活  15.572529\n",
       "29  n8516fu                  劣等人の魔剣使い　スキルボードを駆使して最強に至る（WEB連載版）  15.389123\n",
       "34  n4185ci                                        くま　クマ　熊　ベアー  14.913013\n",
       "46  n6829bd                                        賢者の弟子を名乗る賢者  13.445250\n",
       "16  n1118fh                                        加護なし令嬢の小さな村  12.738425\n",
       "55  n3406ek                                   異世界で土地を買って農場を作ろう  12.368925\n",
       "21  n8106fu                                      異世界のんびり素材採取生活  11.145062"
      ]
     },
     "execution_count": 35,
     "metadata": {},
     "output_type": "execute_result"
    }
   ],
   "source": [
    "pd.set_option('display.max_rows', None)\n",
    "\n",
    "df_rating.sort_values('rating', ascending=False)"
   ]
  },
  {
   "cell_type": "code",
   "execution_count": null,
   "metadata": {},
   "outputs": [],
   "source": []
  }
 ],
 "metadata": {
  "colab": {
   "authorship_tag": "ABX9TyNJKqUP19CQOBX92xv+zUYA",
   "collapsed_sections": [],
   "mount_file_id": "1hGfVCEXdPg3Bx7w2FsWb6sMP-uDmj2zF",
   "name": "model_2_xgboost.ipynb",
   "provenance": []
  },
  "kernelspec": {
   "display_name": "Python 3",
   "language": "python",
   "name": "python3"
  },
  "language_info": {
   "codemirror_mode": {
    "name": "ipython",
    "version": 3
   },
   "file_extension": ".py",
   "mimetype": "text/x-python",
   "name": "python",
   "nbconvert_exporter": "python",
   "pygments_lexer": "ipython3",
   "version": "3.7.3"
  }
 },
 "nbformat": 4,
 "nbformat_minor": 1
}
