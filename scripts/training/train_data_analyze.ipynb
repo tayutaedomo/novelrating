{
 "cells": [
  {
   "cell_type": "code",
   "execution_count": 1,
   "metadata": {},
   "outputs": [],
   "source": [
    "import os\n",
    "import numpy as np\n",
    "import pandas as pd\n",
    "import matplotlib.pyplot as plt\n",
    "import seaborn as sns"
   ]
  },
  {
   "cell_type": "code",
   "execution_count": 19,
   "metadata": {},
   "outputs": [],
   "source": [
    "def laod_data(file_name):\n",
    "  file_path = os.path.join('..', '..', 'data', file_name)\n",
    "  return pd.read_csv(file_path, header=0)"
   ]
  },
  {
   "cell_type": "code",
   "execution_count": 20,
   "metadata": {},
   "outputs": [
    {
     "name": "stdout",
     "output_type": "stream",
     "text": [
      "199\n"
     ]
    },
    {
     "data": {
      "text/html": [
       "<div>\n",
       "<style scoped>\n",
       "    .dataframe tbody tr th:only-of-type {\n",
       "        vertical-align: middle;\n",
       "    }\n",
       "\n",
       "    .dataframe tbody tr th {\n",
       "        vertical-align: top;\n",
       "    }\n",
       "\n",
       "    .dataframe thead th {\n",
       "        text-align: right;\n",
       "    }\n",
       "</style>\n",
       "<table border=\"1\" class=\"dataframe\">\n",
       "  <thead>\n",
       "    <tr style=\"text-align: right;\">\n",
       "      <th></th>\n",
       "      <th>ncode</th>\n",
       "      <th>title</th>\n",
       "      <th>category</th>\n",
       "      <th>bookmark_cat</th>\n",
       "      <th>created_at</th>\n",
       "      <th>updated_at</th>\n",
       "      <th>sum_char_count</th>\n",
       "      <th>sum_new_line_count</th>\n",
       "      <th>sum_talk_char_count</th>\n",
       "      <th>sum_word_count</th>\n",
       "      <th>...</th>\n",
       "      <th>名詞-非自立-副詞可能</th>\n",
       "      <th>名詞-固有名詞-地域-一般</th>\n",
       "      <th>名詞-引用文字列</th>\n",
       "      <th>助詞-副助詞</th>\n",
       "      <th>接頭詞-名詞接続</th>\n",
       "      <th>助詞-終助詞</th>\n",
       "      <th>連体詞</th>\n",
       "      <th>名詞-固有名詞-組織</th>\n",
       "      <th>動詞-自立</th>\n",
       "      <th>rating</th>\n",
       "    </tr>\n",
       "  </thead>\n",
       "  <tbody>\n",
       "    <tr>\n",
       "      <th>0</th>\n",
       "      <td>n4366gd</td>\n",
       "      <td>雷帝の軌跡　～俺だけ使える【雷魔術】で最強の魔術師を目指します～</td>\n",
       "      <td>ハイファンタジー〔ファンタジー〕</td>\n",
       "      <td>1</td>\n",
       "      <td>1.586338e+09</td>\n",
       "      <td>1.593468e+09</td>\n",
       "      <td>92340</td>\n",
       "      <td>3840</td>\n",
       "      <td>28950</td>\n",
       "      <td>992220</td>\n",
       "      <td>...</td>\n",
       "      <td>240</td>\n",
       "      <td>0</td>\n",
       "      <td>0</td>\n",
       "      <td>960</td>\n",
       "      <td>360</td>\n",
       "      <td>240</td>\n",
       "      <td>660</td>\n",
       "      <td>0</td>\n",
       "      <td>5760</td>\n",
       "      <td>3.0</td>\n",
       "    </tr>\n",
       "    <tr>\n",
       "      <th>1</th>\n",
       "      <td>n7336gg</td>\n",
       "      <td>星斬りの剣士</td>\n",
       "      <td>ハイファンタジー〔ファンタジー〕</td>\n",
       "      <td>1</td>\n",
       "      <td>1.590714e+09</td>\n",
       "      <td>1.593338e+09</td>\n",
       "      <td>77880</td>\n",
       "      <td>4140</td>\n",
       "      <td>4950</td>\n",
       "      <td>863400</td>\n",
       "      <td>...</td>\n",
       "      <td>270</td>\n",
       "      <td>0</td>\n",
       "      <td>0</td>\n",
       "      <td>570</td>\n",
       "      <td>60</td>\n",
       "      <td>90</td>\n",
       "      <td>690</td>\n",
       "      <td>60</td>\n",
       "      <td>5610</td>\n",
       "      <td>4.0</td>\n",
       "    </tr>\n",
       "    <tr>\n",
       "      <th>2</th>\n",
       "      <td>n9677fw</td>\n",
       "      <td>落ちこぼれ国を出る〜実は世界で４人目の付与術師だった件について〜</td>\n",
       "      <td>ハイファンタジー〔ファンタジー〕</td>\n",
       "      <td>1</td>\n",
       "      <td>1.575176e+09</td>\n",
       "      <td>1.593429e+09</td>\n",
       "      <td>59880</td>\n",
       "      <td>3090</td>\n",
       "      <td>10230</td>\n",
       "      <td>628470</td>\n",
       "      <td>...</td>\n",
       "      <td>420</td>\n",
       "      <td>30</td>\n",
       "      <td>0</td>\n",
       "      <td>450</td>\n",
       "      <td>330</td>\n",
       "      <td>270</td>\n",
       "      <td>210</td>\n",
       "      <td>0</td>\n",
       "      <td>2850</td>\n",
       "      <td>3.0</td>\n",
       "    </tr>\n",
       "  </tbody>\n",
       "</table>\n",
       "<p>3 rows × 133 columns</p>\n",
       "</div>"
      ],
      "text/plain": [
       "     ncode                             title          category  bookmark_cat  \\\n",
       "0  n4366gd  雷帝の軌跡　～俺だけ使える【雷魔術】で最強の魔術師を目指します～  ハイファンタジー〔ファンタジー〕             1   \n",
       "1  n7336gg                            星斬りの剣士  ハイファンタジー〔ファンタジー〕             1   \n",
       "2  n9677fw  落ちこぼれ国を出る〜実は世界で４人目の付与術師だった件について〜  ハイファンタジー〔ファンタジー〕             1   \n",
       "\n",
       "     created_at    updated_at  sum_char_count  sum_new_line_count  \\\n",
       "0  1.586338e+09  1.593468e+09           92340                3840   \n",
       "1  1.590714e+09  1.593338e+09           77880                4140   \n",
       "2  1.575176e+09  1.593429e+09           59880                3090   \n",
       "\n",
       "   sum_talk_char_count  sum_word_count  ...  名詞-非自立-副詞可能  名詞-固有名詞-地域-一般  \\\n",
       "0                28950          992220  ...          240              0   \n",
       "1                 4950          863400  ...          270              0   \n",
       "2                10230          628470  ...          420             30   \n",
       "\n",
       "   名詞-引用文字列  助詞-副助詞  接頭詞-名詞接続  助詞-終助詞  連体詞  名詞-固有名詞-組織  動詞-自立  rating  \n",
       "0         0     960       360     240  660           0   5760     3.0  \n",
       "1         0     570        60      90  690          60   5610     4.0  \n",
       "2         0     450       330     270  210           0   2850     3.0  \n",
       "\n",
       "[3 rows x 133 columns]"
      ]
     },
     "execution_count": 20,
     "metadata": {},
     "output_type": "execute_result"
    }
   ],
   "source": [
    "df = laod_data('bookmark_train_data.csv')\n",
    "print(len(df))\n",
    "df.head(3)"
   ]
  },
  {
   "cell_type": "code",
   "execution_count": 7,
   "metadata": {},
   "outputs": [
    {
     "data": {
      "text/plain": [
       "<matplotlib.axes._subplots.AxesSubplot at 0x12cfdef10>"
      ]
     },
     "execution_count": 7,
     "metadata": {},
     "output_type": "execute_result"
    },
    {
     "data": {
      "image/png": "[encoded data removed]",
      "text/plain": [
       "<Figure size 432x288 with 1 Axes>"
      ]
     },
     "metadata": {
      "needs_background": "light"
     },
     "output_type": "display_data"
    }
   ],
   "source": [
    "sns.distplot(df['rating'])"
   ]
  },
  {
   "cell_type": "code",
   "execution_count": 17,
   "metadata": {},
   "outputs": [],
   "source": [
    "#df.iloc[:, 6:10]\n",
    "#sns.distplot(df.iloc[:, 6:10])"
   ]
  },
  {
   "cell_type": "code",
   "execution_count": 26,
   "metadata": {},
   "outputs": [
    {
     "data": {
      "text/html": [
       "<div>\n",
       "<style scoped>\n",
       "    .dataframe tbody tr th:only-of-type {\n",
       "        vertical-align: middle;\n",
       "    }\n",
       "\n",
       "    .dataframe tbody tr th {\n",
       "        vertical-align: top;\n",
       "    }\n",
       "\n",
       "    .dataframe thead th {\n",
       "        text-align: right;\n",
       "    }\n",
       "</style>\n",
       "<table border=\"1\" class=\"dataframe\">\n",
       "  <thead>\n",
       "    <tr style=\"text-align: right;\">\n",
       "      <th></th>\n",
       "      <th>created_at</th>\n",
       "      <th>updated_at</th>\n",
       "      <th>sum_char_count</th>\n",
       "      <th>sum_new_line_count</th>\n",
       "      <th>sum_talk_char_count</th>\n",
       "      <th>sum_word_count</th>\n",
       "    </tr>\n",
       "  </thead>\n",
       "  <tbody>\n",
       "    <tr>\n",
       "      <th>0</th>\n",
       "      <td>1.586338e+09</td>\n",
       "      <td>1.593468e+09</td>\n",
       "      <td>92340</td>\n",
       "      <td>3840</td>\n",
       "      <td>28950</td>\n",
       "      <td>992220</td>\n",
       "    </tr>\n",
       "    <tr>\n",
       "      <th>1</th>\n",
       "      <td>1.590714e+09</td>\n",
       "      <td>1.593338e+09</td>\n",
       "      <td>77880</td>\n",
       "      <td>4140</td>\n",
       "      <td>4950</td>\n",
       "      <td>863400</td>\n",
       "    </tr>\n",
       "    <tr>\n",
       "      <th>2</th>\n",
       "      <td>1.575176e+09</td>\n",
       "      <td>1.593429e+09</td>\n",
       "      <td>59880</td>\n",
       "      <td>3090</td>\n",
       "      <td>10230</td>\n",
       "      <td>628470</td>\n",
       "    </tr>\n",
       "    <tr>\n",
       "      <th>3</th>\n",
       "      <td>1.482992e+09</td>\n",
       "      <td>1.592779e+09</td>\n",
       "      <td>88200</td>\n",
       "      <td>7770</td>\n",
       "      <td>11070</td>\n",
       "      <td>892500</td>\n",
       "    </tr>\n",
       "    <tr>\n",
       "      <th>4</th>\n",
       "      <td>1.589543e+09</td>\n",
       "      <td>1.593688e+09</td>\n",
       "      <td>100920</td>\n",
       "      <td>3000</td>\n",
       "      <td>34290</td>\n",
       "      <td>1158570</td>\n",
       "    </tr>\n",
       "  </tbody>\n",
       "</table>\n",
       "</div>"
      ],
      "text/plain": [
       "     created_at    updated_at  sum_char_count  sum_new_line_count  \\\n",
       "0  1.586338e+09  1.593468e+09           92340                3840   \n",
       "1  1.590714e+09  1.593338e+09           77880                4140   \n",
       "2  1.575176e+09  1.593429e+09           59880                3090   \n",
       "3  1.482992e+09  1.592779e+09           88200                7770   \n",
       "4  1.589543e+09  1.593688e+09          100920                3000   \n",
       "\n",
       "   sum_talk_char_count  sum_word_count  \n",
       "0                28950          992220  \n",
       "1                 4950          863400  \n",
       "2                10230          628470  \n",
       "3                11070          892500  \n",
       "4                34290         1158570  "
      ]
     },
     "execution_count": 26,
     "metadata": {},
     "output_type": "execute_result"
    }
   ],
   "source": [
    "#sns.pairplot(df.iloc[:, 6:10])\n",
    "df.iloc[:, 4:10].head()"
   ]
  },
  {
   "cell_type": "code",
   "execution_count": 70,
   "metadata": {},
   "outputs": [
    {
     "name": "stdout",
     "output_type": "stream",
     "text": [
      "0    3078.0\n",
      "1    2596.0\n",
      "Name: avg_char_count, dtype: float64\n"
     ]
    },
    {
     "data": {
      "text/plain": [
       "<matplotlib.collections.PathCollection at 0x1701d8a10>"
      ]
     },
     "execution_count": 70,
     "metadata": {},
     "output_type": "execute_result"
    },
    {
     "data": {
      "image/png": "[encoded data removed]",
      "text/plain": [
       "<Figure size 432x288 with 1 Axes>"
      ]
     },
     "metadata": {
      "needs_background": "light"
     },
     "output_type": "display_data"
    }
   ],
   "source": [
    "#col_idx = 6\n",
    "#col_idx = 64\n",
    "col_idx = 10\n",
    "print(df.iloc[:, col_idx].head(2))\n",
    "#plt.scatter(x=df.iloc[:, col_idx], y=df.iloc[:, -1])\n",
    "plt.scatter(x=df.iloc[:, -1], y=df.iloc[:, col_idx])"
   ]
  },
  {
   "cell_type": "code",
   "execution_count": null,
   "metadata": {},
   "outputs": [],
   "source": []
  }
 ],
 "metadata": {
  "kernelspec": {
   "display_name": "Python 3",
   "language": "python",
   "name": "python3"
  },
  "language_info": {
   "codemirror_mode": {
    "name": "ipython",
    "version": 3
   },
   "file_extension": ".py",
   "mimetype": "text/x-python",
   "name": "python",
   "nbconvert_exporter": "python",
   "pygments_lexer": "ipython3",
   "version": "3.7.4"
  }
 },
 "nbformat": 4,
 "nbformat_minor": 4
}
